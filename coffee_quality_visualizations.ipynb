{
 "cells": [
  {
   "attachments": {},
   "cell_type": "markdown",
   "metadata": {},
   "source": [
    "# Coffee Quality Visualizations"
   ]
  },
  {
   "attachments": {},
   "cell_type": "markdown",
   "metadata": {},
   "source": [
    "## Import Packages and Data"
   ]
  },
  {
   "cell_type": "code",
   "execution_count": 1,
   "metadata": {},
   "outputs": [],
   "source": [
    "# Import Packages\n",
    "import pandas as pd\n",
    "import plotly_express as px"
   ]
  },
  {
   "cell_type": "code",
   "execution_count": 17,
   "metadata": {},
   "outputs": [],
   "source": [
    "# Import Data\n",
    "coffee = pd.read_excel('/Users/kellyshreeve/Desktop/Data-Sets/df_arabica_clean.xlsx', header=0, index_col=0)"
   ]
  },
  {
   "cell_type": "code",
   "execution_count": 18,
   "metadata": {},
   "outputs": [
    {
     "name": "stdout",
     "output_type": "stream",
     "text": [
      "<class 'pandas.core.frame.DataFrame'>\n",
      "Int64Index: 207 entries, 0 to 206\n",
      "Data columns (total 40 columns):\n",
      " #   Column                 Non-Null Count  Dtype  \n",
      "---  ------                 --------------  -----  \n",
      " 0   ID                     207 non-null    int64  \n",
      " 1   Country of Origin      207 non-null    object \n",
      " 2   Farm Name              205 non-null    object \n",
      " 3   Lot Number             206 non-null    object \n",
      " 4   Mill                   204 non-null    object \n",
      " 5   ICO Number             75 non-null     object \n",
      " 6   Company                207 non-null    object \n",
      " 7   Altitude               206 non-null    object \n",
      " 8   Region                 205 non-null    object \n",
      " 9   Producer               206 non-null    object \n",
      " 10  Number of Bags         207 non-null    int64  \n",
      " 11  Bag Weight             207 non-null    object \n",
      " 12  In-Country Partner     207 non-null    object \n",
      " 13  Harvest Year           207 non-null    object \n",
      " 14  Grading Date           207 non-null    object \n",
      " 15  Owner                  207 non-null    object \n",
      " 16  Variety                201 non-null    object \n",
      " 17  Status                 207 non-null    object \n",
      " 18  Processing Method      202 non-null    object \n",
      " 19  Aroma                  207 non-null    float64\n",
      " 20  Flavor                 207 non-null    float64\n",
      " 21  Aftertaste             207 non-null    float64\n",
      " 22  Acidity                207 non-null    float64\n",
      " 23  Body                   207 non-null    float64\n",
      " 24  Balance                207 non-null    float64\n",
      " 25  Uniformity             207 non-null    float64\n",
      " 26  Clean Cup              207 non-null    int64  \n",
      " 27  Sweetness              207 non-null    int64  \n",
      " 28  Overall                207 non-null    float64\n",
      " 29  Defects                207 non-null    int64  \n",
      " 30  Total Cup Points       207 non-null    float64\n",
      " 31  Moisture Percentage    207 non-null    float64\n",
      " 32  Category One Defects   207 non-null    int64  \n",
      " 33  Quakers                207 non-null    int64  \n",
      " 34  Color                  207 non-null    object \n",
      " 35  Category Two Defects   207 non-null    int64  \n",
      " 36  Expiration             207 non-null    object \n",
      " 37  Certification Body     207 non-null    object \n",
      " 38  Certification Address  207 non-null    object \n",
      " 39  Certification Contact  207 non-null    object \n",
      "dtypes: float64(10), int64(8), object(22)\n",
      "memory usage: 66.3+ KB\n",
      "None\n"
     ]
    }
   ],
   "source": [
    "# Print data info \n",
    "print(coffee.info())"
   ]
  },
  {
   "cell_type": "code",
   "execution_count": 22,
   "metadata": {},
   "outputs": [
    {
     "name": "stdout",
     "output_type": "stream",
     "text": [
      "   ID             Country of Origin                                                 Farm Name                               Lot Number                           Mill                         ICO Number                   Company   Altitude                Region                      Producer  Number of Bags Bag Weight                              In-Country Partner Harvest Year          Grading Date                                           Owner      Variety     Status        Processing Method  Aroma  Flavor  Aftertaste  Acidity  Body  Balance  Uniformity  Clean Cup  Sweetness  Overall  Defects  Total Cup Points  Moisture Percentage  Category One Defects  Quakers         Color  Category Two Defects            Expiration                              Certification Body                                                                                         Certification Address                                Certification Contact\n",
      "0   0                      Colombia                                          Finca El Paraiso                               CQU2022015               Finca El Paraiso                                NaN      Coffee Quality Union  1700-1930        Piendamo,Cauca         Diego Samuel Bermudez               1      35 kg                           Japan Coffee Exchange  2021 / 2022  September 21st, 2022                            Coffee Quality Union     Castillo  Completed  Double Anaerobic Washed   8.58    8.50        8.42     8.58  8.25     8.42        10.0         10         10     8.58        0             89.33                 11.8                     0        0         green                     3  September 21st, 2023                           Japan Coffee Exchange  „Äí413-0002 ÈùôÂ≤°ÁúåÁÜ±Êµ∑Â∏Ç‰ºäË±ÜÂ±±ÔºëÔºëÔºóÔºì‚àíÔºïÔºò 1173-58 Izusan, Atami, Shizuoka, 413-0002 JAPAN  ÊùæÊæ§„ÄÄÂÆèÊ®π„ÄÄKoju Matsuzawa - +81(0)9085642901\n",
      "1   1                        Taiwan                                  Royal Bean Geisha Estate  The 2022 Pacific Rim Coffee Summit,T037       Royal Bean Geisha Estate                                NaN  Taiwan Coffee Laboratory       1200                Chiayi                     ÊõæÁ¶èÊ£Æ               1      80 kg  Taiwan Coffee Laboratory Âè∞ÁÅ£ÂíñÂï°Á†îÁ©∂ÂÆ§  2021 / 2022   November 15th, 2022  Taiwan Coffee Laboratory Âè∞ÁÅ£ÂíñÂï°Á†îÁ©∂ÂÆ§        Gesha  Completed             Washed / Wet   8.50    8.50        7.92     8.00  7.92     8.25        10.0         10         10     8.50        0             87.58                 10.5                     0        0    blue-green                     0   November 15th, 2023  Taiwan Coffee Laboratory Âè∞ÁÅ£ÂíñÂï°Á†îÁ©∂ÂÆ§                        QAHWAH CO., LTD 4F, No. 225, Sec. 3, Beixin Rd., Xindian Dist. New Taipei City, Taiwan           Lin, Jen-An Neil Êûó‰ªÅÂÆâ - 886-289116612\n",
      "2   2                          Laos                                        OKLAO coffee farms  The 2022 Pacific Rim Coffee Summit,LA01  oklao coffee processing plant                                NaN  Taiwan Coffee Laboratory       1300  Laos Borofen Plateau                    WU TAO CHI              19      25 kg  Taiwan Coffee Laboratory Âè∞ÁÅ£ÂíñÂï°Á†îÁ©∂ÂÆ§  2021 / 2022   November 15th, 2022  Taiwan Coffee Laboratory Âè∞ÁÅ£ÂíñÂï°Á†îÁ©∂ÂÆ§         Java  Completed              Semi Washed   8.33    8.42        8.08     8.17  7.92     8.17        10.0         10         10     8.33        0             87.42                 10.4                     0        0     yellowish                     2   November 15th, 2023  Taiwan Coffee Laboratory Âè∞ÁÅ£ÂíñÂï°Á†îÁ©∂ÂÆ§                        QAHWAH CO., LTD 4F, No. 225, Sec. 3, Beixin Rd., Xindian Dist. New Taipei City, Taiwan           Lin, Jen-An Neil Êûó‰ªÅÂÆâ - 886-289116612\n",
      "3   3                    Costa Rica                                                 La Cumbre                               CQU2022017        La Montana Tarrazu MIll                                NaN      Coffee Quality Union       1900    Los Santos,Tarrazu           Santa Maria de Dota               1      22 kg                           Japan Coffee Exchange         2022  September 21st, 2022                            Coffee Quality Union        Gesha  Completed             Washed / Wet   8.08    8.17        8.17     8.25  8.17     8.08        10.0         10         10     8.25        0             87.17                 11.8                     0        0         green                     0  September 21st, 2023                           Japan Coffee Exchange  „Äí413-0002 ÈùôÂ≤°ÁúåÁÜ±Êµ∑Â∏Ç‰ºäË±ÜÂ±±ÔºëÔºëÔºóÔºì‚àíÔºïÔºò 1173-58 Izusan, Atami, Shizuoka, 413-0002 JAPAN  ÊùæÊæ§„ÄÄÂÆèÊ®π„ÄÄKoju Matsuzawa - +81(0)9085642901\n",
      "4   4                      Colombia                                           Finca Santuario                               CQU2023002                Finca Santuario                                NaN      Coffee Quality Union  1850-2100         Popayan,Cauca              Camilo Merizalde               2      24 kg                           Japan Coffee Exchange         2022       March 6th, 2023                            Coffee Quality Union  Red Bourbon  Completed             Honey,Mossto   8.33    8.33        8.08     8.25  7.92     7.92        10.0         10         10     8.25        0             87.08                 11.6                     0        2  yellow-green                     2       March 5th, 2024                           Japan Coffee Exchange  „Äí413-0002 ÈùôÂ≤°ÁúåÁÜ±Êµ∑Â∏Ç‰ºäË±ÜÂ±±ÔºëÔºëÔºóÔºì‚àíÔºïÔºò 1173-58 Izusan, Atami, Shizuoka, 413-0002 JAPAN  ÊùæÊæ§„ÄÄÂÆèÊ®π„ÄÄKoju Matsuzawa - +81(0)9085642901\n",
      "5   5                     Guatemala                                                 La Colina  The 2022 Pacific Rim Coffee Summit,GT02                Din√°mica Caf√©                                NaN  Taiwan Coffee Laboratory       1668         Chimaltenango  Emilio Antonio Medina Garcia               5      30 kg  Taiwan Coffee Laboratory Âè∞ÁÅ£ÂíñÂï°Á†îÁ©∂ÂÆ§         2022   November 15th, 2022  Taiwan Coffee Laboratory Âè∞ÁÅ£ÂíñÂï°Á†îÁ©∂ÂÆ§        Gesha  Completed             Washed / Wet   8.33    8.33        8.25     7.83  7.83     8.17        10.0         10         10     8.25        0             87.00                 10.7                     0        0         green                     2   November 15th, 2023  Taiwan Coffee Laboratory Âè∞ÁÅ£ÂíñÂï°Á†îÁ©∂ÂÆ§                        QAHWAH CO., LTD 4F, No. 225, Sec. 3, Beixin Rd., Xindian Dist. New Taipei City, Taiwan           Lin, Jen-An Neil Êûó‰ªÅÂÆâ - 886-289116612\n",
      "6   6                        Taiwan             ÈáéÁâ°‰∏πÂíñÂï°ËéäÂúí Melastoma Coffee Estate  The 2022 Pacific Rim Coffee Summit,T034                ÈáéÁâ°‰∏πÂíñÂï°                                NaN  Taiwan Coffee Laboratory       1250                Chiayi                     ÈªÉ‰øùÈå´               1      27 kg  Taiwan Coffee Laboratory Âè∞ÁÅ£ÂíñÂï°Á†îÁ©∂ÂÆ§  2021 / 2022   November 15th, 2022  Taiwan Coffee Laboratory Âè∞ÁÅ£ÂíñÂï°Á†îÁ©∂ÂÆ§        Gesha  Completed             Washed / Wet   8.33    8.17        8.08     8.00  7.83     8.25        10.0         10         10     8.25        0             86.92                  9.1                     0        0         green                     0   November 15th, 2023  Taiwan Coffee Laboratory Âè∞ÁÅ£ÂíñÂï°Á†îÁ©∂ÂÆ§                        QAHWAH CO., LTD 4F, No. 225, Sec. 3, Beixin Rd., Xindian Dist. New Taipei City, Taiwan           Lin, Jen-An Neil Êûó‰ªÅÂÆâ - 886-289116612\n",
      "7   7                        Taiwan  ‰∏ÉÂΩ©ÁêâÁíÉÂíñÂï°ËéäÂúí Chi Tsai Liu Li Ecological Farm  The 2022 Pacific Rim Coffee Summit,T050       ‰∏ÉÂΩ©ÁêâÁíÉÂíñÂï°ËéäÂúí                                NaN  Taiwan Coffee Laboratory       1200                Chiayi                     ËéäÂÆ∂Ê¶Æ               1      90 kg  Taiwan Coffee Laboratory Âè∞ÁÅ£ÂíñÂï°Á†îÁ©∂ÂÆ§  2021 / 2022   November 15th, 2022  Taiwan Coffee Laboratory Âè∞ÁÅ£ÂíñÂï°Á†îÁ©∂ÂÆ§   Sl34+Gesha  Completed            Natural / Dry   8.25    8.25        8.17     8.00  7.92     8.08        10.0         10         10     8.08        0             86.75                 10.0                     0        0  yellow green                     1   November 15th, 2023  Taiwan Coffee Laboratory Âè∞ÁÅ£ÂíñÂï°Á†îÁ©∂ÂÆ§                        QAHWAH CO., LTD 4F, No. 225, Sec. 3, Beixin Rd., Xindian Dist. New Taipei City, Taiwan           Lin, Jen-An Neil Êûó‰ªÅÂÆâ - 886-289116612\n",
      "8   8                        Taiwan                 ‰∫ÆËªíÂíñÂï°ËéäÂúí Liang Xuan Coffee Farm  The 2022 Pacific Rim Coffee Summit,T018             ‰∫ÆËªíÂíñÂï°ËéäÂúí                                NaN  Taiwan Coffee Laboratory       1250                Chiayi                     ÈçæÊó≠‰∫Æ               1      30 kg  Taiwan Coffee Laboratory Âè∞ÁÅ£ÂíñÂï°Á†îÁ©∂ÂÆ§  2021 / 2022   November 15th, 2022  Taiwan Coffee Laboratory Âè∞ÁÅ£ÂíñÂï°Á†îÁ©∂ÂÆ§         SL34  Completed             Washed / Wet   8.08    8.08        8.25     8.08  7.92     8.00        10.0         10         10     8.25        0             86.67                 10.8                     0        0      greenish                     0   November 15th, 2023  Taiwan Coffee Laboratory Âè∞ÁÅ£ÂíñÂï°Á†îÁ©∂ÂÆ§                        QAHWAH CO., LTD 4F, No. 225, Sec. 3, Beixin Rd., Xindian Dist. New Taipei City, Taiwan           Lin, Jen-An Neil Êûó‰ªÅÂÆâ - 886-289116612\n",
      "9   9  Tanzania, United Republic Of                                             MASHIMA AMCOS                 CN 4127230034/4189230113            GOURMET COFFEE MILL  033/DE/503/002 and 033/DE/268/002        DORMAN (T) LIMITED  1400-1700           KILIMANJARO            DORMAN (T) LIMITED             320      60 kg                Kenya Coffee Traders Association  2022 / 2023    February 1st, 2023                                   Gilbert Maina      Bourbon  Completed             Washed / Wet   8.08    8.17        8.08     8.17  8.00     8.00        10.0         10         10     8.00        0             86.50                 11.0                     0        0      greenish                     0    February 1st, 2024                Kenya Coffee Traders Association              P.O. Box 646 00100Nairobi, Kenya, Denniss Pritt Road, Opposite St Georges Girls Secondary School              Benson Kibicho Kamau - +254 786 821 621\n"
     ]
    }
   ],
   "source": [
    "# Print data head\n",
    "print(coffee.head(10).to_string())"
   ]
  },
  {
   "attachments": {},
   "cell_type": "markdown",
   "metadata": {},
   "source": [
    "### Import Data Conclusions\n",
    "\n",
    "Most variables have complete information. Missing a small number of observations are: Farm Name, Lot Number, Mill, Altitute, Region, Producer, Variety, and Processing Method. ICO Number is missing a large number of observations and only present for 75 of the rows. Altitude, Bag Weight, and Harvest Year can be changed to integer data type, Grading Date and Expiration can be changed to datetime. Column names need to be converted to snake case."
   ]
  },
  {
   "attachments": {},
   "cell_type": "markdown",
   "metadata": {},
   "source": [
    "## Prepare Data"
   ]
  },
  {
   "attachments": {},
   "cell_type": "markdown",
   "metadata": {},
   "source": [
    "### Column Names"
   ]
  },
  {
   "cell_type": "code",
   "execution_count": 26,
   "metadata": {},
   "outputs": [
    {
     "name": "stdout",
     "output_type": "stream",
     "text": [
      "Index(['id', 'country_of_origin', 'farm_name', 'lot_number', 'mill',\n",
      "       'ico_number', 'company', 'altitude', 'region', 'producer',\n",
      "       'number_of_bags', 'bag_weight', 'in-country_partner', 'harvest_year',\n",
      "       'grading_date', 'owner', 'variety', 'status', 'processing_method',\n",
      "       'aroma', 'flavor', 'aftertaste', 'acidity', 'body', 'balance',\n",
      "       'uniformity', 'clean_cup', 'sweetness', 'overall', 'defects',\n",
      "       'total_cup_points', 'moisture_percentage', 'category_one_defects',\n",
      "       'quakers', 'color', 'category_two_defects', 'expiration',\n",
      "       'certification_body', 'certification_address', 'certification_contact'],\n",
      "      dtype='object')\n"
     ]
    }
   ],
   "source": [
    "# Convert column names to snake case\n",
    "coffee.columns = coffee.columns.str.lower().str.replace(' ', '_')\n",
    "\n",
    "\n",
    "print(coffee.columns)"
   ]
  },
  {
   "attachments": {},
   "cell_type": "markdown",
   "metadata": {},
   "source": [
    "### Data Types"
   ]
  },
  {
   "cell_type": "code",
   "execution_count": null,
   "metadata": {},
   "outputs": [],
   "source": []
  },
  {
   "attachments": {},
   "cell_type": "markdown",
   "metadata": {},
   "source": [
    "### Missing Values"
   ]
  },
  {
   "cell_type": "code",
   "execution_count": 27,
   "metadata": {},
   "outputs": [
    {
     "data": {
      "text/plain": [
       "id                         0\n",
       "country_of_origin          0\n",
       "farm_name                  2\n",
       "lot_number                 1\n",
       "mill                       3\n",
       "ico_number               132\n",
       "company                    0\n",
       "altitude                   1\n",
       "region                     2\n",
       "producer                   1\n",
       "number_of_bags             0\n",
       "bag_weight                 0\n",
       "in-country_partner         0\n",
       "harvest_year               0\n",
       "grading_date               0\n",
       "owner                      0\n",
       "variety                    6\n",
       "status                     0\n",
       "processing_method          5\n",
       "aroma                      0\n",
       "flavor                     0\n",
       "aftertaste                 0\n",
       "acidity                    0\n",
       "body                       0\n",
       "balance                    0\n",
       "uniformity                 0\n",
       "clean_cup                  0\n",
       "sweetness                  0\n",
       "overall                    0\n",
       "defects                    0\n",
       "total_cup_points           0\n",
       "moisture_percentage        0\n",
       "category_one_defects       0\n",
       "quakers                    0\n",
       "color                      0\n",
       "category_two_defects       0\n",
       "expiration                 0\n",
       "certification_body         0\n",
       "certification_address      0\n",
       "certification_contact      0\n",
       "dtype: int64"
      ]
     },
     "metadata": {},
     "output_type": "display_data"
    }
   ],
   "source": [
    "# Display number missing in each column\n",
    "missing_values = coffee.isna().sum()\n",
    "\n",
    "display(missing_values)"
   ]
  },
  {
   "cell_type": "code",
   "execution_count": 29,
   "metadata": {},
   "outputs": [],
   "source": [
    "# Replace all missing string values with 'unkown'\n",
    "str_cols = ['farm_name', 'lot_number', 'mill', 'ico_number', 'region', 'producer', 'variety', 'processing_method']\n",
    "\n",
    "for col in str_cols:\n",
    "    coffee[col] = coffee[col].fillna('unkown')"
   ]
  },
  {
   "cell_type": "code",
   "execution_count": 30,
   "metadata": {},
   "outputs": [
    {
     "data": {
      "text/plain": [
       "id                       0\n",
       "country_of_origin        0\n",
       "farm_name                0\n",
       "lot_number               0\n",
       "mill                     0\n",
       "ico_number               0\n",
       "company                  0\n",
       "altitude                 1\n",
       "region                   0\n",
       "producer                 0\n",
       "number_of_bags           0\n",
       "bag_weight               0\n",
       "in-country_partner       0\n",
       "harvest_year             0\n",
       "grading_date             0\n",
       "owner                    0\n",
       "variety                  0\n",
       "status                   0\n",
       "processing_method        0\n",
       "aroma                    0\n",
       "flavor                   0\n",
       "aftertaste               0\n",
       "acidity                  0\n",
       "body                     0\n",
       "balance                  0\n",
       "uniformity               0\n",
       "clean_cup                0\n",
       "sweetness                0\n",
       "overall                  0\n",
       "defects                  0\n",
       "total_cup_points         0\n",
       "moisture_percentage      0\n",
       "category_one_defects     0\n",
       "quakers                  0\n",
       "color                    0\n",
       "category_two_defects     0\n",
       "expiration               0\n",
       "certification_body       0\n",
       "certification_address    0\n",
       "certification_contact    0\n",
       "dtype: int64"
      ]
     },
     "metadata": {},
     "output_type": "display_data"
    }
   ],
   "source": [
    "missing_values_new = coffee.isna().sum()\n",
    "\n",
    "display(missing_values_new)"
   ]
  },
  {
   "attachments": {},
   "cell_type": "markdown",
   "metadata": {},
   "source": [
    "### Duplicates"
   ]
  },
  {
   "cell_type": "code",
   "execution_count": 33,
   "metadata": {},
   "outputs": [
    {
     "ename": "AttributeError",
     "evalue": "'function' object has no attribute 'sum'",
     "output_type": "error",
     "traceback": [
      "\u001b[0;31m---------------------------------------------------------------------------\u001b[0m",
      "\u001b[0;31mAttributeError\u001b[0m                            Traceback (most recent call last)",
      "Cell \u001b[0;32mIn[33], line 2\u001b[0m\n\u001b[1;32m      1\u001b[0m \u001b[39m# Check for full duplicates\u001b[39;00m\n\u001b[0;32m----> 2\u001b[0m duplicates \u001b[39m=\u001b[39m coffee\u001b[39m.\u001b[39;49mduplicated\u001b[39m.\u001b[39;49msum()\n\u001b[1;32m      4\u001b[0m \u001b[39mprint\u001b[39m(\u001b[39mf\u001b[39m\u001b[39m'\u001b[39m\u001b[39mThe number of full duplicates is: \u001b[39m\u001b[39m{\u001b[39;00mduplicates\u001b[39m}\u001b[39;00m\u001b[39m'\u001b[39m)\n",
      "\u001b[0;31mAttributeError\u001b[0m: 'function' object has no attribute 'sum'"
     ]
    }
   ],
   "source": [
    "# Check for full duplicates\n",
    "duplicates = coffee.duplicated.sum()\n",
    "\n",
    "print(f'The number of full duplicates is: {duplicates}')"
   ]
  }
 ],
 "metadata": {
  "kernelspec": {
   "display_name": "base",
   "language": "python",
   "name": "python3"
  },
  "language_info": {
   "codemirror_mode": {
    "name": "ipython",
    "version": 3
   },
   "file_extension": ".py",
   "mimetype": "text/x-python",
   "name": "python",
   "nbconvert_exporter": "python",
   "pygments_lexer": "ipython3",
   "version": "3.10.9"
  },
  "orig_nbformat": 4
 },
 "nbformat": 4,
 "nbformat_minor": 2
}
