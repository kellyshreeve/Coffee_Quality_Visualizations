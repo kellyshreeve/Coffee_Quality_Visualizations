{
 "cells": [
  {
   "attachments": {},
   "cell_type": "markdown",
   "metadata": {},
   "source": [
    "# What Makes the Perfect Cup of Coffee?\n",
    "\n",
    "<b>Background</b>: Coffee fanatics often have opinions about coffee's varying quality by region, varieties, and growing altitude. Given a dataset of 207 coffee batches from different regions and of different varieties, this analysis aims to determine whether popular opinions on varying coffee quality are supported by coffee quality data.\n",
    "\n",
    "<b>Research Question</b>: The guiding questions for this analysis are: Does coffee quality vary by region, variety, altitude, or color? If so, which region, variety, altitude, and color makes the best cup of coffee?\n",
    "\n",
    "<b>Project Structure</b>:\n",
    "1. Import Packages and Data\n",
    "2. Prepare Data\n",
    "3. Single-Variable Data Visualizations\n",
    "4. Variable Association Data Visualizations\n",
    "4. Conclusions: The Perfect Cup of Coffee"
   ]
  },
  {
   "attachments": {},
   "cell_type": "markdown",
   "metadata": {},
   "source": [
    "## Import Packages and Data <a id='import'></a> "
   ]
  },
  {
   "cell_type": "code",
   "execution_count": 629,
   "metadata": {},
   "outputs": [],
   "source": [
    "# Import Packages\n",
    "import numpy as np\n",
    "import pandas as pd\n",
    "import matplotlib.pyplot as plt\n",
    "import plotly_express as px\n",
    "from plotly.subplots import make_subplots\n",
    "import plotly.graph_objects as go"
   ]
  },
  {
   "cell_type": "code",
   "execution_count": 630,
   "metadata": {},
   "outputs": [],
   "source": [
    "# Import Data\n",
    "coffee = pd.read_excel('/Users/kellyshreeve/Desktop/Data-Sets/df_arabica_clean.xlsx', header=0, index_col=0)"
   ]
  },
  {
   "cell_type": "code",
   "execution_count": 631,
   "metadata": {},
   "outputs": [
    {
     "name": "stdout",
     "output_type": "stream",
     "text": [
      "<class 'pandas.core.frame.DataFrame'>\n",
      "Int64Index: 207 entries, 0 to 206\n",
      "Data columns (total 40 columns):\n",
      " #   Column                 Non-Null Count  Dtype  \n",
      "---  ------                 --------------  -----  \n",
      " 0   ID                     207 non-null    int64  \n",
      " 1   Country of Origin      207 non-null    object \n",
      " 2   Farm Name              205 non-null    object \n",
      " 3   Lot Number             206 non-null    object \n",
      " 4   Mill                   204 non-null    object \n",
      " 5   ICO Number             75 non-null     object \n",
      " 6   Company                207 non-null    object \n",
      " 7   Altitude               206 non-null    object \n",
      " 8   Region                 205 non-null    object \n",
      " 9   Producer               206 non-null    object \n",
      " 10  Number of Bags         207 non-null    int64  \n",
      " 11  Bag Weight             207 non-null    object \n",
      " 12  In-Country Partner     207 non-null    object \n",
      " 13  Harvest Year           207 non-null    object \n",
      " 14  Grading Date           207 non-null    object \n",
      " 15  Owner                  207 non-null    object \n",
      " 16  Variety                201 non-null    object \n",
      " 17  Status                 207 non-null    object \n",
      " 18  Processing Method      202 non-null    object \n",
      " 19  Aroma                  207 non-null    float64\n",
      " 20  Flavor                 207 non-null    float64\n",
      " 21  Aftertaste             207 non-null    float64\n",
      " 22  Acidity                207 non-null    float64\n",
      " 23  Body                   207 non-null    float64\n",
      " 24  Balance                207 non-null    float64\n",
      " 25  Uniformity             207 non-null    float64\n",
      " 26  Clean Cup              207 non-null    int64  \n",
      " 27  Sweetness              207 non-null    int64  \n",
      " 28  Overall                207 non-null    float64\n",
      " 29  Defects                207 non-null    int64  \n",
      " 30  Total Cup Points       207 non-null    float64\n",
      " 31  Moisture Percentage    207 non-null    float64\n",
      " 32  Category One Defects   207 non-null    int64  \n",
      " 33  Quakers                207 non-null    int64  \n",
      " 34  Color                  207 non-null    object \n",
      " 35  Category Two Defects   207 non-null    int64  \n",
      " 36  Expiration             207 non-null    object \n",
      " 37  Certification Body     207 non-null    object \n",
      " 38  Certification Address  207 non-null    object \n",
      " 39  Certification Contact  207 non-null    object \n",
      "dtypes: float64(10), int64(8), object(22)\n",
      "memory usage: 66.3+ KB\n",
      "None\n"
     ]
    }
   ],
   "source": [
    "# Print data info \n",
    "print(coffee.info())"
   ]
  },
  {
   "cell_type": "code",
   "execution_count": 632,
   "metadata": {},
   "outputs": [
    {
     "name": "stdout",
     "output_type": "stream",
     "text": [
      "   ID             Country of Origin                                                 Farm Name                               Lot Number                           Mill                         ICO Number                   Company   Altitude                Region                      Producer  Number of Bags Bag Weight                              In-Country Partner Harvest Year          Grading Date                                           Owner      Variety     Status        Processing Method  Aroma  Flavor  Aftertaste  Acidity  Body  Balance  Uniformity  Clean Cup  Sweetness  Overall  Defects  Total Cup Points  Moisture Percentage  Category One Defects  Quakers         Color  Category Two Defects            Expiration                              Certification Body                                                                                         Certification Address                                Certification Contact\n",
      "0   0                      Colombia                                          Finca El Paraiso                               CQU2022015               Finca El Paraiso                                NaN      Coffee Quality Union  1700-1930        Piendamo,Cauca         Diego Samuel Bermudez               1      35 kg                           Japan Coffee Exchange  2021 / 2022  September 21st, 2022                            Coffee Quality Union     Castillo  Completed  Double Anaerobic Washed   8.58    8.50        8.42     8.58  8.25     8.42        10.0         10         10     8.58        0             89.33                 11.8                     0        0         green                     3  September 21st, 2023                           Japan Coffee Exchange  „Äí413-0002 ÈùôÂ≤°ÁúåÁÜ±Êµ∑Â∏Ç‰ºäË±ÜÂ±±ÔºëÔºëÔºóÔºì‚àíÔºïÔºò 1173-58 Izusan, Atami, Shizuoka, 413-0002 JAPAN  ÊùæÊæ§„ÄÄÂÆèÊ®π„ÄÄKoju Matsuzawa - +81(0)9085642901\n",
      "1   1                        Taiwan                                  Royal Bean Geisha Estate  The 2022 Pacific Rim Coffee Summit,T037       Royal Bean Geisha Estate                                NaN  Taiwan Coffee Laboratory       1200                Chiayi                     ÊõæÁ¶èÊ£Æ               1      80 kg  Taiwan Coffee Laboratory Âè∞ÁÅ£ÂíñÂï°Á†îÁ©∂ÂÆ§  2021 / 2022   November 15th, 2022  Taiwan Coffee Laboratory Âè∞ÁÅ£ÂíñÂï°Á†îÁ©∂ÂÆ§        Gesha  Completed             Washed / Wet   8.50    8.50        7.92     8.00  7.92     8.25        10.0         10         10     8.50        0             87.58                 10.5                     0        0    blue-green                     0   November 15th, 2023  Taiwan Coffee Laboratory Âè∞ÁÅ£ÂíñÂï°Á†îÁ©∂ÂÆ§                        QAHWAH CO., LTD 4F, No. 225, Sec. 3, Beixin Rd., Xindian Dist. New Taipei City, Taiwan           Lin, Jen-An Neil Êûó‰ªÅÂÆâ - 886-289116612\n",
      "2   2                          Laos                                        OKLAO coffee farms  The 2022 Pacific Rim Coffee Summit,LA01  oklao coffee processing plant                                NaN  Taiwan Coffee Laboratory       1300  Laos Borofen Plateau                    WU TAO CHI              19      25 kg  Taiwan Coffee Laboratory Âè∞ÁÅ£ÂíñÂï°Á†îÁ©∂ÂÆ§  2021 / 2022   November 15th, 2022  Taiwan Coffee Laboratory Âè∞ÁÅ£ÂíñÂï°Á†îÁ©∂ÂÆ§         Java  Completed              Semi Washed   8.33    8.42        8.08     8.17  7.92     8.17        10.0         10         10     8.33        0             87.42                 10.4                     0        0     yellowish                     2   November 15th, 2023  Taiwan Coffee Laboratory Âè∞ÁÅ£ÂíñÂï°Á†îÁ©∂ÂÆ§                        QAHWAH CO., LTD 4F, No. 225, Sec. 3, Beixin Rd., Xindian Dist. New Taipei City, Taiwan           Lin, Jen-An Neil Êûó‰ªÅÂÆâ - 886-289116612\n",
      "3   3                    Costa Rica                                                 La Cumbre                               CQU2022017        La Montana Tarrazu MIll                                NaN      Coffee Quality Union       1900    Los Santos,Tarrazu           Santa Maria de Dota               1      22 kg                           Japan Coffee Exchange         2022  September 21st, 2022                            Coffee Quality Union        Gesha  Completed             Washed / Wet   8.08    8.17        8.17     8.25  8.17     8.08        10.0         10         10     8.25        0             87.17                 11.8                     0        0         green                     0  September 21st, 2023                           Japan Coffee Exchange  „Äí413-0002 ÈùôÂ≤°ÁúåÁÜ±Êµ∑Â∏Ç‰ºäË±ÜÂ±±ÔºëÔºëÔºóÔºì‚àíÔºïÔºò 1173-58 Izusan, Atami, Shizuoka, 413-0002 JAPAN  ÊùæÊæ§„ÄÄÂÆèÊ®π„ÄÄKoju Matsuzawa - +81(0)9085642901\n",
      "4   4                      Colombia                                           Finca Santuario                               CQU2023002                Finca Santuario                                NaN      Coffee Quality Union  1850-2100         Popayan,Cauca              Camilo Merizalde               2      24 kg                           Japan Coffee Exchange         2022       March 6th, 2023                            Coffee Quality Union  Red Bourbon  Completed             Honey,Mossto   8.33    8.33        8.08     8.25  7.92     7.92        10.0         10         10     8.25        0             87.08                 11.6                     0        2  yellow-green                     2       March 5th, 2024                           Japan Coffee Exchange  „Äí413-0002 ÈùôÂ≤°ÁúåÁÜ±Êµ∑Â∏Ç‰ºäË±ÜÂ±±ÔºëÔºëÔºóÔºì‚àíÔºïÔºò 1173-58 Izusan, Atami, Shizuoka, 413-0002 JAPAN  ÊùæÊæ§„ÄÄÂÆèÊ®π„ÄÄKoju Matsuzawa - +81(0)9085642901\n",
      "5   5                     Guatemala                                                 La Colina  The 2022 Pacific Rim Coffee Summit,GT02                Din√°mica Caf√©                                NaN  Taiwan Coffee Laboratory       1668         Chimaltenango  Emilio Antonio Medina Garcia               5      30 kg  Taiwan Coffee Laboratory Âè∞ÁÅ£ÂíñÂï°Á†îÁ©∂ÂÆ§         2022   November 15th, 2022  Taiwan Coffee Laboratory Âè∞ÁÅ£ÂíñÂï°Á†îÁ©∂ÂÆ§        Gesha  Completed             Washed / Wet   8.33    8.33        8.25     7.83  7.83     8.17        10.0         10         10     8.25        0             87.00                 10.7                     0        0         green                     2   November 15th, 2023  Taiwan Coffee Laboratory Âè∞ÁÅ£ÂíñÂï°Á†îÁ©∂ÂÆ§                        QAHWAH CO., LTD 4F, No. 225, Sec. 3, Beixin Rd., Xindian Dist. New Taipei City, Taiwan           Lin, Jen-An Neil Êûó‰ªÅÂÆâ - 886-289116612\n",
      "6   6                        Taiwan             ÈáéÁâ°‰∏πÂíñÂï°ËéäÂúí Melastoma Coffee Estate  The 2022 Pacific Rim Coffee Summit,T034                ÈáéÁâ°‰∏πÂíñÂï°                                NaN  Taiwan Coffee Laboratory       1250                Chiayi                     ÈªÉ‰øùÈå´               1      27 kg  Taiwan Coffee Laboratory Âè∞ÁÅ£ÂíñÂï°Á†îÁ©∂ÂÆ§  2021 / 2022   November 15th, 2022  Taiwan Coffee Laboratory Âè∞ÁÅ£ÂíñÂï°Á†îÁ©∂ÂÆ§        Gesha  Completed             Washed / Wet   8.33    8.17        8.08     8.00  7.83     8.25        10.0         10         10     8.25        0             86.92                  9.1                     0        0         green                     0   November 15th, 2023  Taiwan Coffee Laboratory Âè∞ÁÅ£ÂíñÂï°Á†îÁ©∂ÂÆ§                        QAHWAH CO., LTD 4F, No. 225, Sec. 3, Beixin Rd., Xindian Dist. New Taipei City, Taiwan           Lin, Jen-An Neil Êûó‰ªÅÂÆâ - 886-289116612\n",
      "7   7                        Taiwan  ‰∏ÉÂΩ©ÁêâÁíÉÂíñÂï°ËéäÂúí Chi Tsai Liu Li Ecological Farm  The 2022 Pacific Rim Coffee Summit,T050       ‰∏ÉÂΩ©ÁêâÁíÉÂíñÂï°ËéäÂúí                                NaN  Taiwan Coffee Laboratory       1200                Chiayi                     ËéäÂÆ∂Ê¶Æ               1      90 kg  Taiwan Coffee Laboratory Âè∞ÁÅ£ÂíñÂï°Á†îÁ©∂ÂÆ§  2021 / 2022   November 15th, 2022  Taiwan Coffee Laboratory Âè∞ÁÅ£ÂíñÂï°Á†îÁ©∂ÂÆ§   Sl34+Gesha  Completed            Natural / Dry   8.25    8.25        8.17     8.00  7.92     8.08        10.0         10         10     8.08        0             86.75                 10.0                     0        0  yellow green                     1   November 15th, 2023  Taiwan Coffee Laboratory Âè∞ÁÅ£ÂíñÂï°Á†îÁ©∂ÂÆ§                        QAHWAH CO., LTD 4F, No. 225, Sec. 3, Beixin Rd., Xindian Dist. New Taipei City, Taiwan           Lin, Jen-An Neil Êûó‰ªÅÂÆâ - 886-289116612\n",
      "8   8                        Taiwan                 ‰∫ÆËªíÂíñÂï°ËéäÂúí Liang Xuan Coffee Farm  The 2022 Pacific Rim Coffee Summit,T018             ‰∫ÆËªíÂíñÂï°ËéäÂúí                                NaN  Taiwan Coffee Laboratory       1250                Chiayi                     ÈçæÊó≠‰∫Æ               1      30 kg  Taiwan Coffee Laboratory Âè∞ÁÅ£ÂíñÂï°Á†îÁ©∂ÂÆ§  2021 / 2022   November 15th, 2022  Taiwan Coffee Laboratory Âè∞ÁÅ£ÂíñÂï°Á†îÁ©∂ÂÆ§         SL34  Completed             Washed / Wet   8.08    8.08        8.25     8.08  7.92     8.00        10.0         10         10     8.25        0             86.67                 10.8                     0        0      greenish                     0   November 15th, 2023  Taiwan Coffee Laboratory Âè∞ÁÅ£ÂíñÂï°Á†îÁ©∂ÂÆ§                        QAHWAH CO., LTD 4F, No. 225, Sec. 3, Beixin Rd., Xindian Dist. New Taipei City, Taiwan           Lin, Jen-An Neil Êûó‰ªÅÂÆâ - 886-289116612\n",
      "9   9  Tanzania, United Republic Of                                             MASHIMA AMCOS                 CN 4127230034/4189230113            GOURMET COFFEE MILL  033/DE/503/002 and 033/DE/268/002        DORMAN (T) LIMITED  1400-1700           KILIMANJARO            DORMAN (T) LIMITED             320      60 kg                Kenya Coffee Traders Association  2022 / 2023    February 1st, 2023                                   Gilbert Maina      Bourbon  Completed             Washed / Wet   8.08    8.17        8.08     8.17  8.00     8.00        10.0         10         10     8.00        0             86.50                 11.0                     0        0      greenish                     0    February 1st, 2024                Kenya Coffee Traders Association              P.O. Box 646 00100Nairobi, Kenya, Denniss Pritt Road, Opposite St Georges Girls Secondary School              Benson Kibicho Kamau - +254 786 821 621\n"
     ]
    }
   ],
   "source": [
    "# Print data head\n",
    "print(coffee.head(10).to_string())"
   ]
  },
  {
   "attachments": {},
   "cell_type": "markdown",
   "metadata": {},
   "source": [
    "### Import Data Conclusions\n",
    "\n",
    "Most variables have complete information. Missing a small number of observations are: Farm Name, Lot Number, Mill, Altitute, Region, Producer, Variety, and Processing Method. ICO Number is missing a large number of observations and only present for 75 of the rows. Altitude, Bag Weight, and Harvest Year can be changed to integer data type, Grading Date and Expiration can be changed to datetime. Column names need to be converted to snake case."
   ]
  },
  {
   "attachments": {},
   "cell_type": "markdown",
   "metadata": {},
   "source": [
    "## Prepare Data <a id='prepare'></a>\n",
    "\n",
    "Column names are converted to snake case, missing values are explored and imputed, data types are addressed, and duplicates are explored."
   ]
  },
  {
   "attachments": {},
   "cell_type": "markdown",
   "metadata": {},
   "source": [
    "### Column Names"
   ]
  },
  {
   "cell_type": "code",
   "execution_count": 633,
   "metadata": {},
   "outputs": [
    {
     "name": "stdout",
     "output_type": "stream",
     "text": [
      "Index(['id', 'country_of_origin', 'farm_name', 'lot_number', 'mill',\n",
      "       'ico_number', 'company', 'altitude', 'region', 'producer',\n",
      "       'number_of_bags', 'bag_weight', 'in-country_partner', 'harvest_year',\n",
      "       'grading_date', 'owner', 'variety', 'status', 'processing_method',\n",
      "       'aroma', 'flavor', 'aftertaste', 'acidity', 'body', 'balance',\n",
      "       'uniformity', 'clean_cup', 'sweetness', 'overall', 'defects',\n",
      "       'total_cup_points', 'moisture_percentage', 'category_one_defects',\n",
      "       'quakers', 'color', 'category_two_defects', 'expiration',\n",
      "       'certification_body', 'certification_address', 'certification_contact'],\n",
      "      dtype='object')\n"
     ]
    }
   ],
   "source": [
    "# Convert column names to snake case\n",
    "coffee.columns = coffee.columns.str.lower().str.replace(' ', '_')\n",
    "\n",
    "\n",
    "print(coffee.columns)"
   ]
  },
  {
   "attachments": {},
   "cell_type": "markdown",
   "metadata": {},
   "source": [
    "### Missing Values"
   ]
  },
  {
   "cell_type": "code",
   "execution_count": 634,
   "metadata": {},
   "outputs": [
    {
     "data": {
      "text/plain": [
       "id                         0\n",
       "country_of_origin          0\n",
       "farm_name                  2\n",
       "lot_number                 1\n",
       "mill                       3\n",
       "ico_number               132\n",
       "company                    0\n",
       "altitude                   1\n",
       "region                     2\n",
       "producer                   1\n",
       "number_of_bags             0\n",
       "bag_weight                 0\n",
       "in-country_partner         0\n",
       "harvest_year               0\n",
       "grading_date               0\n",
       "owner                      0\n",
       "variety                    6\n",
       "status                     0\n",
       "processing_method          5\n",
       "aroma                      0\n",
       "flavor                     0\n",
       "aftertaste                 0\n",
       "acidity                    0\n",
       "body                       0\n",
       "balance                    0\n",
       "uniformity                 0\n",
       "clean_cup                  0\n",
       "sweetness                  0\n",
       "overall                    0\n",
       "defects                    0\n",
       "total_cup_points           0\n",
       "moisture_percentage        0\n",
       "category_one_defects       0\n",
       "quakers                    0\n",
       "color                      0\n",
       "category_two_defects       0\n",
       "expiration                 0\n",
       "certification_body         0\n",
       "certification_address      0\n",
       "certification_contact      0\n",
       "dtype: int64"
      ]
     },
     "metadata": {},
     "output_type": "display_data"
    }
   ],
   "source": [
    "# Display number missing in each column\n",
    "missing_values = coffee.isna().sum()\n",
    "\n",
    "display(missing_values)"
   ]
  },
  {
   "attachments": {},
   "cell_type": "markdown",
   "metadata": {},
   "source": [
    "There are only a small number of missing values, and they fall largely in columns with string data type. The missing strings will be replaced with 'unknown'. The one misisng altitude value will be dropped from the dataset."
   ]
  },
  {
   "cell_type": "code",
   "execution_count": 635,
   "metadata": {},
   "outputs": [],
   "source": [
    "# Replace all missing string values with 'unknown'\n",
    "str_cols = ['farm_name', 'lot_number', 'mill', 'ico_number', 'region', 'producer', 'variety', 'processing_method']\n",
    "\n",
    "for col in str_cols:\n",
    "    coffee[col] = coffee[col].fillna('unknown')\n",
    "    \n",
    "# Drop row with missing altitude\n",
    "coffee = coffee.dropna()"
   ]
  },
  {
   "cell_type": "code",
   "execution_count": 636,
   "metadata": {},
   "outputs": [
    {
     "data": {
      "text/plain": [
       "id                       0\n",
       "country_of_origin        0\n",
       "farm_name                0\n",
       "lot_number               0\n",
       "mill                     0\n",
       "ico_number               0\n",
       "company                  0\n",
       "altitude                 0\n",
       "region                   0\n",
       "producer                 0\n",
       "number_of_bags           0\n",
       "bag_weight               0\n",
       "in-country_partner       0\n",
       "harvest_year             0\n",
       "grading_date             0\n",
       "owner                    0\n",
       "variety                  0\n",
       "status                   0\n",
       "processing_method        0\n",
       "aroma                    0\n",
       "flavor                   0\n",
       "aftertaste               0\n",
       "acidity                  0\n",
       "body                     0\n",
       "balance                  0\n",
       "uniformity               0\n",
       "clean_cup                0\n",
       "sweetness                0\n",
       "overall                  0\n",
       "defects                  0\n",
       "total_cup_points         0\n",
       "moisture_percentage      0\n",
       "category_one_defects     0\n",
       "quakers                  0\n",
       "color                    0\n",
       "category_two_defects     0\n",
       "expiration               0\n",
       "certification_body       0\n",
       "certification_address    0\n",
       "certification_contact    0\n",
       "dtype: int64"
      ]
     },
     "metadata": {},
     "output_type": "display_data"
    }
   ],
   "source": [
    "# Re-pring missing values\n",
    "missing_values_new = coffee.isna().sum()\n",
    "\n",
    "display(missing_values_new)"
   ]
  },
  {
   "attachments": {},
   "cell_type": "markdown",
   "metadata": {},
   "source": [
    "All missing values have been filled or dropped from the dataset."
   ]
  },
  {
   "attachments": {},
   "cell_type": "markdown",
   "metadata": {},
   "source": [
    "### Data Types\n",
    "\n",
    "\n",
    "Altitude is a numeric variables that has been loaded as object because some cells contain ranges of values. To address this issue, ranges are replaced with the average of the two values and converted to float data type. While harvest year, bag weight, grading date, and expiration were also not loaded with correct data types, they are not used in this analysis, and their data types will be left as is."
   ]
  },
  {
   "attachments": {},
   "cell_type": "markdown",
   "metadata": {},
   "source": [
    "#### Altitude"
   ]
  },
  {
   "cell_type": "code",
   "execution_count": 639,
   "metadata": {},
   "outputs": [
    {
     "name": "stdout",
     "output_type": "stream",
     "text": [
      "['1700-1930' 1200 1300 1900 '1850-2100' 1668 1250 '1400-1700' '1800-2200'\n",
      " 2000 '1900-2000' 1850 1100 '1900-2100' '1570-1600' 850 '1500-1700' 1350\n",
      " 1060 600 '150-250' 668 1950 '2150 - 2350' 1700 650 '1600-1900' '300-500'\n",
      " 1000 800 1905 150 1600 4700 '350-400' 230 1750 1654 1400 4895 '200-300'\n",
      " 700 1450 520 1368 1943 400 '1300-1400' 2361 1500 2100 '1250-1350'\n",
      " '1500-1600' 1800 '1600-1750' 1411 '4895 A 5650' '400-600' '200-400' 1470\n",
      " '250-400' '250-300' '1200 - 1580' '1400 - 1900' '1280-1325' 300 750\n",
      " '1300-1500' 950 '1100-1200' 1390 340 '1200 - 1300' 1650 1280 900 165 465\n",
      " 640 1340 139 '1200-1350' 1040 140 '1500-1950' 460 500 '800-1200'\n",
      " '1350-1550' '1200~1600' 5400 '900-1000' 1574 435 '600-800' '1300-1800'\n",
      " '850-1100']\n"
     ]
    }
   ],
   "source": [
    "# Examine altitude values\n",
    "print(coffee['altitude'].unique())"
   ]
  },
  {
   "cell_type": "code",
   "execution_count": 640,
   "metadata": {},
   "outputs": [
    {
     "name": "stdout",
     "output_type": "stream",
     "text": [
      "Altitude Mean Data Type: float64\n",
      "\n"
     ]
    },
    {
     "data": {
      "text/html": [
       "<div>\n",
       "<style scoped>\n",
       "    .dataframe tbody tr th:only-of-type {\n",
       "        vertical-align: middle;\n",
       "    }\n",
       "\n",
       "    .dataframe tbody tr th {\n",
       "        vertical-align: top;\n",
       "    }\n",
       "\n",
       "    .dataframe thead th {\n",
       "        text-align: right;\n",
       "    }\n",
       "</style>\n",
       "<table border=\"1\" class=\"dataframe\">\n",
       "  <thead>\n",
       "    <tr style=\"text-align: right;\">\n",
       "      <th></th>\n",
       "      <th>altitude</th>\n",
       "      <th>altitude_mean</th>\n",
       "    </tr>\n",
       "  </thead>\n",
       "  <tbody>\n",
       "    <tr>\n",
       "      <th>0</th>\n",
       "      <td>1700-1930</td>\n",
       "      <td>1815.0</td>\n",
       "    </tr>\n",
       "    <tr>\n",
       "      <th>1</th>\n",
       "      <td>1200</td>\n",
       "      <td>1200.0</td>\n",
       "    </tr>\n",
       "    <tr>\n",
       "      <th>2</th>\n",
       "      <td>1300</td>\n",
       "      <td>1300.0</td>\n",
       "    </tr>\n",
       "    <tr>\n",
       "      <th>3</th>\n",
       "      <td>1900</td>\n",
       "      <td>1900.0</td>\n",
       "    </tr>\n",
       "    <tr>\n",
       "      <th>4</th>\n",
       "      <td>1850-2100</td>\n",
       "      <td>1975.0</td>\n",
       "    </tr>\n",
       "    <tr>\n",
       "      <th>...</th>\n",
       "      <td>...</td>\n",
       "      <td>...</td>\n",
       "    </tr>\n",
       "    <tr>\n",
       "      <th>202</th>\n",
       "      <td>950</td>\n",
       "      <td>950.0</td>\n",
       "    </tr>\n",
       "    <tr>\n",
       "      <th>203</th>\n",
       "      <td>1200</td>\n",
       "      <td>1200.0</td>\n",
       "    </tr>\n",
       "    <tr>\n",
       "      <th>204</th>\n",
       "      <td>1300</td>\n",
       "      <td>1300.0</td>\n",
       "    </tr>\n",
       "    <tr>\n",
       "      <th>205</th>\n",
       "      <td>1200</td>\n",
       "      <td>1200.0</td>\n",
       "    </tr>\n",
       "    <tr>\n",
       "      <th>206</th>\n",
       "      <td>850-1100</td>\n",
       "      <td>975.0</td>\n",
       "    </tr>\n",
       "  </tbody>\n",
       "</table>\n",
       "<p>206 rows × 2 columns</p>\n",
       "</div>"
      ],
      "text/plain": [
       "      altitude  altitude_mean\n",
       "0    1700-1930         1815.0\n",
       "1         1200         1200.0\n",
       "2         1300         1300.0\n",
       "3         1900         1900.0\n",
       "4    1850-2100         1975.0\n",
       "..         ...            ...\n",
       "202        950          950.0\n",
       "203       1200         1200.0\n",
       "204       1300         1300.0\n",
       "205       1200         1200.0\n",
       "206   850-1100          975.0\n",
       "\n",
       "[206 rows x 2 columns]"
      ]
     },
     "metadata": {},
     "output_type": "display_data"
    }
   ],
   "source": [
    "# Replace all dash characters with regular dash '-'\n",
    "coffee['altitude_mean'] = coffee['altitude'].str.replace('~', '-').str.replace(' ', '').str.replace('A', '-')\n",
    "\n",
    "# Split range altitudes by dash into two columns and calculate mean of the two values\n",
    "coffee['altitude_mean'] = coffee['altitude_mean'].str.split('-', expand=True).astype('float64').mean(axis=1)\n",
    "\n",
    "# Fill rows that didn't have a range range back in with their singular altitude values\n",
    "coffee['altitude_mean'] = coffee['altitude_mean'].fillna(coffee['altitude'])\n",
    "\n",
    "# Extract data type\n",
    "altitude_mean_dtype = coffee['altitude_mean'].dtype\n",
    "\n",
    "# Print result\n",
    "print(f'Altitude Mean Data Type: {altitude_mean_dtype}')\n",
    "print()\n",
    "display(coffee[['altitude', 'altitude_mean']])\n"
   ]
  },
  {
   "attachments": {},
   "cell_type": "markdown",
   "metadata": {},
   "source": [
    "### Duplicates\n",
    "\n",
    "Data is checked for full duplicates and implicit duplicates in color and country name."
   ]
  },
  {
   "attachments": {},
   "cell_type": "markdown",
   "metadata": {},
   "source": [
    "#### Full Duplicates"
   ]
  },
  {
   "cell_type": "code",
   "execution_count": 641,
   "metadata": {},
   "outputs": [
    {
     "name": "stdout",
     "output_type": "stream",
     "text": [
      "The number of full duplicates is: 0\n"
     ]
    }
   ],
   "source": [
    "# Check for full duplicates\n",
    "duplicates = coffee.duplicated().sum()\n",
    "\n",
    "print(f'The number of full duplicates is: {duplicates}')"
   ]
  },
  {
   "attachments": {},
   "cell_type": "markdown",
   "metadata": {},
   "source": [
    "There are no full duplicates in the dataset."
   ]
  },
  {
   "attachments": {},
   "cell_type": "markdown",
   "metadata": {},
   "source": [
    "#### Color Duplicates"
   ]
  },
  {
   "cell_type": "code",
   "execution_count": 642,
   "metadata": {},
   "outputs": [
    {
     "name": "stdout",
     "output_type": "stream",
     "text": [
      "['green' 'blue-green' 'yellowish' 'yellow-green' 'yellow green' 'greenish'\n",
      " 'brownish' 'yellow- green' 'browish-green' 'bluish-green' 'pale yellow'\n",
      " 'yello-green']\n"
     ]
    }
   ],
   "source": [
    "# Check for implicit duplicates in color\n",
    "print(coffee['color'].unique())\n"
   ]
  },
  {
   "cell_type": "code",
   "execution_count": 643,
   "metadata": {},
   "outputs": [
    {
     "name": "stdout",
     "output_type": "stream",
     "text": [
      "Unique Color Values: ['green' 'blue-green' 'pale-yellow' 'yellow-green' 'brown']\n",
      "\n",
      "Frequencies of Colors:\n",
      "green           136\n",
      "blue-green       33\n",
      "yellow-green     17\n",
      "pale-yellow      10\n",
      "brown            10\n",
      "Name: color, dtype: int64\n"
     ]
    }
   ],
   "source": [
    "# Replace all yellow-green options with 'yellow-green'\n",
    "yellow_greens = ['yellow green', 'yellow- green', 'yello-green']\n",
    "\n",
    "for yellow in yellow_greens:\n",
    "    coffee['color'] = coffee['color'].replace(yellow, 'yellow-green')\n",
    "    \n",
    "# Replace all blue-green options with 'blue-green'\n",
    "coffee['color'] = coffee['color'].replace('bluish-green', 'blue-green')\n",
    "\n",
    "# Replace all yellow options with 'pale-yellow'\n",
    "coffee['color'] = coffee['color'].replace(['yellowish', 'pale yellow'], 'pale-yellow')\n",
    "\n",
    "# Replace greenish with 'green'\n",
    "coffee['color'] = coffee['color'].replace('greenish', 'green')\n",
    "\n",
    "# Replace browns with 'brown'\n",
    "coffee['color'] = coffee['color'].replace(['brownish', 'browish-green'], 'brown')\n",
    "    \n",
    "print(f\"Unique Color Values: {coffee['color'].unique()}\")\n",
    "print()\n",
    "print('Frequencies of Colors:')\n",
    "print(coffee['color'].value_counts())"
   ]
  },
  {
   "attachments": {},
   "cell_type": "markdown",
   "metadata": {},
   "source": [
    "Color categories are combined and categories each have reasonable numbers of values."
   ]
  },
  {
   "attachments": {},
   "cell_type": "markdown",
   "metadata": {},
   "source": [
    "#### Country Duplicates"
   ]
  },
  {
   "cell_type": "code",
   "execution_count": 644,
   "metadata": {},
   "outputs": [
    {
     "data": {
      "text/plain": [
       "['Brazil',\n",
       " 'Colombia',\n",
       " 'Costa Rica',\n",
       " 'El Salvador',\n",
       " 'Ethiopia',\n",
       " 'Guatemala',\n",
       " 'Honduras',\n",
       " 'Indonesia',\n",
       " 'Kenya',\n",
       " 'Laos',\n",
       " 'Madagascar',\n",
       " 'Mexico',\n",
       " 'Myanmar',\n",
       " 'Nicaragua',\n",
       " 'Panama',\n",
       " 'Peru',\n",
       " 'Taiwan',\n",
       " 'Tanzania, United Republic Of',\n",
       " 'Thailand',\n",
       " 'Uganda',\n",
       " 'United States (Hawaii)',\n",
       " 'Vietnam']"
      ]
     },
     "execution_count": 644,
     "metadata": {},
     "output_type": "execute_result"
    }
   ],
   "source": [
    "# Check for implicit duplicates in country of origin\n",
    "sorted(coffee['country_of_origin'].unique())"
   ]
  },
  {
   "cell_type": "code",
   "execution_count": 645,
   "metadata": {},
   "outputs": [
    {
     "data": {
      "text/plain": [
       "Taiwan                    61\n",
       "Guatemala                 21\n",
       "Colombia                  18\n",
       "Honduras                  13\n",
       "Thailand                  12\n",
       "Ethiopia                  11\n",
       "Brazil                    10\n",
       "Costa Rica                 8\n",
       "Nicaragua                  7\n",
       "El Salvador                7\n",
       "Tanzania                   6\n",
       "United States (Hawaii)     5\n",
       "Mexico                     4\n",
       "Peru                       4\n",
       "Vietnam                    4\n",
       "Uganda                     3\n",
       "Indonesia                  3\n",
       "Laos                       3\n",
       "Panama                     2\n",
       "Kenya                      2\n",
       "Madagascar                 1\n",
       "Myanmar                    1\n",
       "Name: country_of_origin, dtype: int64"
      ]
     },
     "execution_count": 645,
     "metadata": {},
     "output_type": "execute_result"
    }
   ],
   "source": [
    "# Shorten Tanzania, United Republic of to 'Tanzania'\n",
    "coffee['country_of_origin'] = coffee['country_of_origin'].replace(\n",
    "    'Tanzania, United Republic Of', 'Tanzania')\n",
    "\n",
    "coffee['country_of_origin'].value_counts()"
   ]
  },
  {
   "attachments": {},
   "cell_type": "markdown",
   "metadata": {},
   "source": [
    "Tanzania has been shorted to 'Tanzania'. There are no other implicit country duplicates."
   ]
  },
  {
   "attachments": {},
   "cell_type": "markdown",
   "metadata": {},
   "source": [
    "#### Variety Duplicates"
   ]
  },
  {
   "cell_type": "code",
   "execution_count": 646,
   "metadata": {},
   "outputs": [
    {
     "data": {
      "text/plain": [
       "['BOURBON, CATURRA Y CATIMOR',\n",
       " 'Bourbon',\n",
       " 'Bourbon Sidra',\n",
       " 'Bourbon, Catimor, Caturra, Typica',\n",
       " 'Castillo',\n",
       " 'Castillo Paraguaycito',\n",
       " 'Castillo and Colombia blend',\n",
       " 'Castillo,Caturra,Bourbon',\n",
       " 'Catimor',\n",
       " 'Catimor,Catuai,Caturra,Bourbon',\n",
       " 'Catrenic',\n",
       " 'Catuai',\n",
       " 'Catuai and Mundo Novo',\n",
       " 'Catucai',\n",
       " 'Caturra',\n",
       " 'Caturra,Colombia,Castillo',\n",
       " 'Caturra-Catuai',\n",
       " 'Ethiopian Heirlooms',\n",
       " 'Gayo',\n",
       " 'Gesha',\n",
       " 'Java',\n",
       " 'Jember,TIM-TIM,Ateng',\n",
       " 'Lempira',\n",
       " 'MARSELLESA, CATUAI, CATURRA & MARSELLESA, ANACAFE 14, CATUAI',\n",
       " 'Maragogype',\n",
       " 'Mundo Novo',\n",
       " 'Pacamara',\n",
       " 'Pacas',\n",
       " 'Parainema',\n",
       " 'Red Bourbon',\n",
       " 'Red Bourbon,Caturra',\n",
       " 'SHG',\n",
       " 'SL14',\n",
       " 'SL28',\n",
       " 'SL28,SL34,Ruiru11',\n",
       " 'SL34',\n",
       " 'Santander',\n",
       " 'Sarchimor',\n",
       " 'Sl34+Gesha',\n",
       " 'Typica',\n",
       " 'Typica + SL34',\n",
       " 'Typica Bourbon Caturra Catimor',\n",
       " 'Typica Gesha',\n",
       " 'Wolishalo,Kurume,Dega',\n",
       " 'Yellow Bourbon',\n",
       " 'Yellow Catuai',\n",
       " 'unknow',\n",
       " 'unknown']"
      ]
     },
     "execution_count": 646,
     "metadata": {},
     "output_type": "execute_result"
    }
   ],
   "source": [
    "# View unique coffee varieties\n",
    "sorted(coffee['variety'].unique())"
   ]
  },
  {
   "attachments": {},
   "cell_type": "markdown",
   "metadata": {},
   "source": [
    "While there are some similar varities, none of the varieties are exact duplicates of each other and all strains vary in taste and quality. These strains will be kept as-is. Values will only be modified to combine 'unkow' with 'unknown'."
   ]
  },
  {
   "cell_type": "code",
   "execution_count": 647,
   "metadata": {},
   "outputs": [],
   "source": [
    "# Replace 'unkow' with 'unkown'\n",
    "coffee['variety'] = coffee['variety'].replace('unkow', 'unknown')"
   ]
  },
  {
   "attachments": {},
   "cell_type": "markdown",
   "metadata": {},
   "source": [
    "Unknown categories are combined. All other varieties have been kept as-is."
   ]
  },
  {
   "attachments": {},
   "cell_type": "markdown",
   "metadata": {},
   "source": [
    "### Prepare Data Conclusions\n",
    "\n",
    "Column names are changed to snake case, missing values are addressed, data types have been fixed, and the data has been check for full and implicit duplicates. The data is clean, prepared, and ready for analysis."
   ]
  },
  {
   "attachments": {},
   "cell_type": "markdown",
   "metadata": {},
   "source": [
    "## Single-Variable Visualizations\n",
    "\n",
    "Variables are plotted individually as an initial exploratory analysis of their individual distributions. Country of origin and color are plotted with bar graphs, and harvest year, altitude, and coffee quality are plotted with histograms. Individual observations will be eliminated from the analysis if outliers are discovered and variables will be eliminated from the analysis if shown to have no variation."
   ]
  },
  {
   "cell_type": "code",
   "execution_count": 672,
   "metadata": {},
   "outputs": [
    {
     "data": {
      "application/vnd.plotly.v1+json": {
       "config": {
        "plotlyServerURL": "https://plot.ly"
       },
       "data": [
        {
         "alignmentgroup": "True",
         "bingroup": "x",
         "hovertemplate": "Country of Origin=%{x}<br>count=%{y}<extra></extra>",
         "legendgroup": "",
         "marker": {
          "color": "rgb(104, 133, 92)",
          "pattern": {
           "shape": ""
          }
         },
         "name": "",
         "offsetgroup": "",
         "orientation": "v",
         "showlegend": false,
         "texttemplate": "%{value}",
         "type": "histogram",
         "x": [
          "Colombia",
          "Taiwan",
          "Laos",
          "Costa Rica",
          "Colombia",
          "Guatemala",
          "Taiwan",
          "Taiwan",
          "Taiwan",
          "Tanzania",
          "Ethiopia",
          "Guatemala",
          "Taiwan",
          "Ethiopia",
          "Colombia",
          "Taiwan",
          "Ethiopia",
          "Taiwan",
          "Taiwan",
          "Tanzania",
          "Guatemala",
          "Taiwan",
          "Thailand",
          "Colombia",
          "Taiwan",
          "Brazil",
          "Taiwan",
          "Taiwan",
          "Taiwan",
          "United States (Hawaii)",
          "Taiwan",
          "Taiwan",
          "Taiwan",
          "Ethiopia",
          "Ethiopia",
          "Ethiopia",
          "Taiwan",
          "Taiwan",
          "Kenya",
          "Taiwan",
          "Taiwan",
          "Taiwan",
          "Uganda",
          "Taiwan",
          "Taiwan",
          "Guatemala",
          "Guatemala",
          "Taiwan",
          "Taiwan",
          "Indonesia",
          "Peru",
          "Tanzania",
          "Taiwan",
          "Taiwan",
          "Brazil",
          "Panama",
          "Taiwan",
          "Guatemala",
          "Costa Rica",
          "Taiwan",
          "Taiwan",
          "Nicaragua",
          "Taiwan",
          "Taiwan",
          "Vietnam",
          "Costa Rica",
          "Taiwan",
          "Honduras",
          "Ethiopia",
          "Taiwan",
          "Taiwan",
          "Guatemala",
          "United States (Hawaii)",
          "Ethiopia",
          "El Salvador",
          "Colombia",
          "Indonesia",
          "Guatemala",
          "Madagascar",
          "Honduras",
          "Guatemala",
          "Taiwan",
          "Taiwan",
          "Guatemala",
          "Guatemala",
          "Honduras",
          "Tanzania",
          "Ethiopia",
          "Tanzania",
          "Colombia",
          "Costa Rica",
          "Guatemala",
          "Guatemala",
          "Thailand",
          "Colombia",
          "Guatemala",
          "Ethiopia",
          "Colombia",
          "United States (Hawaii)",
          "Colombia",
          "Mexico",
          "Taiwan",
          "Myanmar",
          "Taiwan",
          "Honduras",
          "Taiwan",
          "Taiwan",
          "Guatemala",
          "Honduras",
          "Colombia",
          "Thailand",
          "Ethiopia",
          "Thailand",
          "Uganda",
          "Taiwan",
          "Uganda",
          "Taiwan",
          "Guatemala",
          "Taiwan",
          "Colombia",
          "Taiwan",
          "Thailand",
          "Tanzania",
          "Brazil",
          "Taiwan",
          "Colombia",
          "Honduras",
          "Honduras",
          "Taiwan",
          "Taiwan",
          "Laos",
          "Honduras",
          "Honduras",
          "Colombia",
          "Taiwan",
          "Mexico",
          "Colombia",
          "Taiwan",
          "Honduras",
          "Thailand",
          "Vietnam",
          "Nicaragua",
          "Costa Rica",
          "Colombia",
          "Thailand",
          "Thailand",
          "Honduras",
          "Taiwan",
          "Taiwan",
          "Nicaragua",
          "El Salvador",
          "Panama",
          "Brazil",
          "United States (Hawaii)",
          "Mexico",
          "Honduras",
          "Taiwan",
          "Nicaragua",
          "Vietnam",
          "El Salvador",
          "El Salvador",
          "Taiwan",
          "Peru",
          "United States (Hawaii)",
          "Kenya",
          "Honduras",
          "Taiwan",
          "Taiwan",
          "Taiwan",
          "Thailand",
          "Guatemala",
          "Indonesia",
          "Peru",
          "Guatemala",
          "Taiwan",
          "Brazil",
          "Brazil",
          "Colombia",
          "Mexico",
          "Costa Rica",
          "Taiwan",
          "Taiwan",
          "Thailand",
          "Thailand",
          "Thailand",
          "Colombia",
          "Brazil",
          "El Salvador",
          "Nicaragua",
          "Nicaragua",
          "Colombia",
          "Peru",
          "El Salvador",
          "Brazil",
          "Brazil",
          "Nicaragua",
          "Laos",
          "El Salvador",
          "Brazil"
         ],
         "xaxis": "x",
         "yaxis": "y"
        }
       ],
       "layout": {
        "barmode": "relative",
        "height": 600,
        "legend": {
         "tracegroupgap": 0
        },
        "paper_bgcolor": "rgba(0, 0, 0, 0)",
        "plot_bgcolor": "rgba(0, 0, 0, 0)",
        "template": {
         "data": {
          "bar": [
           {
            "error_x": {
             "color": "#2a3f5f"
            },
            "error_y": {
             "color": "#2a3f5f"
            },
            "marker": {
             "line": {
              "color": "#E5ECF6",
              "width": 0.5
             },
             "pattern": {
              "fillmode": "overlay",
              "size": 10,
              "solidity": 0.2
             }
            },
            "type": "bar"
           }
          ],
          "barpolar": [
           {
            "marker": {
             "line": {
              "color": "#E5ECF6",
              "width": 0.5
             },
             "pattern": {
              "fillmode": "overlay",
              "size": 10,
              "solidity": 0.2
             }
            },
            "type": "barpolar"
           }
          ],
          "carpet": [
           {
            "aaxis": {
             "endlinecolor": "#2a3f5f",
             "gridcolor": "white",
             "linecolor": "white",
             "minorgridcolor": "white",
             "startlinecolor": "#2a3f5f"
            },
            "baxis": {
             "endlinecolor": "#2a3f5f",
             "gridcolor": "white",
             "linecolor": "white",
             "minorgridcolor": "white",
             "startlinecolor": "#2a3f5f"
            },
            "type": "carpet"
           }
          ],
          "choropleth": [
           {
            "colorbar": {
             "outlinewidth": 0,
             "ticks": ""
            },
            "type": "choropleth"
           }
          ],
          "contour": [
           {
            "colorbar": {
             "outlinewidth": 0,
             "ticks": ""
            },
            "colorscale": [
             [
              0,
              "#0d0887"
             ],
             [
              0.1111111111111111,
              "#46039f"
             ],
             [
              0.2222222222222222,
              "#7201a8"
             ],
             [
              0.3333333333333333,
              "#9c179e"
             ],
             [
              0.4444444444444444,
              "#bd3786"
             ],
             [
              0.5555555555555556,
              "#d8576b"
             ],
             [
              0.6666666666666666,
              "#ed7953"
             ],
             [
              0.7777777777777778,
              "#fb9f3a"
             ],
             [
              0.8888888888888888,
              "#fdca26"
             ],
             [
              1,
              "#f0f921"
             ]
            ],
            "type": "contour"
           }
          ],
          "contourcarpet": [
           {
            "colorbar": {
             "outlinewidth": 0,
             "ticks": ""
            },
            "type": "contourcarpet"
           }
          ],
          "heatmap": [
           {
            "colorbar": {
             "outlinewidth": 0,
             "ticks": ""
            },
            "colorscale": [
             [
              0,
              "#0d0887"
             ],
             [
              0.1111111111111111,
              "#46039f"
             ],
             [
              0.2222222222222222,
              "#7201a8"
             ],
             [
              0.3333333333333333,
              "#9c179e"
             ],
             [
              0.4444444444444444,
              "#bd3786"
             ],
             [
              0.5555555555555556,
              "#d8576b"
             ],
             [
              0.6666666666666666,
              "#ed7953"
             ],
             [
              0.7777777777777778,
              "#fb9f3a"
             ],
             [
              0.8888888888888888,
              "#fdca26"
             ],
             [
              1,
              "#f0f921"
             ]
            ],
            "type": "heatmap"
           }
          ],
          "heatmapgl": [
           {
            "colorbar": {
             "outlinewidth": 0,
             "ticks": ""
            },
            "colorscale": [
             [
              0,
              "#0d0887"
             ],
             [
              0.1111111111111111,
              "#46039f"
             ],
             [
              0.2222222222222222,
              "#7201a8"
             ],
             [
              0.3333333333333333,
              "#9c179e"
             ],
             [
              0.4444444444444444,
              "#bd3786"
             ],
             [
              0.5555555555555556,
              "#d8576b"
             ],
             [
              0.6666666666666666,
              "#ed7953"
             ],
             [
              0.7777777777777778,
              "#fb9f3a"
             ],
             [
              0.8888888888888888,
              "#fdca26"
             ],
             [
              1,
              "#f0f921"
             ]
            ],
            "type": "heatmapgl"
           }
          ],
          "histogram": [
           {
            "marker": {
             "pattern": {
              "fillmode": "overlay",
              "size": 10,
              "solidity": 0.2
             }
            },
            "type": "histogram"
           }
          ],
          "histogram2d": [
           {
            "colorbar": {
             "outlinewidth": 0,
             "ticks": ""
            },
            "colorscale": [
             [
              0,
              "#0d0887"
             ],
             [
              0.1111111111111111,
              "#46039f"
             ],
             [
              0.2222222222222222,
              "#7201a8"
             ],
             [
              0.3333333333333333,
              "#9c179e"
             ],
             [
              0.4444444444444444,
              "#bd3786"
             ],
             [
              0.5555555555555556,
              "#d8576b"
             ],
             [
              0.6666666666666666,
              "#ed7953"
             ],
             [
              0.7777777777777778,
              "#fb9f3a"
             ],
             [
              0.8888888888888888,
              "#fdca26"
             ],
             [
              1,
              "#f0f921"
             ]
            ],
            "type": "histogram2d"
           }
          ],
          "histogram2dcontour": [
           {
            "colorbar": {
             "outlinewidth": 0,
             "ticks": ""
            },
            "colorscale": [
             [
              0,
              "#0d0887"
             ],
             [
              0.1111111111111111,
              "#46039f"
             ],
             [
              0.2222222222222222,
              "#7201a8"
             ],
             [
              0.3333333333333333,
              "#9c179e"
             ],
             [
              0.4444444444444444,
              "#bd3786"
             ],
             [
              0.5555555555555556,
              "#d8576b"
             ],
             [
              0.6666666666666666,
              "#ed7953"
             ],
             [
              0.7777777777777778,
              "#fb9f3a"
             ],
             [
              0.8888888888888888,
              "#fdca26"
             ],
             [
              1,
              "#f0f921"
             ]
            ],
            "type": "histogram2dcontour"
           }
          ],
          "mesh3d": [
           {
            "colorbar": {
             "outlinewidth": 0,
             "ticks": ""
            },
            "type": "mesh3d"
           }
          ],
          "parcoords": [
           {
            "line": {
             "colorbar": {
              "outlinewidth": 0,
              "ticks": ""
             }
            },
            "type": "parcoords"
           }
          ],
          "pie": [
           {
            "automargin": true,
            "type": "pie"
           }
          ],
          "scatter": [
           {
            "fillpattern": {
             "fillmode": "overlay",
             "size": 10,
             "solidity": 0.2
            },
            "type": "scatter"
           }
          ],
          "scatter3d": [
           {
            "line": {
             "colorbar": {
              "outlinewidth": 0,
              "ticks": ""
             }
            },
            "marker": {
             "colorbar": {
              "outlinewidth": 0,
              "ticks": ""
             }
            },
            "type": "scatter3d"
           }
          ],
          "scattercarpet": [
           {
            "marker": {
             "colorbar": {
              "outlinewidth": 0,
              "ticks": ""
             }
            },
            "type": "scattercarpet"
           }
          ],
          "scattergeo": [
           {
            "marker": {
             "colorbar": {
              "outlinewidth": 0,
              "ticks": ""
             }
            },
            "type": "scattergeo"
           }
          ],
          "scattergl": [
           {
            "marker": {
             "colorbar": {
              "outlinewidth": 0,
              "ticks": ""
             }
            },
            "type": "scattergl"
           }
          ],
          "scattermapbox": [
           {
            "marker": {
             "colorbar": {
              "outlinewidth": 0,
              "ticks": ""
             }
            },
            "type": "scattermapbox"
           }
          ],
          "scatterpolar": [
           {
            "marker": {
             "colorbar": {
              "outlinewidth": 0,
              "ticks": ""
             }
            },
            "type": "scatterpolar"
           }
          ],
          "scatterpolargl": [
           {
            "marker": {
             "colorbar": {
              "outlinewidth": 0,
              "ticks": ""
             }
            },
            "type": "scatterpolargl"
           }
          ],
          "scatterternary": [
           {
            "marker": {
             "colorbar": {
              "outlinewidth": 0,
              "ticks": ""
             }
            },
            "type": "scatterternary"
           }
          ],
          "surface": [
           {
            "colorbar": {
             "outlinewidth": 0,
             "ticks": ""
            },
            "colorscale": [
             [
              0,
              "#0d0887"
             ],
             [
              0.1111111111111111,
              "#46039f"
             ],
             [
              0.2222222222222222,
              "#7201a8"
             ],
             [
              0.3333333333333333,
              "#9c179e"
             ],
             [
              0.4444444444444444,
              "#bd3786"
             ],
             [
              0.5555555555555556,
              "#d8576b"
             ],
             [
              0.6666666666666666,
              "#ed7953"
             ],
             [
              0.7777777777777778,
              "#fb9f3a"
             ],
             [
              0.8888888888888888,
              "#fdca26"
             ],
             [
              1,
              "#f0f921"
             ]
            ],
            "type": "surface"
           }
          ],
          "table": [
           {
            "cells": {
             "fill": {
              "color": "#EBF0F8"
             },
             "line": {
              "color": "white"
             }
            },
            "header": {
             "fill": {
              "color": "#C8D4E3"
             },
             "line": {
              "color": "white"
             }
            },
            "type": "table"
           }
          ]
         },
         "layout": {
          "annotationdefaults": {
           "arrowcolor": "#2a3f5f",
           "arrowhead": 0,
           "arrowwidth": 1
          },
          "autotypenumbers": "strict",
          "coloraxis": {
           "colorbar": {
            "outlinewidth": 0,
            "ticks": ""
           }
          },
          "colorscale": {
           "diverging": [
            [
             0,
             "#8e0152"
            ],
            [
             0.1,
             "#c51b7d"
            ],
            [
             0.2,
             "#de77ae"
            ],
            [
             0.3,
             "#f1b6da"
            ],
            [
             0.4,
             "#fde0ef"
            ],
            [
             0.5,
             "#f7f7f7"
            ],
            [
             0.6,
             "#e6f5d0"
            ],
            [
             0.7,
             "#b8e186"
            ],
            [
             0.8,
             "#7fbc41"
            ],
            [
             0.9,
             "#4d9221"
            ],
            [
             1,
             "#276419"
            ]
           ],
           "sequential": [
            [
             0,
             "#0d0887"
            ],
            [
             0.1111111111111111,
             "#46039f"
            ],
            [
             0.2222222222222222,
             "#7201a8"
            ],
            [
             0.3333333333333333,
             "#9c179e"
            ],
            [
             0.4444444444444444,
             "#bd3786"
            ],
            [
             0.5555555555555556,
             "#d8576b"
            ],
            [
             0.6666666666666666,
             "#ed7953"
            ],
            [
             0.7777777777777778,
             "#fb9f3a"
            ],
            [
             0.8888888888888888,
             "#fdca26"
            ],
            [
             1,
             "#f0f921"
            ]
           ],
           "sequentialminus": [
            [
             0,
             "#0d0887"
            ],
            [
             0.1111111111111111,
             "#46039f"
            ],
            [
             0.2222222222222222,
             "#7201a8"
            ],
            [
             0.3333333333333333,
             "#9c179e"
            ],
            [
             0.4444444444444444,
             "#bd3786"
            ],
            [
             0.5555555555555556,
             "#d8576b"
            ],
            [
             0.6666666666666666,
             "#ed7953"
            ],
            [
             0.7777777777777778,
             "#fb9f3a"
            ],
            [
             0.8888888888888888,
             "#fdca26"
            ],
            [
             1,
             "#f0f921"
            ]
           ]
          },
          "colorway": [
           "#636efa",
           "#EF553B",
           "#00cc96",
           "#ab63fa",
           "#FFA15A",
           "#19d3f3",
           "#FF6692",
           "#B6E880",
           "#FF97FF",
           "#FECB52"
          ],
          "font": {
           "color": "#2a3f5f"
          },
          "geo": {
           "bgcolor": "white",
           "lakecolor": "white",
           "landcolor": "#E5ECF6",
           "showlakes": true,
           "showland": true,
           "subunitcolor": "white"
          },
          "hoverlabel": {
           "align": "left"
          },
          "hovermode": "closest",
          "mapbox": {
           "style": "light"
          },
          "paper_bgcolor": "white",
          "plot_bgcolor": "#E5ECF6",
          "polar": {
           "angularaxis": {
            "gridcolor": "white",
            "linecolor": "white",
            "ticks": ""
           },
           "bgcolor": "#E5ECF6",
           "radialaxis": {
            "gridcolor": "white",
            "linecolor": "white",
            "ticks": ""
           }
          },
          "scene": {
           "xaxis": {
            "backgroundcolor": "#E5ECF6",
            "gridcolor": "white",
            "gridwidth": 2,
            "linecolor": "white",
            "showbackground": true,
            "ticks": "",
            "zerolinecolor": "white"
           },
           "yaxis": {
            "backgroundcolor": "#E5ECF6",
            "gridcolor": "white",
            "gridwidth": 2,
            "linecolor": "white",
            "showbackground": true,
            "ticks": "",
            "zerolinecolor": "white"
           },
           "zaxis": {
            "backgroundcolor": "#E5ECF6",
            "gridcolor": "white",
            "gridwidth": 2,
            "linecolor": "white",
            "showbackground": true,
            "ticks": "",
            "zerolinecolor": "white"
           }
          },
          "shapedefaults": {
           "line": {
            "color": "#2a3f5f"
           }
          },
          "ternary": {
           "aaxis": {
            "gridcolor": "white",
            "linecolor": "white",
            "ticks": ""
           },
           "baxis": {
            "gridcolor": "white",
            "linecolor": "white",
            "ticks": ""
           },
           "bgcolor": "#E5ECF6",
           "caxis": {
            "gridcolor": "white",
            "linecolor": "white",
            "ticks": ""
           }
          },
          "title": {
           "x": 0.05
          },
          "xaxis": {
           "automargin": true,
           "gridcolor": "white",
           "linecolor": "white",
           "ticks": "",
           "title": {
            "standoff": 15
           },
           "zerolinecolor": "white",
           "zerolinewidth": 2
          },
          "yaxis": {
           "automargin": true,
           "gridcolor": "white",
           "linecolor": "white",
           "ticks": "",
           "title": {
            "standoff": 15
           },
           "zerolinecolor": "white",
           "zerolinewidth": 2
          }
         }
        },
        "title": {
         "text": "Number of Coffee Batches by Country"
        },
        "width": 1100,
        "xaxis": {
         "anchor": "y",
         "categoryorder": "total descending",
         "domain": [
          0,
          1
         ],
         "title": {
          "text": "Country of Origin"
         }
        },
        "yaxis": {
         "anchor": "x",
         "domain": [
          0,
          1
         ],
         "title": {
          "text": "count"
         }
        }
       }
      }
     },
     "metadata": {},
     "output_type": "display_data"
    }
   ],
   "source": [
    "# Bar plot of country of origin\n",
    "country = px.histogram(coffee, x='country_of_origin', title='Number of Coffee Batches by Country',\n",
    "                       labels={'count':'Number of Batches', 'country_of_origin':'Country of Origin'}, \n",
    "                       width=1100, height=600, color_discrete_sequence=[px.colors.qualitative.Antique[6]],\n",
    "                       text_auto=True)\n",
    "\n",
    "country.update_layout({\n",
    "    'plot_bgcolor':'rgba(0, 0, 0, 0)',\n",
    "    'paper_bgcolor':'rgba(0, 0, 0, 0)'\n",
    "})\n",
    "\n",
    "country.update_layout(xaxis={'categoryorder':'total descending'})\n",
    "color.update_layout(yaxis_title='Number of Batches')\n",
    "\n",
    "country.show()"
   ]
  },
  {
   "cell_type": "code",
   "execution_count": 650,
   "metadata": {},
   "outputs": [
    {
     "data": {
      "application/vnd.plotly.v1+json": {
       "config": {
        "plotlyServerURL": "https://plot.ly"
       },
       "data": [
        {
         "alignmentgroup": "True",
         "bingroup": "x",
         "hovertemplate": "Top Varieties=%{x}<br>count=%{y}<extra></extra>",
         "legendgroup": "",
         "marker": {
          "color": "rgb(104, 133, 92)",
          "pattern": {
           "shape": ""
          }
         },
         "name": "",
         "offsetgroup": "",
         "orientation": "v",
         "showlegend": false,
         "texttemplate": "%{value}",
         "type": "histogram",
         "x": [
          "Gesha",
          "Java",
          "Gesha",
          "Gesha",
          "Gesha",
          "SL34",
          "Bourbon",
          "Ethiopian Heirlooms",
          "Gesha",
          "Gesha",
          "Gesha",
          "Caturra",
          "SL34",
          "Gesha",
          "Gesha",
          "Bourbon",
          "Gesha",
          "Typica",
          "Catimor",
          "SL34",
          "Gesha",
          "Gesha",
          "Gesha",
          "Typica",
          "Typica",
          "Typica",
          "Gesha",
          "Ethiopian Heirlooms",
          "Ethiopian Heirlooms",
          "Ethiopian Heirlooms",
          "Gesha",
          "Gesha",
          "SL28",
          "Gesha",
          "Typica",
          "Typica",
          "Gesha",
          "SL14",
          "Typica",
          "Gesha",
          "Caturra",
          "Catuai",
          "Caturra",
          "Typica",
          "Yellow Bourbon",
          "Catimor",
          "Gesha",
          "Bourbon",
          "SL34",
          "SL34",
          "Yellow Bourbon",
          "Catuai",
          "Yellow Bourbon",
          "Caturra",
          "Bourbon",
          "Caturra",
          "Typica",
          "Gesha",
          "Gesha",
          "SL34",
          "Catimor",
          "Gesha",
          "Catuai",
          "Ethiopian Heirlooms",
          "Typica",
          "Gesha",
          "Bourbon",
          "Catuai",
          "Ethiopian Heirlooms",
          "Pacamara",
          "Typica",
          "Bourbon",
          "Catuai",
          "Caturra",
          "Gesha",
          "Caturra",
          "Caturra",
          "Typica",
          "Bourbon",
          "Ethiopian Heirlooms",
          "Bourbon",
          "Caturra",
          "Caturra",
          "Gesha",
          "Bourbon",
          "Catimor",
          "Bourbon",
          "Ethiopian Heirlooms",
          "Caturra",
          "Typica",
          "Sarchimor",
          "SL34",
          "Parainema",
          "Typica",
          "Caturra",
          "SHG",
          "Caturra",
          "Bourbon",
          "Ethiopian Heirlooms",
          "Java",
          "SL14",
          "SL14",
          "Typica",
          "Typica",
          "Caturra",
          "Caturra",
          "SL34",
          "Typica",
          "Bourbon",
          "Mundo Novo",
          "Catuai",
          "Typica",
          "Catimor",
          "Catuai",
          "Catuai",
          "Caturra",
          "Typica",
          "Bourbon",
          "Gesha",
          "Catuai",
          "Catimor",
          "SHG",
          "SL28",
          "Caturra",
          "Caturra",
          "Catuai",
          "Caturra",
          "Parainema",
          "Bourbon",
          "Caturra",
          "Mundo Novo",
          "Maragogype",
          "Pacamara",
          "Catuai",
          "Catimor",
          "Bourbon",
          "Bourbon",
          "Caturra",
          "Typica",
          "Catuai",
          "Catimor",
          "Caturra",
          "Caturra",
          "Caturra",
          "Typica",
          "Catimor",
          "Typica",
          "Caturra",
          "Typica",
          "Java",
          "Catimor",
          "Bourbon",
          "Caturra",
          "Sarchimor",
          "Caturra",
          "Mundo Novo",
          "SHG",
          "Catimor",
          "Maragogype",
          "Mundo Novo"
         ],
         "xaxis": "x",
         "yaxis": "y"
        }
       ],
       "layout": {
        "barmode": "relative",
        "height": 600,
        "legend": {
         "tracegroupgap": 0
        },
        "paper_bgcolor": "rgba(0, 0, 0, 0)",
        "plot_bgcolor": "rgba(0, 0, 0, 0)",
        "template": {
         "data": {
          "bar": [
           {
            "error_x": {
             "color": "#2a3f5f"
            },
            "error_y": {
             "color": "#2a3f5f"
            },
            "marker": {
             "line": {
              "color": "#E5ECF6",
              "width": 0.5
             },
             "pattern": {
              "fillmode": "overlay",
              "size": 10,
              "solidity": 0.2
             }
            },
            "type": "bar"
           }
          ],
          "barpolar": [
           {
            "marker": {
             "line": {
              "color": "#E5ECF6",
              "width": 0.5
             },
             "pattern": {
              "fillmode": "overlay",
              "size": 10,
              "solidity": 0.2
             }
            },
            "type": "barpolar"
           }
          ],
          "carpet": [
           {
            "aaxis": {
             "endlinecolor": "#2a3f5f",
             "gridcolor": "white",
             "linecolor": "white",
             "minorgridcolor": "white",
             "startlinecolor": "#2a3f5f"
            },
            "baxis": {
             "endlinecolor": "#2a3f5f",
             "gridcolor": "white",
             "linecolor": "white",
             "minorgridcolor": "white",
             "startlinecolor": "#2a3f5f"
            },
            "type": "carpet"
           }
          ],
          "choropleth": [
           {
            "colorbar": {
             "outlinewidth": 0,
             "ticks": ""
            },
            "type": "choropleth"
           }
          ],
          "contour": [
           {
            "colorbar": {
             "outlinewidth": 0,
             "ticks": ""
            },
            "colorscale": [
             [
              0,
              "#0d0887"
             ],
             [
              0.1111111111111111,
              "#46039f"
             ],
             [
              0.2222222222222222,
              "#7201a8"
             ],
             [
              0.3333333333333333,
              "#9c179e"
             ],
             [
              0.4444444444444444,
              "#bd3786"
             ],
             [
              0.5555555555555556,
              "#d8576b"
             ],
             [
              0.6666666666666666,
              "#ed7953"
             ],
             [
              0.7777777777777778,
              "#fb9f3a"
             ],
             [
              0.8888888888888888,
              "#fdca26"
             ],
             [
              1,
              "#f0f921"
             ]
            ],
            "type": "contour"
           }
          ],
          "contourcarpet": [
           {
            "colorbar": {
             "outlinewidth": 0,
             "ticks": ""
            },
            "type": "contourcarpet"
           }
          ],
          "heatmap": [
           {
            "colorbar": {
             "outlinewidth": 0,
             "ticks": ""
            },
            "colorscale": [
             [
              0,
              "#0d0887"
             ],
             [
              0.1111111111111111,
              "#46039f"
             ],
             [
              0.2222222222222222,
              "#7201a8"
             ],
             [
              0.3333333333333333,
              "#9c179e"
             ],
             [
              0.4444444444444444,
              "#bd3786"
             ],
             [
              0.5555555555555556,
              "#d8576b"
             ],
             [
              0.6666666666666666,
              "#ed7953"
             ],
             [
              0.7777777777777778,
              "#fb9f3a"
             ],
             [
              0.8888888888888888,
              "#fdca26"
             ],
             [
              1,
              "#f0f921"
             ]
            ],
            "type": "heatmap"
           }
          ],
          "heatmapgl": [
           {
            "colorbar": {
             "outlinewidth": 0,
             "ticks": ""
            },
            "colorscale": [
             [
              0,
              "#0d0887"
             ],
             [
              0.1111111111111111,
              "#46039f"
             ],
             [
              0.2222222222222222,
              "#7201a8"
             ],
             [
              0.3333333333333333,
              "#9c179e"
             ],
             [
              0.4444444444444444,
              "#bd3786"
             ],
             [
              0.5555555555555556,
              "#d8576b"
             ],
             [
              0.6666666666666666,
              "#ed7953"
             ],
             [
              0.7777777777777778,
              "#fb9f3a"
             ],
             [
              0.8888888888888888,
              "#fdca26"
             ],
             [
              1,
              "#f0f921"
             ]
            ],
            "type": "heatmapgl"
           }
          ],
          "histogram": [
           {
            "marker": {
             "pattern": {
              "fillmode": "overlay",
              "size": 10,
              "solidity": 0.2
             }
            },
            "type": "histogram"
           }
          ],
          "histogram2d": [
           {
            "colorbar": {
             "outlinewidth": 0,
             "ticks": ""
            },
            "colorscale": [
             [
              0,
              "#0d0887"
             ],
             [
              0.1111111111111111,
              "#46039f"
             ],
             [
              0.2222222222222222,
              "#7201a8"
             ],
             [
              0.3333333333333333,
              "#9c179e"
             ],
             [
              0.4444444444444444,
              "#bd3786"
             ],
             [
              0.5555555555555556,
              "#d8576b"
             ],
             [
              0.6666666666666666,
              "#ed7953"
             ],
             [
              0.7777777777777778,
              "#fb9f3a"
             ],
             [
              0.8888888888888888,
              "#fdca26"
             ],
             [
              1,
              "#f0f921"
             ]
            ],
            "type": "histogram2d"
           }
          ],
          "histogram2dcontour": [
           {
            "colorbar": {
             "outlinewidth": 0,
             "ticks": ""
            },
            "colorscale": [
             [
              0,
              "#0d0887"
             ],
             [
              0.1111111111111111,
              "#46039f"
             ],
             [
              0.2222222222222222,
              "#7201a8"
             ],
             [
              0.3333333333333333,
              "#9c179e"
             ],
             [
              0.4444444444444444,
              "#bd3786"
             ],
             [
              0.5555555555555556,
              "#d8576b"
             ],
             [
              0.6666666666666666,
              "#ed7953"
             ],
             [
              0.7777777777777778,
              "#fb9f3a"
             ],
             [
              0.8888888888888888,
              "#fdca26"
             ],
             [
              1,
              "#f0f921"
             ]
            ],
            "type": "histogram2dcontour"
           }
          ],
          "mesh3d": [
           {
            "colorbar": {
             "outlinewidth": 0,
             "ticks": ""
            },
            "type": "mesh3d"
           }
          ],
          "parcoords": [
           {
            "line": {
             "colorbar": {
              "outlinewidth": 0,
              "ticks": ""
             }
            },
            "type": "parcoords"
           }
          ],
          "pie": [
           {
            "automargin": true,
            "type": "pie"
           }
          ],
          "scatter": [
           {
            "fillpattern": {
             "fillmode": "overlay",
             "size": 10,
             "solidity": 0.2
            },
            "type": "scatter"
           }
          ],
          "scatter3d": [
           {
            "line": {
             "colorbar": {
              "outlinewidth": 0,
              "ticks": ""
             }
            },
            "marker": {
             "colorbar": {
              "outlinewidth": 0,
              "ticks": ""
             }
            },
            "type": "scatter3d"
           }
          ],
          "scattercarpet": [
           {
            "marker": {
             "colorbar": {
              "outlinewidth": 0,
              "ticks": ""
             }
            },
            "type": "scattercarpet"
           }
          ],
          "scattergeo": [
           {
            "marker": {
             "colorbar": {
              "outlinewidth": 0,
              "ticks": ""
             }
            },
            "type": "scattergeo"
           }
          ],
          "scattergl": [
           {
            "marker": {
             "colorbar": {
              "outlinewidth": 0,
              "ticks": ""
             }
            },
            "type": "scattergl"
           }
          ],
          "scattermapbox": [
           {
            "marker": {
             "colorbar": {
              "outlinewidth": 0,
              "ticks": ""
             }
            },
            "type": "scattermapbox"
           }
          ],
          "scatterpolar": [
           {
            "marker": {
             "colorbar": {
              "outlinewidth": 0,
              "ticks": ""
             }
            },
            "type": "scatterpolar"
           }
          ],
          "scatterpolargl": [
           {
            "marker": {
             "colorbar": {
              "outlinewidth": 0,
              "ticks": ""
             }
            },
            "type": "scatterpolargl"
           }
          ],
          "scatterternary": [
           {
            "marker": {
             "colorbar": {
              "outlinewidth": 0,
              "ticks": ""
             }
            },
            "type": "scatterternary"
           }
          ],
          "surface": [
           {
            "colorbar": {
             "outlinewidth": 0,
             "ticks": ""
            },
            "colorscale": [
             [
              0,
              "#0d0887"
             ],
             [
              0.1111111111111111,
              "#46039f"
             ],
             [
              0.2222222222222222,
              "#7201a8"
             ],
             [
              0.3333333333333333,
              "#9c179e"
             ],
             [
              0.4444444444444444,
              "#bd3786"
             ],
             [
              0.5555555555555556,
              "#d8576b"
             ],
             [
              0.6666666666666666,
              "#ed7953"
             ],
             [
              0.7777777777777778,
              "#fb9f3a"
             ],
             [
              0.8888888888888888,
              "#fdca26"
             ],
             [
              1,
              "#f0f921"
             ]
            ],
            "type": "surface"
           }
          ],
          "table": [
           {
            "cells": {
             "fill": {
              "color": "#EBF0F8"
             },
             "line": {
              "color": "white"
             }
            },
            "header": {
             "fill": {
              "color": "#C8D4E3"
             },
             "line": {
              "color": "white"
             }
            },
            "type": "table"
           }
          ]
         },
         "layout": {
          "annotationdefaults": {
           "arrowcolor": "#2a3f5f",
           "arrowhead": 0,
           "arrowwidth": 1
          },
          "autotypenumbers": "strict",
          "coloraxis": {
           "colorbar": {
            "outlinewidth": 0,
            "ticks": ""
           }
          },
          "colorscale": {
           "diverging": [
            [
             0,
             "#8e0152"
            ],
            [
             0.1,
             "#c51b7d"
            ],
            [
             0.2,
             "#de77ae"
            ],
            [
             0.3,
             "#f1b6da"
            ],
            [
             0.4,
             "#fde0ef"
            ],
            [
             0.5,
             "#f7f7f7"
            ],
            [
             0.6,
             "#e6f5d0"
            ],
            [
             0.7,
             "#b8e186"
            ],
            [
             0.8,
             "#7fbc41"
            ],
            [
             0.9,
             "#4d9221"
            ],
            [
             1,
             "#276419"
            ]
           ],
           "sequential": [
            [
             0,
             "#0d0887"
            ],
            [
             0.1111111111111111,
             "#46039f"
            ],
            [
             0.2222222222222222,
             "#7201a8"
            ],
            [
             0.3333333333333333,
             "#9c179e"
            ],
            [
             0.4444444444444444,
             "#bd3786"
            ],
            [
             0.5555555555555556,
             "#d8576b"
            ],
            [
             0.6666666666666666,
             "#ed7953"
            ],
            [
             0.7777777777777778,
             "#fb9f3a"
            ],
            [
             0.8888888888888888,
             "#fdca26"
            ],
            [
             1,
             "#f0f921"
            ]
           ],
           "sequentialminus": [
            [
             0,
             "#0d0887"
            ],
            [
             0.1111111111111111,
             "#46039f"
            ],
            [
             0.2222222222222222,
             "#7201a8"
            ],
            [
             0.3333333333333333,
             "#9c179e"
            ],
            [
             0.4444444444444444,
             "#bd3786"
            ],
            [
             0.5555555555555556,
             "#d8576b"
            ],
            [
             0.6666666666666666,
             "#ed7953"
            ],
            [
             0.7777777777777778,
             "#fb9f3a"
            ],
            [
             0.8888888888888888,
             "#fdca26"
            ],
            [
             1,
             "#f0f921"
            ]
           ]
          },
          "colorway": [
           "#636efa",
           "#EF553B",
           "#00cc96",
           "#ab63fa",
           "#FFA15A",
           "#19d3f3",
           "#FF6692",
           "#B6E880",
           "#FF97FF",
           "#FECB52"
          ],
          "font": {
           "color": "#2a3f5f"
          },
          "geo": {
           "bgcolor": "white",
           "lakecolor": "white",
           "landcolor": "#E5ECF6",
           "showlakes": true,
           "showland": true,
           "subunitcolor": "white"
          },
          "hoverlabel": {
           "align": "left"
          },
          "hovermode": "closest",
          "mapbox": {
           "style": "light"
          },
          "paper_bgcolor": "white",
          "plot_bgcolor": "#E5ECF6",
          "polar": {
           "angularaxis": {
            "gridcolor": "white",
            "linecolor": "white",
            "ticks": ""
           },
           "bgcolor": "#E5ECF6",
           "radialaxis": {
            "gridcolor": "white",
            "linecolor": "white",
            "ticks": ""
           }
          },
          "scene": {
           "xaxis": {
            "backgroundcolor": "#E5ECF6",
            "gridcolor": "white",
            "gridwidth": 2,
            "linecolor": "white",
            "showbackground": true,
            "ticks": "",
            "zerolinecolor": "white"
           },
           "yaxis": {
            "backgroundcolor": "#E5ECF6",
            "gridcolor": "white",
            "gridwidth": 2,
            "linecolor": "white",
            "showbackground": true,
            "ticks": "",
            "zerolinecolor": "white"
           },
           "zaxis": {
            "backgroundcolor": "#E5ECF6",
            "gridcolor": "white",
            "gridwidth": 2,
            "linecolor": "white",
            "showbackground": true,
            "ticks": "",
            "zerolinecolor": "white"
           }
          },
          "shapedefaults": {
           "line": {
            "color": "#2a3f5f"
           }
          },
          "ternary": {
           "aaxis": {
            "gridcolor": "white",
            "linecolor": "white",
            "ticks": ""
           },
           "baxis": {
            "gridcolor": "white",
            "linecolor": "white",
            "ticks": ""
           },
           "bgcolor": "#E5ECF6",
           "caxis": {
            "gridcolor": "white",
            "linecolor": "white",
            "ticks": ""
           }
          },
          "title": {
           "x": 0.05
          },
          "xaxis": {
           "automargin": true,
           "gridcolor": "white",
           "linecolor": "white",
           "ticks": "",
           "title": {
            "standoff": 15
           },
           "zerolinecolor": "white",
           "zerolinewidth": 2
          },
          "yaxis": {
           "automargin": true,
           "gridcolor": "white",
           "linecolor": "white",
           "ticks": "",
           "title": {
            "standoff": 15
           },
           "zerolinecolor": "white",
           "zerolinewidth": 2
          }
         }
        },
        "title": {
         "text": "Number of Coffee Batches by Variety"
        },
        "width": 1000,
        "xaxis": {
         "anchor": "y",
         "categoryorder": "total descending",
         "domain": [
          0,
          1
         ],
         "title": {
          "text": "Top Varieties"
         }
        },
        "yaxis": {
         "anchor": "x",
         "domain": [
          0,
          1
         ],
         "title": {
          "text": "Number of Batches"
         }
        }
       }
      }
     },
     "metadata": {},
     "output_type": "display_data"
    }
   ],
   "source": [
    "# Bar plot of top varieties\n",
    "# Subset varieties that have at least two batches and known variety names\n",
    "top_varieties = coffee['variety'].value_counts().reset_index().rename(columns={'variety':'number_of_variety'})\n",
    "\n",
    "top_varieties = top_varieties[(top_varieties['number_of_variety'] >= 2) \n",
    "                              & (top_varieties['index'] != 'unknown')]['index']\n",
    "\n",
    "# Plot batches by variety for top varieties\n",
    "variety = px.histogram(coffee[coffee['variety'].isin(top_varieties)], x='variety', \n",
    "                       title='Number of Coffee Batches by Variety',\n",
    "                       labels={'variety':'Top Varieties'}, \n",
    "                       width=1000, height=600, color_discrete_sequence=[px.colors.qualitative.Antique[6]],\n",
    "                       text_auto=True)\n",
    "\n",
    "variety.update_layout({\n",
    "    'plot_bgcolor':'rgba(0, 0, 0, 0)',\n",
    "    'paper_bgcolor':'rgba(0, 0, 0, 0)'\n",
    "})\n",
    "\n",
    "variety.update_layout(xaxis={'categoryorder':'total descending'})\n",
    "variety.update_layout(yaxis_title='Number of Batches')\n",
    "\n",
    "variety.show()"
   ]
  },
  {
   "cell_type": "code",
   "execution_count": 651,
   "metadata": {},
   "outputs": [
    {
     "data": {
      "application/vnd.plotly.v1+json": {
       "config": {
        "plotlyServerURL": "https://plot.ly"
       },
       "data": [
        {
         "alignmentgroup": "True",
         "bingroup": "x",
         "hovertemplate": "Color=%{x}<br>count=%{y}<extra></extra>",
         "legendgroup": "",
         "marker": {
          "color": "rgb(104, 133, 92)",
          "pattern": {
           "shape": ""
          }
         },
         "name": "",
         "offsetgroup": "",
         "orientation": "v",
         "showlegend": false,
         "texttemplate": "%{value}",
         "type": "histogram",
         "x": [
          "green",
          "blue-green",
          "pale-yellow",
          "green",
          "yellow-green",
          "green",
          "green",
          "yellow-green",
          "green",
          "green",
          "green",
          "brown",
          "green",
          "yellow-green",
          "green",
          "green",
          "green",
          "yellow-green",
          "brown",
          "green",
          "pale-yellow",
          "green",
          "brown",
          "brown",
          "blue-green",
          "green",
          "green",
          "green",
          "blue-green",
          "green",
          "blue-green",
          "green",
          "green",
          "green",
          "yellow-green",
          "green",
          "blue-green",
          "green",
          "green",
          "blue-green",
          "brown",
          "green",
          "pale-yellow",
          "green",
          "green",
          "yellow-green",
          "green",
          "green",
          "green",
          "green",
          "brown",
          "blue-green",
          "green",
          "green",
          "green",
          "green",
          "green",
          "blue-green",
          "blue-green",
          "green",
          "yellow-green",
          "green",
          "green",
          "green",
          "green",
          "green",
          "green",
          "brown",
          "green",
          "blue-green",
          "green",
          "green",
          "green",
          "blue-green",
          "green",
          "yellow-green",
          "yellow-green",
          "brown",
          "green",
          "blue-green",
          "green",
          "blue-green",
          "green",
          "green",
          "green",
          "yellow-green",
          "green",
          "green",
          "green",
          "green",
          "green",
          "green",
          "green",
          "green",
          "green",
          "green",
          "pale-yellow",
          "green",
          "green",
          "green",
          "green",
          "green",
          "green",
          "green",
          "green",
          "blue-green",
          "pale-yellow",
          "green",
          "pale-yellow",
          "green",
          "green",
          "green",
          "green",
          "blue-green",
          "green",
          "green",
          "green",
          "green",
          "blue-green",
          "green",
          "green",
          "green",
          "green",
          "green",
          "green",
          "blue-green",
          "yellow-green",
          "green",
          "green",
          "green",
          "brown",
          "blue-green",
          "green",
          "green",
          "blue-green",
          "brown",
          "green",
          "green",
          "blue-green",
          "blue-green",
          "green",
          "green",
          "yellow-green",
          "green",
          "yellow-green",
          "green",
          "green",
          "pale-yellow",
          "green",
          "green",
          "yellow-green",
          "green",
          "green",
          "blue-green",
          "green",
          "green",
          "green",
          "blue-green",
          "blue-green",
          "pale-yellow",
          "green",
          "green",
          "blue-green",
          "blue-green",
          "green",
          "blue-green",
          "green",
          "green",
          "green",
          "green",
          "green",
          "blue-green",
          "green",
          "green",
          "green",
          "green",
          "blue-green",
          "blue-green",
          "green",
          "green",
          "green",
          "green",
          "pale-yellow",
          "yellow-green",
          "yellow-green",
          "green",
          "green",
          "yellow-green",
          "green",
          "green",
          "pale-yellow",
          "green",
          "green",
          "green",
          "blue-green",
          "green",
          "green",
          "green",
          "green",
          "blue-green",
          "green",
          "green",
          "green",
          "green",
          "blue-green",
          "green"
         ],
         "xaxis": "x",
         "yaxis": "y"
        }
       ],
       "layout": {
        "barmode": "relative",
        "height": 600,
        "legend": {
         "tracegroupgap": 0
        },
        "paper_bgcolor": "rgba(0, 0, 0, 0)",
        "plot_bgcolor": "rgba(0, 0, 0, 0)",
        "template": {
         "data": {
          "bar": [
           {
            "error_x": {
             "color": "#2a3f5f"
            },
            "error_y": {
             "color": "#2a3f5f"
            },
            "marker": {
             "line": {
              "color": "#E5ECF6",
              "width": 0.5
             },
             "pattern": {
              "fillmode": "overlay",
              "size": 10,
              "solidity": 0.2
             }
            },
            "type": "bar"
           }
          ],
          "barpolar": [
           {
            "marker": {
             "line": {
              "color": "#E5ECF6",
              "width": 0.5
             },
             "pattern": {
              "fillmode": "overlay",
              "size": 10,
              "solidity": 0.2
             }
            },
            "type": "barpolar"
           }
          ],
          "carpet": [
           {
            "aaxis": {
             "endlinecolor": "#2a3f5f",
             "gridcolor": "white",
             "linecolor": "white",
             "minorgridcolor": "white",
             "startlinecolor": "#2a3f5f"
            },
            "baxis": {
             "endlinecolor": "#2a3f5f",
             "gridcolor": "white",
             "linecolor": "white",
             "minorgridcolor": "white",
             "startlinecolor": "#2a3f5f"
            },
            "type": "carpet"
           }
          ],
          "choropleth": [
           {
            "colorbar": {
             "outlinewidth": 0,
             "ticks": ""
            },
            "type": "choropleth"
           }
          ],
          "contour": [
           {
            "colorbar": {
             "outlinewidth": 0,
             "ticks": ""
            },
            "colorscale": [
             [
              0,
              "#0d0887"
             ],
             [
              0.1111111111111111,
              "#46039f"
             ],
             [
              0.2222222222222222,
              "#7201a8"
             ],
             [
              0.3333333333333333,
              "#9c179e"
             ],
             [
              0.4444444444444444,
              "#bd3786"
             ],
             [
              0.5555555555555556,
              "#d8576b"
             ],
             [
              0.6666666666666666,
              "#ed7953"
             ],
             [
              0.7777777777777778,
              "#fb9f3a"
             ],
             [
              0.8888888888888888,
              "#fdca26"
             ],
             [
              1,
              "#f0f921"
             ]
            ],
            "type": "contour"
           }
          ],
          "contourcarpet": [
           {
            "colorbar": {
             "outlinewidth": 0,
             "ticks": ""
            },
            "type": "contourcarpet"
           }
          ],
          "heatmap": [
           {
            "colorbar": {
             "outlinewidth": 0,
             "ticks": ""
            },
            "colorscale": [
             [
              0,
              "#0d0887"
             ],
             [
              0.1111111111111111,
              "#46039f"
             ],
             [
              0.2222222222222222,
              "#7201a8"
             ],
             [
              0.3333333333333333,
              "#9c179e"
             ],
             [
              0.4444444444444444,
              "#bd3786"
             ],
             [
              0.5555555555555556,
              "#d8576b"
             ],
             [
              0.6666666666666666,
              "#ed7953"
             ],
             [
              0.7777777777777778,
              "#fb9f3a"
             ],
             [
              0.8888888888888888,
              "#fdca26"
             ],
             [
              1,
              "#f0f921"
             ]
            ],
            "type": "heatmap"
           }
          ],
          "heatmapgl": [
           {
            "colorbar": {
             "outlinewidth": 0,
             "ticks": ""
            },
            "colorscale": [
             [
              0,
              "#0d0887"
             ],
             [
              0.1111111111111111,
              "#46039f"
             ],
             [
              0.2222222222222222,
              "#7201a8"
             ],
             [
              0.3333333333333333,
              "#9c179e"
             ],
             [
              0.4444444444444444,
              "#bd3786"
             ],
             [
              0.5555555555555556,
              "#d8576b"
             ],
             [
              0.6666666666666666,
              "#ed7953"
             ],
             [
              0.7777777777777778,
              "#fb9f3a"
             ],
             [
              0.8888888888888888,
              "#fdca26"
             ],
             [
              1,
              "#f0f921"
             ]
            ],
            "type": "heatmapgl"
           }
          ],
          "histogram": [
           {
            "marker": {
             "pattern": {
              "fillmode": "overlay",
              "size": 10,
              "solidity": 0.2
             }
            },
            "type": "histogram"
           }
          ],
          "histogram2d": [
           {
            "colorbar": {
             "outlinewidth": 0,
             "ticks": ""
            },
            "colorscale": [
             [
              0,
              "#0d0887"
             ],
             [
              0.1111111111111111,
              "#46039f"
             ],
             [
              0.2222222222222222,
              "#7201a8"
             ],
             [
              0.3333333333333333,
              "#9c179e"
             ],
             [
              0.4444444444444444,
              "#bd3786"
             ],
             [
              0.5555555555555556,
              "#d8576b"
             ],
             [
              0.6666666666666666,
              "#ed7953"
             ],
             [
              0.7777777777777778,
              "#fb9f3a"
             ],
             [
              0.8888888888888888,
              "#fdca26"
             ],
             [
              1,
              "#f0f921"
             ]
            ],
            "type": "histogram2d"
           }
          ],
          "histogram2dcontour": [
           {
            "colorbar": {
             "outlinewidth": 0,
             "ticks": ""
            },
            "colorscale": [
             [
              0,
              "#0d0887"
             ],
             [
              0.1111111111111111,
              "#46039f"
             ],
             [
              0.2222222222222222,
              "#7201a8"
             ],
             [
              0.3333333333333333,
              "#9c179e"
             ],
             [
              0.4444444444444444,
              "#bd3786"
             ],
             [
              0.5555555555555556,
              "#d8576b"
             ],
             [
              0.6666666666666666,
              "#ed7953"
             ],
             [
              0.7777777777777778,
              "#fb9f3a"
             ],
             [
              0.8888888888888888,
              "#fdca26"
             ],
             [
              1,
              "#f0f921"
             ]
            ],
            "type": "histogram2dcontour"
           }
          ],
          "mesh3d": [
           {
            "colorbar": {
             "outlinewidth": 0,
             "ticks": ""
            },
            "type": "mesh3d"
           }
          ],
          "parcoords": [
           {
            "line": {
             "colorbar": {
              "outlinewidth": 0,
              "ticks": ""
             }
            },
            "type": "parcoords"
           }
          ],
          "pie": [
           {
            "automargin": true,
            "type": "pie"
           }
          ],
          "scatter": [
           {
            "fillpattern": {
             "fillmode": "overlay",
             "size": 10,
             "solidity": 0.2
            },
            "type": "scatter"
           }
          ],
          "scatter3d": [
           {
            "line": {
             "colorbar": {
              "outlinewidth": 0,
              "ticks": ""
             }
            },
            "marker": {
             "colorbar": {
              "outlinewidth": 0,
              "ticks": ""
             }
            },
            "type": "scatter3d"
           }
          ],
          "scattercarpet": [
           {
            "marker": {
             "colorbar": {
              "outlinewidth": 0,
              "ticks": ""
             }
            },
            "type": "scattercarpet"
           }
          ],
          "scattergeo": [
           {
            "marker": {
             "colorbar": {
              "outlinewidth": 0,
              "ticks": ""
             }
            },
            "type": "scattergeo"
           }
          ],
          "scattergl": [
           {
            "marker": {
             "colorbar": {
              "outlinewidth": 0,
              "ticks": ""
             }
            },
            "type": "scattergl"
           }
          ],
          "scattermapbox": [
           {
            "marker": {
             "colorbar": {
              "outlinewidth": 0,
              "ticks": ""
             }
            },
            "type": "scattermapbox"
           }
          ],
          "scatterpolar": [
           {
            "marker": {
             "colorbar": {
              "outlinewidth": 0,
              "ticks": ""
             }
            },
            "type": "scatterpolar"
           }
          ],
          "scatterpolargl": [
           {
            "marker": {
             "colorbar": {
              "outlinewidth": 0,
              "ticks": ""
             }
            },
            "type": "scatterpolargl"
           }
          ],
          "scatterternary": [
           {
            "marker": {
             "colorbar": {
              "outlinewidth": 0,
              "ticks": ""
             }
            },
            "type": "scatterternary"
           }
          ],
          "surface": [
           {
            "colorbar": {
             "outlinewidth": 0,
             "ticks": ""
            },
            "colorscale": [
             [
              0,
              "#0d0887"
             ],
             [
              0.1111111111111111,
              "#46039f"
             ],
             [
              0.2222222222222222,
              "#7201a8"
             ],
             [
              0.3333333333333333,
              "#9c179e"
             ],
             [
              0.4444444444444444,
              "#bd3786"
             ],
             [
              0.5555555555555556,
              "#d8576b"
             ],
             [
              0.6666666666666666,
              "#ed7953"
             ],
             [
              0.7777777777777778,
              "#fb9f3a"
             ],
             [
              0.8888888888888888,
              "#fdca26"
             ],
             [
              1,
              "#f0f921"
             ]
            ],
            "type": "surface"
           }
          ],
          "table": [
           {
            "cells": {
             "fill": {
              "color": "#EBF0F8"
             },
             "line": {
              "color": "white"
             }
            },
            "header": {
             "fill": {
              "color": "#C8D4E3"
             },
             "line": {
              "color": "white"
             }
            },
            "type": "table"
           }
          ]
         },
         "layout": {
          "annotationdefaults": {
           "arrowcolor": "#2a3f5f",
           "arrowhead": 0,
           "arrowwidth": 1
          },
          "autotypenumbers": "strict",
          "coloraxis": {
           "colorbar": {
            "outlinewidth": 0,
            "ticks": ""
           }
          },
          "colorscale": {
           "diverging": [
            [
             0,
             "#8e0152"
            ],
            [
             0.1,
             "#c51b7d"
            ],
            [
             0.2,
             "#de77ae"
            ],
            [
             0.3,
             "#f1b6da"
            ],
            [
             0.4,
             "#fde0ef"
            ],
            [
             0.5,
             "#f7f7f7"
            ],
            [
             0.6,
             "#e6f5d0"
            ],
            [
             0.7,
             "#b8e186"
            ],
            [
             0.8,
             "#7fbc41"
            ],
            [
             0.9,
             "#4d9221"
            ],
            [
             1,
             "#276419"
            ]
           ],
           "sequential": [
            [
             0,
             "#0d0887"
            ],
            [
             0.1111111111111111,
             "#46039f"
            ],
            [
             0.2222222222222222,
             "#7201a8"
            ],
            [
             0.3333333333333333,
             "#9c179e"
            ],
            [
             0.4444444444444444,
             "#bd3786"
            ],
            [
             0.5555555555555556,
             "#d8576b"
            ],
            [
             0.6666666666666666,
             "#ed7953"
            ],
            [
             0.7777777777777778,
             "#fb9f3a"
            ],
            [
             0.8888888888888888,
             "#fdca26"
            ],
            [
             1,
             "#f0f921"
            ]
           ],
           "sequentialminus": [
            [
             0,
             "#0d0887"
            ],
            [
             0.1111111111111111,
             "#46039f"
            ],
            [
             0.2222222222222222,
             "#7201a8"
            ],
            [
             0.3333333333333333,
             "#9c179e"
            ],
            [
             0.4444444444444444,
             "#bd3786"
            ],
            [
             0.5555555555555556,
             "#d8576b"
            ],
            [
             0.6666666666666666,
             "#ed7953"
            ],
            [
             0.7777777777777778,
             "#fb9f3a"
            ],
            [
             0.8888888888888888,
             "#fdca26"
            ],
            [
             1,
             "#f0f921"
            ]
           ]
          },
          "colorway": [
           "#636efa",
           "#EF553B",
           "#00cc96",
           "#ab63fa",
           "#FFA15A",
           "#19d3f3",
           "#FF6692",
           "#B6E880",
           "#FF97FF",
           "#FECB52"
          ],
          "font": {
           "color": "#2a3f5f"
          },
          "geo": {
           "bgcolor": "white",
           "lakecolor": "white",
           "landcolor": "#E5ECF6",
           "showlakes": true,
           "showland": true,
           "subunitcolor": "white"
          },
          "hoverlabel": {
           "align": "left"
          },
          "hovermode": "closest",
          "mapbox": {
           "style": "light"
          },
          "paper_bgcolor": "white",
          "plot_bgcolor": "#E5ECF6",
          "polar": {
           "angularaxis": {
            "gridcolor": "white",
            "linecolor": "white",
            "ticks": ""
           },
           "bgcolor": "#E5ECF6",
           "radialaxis": {
            "gridcolor": "white",
            "linecolor": "white",
            "ticks": ""
           }
          },
          "scene": {
           "xaxis": {
            "backgroundcolor": "#E5ECF6",
            "gridcolor": "white",
            "gridwidth": 2,
            "linecolor": "white",
            "showbackground": true,
            "ticks": "",
            "zerolinecolor": "white"
           },
           "yaxis": {
            "backgroundcolor": "#E5ECF6",
            "gridcolor": "white",
            "gridwidth": 2,
            "linecolor": "white",
            "showbackground": true,
            "ticks": "",
            "zerolinecolor": "white"
           },
           "zaxis": {
            "backgroundcolor": "#E5ECF6",
            "gridcolor": "white",
            "gridwidth": 2,
            "linecolor": "white",
            "showbackground": true,
            "ticks": "",
            "zerolinecolor": "white"
           }
          },
          "shapedefaults": {
           "line": {
            "color": "#2a3f5f"
           }
          },
          "ternary": {
           "aaxis": {
            "gridcolor": "white",
            "linecolor": "white",
            "ticks": ""
           },
           "baxis": {
            "gridcolor": "white",
            "linecolor": "white",
            "ticks": ""
           },
           "bgcolor": "#E5ECF6",
           "caxis": {
            "gridcolor": "white",
            "linecolor": "white",
            "ticks": ""
           }
          },
          "title": {
           "x": 0.05
          },
          "xaxis": {
           "automargin": true,
           "gridcolor": "white",
           "linecolor": "white",
           "ticks": "",
           "title": {
            "standoff": 15
           },
           "zerolinecolor": "white",
           "zerolinewidth": 2
          },
          "yaxis": {
           "automargin": true,
           "gridcolor": "white",
           "linecolor": "white",
           "ticks": "",
           "title": {
            "standoff": 15
           },
           "zerolinecolor": "white",
           "zerolinewidth": 2
          }
         }
        },
        "title": {
         "text": "Number of Coffee Batches by Color"
        },
        "width": 1000,
        "xaxis": {
         "anchor": "y",
         "categoryorder": "total descending",
         "domain": [
          0,
          1
         ],
         "title": {
          "text": "Color"
         }
        },
        "yaxis": {
         "anchor": "x",
         "domain": [
          0,
          1
         ],
         "title": {
          "text": "Number of Batches"
         }
        }
       }
      }
     },
     "metadata": {},
     "output_type": "display_data"
    }
   ],
   "source": [
    "# Bar plot of color\n",
    "color = px.histogram(coffee, x='color', title='Number of Coffee Batches by Color',\n",
    "                     labels={'color':'Color'}, width=1000, height=600, \n",
    "                     color_discrete_sequence=[px.colors.qualitative.Antique[6]], text_auto=True)\n",
    "\n",
    "color.update_layout({\n",
    "    'plot_bgcolor':'rgba(0, 0, 0, 0)',\n",
    "    'paper_bgcolor':'rgba(0, 0, 0, 0)'\n",
    "})\n",
    "\n",
    "color.update_layout(xaxis={'categoryorder':'total descending'})\n",
    "color.update_layout(yaxis_title='Number of Batches')\n",
    "\n",
    "color.show()"
   ]
  },
  {
   "cell_type": "code",
   "execution_count": 654,
   "metadata": {},
   "outputs": [
    {
     "data": {
      "application/vnd.plotly.v1+json": {
       "config": {
        "plotlyServerURL": "https://plot.ly"
       },
       "data": [
        {
         "alignmentgroup": "True",
         "bingroup": "x",
         "hovertemplate": "Altitude=%{x}<br>count=%{y}<extra></extra>",
         "legendgroup": "",
         "marker": {
          "color": "rgb(104, 133, 92)",
          "pattern": {
           "shape": ""
          }
         },
         "name": "",
         "offsetgroup": "",
         "orientation": "v",
         "showlegend": false,
         "type": "histogram",
         "x": [
          1815,
          1200,
          1300,
          1900,
          1975,
          1668,
          1250,
          1200,
          1250,
          1550,
          2000,
          2000,
          1250,
          1950,
          1850,
          1100,
          2000,
          1300,
          1200,
          1585,
          1900,
          850,
          1600,
          1350,
          1250,
          1250,
          1300,
          1200,
          1060,
          600,
          200,
          200,
          668,
          1950,
          2250,
          1700,
          1200,
          650,
          1750,
          400,
          1000,
          800,
          1905,
          150,
          800,
          1600,
          4700,
          1600,
          375,
          230,
          1200,
          1750,
          1654,
          1300,
          1400,
          1100,
          1200,
          1200,
          1600,
          4895,
          1850,
          250,
          700,
          1350,
          1250,
          1450,
          650,
          1900,
          520,
          1368,
          1943,
          400,
          850,
          1350,
          1300,
          2361,
          1500,
          2100,
          1300,
          1600,
          1500,
          1368,
          1600,
          150,
          800,
          1550,
          1550,
          1800,
          1675,
          1800,
          1550,
          1550,
          1850,
          1900,
          1600,
          1350,
          1411,
          1400,
          5272.5,
          2000,
          1700,
          500,
          1800,
          1200,
          1250,
          1400,
          300,
          1470,
          325,
          275,
          1600,
          1400,
          1700,
          1390,
          1700,
          1450,
          1650,
          1100,
          1905,
          250,
          1302.5,
          300,
          1100,
          1850,
          750,
          1400,
          1550,
          950,
          1150,
          1390,
          1600,
          1400,
          250,
          340,
          1250,
          1368,
          1450,
          1650,
          275,
          1350,
          1350,
          1200,
          1280,
          1400,
          900,
          1200,
          1450,
          1700,
          1390,
          1200,
          1450,
          165,
          465,
          1350,
          1200,
          1200,
          1100,
          640,
          1340,
          1368,
          139,
          1275,
          1040,
          1200,
          1200,
          140,
          1600,
          1200,
          1725,
          1368,
          600,
          460,
          500,
          1000,
          1450,
          1350,
          1600,
          1400,
          300,
          5400,
          1000,
          950,
          1574,
          1200,
          1200,
          300,
          435,
          1400,
          1400,
          700,
          1550,
          1200,
          1400,
          1100,
          1000,
          1600,
          1600,
          1300,
          1200,
          950,
          1200,
          1300,
          1200,
          975
         ],
         "xaxis": "x",
         "yaxis": "y"
        }
       ],
       "layout": {
        "barmode": "relative",
        "height": 600,
        "legend": {
         "tracegroupgap": 0
        },
        "paper_bgcolor": "rgba(0, 0, 0, 0)",
        "plot_bgcolor": "rgba(0, 0, 0, 0)",
        "template": {
         "data": {
          "bar": [
           {
            "error_x": {
             "color": "#2a3f5f"
            },
            "error_y": {
             "color": "#2a3f5f"
            },
            "marker": {
             "line": {
              "color": "#E5ECF6",
              "width": 0.5
             },
             "pattern": {
              "fillmode": "overlay",
              "size": 10,
              "solidity": 0.2
             }
            },
            "type": "bar"
           }
          ],
          "barpolar": [
           {
            "marker": {
             "line": {
              "color": "#E5ECF6",
              "width": 0.5
             },
             "pattern": {
              "fillmode": "overlay",
              "size": 10,
              "solidity": 0.2
             }
            },
            "type": "barpolar"
           }
          ],
          "carpet": [
           {
            "aaxis": {
             "endlinecolor": "#2a3f5f",
             "gridcolor": "white",
             "linecolor": "white",
             "minorgridcolor": "white",
             "startlinecolor": "#2a3f5f"
            },
            "baxis": {
             "endlinecolor": "#2a3f5f",
             "gridcolor": "white",
             "linecolor": "white",
             "minorgridcolor": "white",
             "startlinecolor": "#2a3f5f"
            },
            "type": "carpet"
           }
          ],
          "choropleth": [
           {
            "colorbar": {
             "outlinewidth": 0,
             "ticks": ""
            },
            "type": "choropleth"
           }
          ],
          "contour": [
           {
            "colorbar": {
             "outlinewidth": 0,
             "ticks": ""
            },
            "colorscale": [
             [
              0,
              "#0d0887"
             ],
             [
              0.1111111111111111,
              "#46039f"
             ],
             [
              0.2222222222222222,
              "#7201a8"
             ],
             [
              0.3333333333333333,
              "#9c179e"
             ],
             [
              0.4444444444444444,
              "#bd3786"
             ],
             [
              0.5555555555555556,
              "#d8576b"
             ],
             [
              0.6666666666666666,
              "#ed7953"
             ],
             [
              0.7777777777777778,
              "#fb9f3a"
             ],
             [
              0.8888888888888888,
              "#fdca26"
             ],
             [
              1,
              "#f0f921"
             ]
            ],
            "type": "contour"
           }
          ],
          "contourcarpet": [
           {
            "colorbar": {
             "outlinewidth": 0,
             "ticks": ""
            },
            "type": "contourcarpet"
           }
          ],
          "heatmap": [
           {
            "colorbar": {
             "outlinewidth": 0,
             "ticks": ""
            },
            "colorscale": [
             [
              0,
              "#0d0887"
             ],
             [
              0.1111111111111111,
              "#46039f"
             ],
             [
              0.2222222222222222,
              "#7201a8"
             ],
             [
              0.3333333333333333,
              "#9c179e"
             ],
             [
              0.4444444444444444,
              "#bd3786"
             ],
             [
              0.5555555555555556,
              "#d8576b"
             ],
             [
              0.6666666666666666,
              "#ed7953"
             ],
             [
              0.7777777777777778,
              "#fb9f3a"
             ],
             [
              0.8888888888888888,
              "#fdca26"
             ],
             [
              1,
              "#f0f921"
             ]
            ],
            "type": "heatmap"
           }
          ],
          "heatmapgl": [
           {
            "colorbar": {
             "outlinewidth": 0,
             "ticks": ""
            },
            "colorscale": [
             [
              0,
              "#0d0887"
             ],
             [
              0.1111111111111111,
              "#46039f"
             ],
             [
              0.2222222222222222,
              "#7201a8"
             ],
             [
              0.3333333333333333,
              "#9c179e"
             ],
             [
              0.4444444444444444,
              "#bd3786"
             ],
             [
              0.5555555555555556,
              "#d8576b"
             ],
             [
              0.6666666666666666,
              "#ed7953"
             ],
             [
              0.7777777777777778,
              "#fb9f3a"
             ],
             [
              0.8888888888888888,
              "#fdca26"
             ],
             [
              1,
              "#f0f921"
             ]
            ],
            "type": "heatmapgl"
           }
          ],
          "histogram": [
           {
            "marker": {
             "pattern": {
              "fillmode": "overlay",
              "size": 10,
              "solidity": 0.2
             }
            },
            "type": "histogram"
           }
          ],
          "histogram2d": [
           {
            "colorbar": {
             "outlinewidth": 0,
             "ticks": ""
            },
            "colorscale": [
             [
              0,
              "#0d0887"
             ],
             [
              0.1111111111111111,
              "#46039f"
             ],
             [
              0.2222222222222222,
              "#7201a8"
             ],
             [
              0.3333333333333333,
              "#9c179e"
             ],
             [
              0.4444444444444444,
              "#bd3786"
             ],
             [
              0.5555555555555556,
              "#d8576b"
             ],
             [
              0.6666666666666666,
              "#ed7953"
             ],
             [
              0.7777777777777778,
              "#fb9f3a"
             ],
             [
              0.8888888888888888,
              "#fdca26"
             ],
             [
              1,
              "#f0f921"
             ]
            ],
            "type": "histogram2d"
           }
          ],
          "histogram2dcontour": [
           {
            "colorbar": {
             "outlinewidth": 0,
             "ticks": ""
            },
            "colorscale": [
             [
              0,
              "#0d0887"
             ],
             [
              0.1111111111111111,
              "#46039f"
             ],
             [
              0.2222222222222222,
              "#7201a8"
             ],
             [
              0.3333333333333333,
              "#9c179e"
             ],
             [
              0.4444444444444444,
              "#bd3786"
             ],
             [
              0.5555555555555556,
              "#d8576b"
             ],
             [
              0.6666666666666666,
              "#ed7953"
             ],
             [
              0.7777777777777778,
              "#fb9f3a"
             ],
             [
              0.8888888888888888,
              "#fdca26"
             ],
             [
              1,
              "#f0f921"
             ]
            ],
            "type": "histogram2dcontour"
           }
          ],
          "mesh3d": [
           {
            "colorbar": {
             "outlinewidth": 0,
             "ticks": ""
            },
            "type": "mesh3d"
           }
          ],
          "parcoords": [
           {
            "line": {
             "colorbar": {
              "outlinewidth": 0,
              "ticks": ""
             }
            },
            "type": "parcoords"
           }
          ],
          "pie": [
           {
            "automargin": true,
            "type": "pie"
           }
          ],
          "scatter": [
           {
            "fillpattern": {
             "fillmode": "overlay",
             "size": 10,
             "solidity": 0.2
            },
            "type": "scatter"
           }
          ],
          "scatter3d": [
           {
            "line": {
             "colorbar": {
              "outlinewidth": 0,
              "ticks": ""
             }
            },
            "marker": {
             "colorbar": {
              "outlinewidth": 0,
              "ticks": ""
             }
            },
            "type": "scatter3d"
           }
          ],
          "scattercarpet": [
           {
            "marker": {
             "colorbar": {
              "outlinewidth": 0,
              "ticks": ""
             }
            },
            "type": "scattercarpet"
           }
          ],
          "scattergeo": [
           {
            "marker": {
             "colorbar": {
              "outlinewidth": 0,
              "ticks": ""
             }
            },
            "type": "scattergeo"
           }
          ],
          "scattergl": [
           {
            "marker": {
             "colorbar": {
              "outlinewidth": 0,
              "ticks": ""
             }
            },
            "type": "scattergl"
           }
          ],
          "scattermapbox": [
           {
            "marker": {
             "colorbar": {
              "outlinewidth": 0,
              "ticks": ""
             }
            },
            "type": "scattermapbox"
           }
          ],
          "scatterpolar": [
           {
            "marker": {
             "colorbar": {
              "outlinewidth": 0,
              "ticks": ""
             }
            },
            "type": "scatterpolar"
           }
          ],
          "scatterpolargl": [
           {
            "marker": {
             "colorbar": {
              "outlinewidth": 0,
              "ticks": ""
             }
            },
            "type": "scatterpolargl"
           }
          ],
          "scatterternary": [
           {
            "marker": {
             "colorbar": {
              "outlinewidth": 0,
              "ticks": ""
             }
            },
            "type": "scatterternary"
           }
          ],
          "surface": [
           {
            "colorbar": {
             "outlinewidth": 0,
             "ticks": ""
            },
            "colorscale": [
             [
              0,
              "#0d0887"
             ],
             [
              0.1111111111111111,
              "#46039f"
             ],
             [
              0.2222222222222222,
              "#7201a8"
             ],
             [
              0.3333333333333333,
              "#9c179e"
             ],
             [
              0.4444444444444444,
              "#bd3786"
             ],
             [
              0.5555555555555556,
              "#d8576b"
             ],
             [
              0.6666666666666666,
              "#ed7953"
             ],
             [
              0.7777777777777778,
              "#fb9f3a"
             ],
             [
              0.8888888888888888,
              "#fdca26"
             ],
             [
              1,
              "#f0f921"
             ]
            ],
            "type": "surface"
           }
          ],
          "table": [
           {
            "cells": {
             "fill": {
              "color": "#EBF0F8"
             },
             "line": {
              "color": "white"
             }
            },
            "header": {
             "fill": {
              "color": "#C8D4E3"
             },
             "line": {
              "color": "white"
             }
            },
            "type": "table"
           }
          ]
         },
         "layout": {
          "annotationdefaults": {
           "arrowcolor": "#2a3f5f",
           "arrowhead": 0,
           "arrowwidth": 1
          },
          "autotypenumbers": "strict",
          "coloraxis": {
           "colorbar": {
            "outlinewidth": 0,
            "ticks": ""
           }
          },
          "colorscale": {
           "diverging": [
            [
             0,
             "#8e0152"
            ],
            [
             0.1,
             "#c51b7d"
            ],
            [
             0.2,
             "#de77ae"
            ],
            [
             0.3,
             "#f1b6da"
            ],
            [
             0.4,
             "#fde0ef"
            ],
            [
             0.5,
             "#f7f7f7"
            ],
            [
             0.6,
             "#e6f5d0"
            ],
            [
             0.7,
             "#b8e186"
            ],
            [
             0.8,
             "#7fbc41"
            ],
            [
             0.9,
             "#4d9221"
            ],
            [
             1,
             "#276419"
            ]
           ],
           "sequential": [
            [
             0,
             "#0d0887"
            ],
            [
             0.1111111111111111,
             "#46039f"
            ],
            [
             0.2222222222222222,
             "#7201a8"
            ],
            [
             0.3333333333333333,
             "#9c179e"
            ],
            [
             0.4444444444444444,
             "#bd3786"
            ],
            [
             0.5555555555555556,
             "#d8576b"
            ],
            [
             0.6666666666666666,
             "#ed7953"
            ],
            [
             0.7777777777777778,
             "#fb9f3a"
            ],
            [
             0.8888888888888888,
             "#fdca26"
            ],
            [
             1,
             "#f0f921"
            ]
           ],
           "sequentialminus": [
            [
             0,
             "#0d0887"
            ],
            [
             0.1111111111111111,
             "#46039f"
            ],
            [
             0.2222222222222222,
             "#7201a8"
            ],
            [
             0.3333333333333333,
             "#9c179e"
            ],
            [
             0.4444444444444444,
             "#bd3786"
            ],
            [
             0.5555555555555556,
             "#d8576b"
            ],
            [
             0.6666666666666666,
             "#ed7953"
            ],
            [
             0.7777777777777778,
             "#fb9f3a"
            ],
            [
             0.8888888888888888,
             "#fdca26"
            ],
            [
             1,
             "#f0f921"
            ]
           ]
          },
          "colorway": [
           "#636efa",
           "#EF553B",
           "#00cc96",
           "#ab63fa",
           "#FFA15A",
           "#19d3f3",
           "#FF6692",
           "#B6E880",
           "#FF97FF",
           "#FECB52"
          ],
          "font": {
           "color": "#2a3f5f"
          },
          "geo": {
           "bgcolor": "white",
           "lakecolor": "white",
           "landcolor": "#E5ECF6",
           "showlakes": true,
           "showland": true,
           "subunitcolor": "white"
          },
          "hoverlabel": {
           "align": "left"
          },
          "hovermode": "closest",
          "mapbox": {
           "style": "light"
          },
          "paper_bgcolor": "white",
          "plot_bgcolor": "#E5ECF6",
          "polar": {
           "angularaxis": {
            "gridcolor": "white",
            "linecolor": "white",
            "ticks": ""
           },
           "bgcolor": "#E5ECF6",
           "radialaxis": {
            "gridcolor": "white",
            "linecolor": "white",
            "ticks": ""
           }
          },
          "scene": {
           "xaxis": {
            "backgroundcolor": "#E5ECF6",
            "gridcolor": "white",
            "gridwidth": 2,
            "linecolor": "white",
            "showbackground": true,
            "ticks": "",
            "zerolinecolor": "white"
           },
           "yaxis": {
            "backgroundcolor": "#E5ECF6",
            "gridcolor": "white",
            "gridwidth": 2,
            "linecolor": "white",
            "showbackground": true,
            "ticks": "",
            "zerolinecolor": "white"
           },
           "zaxis": {
            "backgroundcolor": "#E5ECF6",
            "gridcolor": "white",
            "gridwidth": 2,
            "linecolor": "white",
            "showbackground": true,
            "ticks": "",
            "zerolinecolor": "white"
           }
          },
          "shapedefaults": {
           "line": {
            "color": "#2a3f5f"
           }
          },
          "ternary": {
           "aaxis": {
            "gridcolor": "white",
            "linecolor": "white",
            "ticks": ""
           },
           "baxis": {
            "gridcolor": "white",
            "linecolor": "white",
            "ticks": ""
           },
           "bgcolor": "#E5ECF6",
           "caxis": {
            "gridcolor": "white",
            "linecolor": "white",
            "ticks": ""
           }
          },
          "title": {
           "x": 0.05
          },
          "xaxis": {
           "automargin": true,
           "gridcolor": "white",
           "linecolor": "white",
           "ticks": "",
           "title": {
            "standoff": 15
           },
           "zerolinecolor": "white",
           "zerolinewidth": 2
          },
          "yaxis": {
           "automargin": true,
           "gridcolor": "white",
           "linecolor": "white",
           "ticks": "",
           "title": {
            "standoff": 15
           },
           "zerolinecolor": "white",
           "zerolinewidth": 2
          }
         }
        },
        "title": {
         "text": "Number of Coffee Batches by Altitude"
        },
        "width": 1000,
        "xaxis": {
         "anchor": "y",
         "domain": [
          0,
          1
         ],
         "title": {
          "text": "Altitude"
         }
        },
        "yaxis": {
         "anchor": "x",
         "domain": [
          0,
          1
         ],
         "title": {
          "text": "Number of Batches"
         }
        }
       }
      }
     },
     "metadata": {},
     "output_type": "display_data"
    }
   ],
   "source": [
    "# Plot histogram for altitude\n",
    "alt = px.histogram(coffee, x='altitude_mean', title='Number of Coffee Batches by Altitude',\n",
    "                     labels={'altitude_mean':'Altitude'}, width=1000, height=600,\n",
    "                     color_discrete_sequence=[px.colors.qualitative.Antique[6]],)\n",
    "\n",
    "alt.update_layout({\n",
    "    'plot_bgcolor':'rgba(0, 0, 0, 0)',\n",
    "    'paper_bgcolor':'rgba(0, 0, 0, 0)'\n",
    "})\n",
    "\n",
    "alt.update_layout(yaxis_title='Number of Batches')\n",
    "\n",
    "alt.show()"
   ]
  },
  {
   "cell_type": "code",
   "execution_count": 655,
   "metadata": {},
   "outputs": [],
   "source": [
    "# Remove observations with altitude greater than 4000 \n",
    "coffee = coffee[coffee['altitude_mean'] < 4000]"
   ]
  },
  {
   "cell_type": "code",
   "execution_count": 711,
   "metadata": {},
   "outputs": [
    {
     "data": {
      "image/png": "[encoded data removed]",
      "text/plain": [
       "<Figure size 1100x900 with 9 Axes>"
      ]
     },
     "metadata": {},
     "output_type": "display_data"
    },
    {
     "data": {
      "image/png": "[encoded data removed]",
      "text/plain": [
       "<Figure size 1100x900 with 9 Axes>"
      ]
     },
     "metadata": {},
     "output_type": "display_data"
    }
   ],
   "source": [
    "# Plot quick histograms for each quality variable\n",
    "for i in range(19, 32, 9):\n",
    "    coffee.iloc[:, i:i+9].hist(figsize=(11, 9), color='darkolivegreen', grid=False)\n",
    "    plt.tight_layout    \n",
    "    plt.show()"
   ]
  },
  {
   "attachments": {},
   "cell_type": "markdown",
   "metadata": {},
   "source": [
    "In viewing the initial histograms of each variable, uniformity, clean cup, sweetness, defects, and category one defects all have very little spread. All cups appear to have scored on the extreme ends of the scales for these variables, and for this reason, these variables will not be further analyzed. Variables that are fairly normally distributed and will be further visualized are aroma, flavor, aftertaste, acidity, body, balance, overall, total_cup_ponts, and moisture percentage. Category two defects is left-skewed, but given its reasonable variation, will be left in the analysis."
   ]
  },
  {
   "cell_type": "code",
   "execution_count": 657,
   "metadata": {},
   "outputs": [],
   "source": [
    "# Remove observation with moisture percentage less than 5\n",
    "coffee = coffee[coffee['moisture_percentage'] > 5]"
   ]
  },
  {
   "attachments": {},
   "cell_type": "markdown",
   "metadata": {},
   "source": [
    "## Bivariate Visualizations"
   ]
  },
  {
   "attachments": {},
   "cell_type": "markdown",
   "metadata": {},
   "source": [
    "### Coffee Quality by Country"
   ]
  },
  {
   "cell_type": "code",
   "execution_count": 658,
   "metadata": {},
   "outputs": [
    {
     "data": {
      "application/vnd.plotly.v1+json": {
       "config": {
        "plotlyServerURL": "https://plot.ly"
       },
       "data": [
        {
         "alignmentgroup": "True",
         "bingroup": "x",
         "histfunc": "avg",
         "hovertemplate": "variable=aroma<br>country_of_origin=%{x}<br>avg of value=%{y}<extra></extra>",
         "legendgroup": "aroma",
         "marker": {
          "color": "rgb(217, 175, 107)",
          "pattern": {
           "shape": ""
          }
         },
         "name": "aroma",
         "offsetgroup": "aroma",
         "orientation": "v",
         "showlegend": true,
         "type": "histogram",
         "x": [
          "Colombia",
          "Taiwan",
          "Costa Rica",
          "Colombia",
          "Guatemala",
          "Taiwan",
          "Taiwan",
          "Taiwan",
          "Tanzania",
          "Ethiopia",
          "Guatemala",
          "Taiwan",
          "Ethiopia",
          "Colombia",
          "Taiwan",
          "Ethiopia",
          "Taiwan",
          "Taiwan",
          "Tanzania",
          "Guatemala",
          "Taiwan",
          "Thailand",
          "Colombia",
          "Taiwan",
          "Brazil",
          "Taiwan",
          "Taiwan",
          "Taiwan",
          "United States (Hawaii)",
          "Taiwan",
          "Taiwan",
          "Taiwan",
          "Ethiopia",
          "Ethiopia",
          "Ethiopia",
          "Taiwan",
          "Taiwan",
          "Taiwan",
          "Taiwan",
          "Taiwan",
          "Taiwan",
          "Taiwan",
          "Guatemala",
          "Guatemala",
          "Taiwan",
          "Taiwan",
          "Peru",
          "Tanzania",
          "Taiwan",
          "Taiwan",
          "Brazil",
          "Taiwan",
          "Guatemala",
          "Costa Rica",
          "Taiwan",
          "Taiwan",
          "Nicaragua",
          "Taiwan",
          "Taiwan",
          "Costa Rica",
          "Taiwan",
          "Honduras",
          "Ethiopia",
          "Taiwan",
          "Taiwan",
          "Guatemala",
          "United States (Hawaii)",
          "Ethiopia",
          "El Salvador",
          "Colombia",
          "Guatemala",
          "Honduras",
          "Guatemala",
          "Taiwan",
          "Taiwan",
          "Guatemala",
          "Guatemala",
          "Honduras",
          "Tanzania",
          "Ethiopia",
          "Tanzania",
          "Colombia",
          "Costa Rica",
          "Guatemala",
          "Guatemala",
          "Thailand",
          "Colombia",
          "Guatemala",
          "Ethiopia",
          "Colombia",
          "United States (Hawaii)",
          "Colombia",
          "Mexico",
          "Taiwan",
          "Taiwan",
          "Honduras",
          "Taiwan",
          "Taiwan",
          "Guatemala",
          "Honduras",
          "Colombia",
          "Thailand",
          "Ethiopia",
          "Thailand",
          "Taiwan",
          "Taiwan",
          "Guatemala",
          "Taiwan",
          "Colombia",
          "Taiwan",
          "Thailand",
          "Tanzania",
          "Brazil",
          "Taiwan",
          "Colombia",
          "Honduras",
          "Honduras",
          "Taiwan",
          "Taiwan",
          "Honduras",
          "Honduras",
          "Colombia",
          "Taiwan",
          "Mexico",
          "Colombia",
          "Taiwan",
          "Honduras",
          "Thailand",
          "Nicaragua",
          "Costa Rica",
          "Colombia",
          "Thailand",
          "Thailand",
          "Honduras",
          "Taiwan",
          "Taiwan",
          "Nicaragua",
          "El Salvador",
          "Brazil",
          "United States (Hawaii)",
          "Mexico",
          "Honduras",
          "Taiwan",
          "Nicaragua",
          "El Salvador",
          "El Salvador",
          "Taiwan",
          "Peru",
          "United States (Hawaii)",
          "Honduras",
          "Taiwan",
          "Taiwan",
          "Taiwan",
          "Thailand",
          "Guatemala",
          "Peru",
          "Guatemala",
          "Taiwan",
          "Brazil",
          "Brazil",
          "Colombia",
          "Mexico",
          "Costa Rica",
          "Taiwan",
          "Taiwan",
          "Thailand",
          "Thailand",
          "Thailand",
          "Colombia",
          "Brazil",
          "El Salvador",
          "Nicaragua",
          "Nicaragua",
          "Colombia",
          "Peru",
          "El Salvador",
          "Brazil",
          "Brazil",
          "Nicaragua",
          "El Salvador",
          "Brazil"
         ],
         "xaxis": "x",
         "y": [
          8.58,
          8.5,
          8.08,
          8.33,
          8.33,
          8.33,
          8.25,
          8.08,
          8.08,
          8.08,
          8.08,
          8.08,
          7.67,
          8.08,
          8.17,
          8.17,
          8,
          8.08,
          8.17,
          8,
          8.08,
          7.67,
          8.08,
          7.83,
          7.83,
          7.92,
          8.17,
          8,
          8,
          8,
          7.92,
          8.08,
          7.67,
          8,
          7.92,
          8,
          8.25,
          8,
          8,
          8,
          7.92,
          8.17,
          7.67,
          7.83,
          7.92,
          8,
          8,
          7.92,
          7.83,
          7.67,
          7.83,
          7.92,
          7.67,
          7.58,
          7.83,
          8.17,
          7.92,
          8.08,
          7.83,
          7.75,
          7.75,
          7.83,
          7.92,
          8.08,
          7.83,
          7.67,
          7.92,
          7.83,
          7.83,
          7.75,
          7.58,
          7.75,
          7.58,
          7.83,
          7.92,
          7.67,
          7.67,
          7.75,
          7.58,
          8,
          7.75,
          7.67,
          7.67,
          7.83,
          7.58,
          7.75,
          7.67,
          7.58,
          7.83,
          7.92,
          7.67,
          7.67,
          7.67,
          7.67,
          7.58,
          7.67,
          7.58,
          7.58,
          7.58,
          7.75,
          7.75,
          7.42,
          7.42,
          7.67,
          7.75,
          7.58,
          7.5,
          7.58,
          7.67,
          7.75,
          7.92,
          7.92,
          7.58,
          7.75,
          7.67,
          7.67,
          7.75,
          7.75,
          7.67,
          7.67,
          7.75,
          8,
          7.5,
          7.75,
          7.58,
          7.67,
          7.67,
          7.17,
          7.33,
          7.33,
          7.58,
          7.33,
          7.5,
          7.67,
          7.67,
          7.67,
          7.5,
          7.67,
          7.5,
          7.33,
          7.67,
          7.58,
          7.42,
          7.58,
          7.5,
          7.33,
          7.67,
          7.67,
          7.75,
          7.67,
          7.5,
          7.33,
          7.5,
          7.17,
          7.42,
          7.5,
          7.33,
          7.25,
          7.5,
          7.42,
          7.33,
          7.58,
          7.33,
          7.42,
          7.33,
          7.33,
          7.42,
          7.25,
          7.42,
          7.42,
          7.42,
          7.25,
          7.42,
          7.25,
          7.5,
          7.08,
          7.25,
          7.17,
          7.33,
          6.5,
          7.25
         ],
         "yaxis": "y"
        },
        {
         "alignmentgroup": "True",
         "bingroup": "x",
         "histfunc": "avg",
         "hovertemplate": "variable=flavor<br>country_of_origin=%{x}<br>avg of value=%{y}<extra></extra>",
         "legendgroup": "flavor",
         "marker": {
          "color": "rgb(175, 100, 88)",
          "pattern": {
           "shape": ""
          }
         },
         "name": "flavor",
         "offsetgroup": "flavor",
         "orientation": "v",
         "showlegend": true,
         "type": "histogram",
         "x": [
          "Colombia",
          "Taiwan",
          "Costa Rica",
          "Colombia",
          "Guatemala",
          "Taiwan",
          "Taiwan",
          "Taiwan",
          "Tanzania",
          "Ethiopia",
          "Guatemala",
          "Taiwan",
          "Ethiopia",
          "Colombia",
          "Taiwan",
          "Ethiopia",
          "Taiwan",
          "Taiwan",
          "Tanzania",
          "Guatemala",
          "Taiwan",
          "Thailand",
          "Colombia",
          "Taiwan",
          "Brazil",
          "Taiwan",
          "Taiwan",
          "Taiwan",
          "United States (Hawaii)",
          "Taiwan",
          "Taiwan",
          "Taiwan",
          "Ethiopia",
          "Ethiopia",
          "Ethiopia",
          "Taiwan",
          "Taiwan",
          "Taiwan",
          "Taiwan",
          "Taiwan",
          "Taiwan",
          "Taiwan",
          "Guatemala",
          "Guatemala",
          "Taiwan",
          "Taiwan",
          "Peru",
          "Tanzania",
          "Taiwan",
          "Taiwan",
          "Brazil",
          "Taiwan",
          "Guatemala",
          "Costa Rica",
          "Taiwan",
          "Taiwan",
          "Nicaragua",
          "Taiwan",
          "Taiwan",
          "Costa Rica",
          "Taiwan",
          "Honduras",
          "Ethiopia",
          "Taiwan",
          "Taiwan",
          "Guatemala",
          "United States (Hawaii)",
          "Ethiopia",
          "El Salvador",
          "Colombia",
          "Guatemala",
          "Honduras",
          "Guatemala",
          "Taiwan",
          "Taiwan",
          "Guatemala",
          "Guatemala",
          "Honduras",
          "Tanzania",
          "Ethiopia",
          "Tanzania",
          "Colombia",
          "Costa Rica",
          "Guatemala",
          "Guatemala",
          "Thailand",
          "Colombia",
          "Guatemala",
          "Ethiopia",
          "Colombia",
          "United States (Hawaii)",
          "Colombia",
          "Mexico",
          "Taiwan",
          "Taiwan",
          "Honduras",
          "Taiwan",
          "Taiwan",
          "Guatemala",
          "Honduras",
          "Colombia",
          "Thailand",
          "Ethiopia",
          "Thailand",
          "Taiwan",
          "Taiwan",
          "Guatemala",
          "Taiwan",
          "Colombia",
          "Taiwan",
          "Thailand",
          "Tanzania",
          "Brazil",
          "Taiwan",
          "Colombia",
          "Honduras",
          "Honduras",
          "Taiwan",
          "Taiwan",
          "Honduras",
          "Honduras",
          "Colombia",
          "Taiwan",
          "Mexico",
          "Colombia",
          "Taiwan",
          "Honduras",
          "Thailand",
          "Nicaragua",
          "Costa Rica",
          "Colombia",
          "Thailand",
          "Thailand",
          "Honduras",
          "Taiwan",
          "Taiwan",
          "Nicaragua",
          "El Salvador",
          "Brazil",
          "United States (Hawaii)",
          "Mexico",
          "Honduras",
          "Taiwan",
          "Nicaragua",
          "El Salvador",
          "El Salvador",
          "Taiwan",
          "Peru",
          "United States (Hawaii)",
          "Honduras",
          "Taiwan",
          "Taiwan",
          "Taiwan",
          "Thailand",
          "Guatemala",
          "Peru",
          "Guatemala",
          "Taiwan",
          "Brazil",
          "Brazil",
          "Colombia",
          "Mexico",
          "Costa Rica",
          "Taiwan",
          "Taiwan",
          "Thailand",
          "Thailand",
          "Thailand",
          "Colombia",
          "Brazil",
          "El Salvador",
          "Nicaragua",
          "Nicaragua",
          "Colombia",
          "Peru",
          "El Salvador",
          "Brazil",
          "Brazil",
          "Nicaragua",
          "El Salvador",
          "Brazil"
         ],
         "xaxis": "x",
         "y": [
          8.5,
          8.5,
          8.17,
          8.33,
          8.33,
          8.17,
          8.25,
          8.08,
          8.17,
          8.25,
          8,
          8,
          8.17,
          8,
          8.08,
          8.08,
          8.17,
          8.17,
          8,
          7.92,
          8,
          8,
          8,
          8,
          8.08,
          7.92,
          8.08,
          8,
          7.92,
          8,
          8,
          8.17,
          7.83,
          8.08,
          7.75,
          7.92,
          8.08,
          7.92,
          8.08,
          7.92,
          8,
          8.08,
          8.08,
          7.92,
          7.92,
          8,
          8,
          7.75,
          7.83,
          7.92,
          7.92,
          8.08,
          8,
          7.83,
          7.83,
          7.83,
          7.75,
          7.83,
          8,
          7.83,
          7.92,
          7.92,
          7.83,
          7.92,
          8,
          7.83,
          7.83,
          7.75,
          7.83,
          7.75,
          7.92,
          7.75,
          7.92,
          7.92,
          7.75,
          7.83,
          7.92,
          7.75,
          7.67,
          7.75,
          7.58,
          7.83,
          7.92,
          7.83,
          7.83,
          7.67,
          7.75,
          7.83,
          7.67,
          7.75,
          7.92,
          7.92,
          7.67,
          7.67,
          7.75,
          7.67,
          7.67,
          7.75,
          7.83,
          7.67,
          7.75,
          7.83,
          7.42,
          7.67,
          7.92,
          7.67,
          7.75,
          7.67,
          7.67,
          7.83,
          7.92,
          7.67,
          7.5,
          7.75,
          7.67,
          7.75,
          7.58,
          7.75,
          7.67,
          7.67,
          7.58,
          7.67,
          7.67,
          7.5,
          7.5,
          7.5,
          7.58,
          7.92,
          7.58,
          7.5,
          7.67,
          7.58,
          7.58,
          7.58,
          7.67,
          7.58,
          7.58,
          7.33,
          7.58,
          7.58,
          7.42,
          7.58,
          7.42,
          7.58,
          7.5,
          7.67,
          7.58,
          7.5,
          7.42,
          7.5,
          7.67,
          7.42,
          7.58,
          7.5,
          7.42,
          7.5,
          7.42,
          7.42,
          7.5,
          7.5,
          7.5,
          7.42,
          7.42,
          7.5,
          7.5,
          7.42,
          7.25,
          7.25,
          7.25,
          7.42,
          7.33,
          7.25,
          7.17,
          7.25,
          7.25,
          7.25,
          7.17,
          7.17,
          7.08,
          6.75,
          7.08
         ],
         "yaxis": "y"
        },
        {
         "alignmentgroup": "True",
         "bingroup": "x",
         "histfunc": "avg",
         "hovertemplate": "variable=aftertaste<br>country_of_origin=%{x}<br>avg of value=%{y}<extra></extra>",
         "legendgroup": "aftertaste",
         "marker": {
          "color": "rgb(115, 111, 76)",
          "pattern": {
           "shape": ""
          }
         },
         "name": "aftertaste",
         "offsetgroup": "aftertaste",
         "orientation": "v",
         "showlegend": true,
         "type": "histogram",
         "x": [
          "Colombia",
          "Taiwan",
          "Costa Rica",
          "Colombia",
          "Guatemala",
          "Taiwan",
          "Taiwan",
          "Taiwan",
          "Tanzania",
          "Ethiopia",
          "Guatemala",
          "Taiwan",
          "Ethiopia",
          "Colombia",
          "Taiwan",
          "Ethiopia",
          "Taiwan",
          "Taiwan",
          "Tanzania",
          "Guatemala",
          "Taiwan",
          "Thailand",
          "Colombia",
          "Taiwan",
          "Brazil",
          "Taiwan",
          "Taiwan",
          "Taiwan",
          "United States (Hawaii)",
          "Taiwan",
          "Taiwan",
          "Taiwan",
          "Ethiopia",
          "Ethiopia",
          "Ethiopia",
          "Taiwan",
          "Taiwan",
          "Taiwan",
          "Taiwan",
          "Taiwan",
          "Taiwan",
          "Taiwan",
          "Guatemala",
          "Guatemala",
          "Taiwan",
          "Taiwan",
          "Peru",
          "Tanzania",
          "Taiwan",
          "Taiwan",
          "Brazil",
          "Taiwan",
          "Guatemala",
          "Costa Rica",
          "Taiwan",
          "Taiwan",
          "Nicaragua",
          "Taiwan",
          "Taiwan",
          "Costa Rica",
          "Taiwan",
          "Honduras",
          "Ethiopia",
          "Taiwan",
          "Taiwan",
          "Guatemala",
          "United States (Hawaii)",
          "Ethiopia",
          "El Salvador",
          "Colombia",
          "Guatemala",
          "Honduras",
          "Guatemala",
          "Taiwan",
          "Taiwan",
          "Guatemala",
          "Guatemala",
          "Honduras",
          "Tanzania",
          "Ethiopia",
          "Tanzania",
          "Colombia",
          "Costa Rica",
          "Guatemala",
          "Guatemala",
          "Thailand",
          "Colombia",
          "Guatemala",
          "Ethiopia",
          "Colombia",
          "United States (Hawaii)",
          "Colombia",
          "Mexico",
          "Taiwan",
          "Taiwan",
          "Honduras",
          "Taiwan",
          "Taiwan",
          "Guatemala",
          "Honduras",
          "Colombia",
          "Thailand",
          "Ethiopia",
          "Thailand",
          "Taiwan",
          "Taiwan",
          "Guatemala",
          "Taiwan",
          "Colombia",
          "Taiwan",
          "Thailand",
          "Tanzania",
          "Brazil",
          "Taiwan",
          "Colombia",
          "Honduras",
          "Honduras",
          "Taiwan",
          "Taiwan",
          "Honduras",
          "Honduras",
          "Colombia",
          "Taiwan",
          "Mexico",
          "Colombia",
          "Taiwan",
          "Honduras",
          "Thailand",
          "Nicaragua",
          "Costa Rica",
          "Colombia",
          "Thailand",
          "Thailand",
          "Honduras",
          "Taiwan",
          "Taiwan",
          "Nicaragua",
          "El Salvador",
          "Brazil",
          "United States (Hawaii)",
          "Mexico",
          "Honduras",
          "Taiwan",
          "Nicaragua",
          "El Salvador",
          "El Salvador",
          "Taiwan",
          "Peru",
          "United States (Hawaii)",
          "Honduras",
          "Taiwan",
          "Taiwan",
          "Taiwan",
          "Thailand",
          "Guatemala",
          "Peru",
          "Guatemala",
          "Taiwan",
          "Brazil",
          "Brazil",
          "Colombia",
          "Mexico",
          "Costa Rica",
          "Taiwan",
          "Taiwan",
          "Thailand",
          "Thailand",
          "Thailand",
          "Colombia",
          "Brazil",
          "El Salvador",
          "Nicaragua",
          "Nicaragua",
          "Colombia",
          "Peru",
          "El Salvador",
          "Brazil",
          "Brazil",
          "Nicaragua",
          "El Salvador",
          "Brazil"
         ],
         "xaxis": "x",
         "y": [
          8.42,
          7.92,
          8.17,
          8.08,
          8.25,
          8.08,
          8.17,
          8.25,
          8.08,
          8,
          8,
          8.08,
          8,
          8.08,
          8,
          7.92,
          8,
          7.75,
          7.92,
          8.08,
          7.92,
          7.83,
          7.83,
          7.92,
          7.83,
          8,
          7.92,
          8,
          8,
          7.83,
          7.83,
          7.67,
          7.83,
          8,
          7.83,
          7.83,
          7.83,
          7.83,
          7.67,
          7.67,
          7.92,
          7.83,
          7.67,
          7.75,
          7.83,
          7.75,
          7.83,
          7.75,
          7.67,
          7.92,
          7.75,
          7.67,
          7.67,
          7.5,
          7.75,
          7.67,
          7.67,
          7.67,
          7.67,
          7.67,
          7.83,
          7.75,
          7.75,
          7.75,
          7.5,
          7.75,
          7.75,
          7.58,
          7.83,
          7.75,
          7.67,
          7.58,
          7.58,
          7.83,
          7.67,
          7.67,
          7.67,
          7.75,
          7.75,
          7.5,
          7.58,
          7.58,
          7.58,
          7.58,
          7.58,
          7.58,
          7.67,
          7.67,
          7.5,
          7.42,
          7.58,
          7.67,
          7.58,
          7.75,
          7.67,
          7.58,
          7.5,
          7.58,
          7.58,
          7.58,
          7.5,
          7.58,
          7.42,
          7.5,
          7.67,
          7.5,
          7.58,
          7.58,
          7.42,
          7.58,
          7.75,
          7.42,
          7.5,
          7.58,
          7.58,
          7.67,
          7.58,
          7.5,
          7.5,
          7.5,
          7.58,
          7.42,
          7.58,
          7.42,
          7.5,
          7.42,
          7.5,
          7.58,
          7.25,
          7.25,
          7.58,
          7.58,
          7.5,
          7.33,
          7.42,
          7.42,
          7.42,
          7.17,
          7.5,
          7.5,
          7.5,
          7.33,
          7.58,
          7.42,
          7.42,
          7.25,
          7.42,
          7.33,
          7.33,
          7.25,
          7.33,
          7.42,
          7.42,
          7.42,
          7.42,
          7.33,
          7.33,
          7.42,
          7.42,
          7.58,
          7.33,
          7.25,
          7.25,
          7.33,
          7.42,
          7.25,
          7.33,
          7.42,
          7.25,
          7.25,
          7.33,
          7.17,
          7,
          7.17,
          7.17,
          7.08,
          7.17,
          6.92,
          6.75,
          6.75,
          6.67
         ],
         "yaxis": "y"
        },
        {
         "alignmentgroup": "True",
         "bingroup": "x",
         "histfunc": "avg",
         "hovertemplate": "variable=acidity<br>country_of_origin=%{x}<br>avg of value=%{y}<extra></extra>",
         "legendgroup": "acidity",
         "marker": {
          "color": "rgb(82, 106, 131)",
          "pattern": {
           "shape": ""
          }
         },
         "name": "acidity",
         "offsetgroup": "acidity",
         "orientation": "v",
         "showlegend": true,
         "type": "histogram",
         "x": [
          "Colombia",
          "Taiwan",
          "Costa Rica",
          "Colombia",
          "Guatemala",
          "Taiwan",
          "Taiwan",
          "Taiwan",
          "Tanzania",
          "Ethiopia",
          "Guatemala",
          "Taiwan",
          "Ethiopia",
          "Colombia",
          "Taiwan",
          "Ethiopia",
          "Taiwan",
          "Taiwan",
          "Tanzania",
          "Guatemala",
          "Taiwan",
          "Thailand",
          "Colombia",
          "Taiwan",
          "Brazil",
          "Taiwan",
          "Taiwan",
          "Taiwan",
          "United States (Hawaii)",
          "Taiwan",
          "Taiwan",
          "Taiwan",
          "Ethiopia",
          "Ethiopia",
          "Ethiopia",
          "Taiwan",
          "Taiwan",
          "Taiwan",
          "Taiwan",
          "Taiwan",
          "Taiwan",
          "Taiwan",
          "Guatemala",
          "Guatemala",
          "Taiwan",
          "Taiwan",
          "Peru",
          "Tanzania",
          "Taiwan",
          "Taiwan",
          "Brazil",
          "Taiwan",
          "Guatemala",
          "Costa Rica",
          "Taiwan",
          "Taiwan",
          "Nicaragua",
          "Taiwan",
          "Taiwan",
          "Costa Rica",
          "Taiwan",
          "Honduras",
          "Ethiopia",
          "Taiwan",
          "Taiwan",
          "Guatemala",
          "United States (Hawaii)",
          "Ethiopia",
          "El Salvador",
          "Colombia",
          "Guatemala",
          "Honduras",
          "Guatemala",
          "Taiwan",
          "Taiwan",
          "Guatemala",
          "Guatemala",
          "Honduras",
          "Tanzania",
          "Ethiopia",
          "Tanzania",
          "Colombia",
          "Costa Rica",
          "Guatemala",
          "Guatemala",
          "Thailand",
          "Colombia",
          "Guatemala",
          "Ethiopia",
          "Colombia",
          "United States (Hawaii)",
          "Colombia",
          "Mexico",
          "Taiwan",
          "Taiwan",
          "Honduras",
          "Taiwan",
          "Taiwan",
          "Guatemala",
          "Honduras",
          "Colombia",
          "Thailand",
          "Ethiopia",
          "Thailand",
          "Taiwan",
          "Taiwan",
          "Guatemala",
          "Taiwan",
          "Colombia",
          "Taiwan",
          "Thailand",
          "Tanzania",
          "Brazil",
          "Taiwan",
          "Colombia",
          "Honduras",
          "Honduras",
          "Taiwan",
          "Taiwan",
          "Honduras",
          "Honduras",
          "Colombia",
          "Taiwan",
          "Mexico",
          "Colombia",
          "Taiwan",
          "Honduras",
          "Thailand",
          "Nicaragua",
          "Costa Rica",
          "Colombia",
          "Thailand",
          "Thailand",
          "Honduras",
          "Taiwan",
          "Taiwan",
          "Nicaragua",
          "El Salvador",
          "Brazil",
          "United States (Hawaii)",
          "Mexico",
          "Honduras",
          "Taiwan",
          "Nicaragua",
          "El Salvador",
          "El Salvador",
          "Taiwan",
          "Peru",
          "United States (Hawaii)",
          "Honduras",
          "Taiwan",
          "Taiwan",
          "Taiwan",
          "Thailand",
          "Guatemala",
          "Peru",
          "Guatemala",
          "Taiwan",
          "Brazil",
          "Brazil",
          "Colombia",
          "Mexico",
          "Costa Rica",
          "Taiwan",
          "Taiwan",
          "Thailand",
          "Thailand",
          "Thailand",
          "Colombia",
          "Brazil",
          "El Salvador",
          "Nicaragua",
          "Nicaragua",
          "Colombia",
          "Peru",
          "El Salvador",
          "Brazil",
          "Brazil",
          "Nicaragua",
          "El Salvador",
          "Brazil"
         ],
         "xaxis": "x",
         "y": [
          8.58,
          8,
          8.25,
          8.25,
          7.83,
          8,
          8,
          8.08,
          8.17,
          8.08,
          7.75,
          8.08,
          8.33,
          7.92,
          7.92,
          8.17,
          7.92,
          7.92,
          7.92,
          7.92,
          7.92,
          8,
          8.17,
          8,
          7.92,
          7.92,
          8,
          7.92,
          7.83,
          7.83,
          7.92,
          7.83,
          8,
          8,
          8.17,
          7.92,
          7.75,
          7.92,
          7.75,
          8,
          8,
          7.67,
          8,
          8,
          7.83,
          7.75,
          7.83,
          7.92,
          7.67,
          7.83,
          7.92,
          7.92,
          7.83,
          7.67,
          7.75,
          7.83,
          7.67,
          7.67,
          7.75,
          7.83,
          7.75,
          7.75,
          7.92,
          7.83,
          7.75,
          7.75,
          7.92,
          7.92,
          7.83,
          7.75,
          7.75,
          7.83,
          7.83,
          7.58,
          7.75,
          7.83,
          7.75,
          7.67,
          7.75,
          7.67,
          7.92,
          7.92,
          7.75,
          7.67,
          7.75,
          7.75,
          7.75,
          7.67,
          7.92,
          7.58,
          7.58,
          7.58,
          7.67,
          7.75,
          7.83,
          7.75,
          7.75,
          7.75,
          7.67,
          7.58,
          7.58,
          7.67,
          8,
          7.67,
          7.92,
          7.75,
          7.75,
          7.75,
          7.75,
          7.58,
          7.33,
          7.5,
          7.83,
          7.67,
          7.67,
          7.58,
          7.58,
          7.75,
          7.58,
          7.58,
          7.58,
          7.58,
          7.58,
          7.67,
          7.67,
          7.75,
          7.5,
          7.5,
          7.33,
          7.92,
          7.5,
          7.5,
          7.42,
          7.5,
          7.42,
          7.42,
          7.58,
          7.67,
          7.5,
          7.5,
          7.5,
          7.5,
          7.42,
          7.42,
          7.42,
          7.67,
          7.5,
          7.58,
          7.5,
          7.5,
          7.5,
          7.5,
          7.42,
          7.42,
          7.33,
          7.5,
          7.42,
          7.5,
          7.33,
          7.33,
          7.42,
          7.25,
          7.42,
          7.33,
          7.33,
          7.33,
          7.42,
          7.25,
          7.42,
          7.25,
          7.5,
          7.33,
          7.08,
          7.33,
          7.17,
          7.42,
          7.08,
          7.17,
          7.17,
          7.17,
          6.83
         ],
         "yaxis": "y"
        },
        {
         "alignmentgroup": "True",
         "bingroup": "x",
         "histfunc": "avg",
         "hovertemplate": "variable=body<br>country_of_origin=%{x}<br>avg of value=%{y}<extra></extra>",
         "legendgroup": "body",
         "marker": {
          "color": "rgb(160, 97, 119)",
          "pattern": {
           "shape": ""
          }
         },
         "name": "body",
         "offsetgroup": "body",
         "orientation": "v",
         "showlegend": true,
         "type": "histogram",
         "x": [
          "Colombia",
          "Taiwan",
          "Costa Rica",
          "Colombia",
          "Guatemala",
          "Taiwan",
          "Taiwan",
          "Taiwan",
          "Tanzania",
          "Ethiopia",
          "Guatemala",
          "Taiwan",
          "Ethiopia",
          "Colombia",
          "Taiwan",
          "Ethiopia",
          "Taiwan",
          "Taiwan",
          "Tanzania",
          "Guatemala",
          "Taiwan",
          "Thailand",
          "Colombia",
          "Taiwan",
          "Brazil",
          "Taiwan",
          "Taiwan",
          "Taiwan",
          "United States (Hawaii)",
          "Taiwan",
          "Taiwan",
          "Taiwan",
          "Ethiopia",
          "Ethiopia",
          "Ethiopia",
          "Taiwan",
          "Taiwan",
          "Taiwan",
          "Taiwan",
          "Taiwan",
          "Taiwan",
          "Taiwan",
          "Guatemala",
          "Guatemala",
          "Taiwan",
          "Taiwan",
          "Peru",
          "Tanzania",
          "Taiwan",
          "Taiwan",
          "Brazil",
          "Taiwan",
          "Guatemala",
          "Costa Rica",
          "Taiwan",
          "Taiwan",
          "Nicaragua",
          "Taiwan",
          "Taiwan",
          "Costa Rica",
          "Taiwan",
          "Honduras",
          "Ethiopia",
          "Taiwan",
          "Taiwan",
          "Guatemala",
          "United States (Hawaii)",
          "Ethiopia",
          "El Salvador",
          "Colombia",
          "Guatemala",
          "Honduras",
          "Guatemala",
          "Taiwan",
          "Taiwan",
          "Guatemala",
          "Guatemala",
          "Honduras",
          "Tanzania",
          "Ethiopia",
          "Tanzania",
          "Colombia",
          "Costa Rica",
          "Guatemala",
          "Guatemala",
          "Thailand",
          "Colombia",
          "Guatemala",
          "Ethiopia",
          "Colombia",
          "United States (Hawaii)",
          "Colombia",
          "Mexico",
          "Taiwan",
          "Taiwan",
          "Honduras",
          "Taiwan",
          "Taiwan",
          "Guatemala",
          "Honduras",
          "Colombia",
          "Thailand",
          "Ethiopia",
          "Thailand",
          "Taiwan",
          "Taiwan",
          "Guatemala",
          "Taiwan",
          "Colombia",
          "Taiwan",
          "Thailand",
          "Tanzania",
          "Brazil",
          "Taiwan",
          "Colombia",
          "Honduras",
          "Honduras",
          "Taiwan",
          "Taiwan",
          "Honduras",
          "Honduras",
          "Colombia",
          "Taiwan",
          "Mexico",
          "Colombia",
          "Taiwan",
          "Honduras",
          "Thailand",
          "Nicaragua",
          "Costa Rica",
          "Colombia",
          "Thailand",
          "Thailand",
          "Honduras",
          "Taiwan",
          "Taiwan",
          "Nicaragua",
          "El Salvador",
          "Brazil",
          "United States (Hawaii)",
          "Mexico",
          "Honduras",
          "Taiwan",
          "Nicaragua",
          "El Salvador",
          "El Salvador",
          "Taiwan",
          "Peru",
          "United States (Hawaii)",
          "Honduras",
          "Taiwan",
          "Taiwan",
          "Taiwan",
          "Thailand",
          "Guatemala",
          "Peru",
          "Guatemala",
          "Taiwan",
          "Brazil",
          "Brazil",
          "Colombia",
          "Mexico",
          "Costa Rica",
          "Taiwan",
          "Taiwan",
          "Thailand",
          "Thailand",
          "Thailand",
          "Colombia",
          "Brazil",
          "El Salvador",
          "Nicaragua",
          "Nicaragua",
          "Colombia",
          "Peru",
          "El Salvador",
          "Brazil",
          "Brazil",
          "Nicaragua",
          "El Salvador",
          "Brazil"
         ],
         "xaxis": "x",
         "y": [
          8.25,
          7.92,
          8.17,
          7.92,
          7.83,
          7.83,
          7.92,
          7.92,
          8,
          7.92,
          8.25,
          8,
          8,
          8.08,
          8,
          7.75,
          7.92,
          7.83,
          8.17,
          7.75,
          8,
          8.08,
          7.75,
          8,
          8,
          7.83,
          7.58,
          7.75,
          7.67,
          7.75,
          7.83,
          7.67,
          8,
          7.67,
          8,
          7.83,
          7.67,
          7.75,
          7.92,
          7.75,
          7.58,
          7.67,
          7.92,
          7.75,
          7.75,
          7.67,
          7.58,
          7.83,
          7.83,
          7.75,
          7.67,
          7.67,
          7.92,
          7.83,
          7.75,
          7.67,
          7.83,
          7.67,
          7.67,
          7.75,
          7.75,
          7.75,
          7.58,
          7.5,
          7.75,
          7.83,
          7.5,
          8,
          7.67,
          7.83,
          7.83,
          7.75,
          7.75,
          7.58,
          7.75,
          7.75,
          7.67,
          7.75,
          7.75,
          7.67,
          7.67,
          7.67,
          7.67,
          7.67,
          7.67,
          7.75,
          7.67,
          7.67,
          7.5,
          7.92,
          7.58,
          7.67,
          7.83,
          7.5,
          7.5,
          7.67,
          7.75,
          7.58,
          7.58,
          7.58,
          7.83,
          7.67,
          7.92,
          7.58,
          7.75,
          7.5,
          7.67,
          7.42,
          7.5,
          7.58,
          7.58,
          7.67,
          7.67,
          7.42,
          7.58,
          7.5,
          7.5,
          7.5,
          7.58,
          7.58,
          7.58,
          7.58,
          7.5,
          7.58,
          7.58,
          7.42,
          7.58,
          7.58,
          7.75,
          7.75,
          7.33,
          7.67,
          7.5,
          7.58,
          7.42,
          7.5,
          7.5,
          7.83,
          7.67,
          7.5,
          7.67,
          7.58,
          7.58,
          7.5,
          7.42,
          7.83,
          7.33,
          7.33,
          7.33,
          7.5,
          7.25,
          7.42,
          7.25,
          7.58,
          7.5,
          7.33,
          7.58,
          7.42,
          7.33,
          7.33,
          7.42,
          7.5,
          7.42,
          7.33,
          7.33,
          7.5,
          7.33,
          7.42,
          7.17,
          7.17,
          7.08,
          7.08,
          7.42,
          7,
          7.17,
          7.42,
          7.17,
          7.42,
          7.42,
          7.08,
          6.83
         ],
         "yaxis": "y"
        },
        {
         "alignmentgroup": "True",
         "bingroup": "x",
         "histfunc": "avg",
         "hovertemplate": "variable=balance<br>country_of_origin=%{x}<br>avg of value=%{y}<extra></extra>",
         "legendgroup": "balance",
         "marker": {
          "color": "rgb(104, 133, 92)",
          "pattern": {
           "shape": ""
          }
         },
         "name": "balance",
         "offsetgroup": "balance",
         "orientation": "v",
         "showlegend": true,
         "type": "histogram",
         "x": [
          "Colombia",
          "Taiwan",
          "Costa Rica",
          "Colombia",
          "Guatemala",
          "Taiwan",
          "Taiwan",
          "Taiwan",
          "Tanzania",
          "Ethiopia",
          "Guatemala",
          "Taiwan",
          "Ethiopia",
          "Colombia",
          "Taiwan",
          "Ethiopia",
          "Taiwan",
          "Taiwan",
          "Tanzania",
          "Guatemala",
          "Taiwan",
          "Thailand",
          "Colombia",
          "Taiwan",
          "Brazil",
          "Taiwan",
          "Taiwan",
          "Taiwan",
          "United States (Hawaii)",
          "Taiwan",
          "Taiwan",
          "Taiwan",
          "Ethiopia",
          "Ethiopia",
          "Ethiopia",
          "Taiwan",
          "Taiwan",
          "Taiwan",
          "Taiwan",
          "Taiwan",
          "Taiwan",
          "Taiwan",
          "Guatemala",
          "Guatemala",
          "Taiwan",
          "Taiwan",
          "Peru",
          "Tanzania",
          "Taiwan",
          "Taiwan",
          "Brazil",
          "Taiwan",
          "Guatemala",
          "Costa Rica",
          "Taiwan",
          "Taiwan",
          "Nicaragua",
          "Taiwan",
          "Taiwan",
          "Costa Rica",
          "Taiwan",
          "Honduras",
          "Ethiopia",
          "Taiwan",
          "Taiwan",
          "Guatemala",
          "United States (Hawaii)",
          "Ethiopia",
          "El Salvador",
          "Colombia",
          "Guatemala",
          "Honduras",
          "Guatemala",
          "Taiwan",
          "Taiwan",
          "Guatemala",
          "Guatemala",
          "Honduras",
          "Tanzania",
          "Ethiopia",
          "Tanzania",
          "Colombia",
          "Costa Rica",
          "Guatemala",
          "Guatemala",
          "Thailand",
          "Colombia",
          "Guatemala",
          "Ethiopia",
          "Colombia",
          "United States (Hawaii)",
          "Colombia",
          "Mexico",
          "Taiwan",
          "Taiwan",
          "Honduras",
          "Taiwan",
          "Taiwan",
          "Guatemala",
          "Honduras",
          "Colombia",
          "Thailand",
          "Ethiopia",
          "Thailand",
          "Taiwan",
          "Taiwan",
          "Guatemala",
          "Taiwan",
          "Colombia",
          "Taiwan",
          "Thailand",
          "Tanzania",
          "Brazil",
          "Taiwan",
          "Colombia",
          "Honduras",
          "Honduras",
          "Taiwan",
          "Taiwan",
          "Honduras",
          "Honduras",
          "Colombia",
          "Taiwan",
          "Mexico",
          "Colombia",
          "Taiwan",
          "Honduras",
          "Thailand",
          "Nicaragua",
          "Costa Rica",
          "Colombia",
          "Thailand",
          "Thailand",
          "Honduras",
          "Taiwan",
          "Taiwan",
          "Nicaragua",
          "El Salvador",
          "Brazil",
          "United States (Hawaii)",
          "Mexico",
          "Honduras",
          "Taiwan",
          "Nicaragua",
          "El Salvador",
          "El Salvador",
          "Taiwan",
          "Peru",
          "United States (Hawaii)",
          "Honduras",
          "Taiwan",
          "Taiwan",
          "Taiwan",
          "Thailand",
          "Guatemala",
          "Peru",
          "Guatemala",
          "Taiwan",
          "Brazil",
          "Brazil",
          "Colombia",
          "Mexico",
          "Costa Rica",
          "Taiwan",
          "Taiwan",
          "Thailand",
          "Thailand",
          "Thailand",
          "Colombia",
          "Brazil",
          "El Salvador",
          "Nicaragua",
          "Nicaragua",
          "Colombia",
          "Peru",
          "El Salvador",
          "Brazil",
          "Brazil",
          "Nicaragua",
          "El Salvador",
          "Brazil"
         ],
         "xaxis": "x",
         "y": [
          8.42,
          8.25,
          8.08,
          7.92,
          8.17,
          8.25,
          8.08,
          8,
          8,
          7.92,
          8.17,
          8,
          8,
          8,
          7.92,
          7.92,
          7.92,
          8,
          7.75,
          8,
          7.83,
          8,
          7.83,
          7.92,
          7.83,
          7.92,
          7.83,
          7.92,
          8,
          7.92,
          7.83,
          7.92,
          8,
          7.75,
          7.75,
          7.83,
          7.75,
          7.75,
          7.83,
          7.83,
          7.75,
          7.75,
          7.83,
          7.75,
          7.83,
          7.75,
          7.83,
          7.83,
          8,
          7.83,
          7.83,
          7.75,
          7.67,
          7.67,
          7.75,
          7.67,
          7.75,
          7.75,
          7.75,
          7.75,
          7.75,
          7.75,
          7.67,
          7.58,
          7.75,
          7.75,
          7.67,
          7.5,
          7.67,
          7.67,
          7.75,
          7.75,
          7.67,
          7.67,
          8,
          7.67,
          7.58,
          7.67,
          7.75,
          7.67,
          7.75,
          7.67,
          7.58,
          7.58,
          7.75,
          7.67,
          7.67,
          7.67,
          7.67,
          7.67,
          7.75,
          7.67,
          7.58,
          7.67,
          7.67,
          7.67,
          7.67,
          7.67,
          7.58,
          7.67,
          7.5,
          7.75,
          7.67,
          7.67,
          7.83,
          7.58,
          7.58,
          7.58,
          7.75,
          7.5,
          7.5,
          7.58,
          7.5,
          7.5,
          7.58,
          7.58,
          7.58,
          7.42,
          7.5,
          7.5,
          7.5,
          7.42,
          7.5,
          7.5,
          7.5,
          7.58,
          7.5,
          7.67,
          8.17,
          7.58,
          7.5,
          7.67,
          7.58,
          7.5,
          7.5,
          7.5,
          7.58,
          7.5,
          7.42,
          7.58,
          7.42,
          7.42,
          7.5,
          7.5,
          7.67,
          7.42,
          7.42,
          7.42,
          7.5,
          7.33,
          7.33,
          7.5,
          7.42,
          7.5,
          7.42,
          7.33,
          7.42,
          7.42,
          7.33,
          7.25,
          7.42,
          7.33,
          7.33,
          7.33,
          7.25,
          7.42,
          7.33,
          7.42,
          7.33,
          7.25,
          7,
          7.25,
          7.17,
          7.17,
          7.08,
          7.08,
          7.17,
          7.17,
          7.17,
          7,
          6.67
         ],
         "yaxis": "y"
        },
        {
         "alignmentgroup": "True",
         "bingroup": "x",
         "histfunc": "avg",
         "hovertemplate": "variable=overall<br>country_of_origin=%{x}<br>avg of value=%{y}<extra></extra>",
         "legendgroup": "overall",
         "marker": {
          "color": "rgb(98, 83, 119)",
          "pattern": {
           "shape": ""
          }
         },
         "name": "overall",
         "offsetgroup": "overall",
         "orientation": "v",
         "showlegend": true,
         "type": "histogram",
         "x": [
          "Colombia",
          "Taiwan",
          "Costa Rica",
          "Colombia",
          "Guatemala",
          "Taiwan",
          "Taiwan",
          "Taiwan",
          "Tanzania",
          "Ethiopia",
          "Guatemala",
          "Taiwan",
          "Ethiopia",
          "Colombia",
          "Taiwan",
          "Ethiopia",
          "Taiwan",
          "Taiwan",
          "Tanzania",
          "Guatemala",
          "Taiwan",
          "Thailand",
          "Colombia",
          "Taiwan",
          "Brazil",
          "Taiwan",
          "Taiwan",
          "Taiwan",
          "United States (Hawaii)",
          "Taiwan",
          "Taiwan",
          "Taiwan",
          "Ethiopia",
          "Ethiopia",
          "Ethiopia",
          "Taiwan",
          "Taiwan",
          "Taiwan",
          "Taiwan",
          "Taiwan",
          "Taiwan",
          "Taiwan",
          "Guatemala",
          "Guatemala",
          "Taiwan",
          "Taiwan",
          "Peru",
          "Tanzania",
          "Taiwan",
          "Taiwan",
          "Brazil",
          "Taiwan",
          "Guatemala",
          "Costa Rica",
          "Taiwan",
          "Taiwan",
          "Nicaragua",
          "Taiwan",
          "Taiwan",
          "Costa Rica",
          "Taiwan",
          "Honduras",
          "Ethiopia",
          "Taiwan",
          "Taiwan",
          "Guatemala",
          "United States (Hawaii)",
          "Ethiopia",
          "El Salvador",
          "Colombia",
          "Guatemala",
          "Honduras",
          "Guatemala",
          "Taiwan",
          "Taiwan",
          "Guatemala",
          "Guatemala",
          "Honduras",
          "Tanzania",
          "Ethiopia",
          "Tanzania",
          "Colombia",
          "Costa Rica",
          "Guatemala",
          "Guatemala",
          "Thailand",
          "Colombia",
          "Guatemala",
          "Ethiopia",
          "Colombia",
          "United States (Hawaii)",
          "Colombia",
          "Mexico",
          "Taiwan",
          "Taiwan",
          "Honduras",
          "Taiwan",
          "Taiwan",
          "Guatemala",
          "Honduras",
          "Colombia",
          "Thailand",
          "Ethiopia",
          "Thailand",
          "Taiwan",
          "Taiwan",
          "Guatemala",
          "Taiwan",
          "Colombia",
          "Taiwan",
          "Thailand",
          "Tanzania",
          "Brazil",
          "Taiwan",
          "Colombia",
          "Honduras",
          "Honduras",
          "Taiwan",
          "Taiwan",
          "Honduras",
          "Honduras",
          "Colombia",
          "Taiwan",
          "Mexico",
          "Colombia",
          "Taiwan",
          "Honduras",
          "Thailand",
          "Nicaragua",
          "Costa Rica",
          "Colombia",
          "Thailand",
          "Thailand",
          "Honduras",
          "Taiwan",
          "Taiwan",
          "Nicaragua",
          "El Salvador",
          "Brazil",
          "United States (Hawaii)",
          "Mexico",
          "Honduras",
          "Taiwan",
          "Nicaragua",
          "El Salvador",
          "El Salvador",
          "Taiwan",
          "Peru",
          "United States (Hawaii)",
          "Honduras",
          "Taiwan",
          "Taiwan",
          "Taiwan",
          "Thailand",
          "Guatemala",
          "Peru",
          "Guatemala",
          "Taiwan",
          "Brazil",
          "Brazil",
          "Colombia",
          "Mexico",
          "Costa Rica",
          "Taiwan",
          "Taiwan",
          "Thailand",
          "Thailand",
          "Thailand",
          "Colombia",
          "Brazil",
          "El Salvador",
          "Nicaragua",
          "Nicaragua",
          "Colombia",
          "Peru",
          "El Salvador",
          "Brazil",
          "Brazil",
          "Nicaragua",
          "El Salvador",
          "Brazil"
         ],
         "xaxis": "x",
         "y": [
          8.58,
          8.5,
          8.25,
          8.25,
          8.25,
          8.25,
          8.08,
          8.25,
          8,
          8,
          8,
          8,
          8,
          8,
          8,
          8.08,
          8.17,
          8.17,
          7.92,
          8.08,
          7.92,
          8.08,
          8,
          7.92,
          8,
          8,
          7.92,
          7.92,
          8,
          8.08,
          8,
          8,
          8,
          7.83,
          7.83,
          7.92,
          7.92,
          7.92,
          7.83,
          7.92,
          7.83,
          7.83,
          7.83,
          7.92,
          7.83,
          7.92,
          7.75,
          7.83,
          8,
          7.83,
          7.83,
          7.75,
          7.92,
          8.58,
          7.92,
          7.75,
          8,
          7.92,
          7.92,
          7.92,
          7.75,
          7.75,
          7.83,
          7.83,
          7.83,
          7.75,
          7.75,
          7.75,
          7.67,
          7.83,
          7.75,
          7.75,
          7.75,
          7.67,
          7.92,
          7.67,
          7.75,
          7.67,
          7.75,
          7.75,
          7.75,
          7.67,
          7.75,
          7.75,
          7.75,
          7.75,
          7.67,
          7.75,
          7.75,
          7.58,
          7.75,
          7.58,
          7.75,
          7.67,
          7.67,
          7.67,
          7.67,
          7.67,
          7.75,
          7.67,
          7.58,
          7.58,
          7.67,
          7.67,
          7.92,
          7.75,
          7.5,
          7.75,
          7.58,
          7.5,
          7.33,
          7.5,
          7.67,
          7.58,
          7.5,
          7.5,
          7.67,
          7.5,
          7.67,
          7.58,
          7.5,
          7.33,
          7.58,
          7.5,
          7.58,
          7.58,
          7.5,
          7.42,
          7.33,
          7.42,
          7.5,
          7.33,
          7.58,
          7.5,
          7.5,
          7.5,
          7.42,
          7.33,
          7.33,
          7.5,
          7.33,
          7.5,
          7.58,
          7.42,
          7.42,
          7.17,
          7.42,
          7.42,
          7.33,
          7.42,
          7.5,
          7.5,
          7.42,
          7.42,
          7.5,
          7.42,
          7.42,
          7.42,
          7.42,
          7.33,
          7.33,
          7.33,
          7.42,
          7.33,
          7.33,
          7.17,
          7.25,
          7.17,
          7.33,
          7.25,
          7.17,
          7.17,
          7.17,
          7.25,
          7,
          7,
          7.17,
          7.08,
          7.08,
          6.83,
          6.67
         ],
         "yaxis": "y"
        }
       ],
       "layout": {
        "barmode": "group",
        "height": 500,
        "legend": {
         "title": {
          "text": "variable"
         },
         "tracegroupgap": 0
        },
        "paper_bgcolor": "rgba(0, 0, 0, 0)",
        "plot_bgcolor": "rgba(0, 0, 0, 0)",
        "template": {
         "data": {
          "bar": [
           {
            "error_x": {
             "color": "#2a3f5f"
            },
            "error_y": {
             "color": "#2a3f5f"
            },
            "marker": {
             "line": {
              "color": "#E5ECF6",
              "width": 0.5
             },
             "pattern": {
              "fillmode": "overlay",
              "size": 10,
              "solidity": 0.2
             }
            },
            "type": "bar"
           }
          ],
          "barpolar": [
           {
            "marker": {
             "line": {
              "color": "#E5ECF6",
              "width": 0.5
             },
             "pattern": {
              "fillmode": "overlay",
              "size": 10,
              "solidity": 0.2
             }
            },
            "type": "barpolar"
           }
          ],
          "carpet": [
           {
            "aaxis": {
             "endlinecolor": "#2a3f5f",
             "gridcolor": "white",
             "linecolor": "white",
             "minorgridcolor": "white",
             "startlinecolor": "#2a3f5f"
            },
            "baxis": {
             "endlinecolor": "#2a3f5f",
             "gridcolor": "white",
             "linecolor": "white",
             "minorgridcolor": "white",
             "startlinecolor": "#2a3f5f"
            },
            "type": "carpet"
           }
          ],
          "choropleth": [
           {
            "colorbar": {
             "outlinewidth": 0,
             "ticks": ""
            },
            "type": "choropleth"
           }
          ],
          "contour": [
           {
            "colorbar": {
             "outlinewidth": 0,
             "ticks": ""
            },
            "colorscale": [
             [
              0,
              "#0d0887"
             ],
             [
              0.1111111111111111,
              "#46039f"
             ],
             [
              0.2222222222222222,
              "#7201a8"
             ],
             [
              0.3333333333333333,
              "#9c179e"
             ],
             [
              0.4444444444444444,
              "#bd3786"
             ],
             [
              0.5555555555555556,
              "#d8576b"
             ],
             [
              0.6666666666666666,
              "#ed7953"
             ],
             [
              0.7777777777777778,
              "#fb9f3a"
             ],
             [
              0.8888888888888888,
              "#fdca26"
             ],
             [
              1,
              "#f0f921"
             ]
            ],
            "type": "contour"
           }
          ],
          "contourcarpet": [
           {
            "colorbar": {
             "outlinewidth": 0,
             "ticks": ""
            },
            "type": "contourcarpet"
           }
          ],
          "heatmap": [
           {
            "colorbar": {
             "outlinewidth": 0,
             "ticks": ""
            },
            "colorscale": [
             [
              0,
              "#0d0887"
             ],
             [
              0.1111111111111111,
              "#46039f"
             ],
             [
              0.2222222222222222,
              "#7201a8"
             ],
             [
              0.3333333333333333,
              "#9c179e"
             ],
             [
              0.4444444444444444,
              "#bd3786"
             ],
             [
              0.5555555555555556,
              "#d8576b"
             ],
             [
              0.6666666666666666,
              "#ed7953"
             ],
             [
              0.7777777777777778,
              "#fb9f3a"
             ],
             [
              0.8888888888888888,
              "#fdca26"
             ],
             [
              1,
              "#f0f921"
             ]
            ],
            "type": "heatmap"
           }
          ],
          "heatmapgl": [
           {
            "colorbar": {
             "outlinewidth": 0,
             "ticks": ""
            },
            "colorscale": [
             [
              0,
              "#0d0887"
             ],
             [
              0.1111111111111111,
              "#46039f"
             ],
             [
              0.2222222222222222,
              "#7201a8"
             ],
             [
              0.3333333333333333,
              "#9c179e"
             ],
             [
              0.4444444444444444,
              "#bd3786"
             ],
             [
              0.5555555555555556,
              "#d8576b"
             ],
             [
              0.6666666666666666,
              "#ed7953"
             ],
             [
              0.7777777777777778,
              "#fb9f3a"
             ],
             [
              0.8888888888888888,
              "#fdca26"
             ],
             [
              1,
              "#f0f921"
             ]
            ],
            "type": "heatmapgl"
           }
          ],
          "histogram": [
           {
            "marker": {
             "pattern": {
              "fillmode": "overlay",
              "size": 10,
              "solidity": 0.2
             }
            },
            "type": "histogram"
           }
          ],
          "histogram2d": [
           {
            "colorbar": {
             "outlinewidth": 0,
             "ticks": ""
            },
            "colorscale": [
             [
              0,
              "#0d0887"
             ],
             [
              0.1111111111111111,
              "#46039f"
             ],
             [
              0.2222222222222222,
              "#7201a8"
             ],
             [
              0.3333333333333333,
              "#9c179e"
             ],
             [
              0.4444444444444444,
              "#bd3786"
             ],
             [
              0.5555555555555556,
              "#d8576b"
             ],
             [
              0.6666666666666666,
              "#ed7953"
             ],
             [
              0.7777777777777778,
              "#fb9f3a"
             ],
             [
              0.8888888888888888,
              "#fdca26"
             ],
             [
              1,
              "#f0f921"
             ]
            ],
            "type": "histogram2d"
           }
          ],
          "histogram2dcontour": [
           {
            "colorbar": {
             "outlinewidth": 0,
             "ticks": ""
            },
            "colorscale": [
             [
              0,
              "#0d0887"
             ],
             [
              0.1111111111111111,
              "#46039f"
             ],
             [
              0.2222222222222222,
              "#7201a8"
             ],
             [
              0.3333333333333333,
              "#9c179e"
             ],
             [
              0.4444444444444444,
              "#bd3786"
             ],
             [
              0.5555555555555556,
              "#d8576b"
             ],
             [
              0.6666666666666666,
              "#ed7953"
             ],
             [
              0.7777777777777778,
              "#fb9f3a"
             ],
             [
              0.8888888888888888,
              "#fdca26"
             ],
             [
              1,
              "#f0f921"
             ]
            ],
            "type": "histogram2dcontour"
           }
          ],
          "mesh3d": [
           {
            "colorbar": {
             "outlinewidth": 0,
             "ticks": ""
            },
            "type": "mesh3d"
           }
          ],
          "parcoords": [
           {
            "line": {
             "colorbar": {
              "outlinewidth": 0,
              "ticks": ""
             }
            },
            "type": "parcoords"
           }
          ],
          "pie": [
           {
            "automargin": true,
            "type": "pie"
           }
          ],
          "scatter": [
           {
            "fillpattern": {
             "fillmode": "overlay",
             "size": 10,
             "solidity": 0.2
            },
            "type": "scatter"
           }
          ],
          "scatter3d": [
           {
            "line": {
             "colorbar": {
              "outlinewidth": 0,
              "ticks": ""
             }
            },
            "marker": {
             "colorbar": {
              "outlinewidth": 0,
              "ticks": ""
             }
            },
            "type": "scatter3d"
           }
          ],
          "scattercarpet": [
           {
            "marker": {
             "colorbar": {
              "outlinewidth": 0,
              "ticks": ""
             }
            },
            "type": "scattercarpet"
           }
          ],
          "scattergeo": [
           {
            "marker": {
             "colorbar": {
              "outlinewidth": 0,
              "ticks": ""
             }
            },
            "type": "scattergeo"
           }
          ],
          "scattergl": [
           {
            "marker": {
             "colorbar": {
              "outlinewidth": 0,
              "ticks": ""
             }
            },
            "type": "scattergl"
           }
          ],
          "scattermapbox": [
           {
            "marker": {
             "colorbar": {
              "outlinewidth": 0,
              "ticks": ""
             }
            },
            "type": "scattermapbox"
           }
          ],
          "scatterpolar": [
           {
            "marker": {
             "colorbar": {
              "outlinewidth": 0,
              "ticks": ""
             }
            },
            "type": "scatterpolar"
           }
          ],
          "scatterpolargl": [
           {
            "marker": {
             "colorbar": {
              "outlinewidth": 0,
              "ticks": ""
             }
            },
            "type": "scatterpolargl"
           }
          ],
          "scatterternary": [
           {
            "marker": {
             "colorbar": {
              "outlinewidth": 0,
              "ticks": ""
             }
            },
            "type": "scatterternary"
           }
          ],
          "surface": [
           {
            "colorbar": {
             "outlinewidth": 0,
             "ticks": ""
            },
            "colorscale": [
             [
              0,
              "#0d0887"
             ],
             [
              0.1111111111111111,
              "#46039f"
             ],
             [
              0.2222222222222222,
              "#7201a8"
             ],
             [
              0.3333333333333333,
              "#9c179e"
             ],
             [
              0.4444444444444444,
              "#bd3786"
             ],
             [
              0.5555555555555556,
              "#d8576b"
             ],
             [
              0.6666666666666666,
              "#ed7953"
             ],
             [
              0.7777777777777778,
              "#fb9f3a"
             ],
             [
              0.8888888888888888,
              "#fdca26"
             ],
             [
              1,
              "#f0f921"
             ]
            ],
            "type": "surface"
           }
          ],
          "table": [
           {
            "cells": {
             "fill": {
              "color": "#EBF0F8"
             },
             "line": {
              "color": "white"
             }
            },
            "header": {
             "fill": {
              "color": "#C8D4E3"
             },
             "line": {
              "color": "white"
             }
            },
            "type": "table"
           }
          ]
         },
         "layout": {
          "annotationdefaults": {
           "arrowcolor": "#2a3f5f",
           "arrowhead": 0,
           "arrowwidth": 1
          },
          "autotypenumbers": "strict",
          "coloraxis": {
           "colorbar": {
            "outlinewidth": 0,
            "ticks": ""
           }
          },
          "colorscale": {
           "diverging": [
            [
             0,
             "#8e0152"
            ],
            [
             0.1,
             "#c51b7d"
            ],
            [
             0.2,
             "#de77ae"
            ],
            [
             0.3,
             "#f1b6da"
            ],
            [
             0.4,
             "#fde0ef"
            ],
            [
             0.5,
             "#f7f7f7"
            ],
            [
             0.6,
             "#e6f5d0"
            ],
            [
             0.7,
             "#b8e186"
            ],
            [
             0.8,
             "#7fbc41"
            ],
            [
             0.9,
             "#4d9221"
            ],
            [
             1,
             "#276419"
            ]
           ],
           "sequential": [
            [
             0,
             "#0d0887"
            ],
            [
             0.1111111111111111,
             "#46039f"
            ],
            [
             0.2222222222222222,
             "#7201a8"
            ],
            [
             0.3333333333333333,
             "#9c179e"
            ],
            [
             0.4444444444444444,
             "#bd3786"
            ],
            [
             0.5555555555555556,
             "#d8576b"
            ],
            [
             0.6666666666666666,
             "#ed7953"
            ],
            [
             0.7777777777777778,
             "#fb9f3a"
            ],
            [
             0.8888888888888888,
             "#fdca26"
            ],
            [
             1,
             "#f0f921"
            ]
           ],
           "sequentialminus": [
            [
             0,
             "#0d0887"
            ],
            [
             0.1111111111111111,
             "#46039f"
            ],
            [
             0.2222222222222222,
             "#7201a8"
            ],
            [
             0.3333333333333333,
             "#9c179e"
            ],
            [
             0.4444444444444444,
             "#bd3786"
            ],
            [
             0.5555555555555556,
             "#d8576b"
            ],
            [
             0.6666666666666666,
             "#ed7953"
            ],
            [
             0.7777777777777778,
             "#fb9f3a"
            ],
            [
             0.8888888888888888,
             "#fdca26"
            ],
            [
             1,
             "#f0f921"
            ]
           ]
          },
          "colorway": [
           "#636efa",
           "#EF553B",
           "#00cc96",
           "#ab63fa",
           "#FFA15A",
           "#19d3f3",
           "#FF6692",
           "#B6E880",
           "#FF97FF",
           "#FECB52"
          ],
          "font": {
           "color": "#2a3f5f"
          },
          "geo": {
           "bgcolor": "white",
           "lakecolor": "white",
           "landcolor": "#E5ECF6",
           "showlakes": true,
           "showland": true,
           "subunitcolor": "white"
          },
          "hoverlabel": {
           "align": "left"
          },
          "hovermode": "closest",
          "mapbox": {
           "style": "light"
          },
          "paper_bgcolor": "white",
          "plot_bgcolor": "#E5ECF6",
          "polar": {
           "angularaxis": {
            "gridcolor": "white",
            "linecolor": "white",
            "ticks": ""
           },
           "bgcolor": "#E5ECF6",
           "radialaxis": {
            "gridcolor": "white",
            "linecolor": "white",
            "ticks": ""
           }
          },
          "scene": {
           "xaxis": {
            "backgroundcolor": "#E5ECF6",
            "gridcolor": "white",
            "gridwidth": 2,
            "linecolor": "white",
            "showbackground": true,
            "ticks": "",
            "zerolinecolor": "white"
           },
           "yaxis": {
            "backgroundcolor": "#E5ECF6",
            "gridcolor": "white",
            "gridwidth": 2,
            "linecolor": "white",
            "showbackground": true,
            "ticks": "",
            "zerolinecolor": "white"
           },
           "zaxis": {
            "backgroundcolor": "#E5ECF6",
            "gridcolor": "white",
            "gridwidth": 2,
            "linecolor": "white",
            "showbackground": true,
            "ticks": "",
            "zerolinecolor": "white"
           }
          },
          "shapedefaults": {
           "line": {
            "color": "#2a3f5f"
           }
          },
          "ternary": {
           "aaxis": {
            "gridcolor": "white",
            "linecolor": "white",
            "ticks": ""
           },
           "baxis": {
            "gridcolor": "white",
            "linecolor": "white",
            "ticks": ""
           },
           "bgcolor": "#E5ECF6",
           "caxis": {
            "gridcolor": "white",
            "linecolor": "white",
            "ticks": ""
           }
          },
          "title": {
           "x": 0.05
          },
          "xaxis": {
           "automargin": true,
           "gridcolor": "white",
           "linecolor": "white",
           "ticks": "",
           "title": {
            "standoff": 15
           },
           "zerolinecolor": "white",
           "zerolinewidth": 2
          },
          "yaxis": {
           "automargin": true,
           "gridcolor": "white",
           "linecolor": "white",
           "ticks": "",
           "title": {
            "standoff": 15
           },
           "zerolinecolor": "white",
           "zerolinewidth": 2
          }
         }
        },
        "title": {
         "text": "Average Coffee Quality Measures by Country"
        },
        "width": 1200,
        "xaxis": {
         "anchor": "y",
         "categoryorder": "total descending",
         "domain": [
          0,
          1
         ],
         "title": {
          "text": "Country of Origin"
         }
        },
        "yaxis": {
         "anchor": "x",
         "domain": [
          0,
          1
         ],
         "title": {
          "text": "Average Score"
         }
        }
       }
      }
     },
     "metadata": {},
     "output_type": "display_data"
    }
   ],
   "source": [
    "# Compare average coffee quality in countries with 4 or more batches\n",
    "top_countries = coffee['country_of_origin'].value_counts().reset_index().rename(columns={'country_of_origin':'number_of_countries'})\n",
    "\n",
    "top_countries = top_countries[top_countries['number_of_countries'] >= 4]['index']\n",
    "\n",
    "quality_by_country = px.histogram(coffee[coffee['country_of_origin'].isin(top_countries)], x='country_of_origin', \n",
    "                                  y=['aroma', 'flavor', 'aftertaste', 'acidity', 'body', 'balance', 'overall'], \n",
    "                                  histfunc=\"avg\", title='Average Coffee Quality Measures by Country', \n",
    "                                  barmode='group', width=1200, height=500,\n",
    "                                  color_discrete_sequence=[px.colors.qualitative.Antique[1],\n",
    "                                                                            px.colors.qualitative.Antique[2],\n",
    "                                                                            px.colors.qualitative.Antique[3],\n",
    "                                                                            px.colors.qualitative.Antique[4],\n",
    "                                                                            px.colors.qualitative.Antique[8],\n",
    "                                                                            px.colors.qualitative.Antique[6],\n",
    "                                                                            px.colors.qualitative.Antique[5]])\n",
    "\n",
    "quality_by_country.update_layout({\n",
    "    'plot_bgcolor':'rgba(0, 0, 0, 0)',\n",
    "    'paper_bgcolor':'rgba(0, 0, 0, 0)'\n",
    "})\n",
    "\n",
    "quality_by_country.update_layout(xaxis={'categoryorder':'total descending'})\n",
    "quality_by_country.update_layout(yaxis_title='Average Score', xaxis_title='Country of Origin')\n",
    "\n",
    "quality_by_country.show()"
   ]
  },
  {
   "cell_type": "code",
   "execution_count": 659,
   "metadata": {},
   "outputs": [
    {
     "data": {
      "application/vnd.plotly.v1+json": {
       "config": {
        "plotlyServerURL": "https://plot.ly"
       },
       "data": [
        {
         "alignmentgroup": "True",
         "hovertemplate": "country_of_origin=%{x}<br>total_cup_points=%{y}<extra></extra>",
         "legendgroup": "",
         "marker": {
          "color": "rgb(104, 133, 92)"
         },
         "name": "",
         "notched": false,
         "offsetgroup": "",
         "orientation": "v",
         "showlegend": false,
         "type": "box",
         "x": [
          "Colombia",
          "Taiwan",
          "Costa Rica",
          "Colombia",
          "Guatemala",
          "Taiwan",
          "Taiwan",
          "Taiwan",
          "Tanzania",
          "Ethiopia",
          "Guatemala",
          "Taiwan",
          "Ethiopia",
          "Colombia",
          "Taiwan",
          "Ethiopia",
          "Taiwan",
          "Taiwan",
          "Tanzania",
          "Guatemala",
          "Taiwan",
          "Thailand",
          "Colombia",
          "Taiwan",
          "Brazil",
          "Taiwan",
          "Taiwan",
          "Taiwan",
          "United States (Hawaii)",
          "Taiwan",
          "Taiwan",
          "Taiwan",
          "Ethiopia",
          "Ethiopia",
          "Ethiopia",
          "Taiwan",
          "Taiwan",
          "Taiwan",
          "Taiwan",
          "Taiwan",
          "Taiwan",
          "Taiwan",
          "Guatemala",
          "Guatemala",
          "Taiwan",
          "Taiwan",
          "Peru",
          "Tanzania",
          "Taiwan",
          "Taiwan",
          "Brazil",
          "Taiwan",
          "Guatemala",
          "Costa Rica",
          "Taiwan",
          "Taiwan",
          "Nicaragua",
          "Taiwan",
          "Taiwan",
          "Costa Rica",
          "Taiwan",
          "Honduras",
          "Ethiopia",
          "Taiwan",
          "Taiwan",
          "Guatemala",
          "United States (Hawaii)",
          "Ethiopia",
          "El Salvador",
          "Colombia",
          "Guatemala",
          "Honduras",
          "Guatemala",
          "Taiwan",
          "Taiwan",
          "Guatemala",
          "Guatemala",
          "Honduras",
          "Tanzania",
          "Ethiopia",
          "Tanzania",
          "Colombia",
          "Costa Rica",
          "Guatemala",
          "Guatemala",
          "Thailand",
          "Colombia",
          "Guatemala",
          "Ethiopia",
          "Colombia",
          "United States (Hawaii)",
          "Colombia",
          "Mexico",
          "Taiwan",
          "Taiwan",
          "Honduras",
          "Taiwan",
          "Taiwan",
          "Guatemala",
          "Honduras",
          "Colombia",
          "Thailand",
          "Ethiopia",
          "Thailand",
          "Taiwan",
          "Taiwan",
          "Guatemala",
          "Taiwan",
          "Colombia",
          "Taiwan",
          "Thailand",
          "Tanzania",
          "Brazil",
          "Taiwan",
          "Colombia",
          "Honduras",
          "Honduras",
          "Taiwan",
          "Taiwan",
          "Honduras",
          "Honduras",
          "Colombia",
          "Taiwan",
          "Mexico",
          "Colombia",
          "Taiwan",
          "Honduras",
          "Thailand",
          "Nicaragua",
          "Costa Rica",
          "Colombia",
          "Thailand",
          "Thailand",
          "Honduras",
          "Taiwan",
          "Taiwan",
          "Nicaragua",
          "El Salvador",
          "Brazil",
          "United States (Hawaii)",
          "Mexico",
          "Honduras",
          "Taiwan",
          "Nicaragua",
          "El Salvador",
          "El Salvador",
          "Taiwan",
          "Peru",
          "United States (Hawaii)",
          "Honduras",
          "Taiwan",
          "Taiwan",
          "Taiwan",
          "Thailand",
          "Guatemala",
          "Peru",
          "Guatemala",
          "Taiwan",
          "Brazil",
          "Brazil",
          "Colombia",
          "Mexico",
          "Costa Rica",
          "Taiwan",
          "Taiwan",
          "Thailand",
          "Thailand",
          "Thailand",
          "Colombia",
          "Brazil",
          "El Salvador",
          "Nicaragua",
          "Nicaragua",
          "Colombia",
          "Peru",
          "El Salvador",
          "Brazil",
          "Brazil",
          "Nicaragua",
          "El Salvador",
          "Brazil"
         ],
         "x0": " ",
         "xaxis": "x",
         "y": [
          89.33,
          87.58,
          87.17,
          87.08,
          87,
          86.92,
          86.75,
          86.67,
          86.5,
          86.25,
          86.25,
          86.25,
          86.17,
          86.17,
          86.08,
          86.08,
          86.08,
          85.92,
          85.83,
          85.75,
          85.67,
          85.67,
          85.67,
          85.58,
          85.5,
          85.5,
          85.5,
          85.5,
          85.42,
          85.42,
          85.33,
          85.33,
          85.33,
          85.33,
          85.25,
          85.25,
          85.25,
          85.08,
          85.08,
          85.08,
          85,
          85,
          85,
          84.92,
          84.92,
          84.83,
          84.83,
          84.83,
          84.83,
          84.75,
          84.75,
          84.75,
          84.67,
          84.67,
          84.58,
          84.58,
          84.58,
          84.58,
          84.58,
          84.5,
          84.5,
          84.5,
          84.5,
          84.5,
          84.42,
          84.33,
          84.33,
          84.33,
          84.33,
          84.33,
          84.25,
          84.17,
          84.08,
          84.08,
          84.08,
          84.08,
          84,
          84,
          84,
          84,
          84,
          84,
          83.92,
          83.92,
          83.92,
          83.92,
          83.83,
          83.83,
          83.83,
          83.83,
          83.83,
          83.75,
          83.75,
          83.67,
          83.67,
          83.67,
          83.58,
          83.58,
          83.58,
          83.5,
          83.5,
          83.5,
          83.5,
          83.42,
          83.42,
          83.33,
          83.33,
          83.33,
          83.33,
          83.33,
          83.33,
          83.25,
          83.25,
          83.25,
          83.25,
          83.25,
          83.25,
          83.17,
          83.17,
          83.08,
          83.08,
          83,
          82.92,
          82.92,
          82.92,
          82.92,
          82.83,
          82.83,
          82.75,
          82.75,
          82.67,
          82.67,
          82.67,
          82.67,
          82.58,
          82.58,
          82.58,
          82.5,
          82.5,
          82.5,
          82.5,
          82.5,
          82.5,
          82.42,
          82.33,
          82.33,
          82.33,
          82.25,
          82.17,
          82.17,
          82.08,
          82.08,
          82,
          82,
          82,
          81.92,
          81.92,
          81.83,
          81.83,
          81.75,
          81.75,
          81.67,
          81.58,
          81.58,
          81.5,
          81.42,
          81.33,
          81.17,
          81.17,
          81,
          80.83,
          80.5,
          80.42,
          80.42,
          80.33,
          80.33,
          80.17,
          80.08,
          80,
          78.08,
          78
         ],
         "y0": " ",
         "yaxis": "y"
        }
       ],
       "layout": {
        "boxmode": "group",
        "height": 600,
        "legend": {
         "tracegroupgap": 0
        },
        "paper_bgcolor": "rgba(0, 0, 0, 0)",
        "plot_bgcolor": "rgba(0, 0, 0, 0)",
        "template": {
         "data": {
          "bar": [
           {
            "error_x": {
             "color": "#2a3f5f"
            },
            "error_y": {
             "color": "#2a3f5f"
            },
            "marker": {
             "line": {
              "color": "#E5ECF6",
              "width": 0.5
             },
             "pattern": {
              "fillmode": "overlay",
              "size": 10,
              "solidity": 0.2
             }
            },
            "type": "bar"
           }
          ],
          "barpolar": [
           {
            "marker": {
             "line": {
              "color": "#E5ECF6",
              "width": 0.5
             },
             "pattern": {
              "fillmode": "overlay",
              "size": 10,
              "solidity": 0.2
             }
            },
            "type": "barpolar"
           }
          ],
          "carpet": [
           {
            "aaxis": {
             "endlinecolor": "#2a3f5f",
             "gridcolor": "white",
             "linecolor": "white",
             "minorgridcolor": "white",
             "startlinecolor": "#2a3f5f"
            },
            "baxis": {
             "endlinecolor": "#2a3f5f",
             "gridcolor": "white",
             "linecolor": "white",
             "minorgridcolor": "white",
             "startlinecolor": "#2a3f5f"
            },
            "type": "carpet"
           }
          ],
          "choropleth": [
           {
            "colorbar": {
             "outlinewidth": 0,
             "ticks": ""
            },
            "type": "choropleth"
           }
          ],
          "contour": [
           {
            "colorbar": {
             "outlinewidth": 0,
             "ticks": ""
            },
            "colorscale": [
             [
              0,
              "#0d0887"
             ],
             [
              0.1111111111111111,
              "#46039f"
             ],
             [
              0.2222222222222222,
              "#7201a8"
             ],
             [
              0.3333333333333333,
              "#9c179e"
             ],
             [
              0.4444444444444444,
              "#bd3786"
             ],
             [
              0.5555555555555556,
              "#d8576b"
             ],
             [
              0.6666666666666666,
              "#ed7953"
             ],
             [
              0.7777777777777778,
              "#fb9f3a"
             ],
             [
              0.8888888888888888,
              "#fdca26"
             ],
             [
              1,
              "#f0f921"
             ]
            ],
            "type": "contour"
           }
          ],
          "contourcarpet": [
           {
            "colorbar": {
             "outlinewidth": 0,
             "ticks": ""
            },
            "type": "contourcarpet"
           }
          ],
          "heatmap": [
           {
            "colorbar": {
             "outlinewidth": 0,
             "ticks": ""
            },
            "colorscale": [
             [
              0,
              "#0d0887"
             ],
             [
              0.1111111111111111,
              "#46039f"
             ],
             [
              0.2222222222222222,
              "#7201a8"
             ],
             [
              0.3333333333333333,
              "#9c179e"
             ],
             [
              0.4444444444444444,
              "#bd3786"
             ],
             [
              0.5555555555555556,
              "#d8576b"
             ],
             [
              0.6666666666666666,
              "#ed7953"
             ],
             [
              0.7777777777777778,
              "#fb9f3a"
             ],
             [
              0.8888888888888888,
              "#fdca26"
             ],
             [
              1,
              "#f0f921"
             ]
            ],
            "type": "heatmap"
           }
          ],
          "heatmapgl": [
           {
            "colorbar": {
             "outlinewidth": 0,
             "ticks": ""
            },
            "colorscale": [
             [
              0,
              "#0d0887"
             ],
             [
              0.1111111111111111,
              "#46039f"
             ],
             [
              0.2222222222222222,
              "#7201a8"
             ],
             [
              0.3333333333333333,
              "#9c179e"
             ],
             [
              0.4444444444444444,
              "#bd3786"
             ],
             [
              0.5555555555555556,
              "#d8576b"
             ],
             [
              0.6666666666666666,
              "#ed7953"
             ],
             [
              0.7777777777777778,
              "#fb9f3a"
             ],
             [
              0.8888888888888888,
              "#fdca26"
             ],
             [
              1,
              "#f0f921"
             ]
            ],
            "type": "heatmapgl"
           }
          ],
          "histogram": [
           {
            "marker": {
             "pattern": {
              "fillmode": "overlay",
              "size": 10,
              "solidity": 0.2
             }
            },
            "type": "histogram"
           }
          ],
          "histogram2d": [
           {
            "colorbar": {
             "outlinewidth": 0,
             "ticks": ""
            },
            "colorscale": [
             [
              0,
              "#0d0887"
             ],
             [
              0.1111111111111111,
              "#46039f"
             ],
             [
              0.2222222222222222,
              "#7201a8"
             ],
             [
              0.3333333333333333,
              "#9c179e"
             ],
             [
              0.4444444444444444,
              "#bd3786"
             ],
             [
              0.5555555555555556,
              "#d8576b"
             ],
             [
              0.6666666666666666,
              "#ed7953"
             ],
             [
              0.7777777777777778,
              "#fb9f3a"
             ],
             [
              0.8888888888888888,
              "#fdca26"
             ],
             [
              1,
              "#f0f921"
             ]
            ],
            "type": "histogram2d"
           }
          ],
          "histogram2dcontour": [
           {
            "colorbar": {
             "outlinewidth": 0,
             "ticks": ""
            },
            "colorscale": [
             [
              0,
              "#0d0887"
             ],
             [
              0.1111111111111111,
              "#46039f"
             ],
             [
              0.2222222222222222,
              "#7201a8"
             ],
             [
              0.3333333333333333,
              "#9c179e"
             ],
             [
              0.4444444444444444,
              "#bd3786"
             ],
             [
              0.5555555555555556,
              "#d8576b"
             ],
             [
              0.6666666666666666,
              "#ed7953"
             ],
             [
              0.7777777777777778,
              "#fb9f3a"
             ],
             [
              0.8888888888888888,
              "#fdca26"
             ],
             [
              1,
              "#f0f921"
             ]
            ],
            "type": "histogram2dcontour"
           }
          ],
          "mesh3d": [
           {
            "colorbar": {
             "outlinewidth": 0,
             "ticks": ""
            },
            "type": "mesh3d"
           }
          ],
          "parcoords": [
           {
            "line": {
             "colorbar": {
              "outlinewidth": 0,
              "ticks": ""
             }
            },
            "type": "parcoords"
           }
          ],
          "pie": [
           {
            "automargin": true,
            "type": "pie"
           }
          ],
          "scatter": [
           {
            "fillpattern": {
             "fillmode": "overlay",
             "size": 10,
             "solidity": 0.2
            },
            "type": "scatter"
           }
          ],
          "scatter3d": [
           {
            "line": {
             "colorbar": {
              "outlinewidth": 0,
              "ticks": ""
             }
            },
            "marker": {
             "colorbar": {
              "outlinewidth": 0,
              "ticks": ""
             }
            },
            "type": "scatter3d"
           }
          ],
          "scattercarpet": [
           {
            "marker": {
             "colorbar": {
              "outlinewidth": 0,
              "ticks": ""
             }
            },
            "type": "scattercarpet"
           }
          ],
          "scattergeo": [
           {
            "marker": {
             "colorbar": {
              "outlinewidth": 0,
              "ticks": ""
             }
            },
            "type": "scattergeo"
           }
          ],
          "scattergl": [
           {
            "marker": {
             "colorbar": {
              "outlinewidth": 0,
              "ticks": ""
             }
            },
            "type": "scattergl"
           }
          ],
          "scattermapbox": [
           {
            "marker": {
             "colorbar": {
              "outlinewidth": 0,
              "ticks": ""
             }
            },
            "type": "scattermapbox"
           }
          ],
          "scatterpolar": [
           {
            "marker": {
             "colorbar": {
              "outlinewidth": 0,
              "ticks": ""
             }
            },
            "type": "scatterpolar"
           }
          ],
          "scatterpolargl": [
           {
            "marker": {
             "colorbar": {
              "outlinewidth": 0,
              "ticks": ""
             }
            },
            "type": "scatterpolargl"
           }
          ],
          "scatterternary": [
           {
            "marker": {
             "colorbar": {
              "outlinewidth": 0,
              "ticks": ""
             }
            },
            "type": "scatterternary"
           }
          ],
          "surface": [
           {
            "colorbar": {
             "outlinewidth": 0,
             "ticks": ""
            },
            "colorscale": [
             [
              0,
              "#0d0887"
             ],
             [
              0.1111111111111111,
              "#46039f"
             ],
             [
              0.2222222222222222,
              "#7201a8"
             ],
             [
              0.3333333333333333,
              "#9c179e"
             ],
             [
              0.4444444444444444,
              "#bd3786"
             ],
             [
              0.5555555555555556,
              "#d8576b"
             ],
             [
              0.6666666666666666,
              "#ed7953"
             ],
             [
              0.7777777777777778,
              "#fb9f3a"
             ],
             [
              0.8888888888888888,
              "#fdca26"
             ],
             [
              1,
              "#f0f921"
             ]
            ],
            "type": "surface"
           }
          ],
          "table": [
           {
            "cells": {
             "fill": {
              "color": "#EBF0F8"
             },
             "line": {
              "color": "white"
             }
            },
            "header": {
             "fill": {
              "color": "#C8D4E3"
             },
             "line": {
              "color": "white"
             }
            },
            "type": "table"
           }
          ]
         },
         "layout": {
          "annotationdefaults": {
           "arrowcolor": "#2a3f5f",
           "arrowhead": 0,
           "arrowwidth": 1
          },
          "autotypenumbers": "strict",
          "coloraxis": {
           "colorbar": {
            "outlinewidth": 0,
            "ticks": ""
           }
          },
          "colorscale": {
           "diverging": [
            [
             0,
             "#8e0152"
            ],
            [
             0.1,
             "#c51b7d"
            ],
            [
             0.2,
             "#de77ae"
            ],
            [
             0.3,
             "#f1b6da"
            ],
            [
             0.4,
             "#fde0ef"
            ],
            [
             0.5,
             "#f7f7f7"
            ],
            [
             0.6,
             "#e6f5d0"
            ],
            [
             0.7,
             "#b8e186"
            ],
            [
             0.8,
             "#7fbc41"
            ],
            [
             0.9,
             "#4d9221"
            ],
            [
             1,
             "#276419"
            ]
           ],
           "sequential": [
            [
             0,
             "#0d0887"
            ],
            [
             0.1111111111111111,
             "#46039f"
            ],
            [
             0.2222222222222222,
             "#7201a8"
            ],
            [
             0.3333333333333333,
             "#9c179e"
            ],
            [
             0.4444444444444444,
             "#bd3786"
            ],
            [
             0.5555555555555556,
             "#d8576b"
            ],
            [
             0.6666666666666666,
             "#ed7953"
            ],
            [
             0.7777777777777778,
             "#fb9f3a"
            ],
            [
             0.8888888888888888,
             "#fdca26"
            ],
            [
             1,
             "#f0f921"
            ]
           ],
           "sequentialminus": [
            [
             0,
             "#0d0887"
            ],
            [
             0.1111111111111111,
             "#46039f"
            ],
            [
             0.2222222222222222,
             "#7201a8"
            ],
            [
             0.3333333333333333,
             "#9c179e"
            ],
            [
             0.4444444444444444,
             "#bd3786"
            ],
            [
             0.5555555555555556,
             "#d8576b"
            ],
            [
             0.6666666666666666,
             "#ed7953"
            ],
            [
             0.7777777777777778,
             "#fb9f3a"
            ],
            [
             0.8888888888888888,
             "#fdca26"
            ],
            [
             1,
             "#f0f921"
            ]
           ]
          },
          "colorway": [
           "#636efa",
           "#EF553B",
           "#00cc96",
           "#ab63fa",
           "#FFA15A",
           "#19d3f3",
           "#FF6692",
           "#B6E880",
           "#FF97FF",
           "#FECB52"
          ],
          "font": {
           "color": "#2a3f5f"
          },
          "geo": {
           "bgcolor": "white",
           "lakecolor": "white",
           "landcolor": "#E5ECF6",
           "showlakes": true,
           "showland": true,
           "subunitcolor": "white"
          },
          "hoverlabel": {
           "align": "left"
          },
          "hovermode": "closest",
          "mapbox": {
           "style": "light"
          },
          "paper_bgcolor": "white",
          "plot_bgcolor": "#E5ECF6",
          "polar": {
           "angularaxis": {
            "gridcolor": "white",
            "linecolor": "white",
            "ticks": ""
           },
           "bgcolor": "#E5ECF6",
           "radialaxis": {
            "gridcolor": "white",
            "linecolor": "white",
            "ticks": ""
           }
          },
          "scene": {
           "xaxis": {
            "backgroundcolor": "#E5ECF6",
            "gridcolor": "white",
            "gridwidth": 2,
            "linecolor": "white",
            "showbackground": true,
            "ticks": "",
            "zerolinecolor": "white"
           },
           "yaxis": {
            "backgroundcolor": "#E5ECF6",
            "gridcolor": "white",
            "gridwidth": 2,
            "linecolor": "white",
            "showbackground": true,
            "ticks": "",
            "zerolinecolor": "white"
           },
           "zaxis": {
            "backgroundcolor": "#E5ECF6",
            "gridcolor": "white",
            "gridwidth": 2,
            "linecolor": "white",
            "showbackground": true,
            "ticks": "",
            "zerolinecolor": "white"
           }
          },
          "shapedefaults": {
           "line": {
            "color": "#2a3f5f"
           }
          },
          "ternary": {
           "aaxis": {
            "gridcolor": "white",
            "linecolor": "white",
            "ticks": ""
           },
           "baxis": {
            "gridcolor": "white",
            "linecolor": "white",
            "ticks": ""
           },
           "bgcolor": "#E5ECF6",
           "caxis": {
            "gridcolor": "white",
            "linecolor": "white",
            "ticks": ""
           }
          },
          "title": {
           "x": 0.05
          },
          "xaxis": {
           "automargin": true,
           "gridcolor": "white",
           "linecolor": "white",
           "ticks": "",
           "title": {
            "standoff": 15
           },
           "zerolinecolor": "white",
           "zerolinewidth": 2
          },
          "yaxis": {
           "automargin": true,
           "gridcolor": "white",
           "linecolor": "white",
           "ticks": "",
           "title": {
            "standoff": 15
           },
           "zerolinecolor": "white",
           "zerolinewidth": 2
          }
         }
        },
        "title": {
         "text": "Distribution of Total Cup Points by Country"
        },
        "width": 1100,
        "xaxis": {
         "anchor": "y",
         "domain": [
          0,
          1
         ],
         "title": {
          "text": "Country of Origin"
         }
        },
        "yaxis": {
         "anchor": "x",
         "domain": [
          0,
          1
         ],
         "title": {
          "text": "Total Cup Points"
         }
        }
       }
      }
     },
     "metadata": {},
     "output_type": "display_data"
    }
   ],
   "source": [
    "# Boxplot of total cup points by country\n",
    "quality_country_box = px.box(coffee[coffee['country_of_origin'].isin(top_countries)], x='country_of_origin', \n",
    "                                  y='total_cup_points', title='Distribution of Total Cup Points by Country',\n",
    "                                  color_discrete_sequence=[px.colors.qualitative.Antique[6]],\n",
    "                                  width=1100, height=600)\n",
    "\n",
    "quality_country_box.update_layout({\n",
    "    'plot_bgcolor':'rgba(0, 0, 0, 0)',\n",
    "    'paper_bgcolor':'rgba(0, 0, 0, 0)'\n",
    "})\n",
    "\n",
    "quality_country_box.update_layout(yaxis_title='Total Cup Points', xaxis_title='Country of Origin')\n",
    "\n",
    "quality_country_box.show()"
   ]
  },
  {
   "attachments": {},
   "cell_type": "markdown",
   "metadata": {},
   "source": [
    "All countries have similar average coffee aroma, flavor, aftertaste, acidity, body, balance, and overall quality score. There are no noteable differences in quality by country."
   ]
  },
  {
   "attachments": {},
   "cell_type": "markdown",
   "metadata": {},
   "source": [
    "### Coffee Quality by Variety"
   ]
  },
  {
   "cell_type": "code",
   "execution_count": 660,
   "metadata": {},
   "outputs": [
    {
     "data": {
      "application/vnd.plotly.v1+json": {
       "config": {
        "plotlyServerURL": "https://plot.ly"
       },
       "data": [
        {
         "alignmentgroup": "True",
         "bingroup": "x",
         "histfunc": "avg",
         "hovertemplate": "variable=aroma<br>Top Varieties=%{x}<br>avg of value=%{y}<extra></extra>",
         "legendgroup": "aroma",
         "marker": {
          "color": "rgb(217, 175, 107)",
          "pattern": {
           "shape": ""
          }
         },
         "name": "aroma",
         "offsetgroup": "aroma",
         "orientation": "v",
         "showlegend": true,
         "type": "histogram",
         "x": [
          "Gesha",
          "Java",
          "Gesha",
          "Gesha",
          "Gesha",
          "SL34",
          "Bourbon",
          "Ethiopian Heirlooms",
          "Gesha",
          "Gesha",
          "Gesha",
          "Caturra",
          "SL34",
          "Gesha",
          "Gesha",
          "Bourbon",
          "Gesha",
          "Typica",
          "Catimor",
          "SL34",
          "Gesha",
          "Gesha",
          "Gesha",
          "Typica",
          "Typica",
          "Typica",
          "Gesha",
          "Ethiopian Heirlooms",
          "Ethiopian Heirlooms",
          "Ethiopian Heirlooms",
          "Gesha",
          "Gesha",
          "SL28",
          "Typica",
          "Typica",
          "Gesha",
          "SL14",
          "Typica",
          "Gesha",
          "Caturra",
          "Caturra",
          "Typica",
          "Yellow Bourbon",
          "Catimor",
          "Gesha",
          "Bourbon",
          "SL34",
          "SL34",
          "Yellow Bourbon",
          "Catuai",
          "Yellow Bourbon",
          "Caturra",
          "Caturra",
          "Typica",
          "Gesha",
          "Gesha",
          "SL34",
          "Catimor",
          "Gesha",
          "Catuai",
          "Ethiopian Heirlooms",
          "Typica",
          "Gesha",
          "Bourbon",
          "Catuai",
          "Ethiopian Heirlooms",
          "Pacamara",
          "Typica",
          "Bourbon",
          "Catuai",
          "Caturra",
          "Gesha",
          "Caturra",
          "Caturra",
          "Typica",
          "Bourbon",
          "Ethiopian Heirlooms",
          "Bourbon",
          "Caturra",
          "Caturra",
          "Gesha",
          "Bourbon",
          "Catimor",
          "Ethiopian Heirlooms",
          "Caturra",
          "Typica",
          "Sarchimor",
          "SL34",
          "Parainema",
          "Typica",
          "Caturra",
          "SHG",
          "Caturra",
          "Bourbon",
          "Ethiopian Heirlooms",
          "Java",
          "SL14",
          "SL14",
          "Typica",
          "Typica",
          "Caturra",
          "SL34",
          "Typica",
          "Bourbon",
          "Mundo Novo",
          "Catuai",
          "Typica",
          "Catimor",
          "Catuai",
          "Catuai",
          "Caturra",
          "Typica",
          "Bourbon",
          "Gesha",
          "Catuai",
          "Catimor",
          "SHG",
          "SL28",
          "Caturra",
          "Caturra",
          "Catuai",
          "Caturra",
          "Parainema",
          "Bourbon",
          "Caturra",
          "Mundo Novo",
          "Maragogype",
          "Pacamara",
          "Catuai",
          "Catimor",
          "Bourbon",
          "Bourbon",
          "Caturra",
          "Typica",
          "Catuai",
          "Catimor",
          "Caturra",
          "Caturra",
          "Typica",
          "Typica",
          "Caturra",
          "Typica",
          "Java",
          "Catimor",
          "Bourbon",
          "Caturra",
          "Sarchimor",
          "Caturra",
          "Mundo Novo",
          "SHG",
          "Catimor",
          "Maragogype",
          "Mundo Novo"
         ],
         "xaxis": "x",
         "y": [
          8.5,
          8.33,
          8.08,
          8.33,
          8.33,
          8.08,
          8.08,
          8.08,
          8.08,
          8.08,
          7.67,
          8.08,
          8.17,
          8,
          8.08,
          8.17,
          8,
          8.08,
          7.67,
          7.83,
          7.92,
          8.17,
          8,
          8,
          8,
          7.92,
          8.08,
          7.67,
          8,
          7.92,
          8,
          8.25,
          8.17,
          8,
          8,
          8,
          8,
          7.92,
          8.17,
          7.67,
          7.83,
          7.92,
          8,
          7.83,
          8,
          7.92,
          7.83,
          7.67,
          7.83,
          7.83,
          7.92,
          7.67,
          7.58,
          7.83,
          8.17,
          8.08,
          7.83,
          8,
          7.75,
          7.83,
          7.92,
          8.08,
          7.83,
          7.67,
          7.92,
          7.83,
          7.83,
          7.58,
          7.92,
          7.75,
          7.58,
          7.92,
          7.67,
          7.67,
          7.75,
          7.58,
          8,
          7.75,
          7.67,
          7.67,
          7.83,
          7.58,
          7.75,
          7.83,
          7.92,
          7.67,
          7.67,
          7.67,
          7.67,
          7.58,
          7.58,
          7.75,
          7.75,
          7.42,
          7.42,
          7.67,
          7.75,
          7.75,
          7.58,
          7.58,
          7.67,
          7.75,
          7.92,
          7.92,
          7.58,
          7.75,
          7.75,
          7.67,
          7.67,
          7.75,
          8,
          7.5,
          7.75,
          7.67,
          7.67,
          7.58,
          7.33,
          7.33,
          7.58,
          7.33,
          7.67,
          7.67,
          7.5,
          7.67,
          7.75,
          7.5,
          7.33,
          7.67,
          7.58,
          7.5,
          7.5,
          7.33,
          7.67,
          7.75,
          7.67,
          7.17,
          7.5,
          7.33,
          7.25,
          7.58,
          7.33,
          7.42,
          7.33,
          7.25,
          7.42,
          7.25,
          7.42,
          7.5,
          7.17,
          7.33,
          7.25,
          6.5,
          7.25
         ],
         "yaxis": "y"
        },
        {
         "alignmentgroup": "True",
         "bingroup": "x",
         "histfunc": "avg",
         "hovertemplate": "variable=flavor<br>Top Varieties=%{x}<br>avg of value=%{y}<extra></extra>",
         "legendgroup": "flavor",
         "marker": {
          "color": "rgb(175, 100, 88)",
          "pattern": {
           "shape": ""
          }
         },
         "name": "flavor",
         "offsetgroup": "flavor",
         "orientation": "v",
         "showlegend": true,
         "type": "histogram",
         "x": [
          "Gesha",
          "Java",
          "Gesha",
          "Gesha",
          "Gesha",
          "SL34",
          "Bourbon",
          "Ethiopian Heirlooms",
          "Gesha",
          "Gesha",
          "Gesha",
          "Caturra",
          "SL34",
          "Gesha",
          "Gesha",
          "Bourbon",
          "Gesha",
          "Typica",
          "Catimor",
          "SL34",
          "Gesha",
          "Gesha",
          "Gesha",
          "Typica",
          "Typica",
          "Typica",
          "Gesha",
          "Ethiopian Heirlooms",
          "Ethiopian Heirlooms",
          "Ethiopian Heirlooms",
          "Gesha",
          "Gesha",
          "SL28",
          "Typica",
          "Typica",
          "Gesha",
          "SL14",
          "Typica",
          "Gesha",
          "Caturra",
          "Caturra",
          "Typica",
          "Yellow Bourbon",
          "Catimor",
          "Gesha",
          "Bourbon",
          "SL34",
          "SL34",
          "Yellow Bourbon",
          "Catuai",
          "Yellow Bourbon",
          "Caturra",
          "Caturra",
          "Typica",
          "Gesha",
          "Gesha",
          "SL34",
          "Catimor",
          "Gesha",
          "Catuai",
          "Ethiopian Heirlooms",
          "Typica",
          "Gesha",
          "Bourbon",
          "Catuai",
          "Ethiopian Heirlooms",
          "Pacamara",
          "Typica",
          "Bourbon",
          "Catuai",
          "Caturra",
          "Gesha",
          "Caturra",
          "Caturra",
          "Typica",
          "Bourbon",
          "Ethiopian Heirlooms",
          "Bourbon",
          "Caturra",
          "Caturra",
          "Gesha",
          "Bourbon",
          "Catimor",
          "Ethiopian Heirlooms",
          "Caturra",
          "Typica",
          "Sarchimor",
          "SL34",
          "Parainema",
          "Typica",
          "Caturra",
          "SHG",
          "Caturra",
          "Bourbon",
          "Ethiopian Heirlooms",
          "Java",
          "SL14",
          "SL14",
          "Typica",
          "Typica",
          "Caturra",
          "SL34",
          "Typica",
          "Bourbon",
          "Mundo Novo",
          "Catuai",
          "Typica",
          "Catimor",
          "Catuai",
          "Catuai",
          "Caturra",
          "Typica",
          "Bourbon",
          "Gesha",
          "Catuai",
          "Catimor",
          "SHG",
          "SL28",
          "Caturra",
          "Caturra",
          "Catuai",
          "Caturra",
          "Parainema",
          "Bourbon",
          "Caturra",
          "Mundo Novo",
          "Maragogype",
          "Pacamara",
          "Catuai",
          "Catimor",
          "Bourbon",
          "Bourbon",
          "Caturra",
          "Typica",
          "Catuai",
          "Catimor",
          "Caturra",
          "Caturra",
          "Typica",
          "Typica",
          "Caturra",
          "Typica",
          "Java",
          "Catimor",
          "Bourbon",
          "Caturra",
          "Sarchimor",
          "Caturra",
          "Mundo Novo",
          "SHG",
          "Catimor",
          "Maragogype",
          "Mundo Novo"
         ],
         "xaxis": "x",
         "y": [
          8.5,
          8.42,
          8.17,
          8.33,
          8.17,
          8.08,
          8.17,
          8.25,
          8,
          8,
          8.17,
          8,
          8.08,
          8.17,
          8.17,
          8,
          7.92,
          8,
          8,
          8,
          7.92,
          8.08,
          8,
          7.92,
          8,
          8,
          8.17,
          7.83,
          8.08,
          7.75,
          7.92,
          8.08,
          7.75,
          7.92,
          8.08,
          7.92,
          7.92,
          8,
          8.08,
          8.08,
          7.92,
          7.92,
          8,
          7.92,
          8,
          7.75,
          7.83,
          7.92,
          7.92,
          7.83,
          8.08,
          8,
          7.83,
          7.83,
          7.83,
          7.83,
          8,
          7.83,
          7.83,
          7.92,
          7.83,
          7.92,
          8,
          7.83,
          7.83,
          7.75,
          7.83,
          7.92,
          7.92,
          7.75,
          7.92,
          7.75,
          7.83,
          7.92,
          7.75,
          7.67,
          7.75,
          7.58,
          7.83,
          7.92,
          7.83,
          7.83,
          7.67,
          7.67,
          7.75,
          7.92,
          7.67,
          7.67,
          7.67,
          7.75,
          7.83,
          7.67,
          7.75,
          7.83,
          7.42,
          7.67,
          7.75,
          7.67,
          7.67,
          7.67,
          7.67,
          7.83,
          7.92,
          7.67,
          7.5,
          7.58,
          7.75,
          7.75,
          7.67,
          7.58,
          7.67,
          7.67,
          7.5,
          7.5,
          7.58,
          7.42,
          7.58,
          7.5,
          7.67,
          7.58,
          7.58,
          7.58,
          7.58,
          7.33,
          7.67,
          7.58,
          7.58,
          7.42,
          7.58,
          7.5,
          7.5,
          7.67,
          7.5,
          7.42,
          7.5,
          7.5,
          7.5,
          7.42,
          7.42,
          7.42,
          7.42,
          7.5,
          7.42,
          7.25,
          7.33,
          7.25,
          7.17,
          7.25,
          7.17,
          7.08,
          7.17,
          6.75,
          7.08
         ],
         "yaxis": "y"
        },
        {
         "alignmentgroup": "True",
         "bingroup": "x",
         "histfunc": "avg",
         "hovertemplate": "variable=aftertaste<br>Top Varieties=%{x}<br>avg of value=%{y}<extra></extra>",
         "legendgroup": "aftertaste",
         "marker": {
          "color": "rgb(115, 111, 76)",
          "pattern": {
           "shape": ""
          }
         },
         "name": "aftertaste",
         "offsetgroup": "aftertaste",
         "orientation": "v",
         "showlegend": true,
         "type": "histogram",
         "x": [
          "Gesha",
          "Java",
          "Gesha",
          "Gesha",
          "Gesha",
          "SL34",
          "Bourbon",
          "Ethiopian Heirlooms",
          "Gesha",
          "Gesha",
          "Gesha",
          "Caturra",
          "SL34",
          "Gesha",
          "Gesha",
          "Bourbon",
          "Gesha",
          "Typica",
          "Catimor",
          "SL34",
          "Gesha",
          "Gesha",
          "Gesha",
          "Typica",
          "Typica",
          "Typica",
          "Gesha",
          "Ethiopian Heirlooms",
          "Ethiopian Heirlooms",
          "Ethiopian Heirlooms",
          "Gesha",
          "Gesha",
          "SL28",
          "Typica",
          "Typica",
          "Gesha",
          "SL14",
          "Typica",
          "Gesha",
          "Caturra",
          "Caturra",
          "Typica",
          "Yellow Bourbon",
          "Catimor",
          "Gesha",
          "Bourbon",
          "SL34",
          "SL34",
          "Yellow Bourbon",
          "Catuai",
          "Yellow Bourbon",
          "Caturra",
          "Caturra",
          "Typica",
          "Gesha",
          "Gesha",
          "SL34",
          "Catimor",
          "Gesha",
          "Catuai",
          "Ethiopian Heirlooms",
          "Typica",
          "Gesha",
          "Bourbon",
          "Catuai",
          "Ethiopian Heirlooms",
          "Pacamara",
          "Typica",
          "Bourbon",
          "Catuai",
          "Caturra",
          "Gesha",
          "Caturra",
          "Caturra",
          "Typica",
          "Bourbon",
          "Ethiopian Heirlooms",
          "Bourbon",
          "Caturra",
          "Caturra",
          "Gesha",
          "Bourbon",
          "Catimor",
          "Ethiopian Heirlooms",
          "Caturra",
          "Typica",
          "Sarchimor",
          "SL34",
          "Parainema",
          "Typica",
          "Caturra",
          "SHG",
          "Caturra",
          "Bourbon",
          "Ethiopian Heirlooms",
          "Java",
          "SL14",
          "SL14",
          "Typica",
          "Typica",
          "Caturra",
          "SL34",
          "Typica",
          "Bourbon",
          "Mundo Novo",
          "Catuai",
          "Typica",
          "Catimor",
          "Catuai",
          "Catuai",
          "Caturra",
          "Typica",
          "Bourbon",
          "Gesha",
          "Catuai",
          "Catimor",
          "SHG",
          "SL28",
          "Caturra",
          "Caturra",
          "Catuai",
          "Caturra",
          "Parainema",
          "Bourbon",
          "Caturra",
          "Mundo Novo",
          "Maragogype",
          "Pacamara",
          "Catuai",
          "Catimor",
          "Bourbon",
          "Bourbon",
          "Caturra",
          "Typica",
          "Catuai",
          "Catimor",
          "Caturra",
          "Caturra",
          "Typica",
          "Typica",
          "Caturra",
          "Typica",
          "Java",
          "Catimor",
          "Bourbon",
          "Caturra",
          "Sarchimor",
          "Caturra",
          "Mundo Novo",
          "SHG",
          "Catimor",
          "Maragogype",
          "Mundo Novo"
         ],
         "xaxis": "x",
         "y": [
          7.92,
          8.08,
          8.17,
          8.25,
          8.08,
          8.25,
          8.08,
          8,
          8,
          8.08,
          8,
          8.08,
          8,
          8,
          7.75,
          7.92,
          8.08,
          7.92,
          7.83,
          7.92,
          8,
          7.92,
          8,
          8,
          7.83,
          7.83,
          7.67,
          7.83,
          8,
          7.83,
          7.83,
          7.83,
          7.83,
          7.83,
          7.67,
          7.67,
          7.75,
          7.92,
          7.83,
          7.67,
          7.75,
          7.83,
          7.75,
          7.75,
          7.83,
          7.75,
          7.67,
          7.92,
          7.75,
          7.75,
          7.67,
          7.67,
          7.5,
          7.75,
          7.67,
          7.67,
          7.67,
          7.75,
          7.67,
          7.75,
          7.75,
          7.75,
          7.5,
          7.75,
          7.75,
          7.58,
          7.83,
          7.67,
          7.58,
          7.58,
          7.58,
          7.67,
          7.67,
          7.67,
          7.75,
          7.75,
          7.5,
          7.58,
          7.58,
          7.58,
          7.58,
          7.58,
          7.58,
          7.5,
          7.42,
          7.58,
          7.58,
          7.75,
          7.58,
          7.58,
          7.58,
          7.58,
          7.5,
          7.58,
          7.42,
          7.5,
          7.5,
          7.58,
          7.5,
          7.58,
          7.42,
          7.58,
          7.75,
          7.42,
          7.5,
          7.58,
          7.5,
          7.33,
          7.5,
          7.58,
          7.42,
          7.58,
          7.42,
          7.42,
          7.5,
          7.58,
          7.25,
          7.25,
          7.58,
          7.58,
          7.33,
          7.42,
          7.42,
          7.17,
          7.17,
          7.5,
          7.5,
          7.5,
          7.33,
          7.33,
          7.42,
          7.25,
          7.33,
          7.33,
          7.25,
          7.42,
          7.33,
          7.33,
          7.42,
          7.25,
          7.25,
          7.33,
          7.25,
          7.42,
          7.33,
          7.17,
          7,
          7.17,
          6.92,
          6.75,
          7.08,
          6.75,
          6.67
         ],
         "yaxis": "y"
        },
        {
         "alignmentgroup": "True",
         "bingroup": "x",
         "histfunc": "avg",
         "hovertemplate": "variable=acidity<br>Top Varieties=%{x}<br>avg of value=%{y}<extra></extra>",
         "legendgroup": "acidity",
         "marker": {
          "color": "rgb(82, 106, 131)",
          "pattern": {
           "shape": ""
          }
         },
         "name": "acidity",
         "offsetgroup": "acidity",
         "orientation": "v",
         "showlegend": true,
         "type": "histogram",
         "x": [
          "Gesha",
          "Java",
          "Gesha",
          "Gesha",
          "Gesha",
          "SL34",
          "Bourbon",
          "Ethiopian Heirlooms",
          "Gesha",
          "Gesha",
          "Gesha",
          "Caturra",
          "SL34",
          "Gesha",
          "Gesha",
          "Bourbon",
          "Gesha",
          "Typica",
          "Catimor",
          "SL34",
          "Gesha",
          "Gesha",
          "Gesha",
          "Typica",
          "Typica",
          "Typica",
          "Gesha",
          "Ethiopian Heirlooms",
          "Ethiopian Heirlooms",
          "Ethiopian Heirlooms",
          "Gesha",
          "Gesha",
          "SL28",
          "Typica",
          "Typica",
          "Gesha",
          "SL14",
          "Typica",
          "Gesha",
          "Caturra",
          "Caturra",
          "Typica",
          "Yellow Bourbon",
          "Catimor",
          "Gesha",
          "Bourbon",
          "SL34",
          "SL34",
          "Yellow Bourbon",
          "Catuai",
          "Yellow Bourbon",
          "Caturra",
          "Caturra",
          "Typica",
          "Gesha",
          "Gesha",
          "SL34",
          "Catimor",
          "Gesha",
          "Catuai",
          "Ethiopian Heirlooms",
          "Typica",
          "Gesha",
          "Bourbon",
          "Catuai",
          "Ethiopian Heirlooms",
          "Pacamara",
          "Typica",
          "Bourbon",
          "Catuai",
          "Caturra",
          "Gesha",
          "Caturra",
          "Caturra",
          "Typica",
          "Bourbon",
          "Ethiopian Heirlooms",
          "Bourbon",
          "Caturra",
          "Caturra",
          "Gesha",
          "Bourbon",
          "Catimor",
          "Ethiopian Heirlooms",
          "Caturra",
          "Typica",
          "Sarchimor",
          "SL34",
          "Parainema",
          "Typica",
          "Caturra",
          "SHG",
          "Caturra",
          "Bourbon",
          "Ethiopian Heirlooms",
          "Java",
          "SL14",
          "SL14",
          "Typica",
          "Typica",
          "Caturra",
          "SL34",
          "Typica",
          "Bourbon",
          "Mundo Novo",
          "Catuai",
          "Typica",
          "Catimor",
          "Catuai",
          "Catuai",
          "Caturra",
          "Typica",
          "Bourbon",
          "Gesha",
          "Catuai",
          "Catimor",
          "SHG",
          "SL28",
          "Caturra",
          "Caturra",
          "Catuai",
          "Caturra",
          "Parainema",
          "Bourbon",
          "Caturra",
          "Mundo Novo",
          "Maragogype",
          "Pacamara",
          "Catuai",
          "Catimor",
          "Bourbon",
          "Bourbon",
          "Caturra",
          "Typica",
          "Catuai",
          "Catimor",
          "Caturra",
          "Caturra",
          "Typica",
          "Typica",
          "Caturra",
          "Typica",
          "Java",
          "Catimor",
          "Bourbon",
          "Caturra",
          "Sarchimor",
          "Caturra",
          "Mundo Novo",
          "SHG",
          "Catimor",
          "Maragogype",
          "Mundo Novo"
         ],
         "xaxis": "x",
         "y": [
          8,
          8.17,
          8.25,
          7.83,
          8,
          8.08,
          8.17,
          8.08,
          7.75,
          8.08,
          8.33,
          7.92,
          7.92,
          7.92,
          7.92,
          7.92,
          7.92,
          7.92,
          8,
          8,
          7.92,
          8,
          7.92,
          7.83,
          7.83,
          7.92,
          7.83,
          8,
          8,
          8.17,
          7.92,
          7.75,
          7.58,
          7.92,
          7.75,
          8,
          7.75,
          8,
          7.67,
          8,
          8,
          7.83,
          7.75,
          7.83,
          7.83,
          7.92,
          7.67,
          7.83,
          7.92,
          7.92,
          7.92,
          7.83,
          7.67,
          7.75,
          7.83,
          7.67,
          7.75,
          7.67,
          7.83,
          7.75,
          7.92,
          7.83,
          7.75,
          7.75,
          7.92,
          7.92,
          7.83,
          7.75,
          7.75,
          7.83,
          7.83,
          7.75,
          7.83,
          7.75,
          7.67,
          7.75,
          7.67,
          7.92,
          7.92,
          7.75,
          7.67,
          7.75,
          7.75,
          7.92,
          7.58,
          7.58,
          7.67,
          7.75,
          7.75,
          7.75,
          7.67,
          7.58,
          7.58,
          7.67,
          8,
          7.67,
          7.5,
          7.5,
          7.75,
          7.75,
          7.75,
          7.58,
          7.33,
          7.5,
          7.83,
          7.58,
          7.75,
          7.67,
          7.58,
          7.58,
          7.58,
          7.58,
          7.67,
          7.75,
          7.5,
          7.5,
          7.33,
          7.92,
          7.5,
          7.5,
          7.5,
          7.42,
          7.58,
          7.67,
          7.67,
          7.5,
          7.5,
          7.5,
          7.5,
          7.5,
          7.42,
          7.67,
          7.58,
          7.5,
          7.5,
          7.42,
          7.5,
          7.42,
          7.5,
          7.25,
          7.42,
          7.33,
          7.33,
          7.25,
          7.5,
          7.33,
          7.08,
          7.17,
          7.17,
          7.17,
          7,
          7.17,
          6.83
         ],
         "yaxis": "y"
        },
        {
         "alignmentgroup": "True",
         "bingroup": "x",
         "histfunc": "avg",
         "hovertemplate": "variable=body<br>Top Varieties=%{x}<br>avg of value=%{y}<extra></extra>",
         "legendgroup": "body",
         "marker": {
          "color": "rgb(160, 97, 119)",
          "pattern": {
           "shape": ""
          }
         },
         "name": "body",
         "offsetgroup": "body",
         "orientation": "v",
         "showlegend": true,
         "type": "histogram",
         "x": [
          "Gesha",
          "Java",
          "Gesha",
          "Gesha",
          "Gesha",
          "SL34",
          "Bourbon",
          "Ethiopian Heirlooms",
          "Gesha",
          "Gesha",
          "Gesha",
          "Caturra",
          "SL34",
          "Gesha",
          "Gesha",
          "Bourbon",
          "Gesha",
          "Typica",
          "Catimor",
          "SL34",
          "Gesha",
          "Gesha",
          "Gesha",
          "Typica",
          "Typica",
          "Typica",
          "Gesha",
          "Ethiopian Heirlooms",
          "Ethiopian Heirlooms",
          "Ethiopian Heirlooms",
          "Gesha",
          "Gesha",
          "SL28",
          "Typica",
          "Typica",
          "Gesha",
          "SL14",
          "Typica",
          "Gesha",
          "Caturra",
          "Caturra",
          "Typica",
          "Yellow Bourbon",
          "Catimor",
          "Gesha",
          "Bourbon",
          "SL34",
          "SL34",
          "Yellow Bourbon",
          "Catuai",
          "Yellow Bourbon",
          "Caturra",
          "Caturra",
          "Typica",
          "Gesha",
          "Gesha",
          "SL34",
          "Catimor",
          "Gesha",
          "Catuai",
          "Ethiopian Heirlooms",
          "Typica",
          "Gesha",
          "Bourbon",
          "Catuai",
          "Ethiopian Heirlooms",
          "Pacamara",
          "Typica",
          "Bourbon",
          "Catuai",
          "Caturra",
          "Gesha",
          "Caturra",
          "Caturra",
          "Typica",
          "Bourbon",
          "Ethiopian Heirlooms",
          "Bourbon",
          "Caturra",
          "Caturra",
          "Gesha",
          "Bourbon",
          "Catimor",
          "Ethiopian Heirlooms",
          "Caturra",
          "Typica",
          "Sarchimor",
          "SL34",
          "Parainema",
          "Typica",
          "Caturra",
          "SHG",
          "Caturra",
          "Bourbon",
          "Ethiopian Heirlooms",
          "Java",
          "SL14",
          "SL14",
          "Typica",
          "Typica",
          "Caturra",
          "SL34",
          "Typica",
          "Bourbon",
          "Mundo Novo",
          "Catuai",
          "Typica",
          "Catimor",
          "Catuai",
          "Catuai",
          "Caturra",
          "Typica",
          "Bourbon",
          "Gesha",
          "Catuai",
          "Catimor",
          "SHG",
          "SL28",
          "Caturra",
          "Caturra",
          "Catuai",
          "Caturra",
          "Parainema",
          "Bourbon",
          "Caturra",
          "Mundo Novo",
          "Maragogype",
          "Pacamara",
          "Catuai",
          "Catimor",
          "Bourbon",
          "Bourbon",
          "Caturra",
          "Typica",
          "Catuai",
          "Catimor",
          "Caturra",
          "Caturra",
          "Typica",
          "Typica",
          "Caturra",
          "Typica",
          "Java",
          "Catimor",
          "Bourbon",
          "Caturra",
          "Sarchimor",
          "Caturra",
          "Mundo Novo",
          "SHG",
          "Catimor",
          "Maragogype",
          "Mundo Novo"
         ],
         "xaxis": "x",
         "y": [
          7.92,
          7.92,
          8.17,
          7.83,
          7.83,
          7.92,
          8,
          7.92,
          8.25,
          8,
          8,
          8.08,
          8,
          7.92,
          7.83,
          8.17,
          7.75,
          8,
          8.08,
          8,
          7.83,
          7.58,
          7.75,
          7.67,
          7.75,
          7.83,
          7.67,
          8,
          7.67,
          8,
          7.83,
          7.67,
          7.92,
          7.75,
          7.92,
          7.75,
          7.75,
          7.58,
          7.67,
          7.92,
          7.75,
          7.75,
          7.67,
          7.83,
          7.58,
          7.83,
          7.83,
          7.75,
          7.67,
          7.83,
          7.67,
          7.92,
          7.83,
          7.75,
          7.67,
          7.67,
          7.67,
          7.58,
          7.75,
          7.75,
          7.58,
          7.5,
          7.75,
          7.83,
          7.5,
          8,
          7.67,
          7.83,
          7.58,
          7.75,
          7.75,
          7.75,
          7.75,
          7.67,
          7.75,
          7.75,
          7.67,
          7.67,
          7.67,
          7.67,
          7.67,
          7.67,
          7.75,
          7.5,
          7.92,
          7.58,
          7.83,
          7.5,
          7.67,
          7.58,
          7.58,
          7.58,
          7.83,
          7.67,
          7.92,
          7.58,
          7.58,
          7.67,
          7.5,
          7.42,
          7.5,
          7.58,
          7.58,
          7.67,
          7.67,
          7.5,
          7.5,
          7.58,
          7.58,
          7.58,
          7.58,
          7.5,
          7.58,
          7.42,
          7.58,
          7.67,
          7.75,
          7.75,
          7.33,
          7.67,
          7.58,
          7.5,
          7.5,
          7.83,
          7.42,
          7.67,
          7.5,
          7.67,
          7.58,
          7.5,
          7.42,
          7.83,
          7.33,
          7.33,
          7.5,
          7.58,
          7.33,
          7.58,
          7.42,
          7.5,
          7.42,
          7.33,
          7.5,
          7.42,
          7.08,
          7.08,
          7.42,
          7.17,
          7.42,
          7.42,
          7.08,
          7.08,
          6.83
         ],
         "yaxis": "y"
        },
        {
         "alignmentgroup": "True",
         "bingroup": "x",
         "histfunc": "avg",
         "hovertemplate": "variable=balance<br>Top Varieties=%{x}<br>avg of value=%{y}<extra></extra>",
         "legendgroup": "balance",
         "marker": {
          "color": "rgb(104, 133, 92)",
          "pattern": {
           "shape": ""
          }
         },
         "name": "balance",
         "offsetgroup": "balance",
         "orientation": "v",
         "showlegend": true,
         "type": "histogram",
         "x": [
          "Gesha",
          "Java",
          "Gesha",
          "Gesha",
          "Gesha",
          "SL34",
          "Bourbon",
          "Ethiopian Heirlooms",
          "Gesha",
          "Gesha",
          "Gesha",
          "Caturra",
          "SL34",
          "Gesha",
          "Gesha",
          "Bourbon",
          "Gesha",
          "Typica",
          "Catimor",
          "SL34",
          "Gesha",
          "Gesha",
          "Gesha",
          "Typica",
          "Typica",
          "Typica",
          "Gesha",
          "Ethiopian Heirlooms",
          "Ethiopian Heirlooms",
          "Ethiopian Heirlooms",
          "Gesha",
          "Gesha",
          "SL28",
          "Typica",
          "Typica",
          "Gesha",
          "SL14",
          "Typica",
          "Gesha",
          "Caturra",
          "Caturra",
          "Typica",
          "Yellow Bourbon",
          "Catimor",
          "Gesha",
          "Bourbon",
          "SL34",
          "SL34",
          "Yellow Bourbon",
          "Catuai",
          "Yellow Bourbon",
          "Caturra",
          "Caturra",
          "Typica",
          "Gesha",
          "Gesha",
          "SL34",
          "Catimor",
          "Gesha",
          "Catuai",
          "Ethiopian Heirlooms",
          "Typica",
          "Gesha",
          "Bourbon",
          "Catuai",
          "Ethiopian Heirlooms",
          "Pacamara",
          "Typica",
          "Bourbon",
          "Catuai",
          "Caturra",
          "Gesha",
          "Caturra",
          "Caturra",
          "Typica",
          "Bourbon",
          "Ethiopian Heirlooms",
          "Bourbon",
          "Caturra",
          "Caturra",
          "Gesha",
          "Bourbon",
          "Catimor",
          "Ethiopian Heirlooms",
          "Caturra",
          "Typica",
          "Sarchimor",
          "SL34",
          "Parainema",
          "Typica",
          "Caturra",
          "SHG",
          "Caturra",
          "Bourbon",
          "Ethiopian Heirlooms",
          "Java",
          "SL14",
          "SL14",
          "Typica",
          "Typica",
          "Caturra",
          "SL34",
          "Typica",
          "Bourbon",
          "Mundo Novo",
          "Catuai",
          "Typica",
          "Catimor",
          "Catuai",
          "Catuai",
          "Caturra",
          "Typica",
          "Bourbon",
          "Gesha",
          "Catuai",
          "Catimor",
          "SHG",
          "SL28",
          "Caturra",
          "Caturra",
          "Catuai",
          "Caturra",
          "Parainema",
          "Bourbon",
          "Caturra",
          "Mundo Novo",
          "Maragogype",
          "Pacamara",
          "Catuai",
          "Catimor",
          "Bourbon",
          "Bourbon",
          "Caturra",
          "Typica",
          "Catuai",
          "Catimor",
          "Caturra",
          "Caturra",
          "Typica",
          "Typica",
          "Caturra",
          "Typica",
          "Java",
          "Catimor",
          "Bourbon",
          "Caturra",
          "Sarchimor",
          "Caturra",
          "Mundo Novo",
          "SHG",
          "Catimor",
          "Maragogype",
          "Mundo Novo"
         ],
         "xaxis": "x",
         "y": [
          8.25,
          8.17,
          8.08,
          8.17,
          8.25,
          8,
          8,
          7.92,
          8.17,
          8,
          8,
          8,
          7.92,
          7.92,
          8,
          7.75,
          8,
          7.83,
          8,
          7.92,
          7.92,
          7.83,
          7.92,
          8,
          7.92,
          7.83,
          7.92,
          8,
          7.75,
          7.75,
          7.83,
          7.75,
          8,
          7.75,
          7.83,
          7.83,
          7.92,
          7.75,
          7.75,
          7.83,
          7.75,
          7.83,
          7.75,
          7.83,
          7.83,
          7.83,
          8,
          7.83,
          7.83,
          7.75,
          7.75,
          7.67,
          7.67,
          7.75,
          7.67,
          7.75,
          7.75,
          7.83,
          7.75,
          7.75,
          7.67,
          7.58,
          7.75,
          7.75,
          7.67,
          7.5,
          7.67,
          7.75,
          7.67,
          7.75,
          7.67,
          8,
          7.67,
          7.58,
          7.67,
          7.75,
          7.67,
          7.75,
          7.67,
          7.58,
          7.58,
          7.75,
          7.67,
          7.67,
          7.67,
          7.75,
          7.58,
          7.67,
          7.67,
          7.67,
          7.58,
          7.67,
          7.5,
          7.75,
          7.67,
          7.67,
          7.58,
          7.5,
          7.58,
          7.58,
          7.75,
          7.5,
          7.5,
          7.58,
          7.5,
          7.58,
          7.42,
          7.5,
          7.5,
          7.5,
          7.42,
          7.5,
          7.5,
          7.58,
          7.5,
          7.75,
          8.17,
          7.58,
          7.5,
          7.67,
          7.5,
          7.5,
          7.58,
          7.5,
          7.42,
          7.42,
          7.58,
          7.42,
          7.42,
          7.42,
          7.67,
          7.42,
          7.42,
          7.5,
          7.33,
          7.5,
          7.33,
          7.42,
          7.42,
          7.33,
          7.33,
          7.33,
          7.42,
          7.42,
          7,
          7.25,
          7.17,
          7.08,
          7.17,
          7.17,
          7.08,
          7,
          6.67
         ],
         "yaxis": "y"
        },
        {
         "alignmentgroup": "True",
         "bingroup": "x",
         "histfunc": "avg",
         "hovertemplate": "variable=overall<br>Top Varieties=%{x}<br>avg of value=%{y}<extra></extra>",
         "legendgroup": "overall",
         "marker": {
          "color": "rgb(98, 83, 119)",
          "pattern": {
           "shape": ""
          }
         },
         "name": "overall",
         "offsetgroup": "overall",
         "orientation": "v",
         "showlegend": true,
         "type": "histogram",
         "x": [
          "Gesha",
          "Java",
          "Gesha",
          "Gesha",
          "Gesha",
          "SL34",
          "Bourbon",
          "Ethiopian Heirlooms",
          "Gesha",
          "Gesha",
          "Gesha",
          "Caturra",
          "SL34",
          "Gesha",
          "Gesha",
          "Bourbon",
          "Gesha",
          "Typica",
          "Catimor",
          "SL34",
          "Gesha",
          "Gesha",
          "Gesha",
          "Typica",
          "Typica",
          "Typica",
          "Gesha",
          "Ethiopian Heirlooms",
          "Ethiopian Heirlooms",
          "Ethiopian Heirlooms",
          "Gesha",
          "Gesha",
          "SL28",
          "Typica",
          "Typica",
          "Gesha",
          "SL14",
          "Typica",
          "Gesha",
          "Caturra",
          "Caturra",
          "Typica",
          "Yellow Bourbon",
          "Catimor",
          "Gesha",
          "Bourbon",
          "SL34",
          "SL34",
          "Yellow Bourbon",
          "Catuai",
          "Yellow Bourbon",
          "Caturra",
          "Caturra",
          "Typica",
          "Gesha",
          "Gesha",
          "SL34",
          "Catimor",
          "Gesha",
          "Catuai",
          "Ethiopian Heirlooms",
          "Typica",
          "Gesha",
          "Bourbon",
          "Catuai",
          "Ethiopian Heirlooms",
          "Pacamara",
          "Typica",
          "Bourbon",
          "Catuai",
          "Caturra",
          "Gesha",
          "Caturra",
          "Caturra",
          "Typica",
          "Bourbon",
          "Ethiopian Heirlooms",
          "Bourbon",
          "Caturra",
          "Caturra",
          "Gesha",
          "Bourbon",
          "Catimor",
          "Ethiopian Heirlooms",
          "Caturra",
          "Typica",
          "Sarchimor",
          "SL34",
          "Parainema",
          "Typica",
          "Caturra",
          "SHG",
          "Caturra",
          "Bourbon",
          "Ethiopian Heirlooms",
          "Java",
          "SL14",
          "SL14",
          "Typica",
          "Typica",
          "Caturra",
          "SL34",
          "Typica",
          "Bourbon",
          "Mundo Novo",
          "Catuai",
          "Typica",
          "Catimor",
          "Catuai",
          "Catuai",
          "Caturra",
          "Typica",
          "Bourbon",
          "Gesha",
          "Catuai",
          "Catimor",
          "SHG",
          "SL28",
          "Caturra",
          "Caturra",
          "Catuai",
          "Caturra",
          "Parainema",
          "Bourbon",
          "Caturra",
          "Mundo Novo",
          "Maragogype",
          "Pacamara",
          "Catuai",
          "Catimor",
          "Bourbon",
          "Bourbon",
          "Caturra",
          "Typica",
          "Catuai",
          "Catimor",
          "Caturra",
          "Caturra",
          "Typica",
          "Typica",
          "Caturra",
          "Typica",
          "Java",
          "Catimor",
          "Bourbon",
          "Caturra",
          "Sarchimor",
          "Caturra",
          "Mundo Novo",
          "SHG",
          "Catimor",
          "Maragogype",
          "Mundo Novo"
         ],
         "xaxis": "x",
         "y": [
          8.5,
          8.33,
          8.25,
          8.25,
          8.25,
          8.25,
          8,
          8,
          8,
          8,
          8,
          8,
          8,
          8.17,
          8.17,
          7.92,
          8.08,
          7.92,
          8.08,
          7.92,
          8,
          7.92,
          7.92,
          8,
          8.08,
          8,
          8,
          8,
          7.83,
          7.83,
          7.92,
          7.92,
          8,
          7.92,
          7.83,
          7.92,
          7.92,
          7.83,
          7.83,
          7.83,
          7.92,
          7.83,
          7.92,
          7.83,
          7.75,
          7.83,
          8,
          7.83,
          7.83,
          7.83,
          7.75,
          7.92,
          8.58,
          7.92,
          7.75,
          7.92,
          7.92,
          7.92,
          7.92,
          7.75,
          7.83,
          7.83,
          7.83,
          7.75,
          7.75,
          7.75,
          7.67,
          7.75,
          7.83,
          7.75,
          7.75,
          7.92,
          7.67,
          7.75,
          7.67,
          7.75,
          7.75,
          7.75,
          7.67,
          7.75,
          7.75,
          7.75,
          7.75,
          7.75,
          7.58,
          7.75,
          7.75,
          7.67,
          7.67,
          7.67,
          7.75,
          7.67,
          7.58,
          7.58,
          7.67,
          7.67,
          7.75,
          7.67,
          7.75,
          7.75,
          7.58,
          7.5,
          7.33,
          7.5,
          7.67,
          7.67,
          7.5,
          7.58,
          7.58,
          7.5,
          7.33,
          7.58,
          7.5,
          7.58,
          7.5,
          7.33,
          7.33,
          7.42,
          7.5,
          7.33,
          7.5,
          7.5,
          7.42,
          7.33,
          7.42,
          7.33,
          7.5,
          7.33,
          7.5,
          7.58,
          7.42,
          7.17,
          7.42,
          7.33,
          7.42,
          7.42,
          7.42,
          7.42,
          7.42,
          7.33,
          7.42,
          7.33,
          7.17,
          7.17,
          7.17,
          7.17,
          7.17,
          7,
          7.08,
          7.08,
          7,
          6.83,
          6.67
         ],
         "yaxis": "y"
        }
       ],
       "layout": {
        "barmode": "group",
        "legend": {
         "title": {
          "text": "variable"
         },
         "tracegroupgap": 0
        },
        "paper_bgcolor": "rgba(0, 0, 0, 0)",
        "plot_bgcolor": "rgba(0, 0, 0, 0)",
        "template": {
         "data": {
          "bar": [
           {
            "error_x": {
             "color": "#2a3f5f"
            },
            "error_y": {
             "color": "#2a3f5f"
            },
            "marker": {
             "line": {
              "color": "#E5ECF6",
              "width": 0.5
             },
             "pattern": {
              "fillmode": "overlay",
              "size": 10,
              "solidity": 0.2
             }
            },
            "type": "bar"
           }
          ],
          "barpolar": [
           {
            "marker": {
             "line": {
              "color": "#E5ECF6",
              "width": 0.5
             },
             "pattern": {
              "fillmode": "overlay",
              "size": 10,
              "solidity": 0.2
             }
            },
            "type": "barpolar"
           }
          ],
          "carpet": [
           {
            "aaxis": {
             "endlinecolor": "#2a3f5f",
             "gridcolor": "white",
             "linecolor": "white",
             "minorgridcolor": "white",
             "startlinecolor": "#2a3f5f"
            },
            "baxis": {
             "endlinecolor": "#2a3f5f",
             "gridcolor": "white",
             "linecolor": "white",
             "minorgridcolor": "white",
             "startlinecolor": "#2a3f5f"
            },
            "type": "carpet"
           }
          ],
          "choropleth": [
           {
            "colorbar": {
             "outlinewidth": 0,
             "ticks": ""
            },
            "type": "choropleth"
           }
          ],
          "contour": [
           {
            "colorbar": {
             "outlinewidth": 0,
             "ticks": ""
            },
            "colorscale": [
             [
              0,
              "#0d0887"
             ],
             [
              0.1111111111111111,
              "#46039f"
             ],
             [
              0.2222222222222222,
              "#7201a8"
             ],
             [
              0.3333333333333333,
              "#9c179e"
             ],
             [
              0.4444444444444444,
              "#bd3786"
             ],
             [
              0.5555555555555556,
              "#d8576b"
             ],
             [
              0.6666666666666666,
              "#ed7953"
             ],
             [
              0.7777777777777778,
              "#fb9f3a"
             ],
             [
              0.8888888888888888,
              "#fdca26"
             ],
             [
              1,
              "#f0f921"
             ]
            ],
            "type": "contour"
           }
          ],
          "contourcarpet": [
           {
            "colorbar": {
             "outlinewidth": 0,
             "ticks": ""
            },
            "type": "contourcarpet"
           }
          ],
          "heatmap": [
           {
            "colorbar": {
             "outlinewidth": 0,
             "ticks": ""
            },
            "colorscale": [
             [
              0,
              "#0d0887"
             ],
             [
              0.1111111111111111,
              "#46039f"
             ],
             [
              0.2222222222222222,
              "#7201a8"
             ],
             [
              0.3333333333333333,
              "#9c179e"
             ],
             [
              0.4444444444444444,
              "#bd3786"
             ],
             [
              0.5555555555555556,
              "#d8576b"
             ],
             [
              0.6666666666666666,
              "#ed7953"
             ],
             [
              0.7777777777777778,
              "#fb9f3a"
             ],
             [
              0.8888888888888888,
              "#fdca26"
             ],
             [
              1,
              "#f0f921"
             ]
            ],
            "type": "heatmap"
           }
          ],
          "heatmapgl": [
           {
            "colorbar": {
             "outlinewidth": 0,
             "ticks": ""
            },
            "colorscale": [
             [
              0,
              "#0d0887"
             ],
             [
              0.1111111111111111,
              "#46039f"
             ],
             [
              0.2222222222222222,
              "#7201a8"
             ],
             [
              0.3333333333333333,
              "#9c179e"
             ],
             [
              0.4444444444444444,
              "#bd3786"
             ],
             [
              0.5555555555555556,
              "#d8576b"
             ],
             [
              0.6666666666666666,
              "#ed7953"
             ],
             [
              0.7777777777777778,
              "#fb9f3a"
             ],
             [
              0.8888888888888888,
              "#fdca26"
             ],
             [
              1,
              "#f0f921"
             ]
            ],
            "type": "heatmapgl"
           }
          ],
          "histogram": [
           {
            "marker": {
             "pattern": {
              "fillmode": "overlay",
              "size": 10,
              "solidity": 0.2
             }
            },
            "type": "histogram"
           }
          ],
          "histogram2d": [
           {
            "colorbar": {
             "outlinewidth": 0,
             "ticks": ""
            },
            "colorscale": [
             [
              0,
              "#0d0887"
             ],
             [
              0.1111111111111111,
              "#46039f"
             ],
             [
              0.2222222222222222,
              "#7201a8"
             ],
             [
              0.3333333333333333,
              "#9c179e"
             ],
             [
              0.4444444444444444,
              "#bd3786"
             ],
             [
              0.5555555555555556,
              "#d8576b"
             ],
             [
              0.6666666666666666,
              "#ed7953"
             ],
             [
              0.7777777777777778,
              "#fb9f3a"
             ],
             [
              0.8888888888888888,
              "#fdca26"
             ],
             [
              1,
              "#f0f921"
             ]
            ],
            "type": "histogram2d"
           }
          ],
          "histogram2dcontour": [
           {
            "colorbar": {
             "outlinewidth": 0,
             "ticks": ""
            },
            "colorscale": [
             [
              0,
              "#0d0887"
             ],
             [
              0.1111111111111111,
              "#46039f"
             ],
             [
              0.2222222222222222,
              "#7201a8"
             ],
             [
              0.3333333333333333,
              "#9c179e"
             ],
             [
              0.4444444444444444,
              "#bd3786"
             ],
             [
              0.5555555555555556,
              "#d8576b"
             ],
             [
              0.6666666666666666,
              "#ed7953"
             ],
             [
              0.7777777777777778,
              "#fb9f3a"
             ],
             [
              0.8888888888888888,
              "#fdca26"
             ],
             [
              1,
              "#f0f921"
             ]
            ],
            "type": "histogram2dcontour"
           }
          ],
          "mesh3d": [
           {
            "colorbar": {
             "outlinewidth": 0,
             "ticks": ""
            },
            "type": "mesh3d"
           }
          ],
          "parcoords": [
           {
            "line": {
             "colorbar": {
              "outlinewidth": 0,
              "ticks": ""
             }
            },
            "type": "parcoords"
           }
          ],
          "pie": [
           {
            "automargin": true,
            "type": "pie"
           }
          ],
          "scatter": [
           {
            "fillpattern": {
             "fillmode": "overlay",
             "size": 10,
             "solidity": 0.2
            },
            "type": "scatter"
           }
          ],
          "scatter3d": [
           {
            "line": {
             "colorbar": {
              "outlinewidth": 0,
              "ticks": ""
             }
            },
            "marker": {
             "colorbar": {
              "outlinewidth": 0,
              "ticks": ""
             }
            },
            "type": "scatter3d"
           }
          ],
          "scattercarpet": [
           {
            "marker": {
             "colorbar": {
              "outlinewidth": 0,
              "ticks": ""
             }
            },
            "type": "scattercarpet"
           }
          ],
          "scattergeo": [
           {
            "marker": {
             "colorbar": {
              "outlinewidth": 0,
              "ticks": ""
             }
            },
            "type": "scattergeo"
           }
          ],
          "scattergl": [
           {
            "marker": {
             "colorbar": {
              "outlinewidth": 0,
              "ticks": ""
             }
            },
            "type": "scattergl"
           }
          ],
          "scattermapbox": [
           {
            "marker": {
             "colorbar": {
              "outlinewidth": 0,
              "ticks": ""
             }
            },
            "type": "scattermapbox"
           }
          ],
          "scatterpolar": [
           {
            "marker": {
             "colorbar": {
              "outlinewidth": 0,
              "ticks": ""
             }
            },
            "type": "scatterpolar"
           }
          ],
          "scatterpolargl": [
           {
            "marker": {
             "colorbar": {
              "outlinewidth": 0,
              "ticks": ""
             }
            },
            "type": "scatterpolargl"
           }
          ],
          "scatterternary": [
           {
            "marker": {
             "colorbar": {
              "outlinewidth": 0,
              "ticks": ""
             }
            },
            "type": "scatterternary"
           }
          ],
          "surface": [
           {
            "colorbar": {
             "outlinewidth": 0,
             "ticks": ""
            },
            "colorscale": [
             [
              0,
              "#0d0887"
             ],
             [
              0.1111111111111111,
              "#46039f"
             ],
             [
              0.2222222222222222,
              "#7201a8"
             ],
             [
              0.3333333333333333,
              "#9c179e"
             ],
             [
              0.4444444444444444,
              "#bd3786"
             ],
             [
              0.5555555555555556,
              "#d8576b"
             ],
             [
              0.6666666666666666,
              "#ed7953"
             ],
             [
              0.7777777777777778,
              "#fb9f3a"
             ],
             [
              0.8888888888888888,
              "#fdca26"
             ],
             [
              1,
              "#f0f921"
             ]
            ],
            "type": "surface"
           }
          ],
          "table": [
           {
            "cells": {
             "fill": {
              "color": "#EBF0F8"
             },
             "line": {
              "color": "white"
             }
            },
            "header": {
             "fill": {
              "color": "#C8D4E3"
             },
             "line": {
              "color": "white"
             }
            },
            "type": "table"
           }
          ]
         },
         "layout": {
          "annotationdefaults": {
           "arrowcolor": "#2a3f5f",
           "arrowhead": 0,
           "arrowwidth": 1
          },
          "autotypenumbers": "strict",
          "coloraxis": {
           "colorbar": {
            "outlinewidth": 0,
            "ticks": ""
           }
          },
          "colorscale": {
           "diverging": [
            [
             0,
             "#8e0152"
            ],
            [
             0.1,
             "#c51b7d"
            ],
            [
             0.2,
             "#de77ae"
            ],
            [
             0.3,
             "#f1b6da"
            ],
            [
             0.4,
             "#fde0ef"
            ],
            [
             0.5,
             "#f7f7f7"
            ],
            [
             0.6,
             "#e6f5d0"
            ],
            [
             0.7,
             "#b8e186"
            ],
            [
             0.8,
             "#7fbc41"
            ],
            [
             0.9,
             "#4d9221"
            ],
            [
             1,
             "#276419"
            ]
           ],
           "sequential": [
            [
             0,
             "#0d0887"
            ],
            [
             0.1111111111111111,
             "#46039f"
            ],
            [
             0.2222222222222222,
             "#7201a8"
            ],
            [
             0.3333333333333333,
             "#9c179e"
            ],
            [
             0.4444444444444444,
             "#bd3786"
            ],
            [
             0.5555555555555556,
             "#d8576b"
            ],
            [
             0.6666666666666666,
             "#ed7953"
            ],
            [
             0.7777777777777778,
             "#fb9f3a"
            ],
            [
             0.8888888888888888,
             "#fdca26"
            ],
            [
             1,
             "#f0f921"
            ]
           ],
           "sequentialminus": [
            [
             0,
             "#0d0887"
            ],
            [
             0.1111111111111111,
             "#46039f"
            ],
            [
             0.2222222222222222,
             "#7201a8"
            ],
            [
             0.3333333333333333,
             "#9c179e"
            ],
            [
             0.4444444444444444,
             "#bd3786"
            ],
            [
             0.5555555555555556,
             "#d8576b"
            ],
            [
             0.6666666666666666,
             "#ed7953"
            ],
            [
             0.7777777777777778,
             "#fb9f3a"
            ],
            [
             0.8888888888888888,
             "#fdca26"
            ],
            [
             1,
             "#f0f921"
            ]
           ]
          },
          "colorway": [
           "#636efa",
           "#EF553B",
           "#00cc96",
           "#ab63fa",
           "#FFA15A",
           "#19d3f3",
           "#FF6692",
           "#B6E880",
           "#FF97FF",
           "#FECB52"
          ],
          "font": {
           "color": "#2a3f5f"
          },
          "geo": {
           "bgcolor": "white",
           "lakecolor": "white",
           "landcolor": "#E5ECF6",
           "showlakes": true,
           "showland": true,
           "subunitcolor": "white"
          },
          "hoverlabel": {
           "align": "left"
          },
          "hovermode": "closest",
          "mapbox": {
           "style": "light"
          },
          "paper_bgcolor": "white",
          "plot_bgcolor": "#E5ECF6",
          "polar": {
           "angularaxis": {
            "gridcolor": "white",
            "linecolor": "white",
            "ticks": ""
           },
           "bgcolor": "#E5ECF6",
           "radialaxis": {
            "gridcolor": "white",
            "linecolor": "white",
            "ticks": ""
           }
          },
          "scene": {
           "xaxis": {
            "backgroundcolor": "#E5ECF6",
            "gridcolor": "white",
            "gridwidth": 2,
            "linecolor": "white",
            "showbackground": true,
            "ticks": "",
            "zerolinecolor": "white"
           },
           "yaxis": {
            "backgroundcolor": "#E5ECF6",
            "gridcolor": "white",
            "gridwidth": 2,
            "linecolor": "white",
            "showbackground": true,
            "ticks": "",
            "zerolinecolor": "white"
           },
           "zaxis": {
            "backgroundcolor": "#E5ECF6",
            "gridcolor": "white",
            "gridwidth": 2,
            "linecolor": "white",
            "showbackground": true,
            "ticks": "",
            "zerolinecolor": "white"
           }
          },
          "shapedefaults": {
           "line": {
            "color": "#2a3f5f"
           }
          },
          "ternary": {
           "aaxis": {
            "gridcolor": "white",
            "linecolor": "white",
            "ticks": ""
           },
           "baxis": {
            "gridcolor": "white",
            "linecolor": "white",
            "ticks": ""
           },
           "bgcolor": "#E5ECF6",
           "caxis": {
            "gridcolor": "white",
            "linecolor": "white",
            "ticks": ""
           }
          },
          "title": {
           "x": 0.05
          },
          "xaxis": {
           "automargin": true,
           "gridcolor": "white",
           "linecolor": "white",
           "ticks": "",
           "title": {
            "standoff": 15
           },
           "zerolinecolor": "white",
           "zerolinewidth": 2
          },
          "yaxis": {
           "automargin": true,
           "gridcolor": "white",
           "linecolor": "white",
           "ticks": "",
           "title": {
            "standoff": 15
           },
           "zerolinecolor": "white",
           "zerolinewidth": 2
          }
         }
        },
        "title": {
         "text": "Average Coffee Quality Measures by Variety"
        },
        "xaxis": {
         "anchor": "y",
         "domain": [
          0,
          1
         ],
         "title": {
          "text": "Top Varieties"
         }
        },
        "yaxis": {
         "anchor": "x",
         "domain": [
          0,
          1
         ],
         "title": {
          "text": "avg of value"
         }
        }
       }
      }
     },
     "metadata": {},
     "output_type": "display_data"
    }
   ],
   "source": [
    "# Compare average coffee quality across top varieties\n",
    "quality_by_variety = px.histogram(coffee[coffee['variety'].isin(top_varieties)], x='variety', \n",
    "                                  y=['aroma', 'flavor', 'aftertaste', 'acidity', 'body', 'balance', 'overall'], \n",
    "                                  histfunc=\"avg\", title='Average Coffee Quality Measures by Variety', \n",
    "                                  labels={'variety':'Top Varieties'},\n",
    "                                  barmode='group', color_discrete_sequence=[px.colors.qualitative.Antique[1],\n",
    "                                                                            px.colors.qualitative.Antique[2],\n",
    "                                                                            px.colors.qualitative.Antique[3],\n",
    "                                                                            px.colors.qualitative.Antique[4],\n",
    "                                                                            px.colors.qualitative.Antique[8],\n",
    "                                                                            px.colors.qualitative.Antique[6],\n",
    "                                                                            px.colors.qualitative.Antique[5]])\n",
    "\n",
    "quality_by_variety.update_layout({\n",
    "    'plot_bgcolor':'rgba(0, 0, 0, 0)',\n",
    "    'paper_bgcolor':'rgba(0, 0, 0, 0)'\n",
    "})\n",
    "\n",
    "country.update_layout(xaxis={'categoryorder':'total descending'})\n",
    "\n",
    "quality_by_variety.show()"
   ]
  },
  {
   "cell_type": "code",
   "execution_count": 661,
   "metadata": {},
   "outputs": [
    {
     "data": {
      "application/vnd.plotly.v1+json": {
       "config": {
        "plotlyServerURL": "https://plot.ly"
       },
       "data": [
        {
         "alignmentgroup": "True",
         "hovertemplate": "variety=%{x}<br>total_cup_points=%{y}<extra></extra>",
         "legendgroup": "",
         "marker": {
          "color": "rgb(104, 133, 92)"
         },
         "name": "",
         "notched": false,
         "offsetgroup": "",
         "orientation": "v",
         "showlegend": false,
         "type": "box",
         "x": [
          "Gesha",
          "Java",
          "Gesha",
          "Gesha",
          "Gesha",
          "SL34",
          "Bourbon",
          "Ethiopian Heirlooms",
          "Gesha",
          "Gesha",
          "Gesha",
          "Caturra",
          "SL34",
          "Gesha",
          "Gesha",
          "Bourbon",
          "Gesha",
          "Typica",
          "Catimor",
          "SL34",
          "Gesha",
          "Gesha",
          "Gesha",
          "Typica",
          "Typica",
          "Typica",
          "Gesha",
          "Ethiopian Heirlooms",
          "Ethiopian Heirlooms",
          "Ethiopian Heirlooms",
          "Gesha",
          "Gesha",
          "SL28",
          "Typica",
          "Typica",
          "Gesha",
          "SL14",
          "Typica",
          "Gesha",
          "Caturra",
          "Caturra",
          "Typica",
          "Yellow Bourbon",
          "Catimor",
          "Gesha",
          "Bourbon",
          "SL34",
          "SL34",
          "Yellow Bourbon",
          "Catuai",
          "Yellow Bourbon",
          "Caturra",
          "Caturra",
          "Typica",
          "Gesha",
          "Gesha",
          "SL34",
          "Catimor",
          "Gesha",
          "Catuai",
          "Ethiopian Heirlooms",
          "Typica",
          "Gesha",
          "Bourbon",
          "Catuai",
          "Ethiopian Heirlooms",
          "Pacamara",
          "Typica",
          "Bourbon",
          "Catuai",
          "Caturra",
          "Gesha",
          "Caturra",
          "Caturra",
          "Typica",
          "Bourbon",
          "Ethiopian Heirlooms",
          "Bourbon",
          "Caturra",
          "Caturra",
          "Gesha",
          "Bourbon",
          "Catimor",
          "Ethiopian Heirlooms",
          "Caturra",
          "Typica",
          "Sarchimor",
          "SL34",
          "Parainema",
          "Typica",
          "Caturra",
          "SHG",
          "Caturra",
          "Bourbon",
          "Ethiopian Heirlooms",
          "Java",
          "SL14",
          "SL14",
          "Typica",
          "Typica",
          "Caturra",
          "SL34",
          "Typica",
          "Bourbon",
          "Mundo Novo",
          "Catuai",
          "Typica",
          "Catimor",
          "Catuai",
          "Catuai",
          "Caturra",
          "Typica",
          "Bourbon",
          "Gesha",
          "Catuai",
          "Catimor",
          "SHG",
          "SL28",
          "Caturra",
          "Caturra",
          "Catuai",
          "Caturra",
          "Parainema",
          "Bourbon",
          "Caturra",
          "Mundo Novo",
          "Maragogype",
          "Pacamara",
          "Catuai",
          "Catimor",
          "Bourbon",
          "Bourbon",
          "Caturra",
          "Typica",
          "Catuai",
          "Catimor",
          "Caturra",
          "Caturra",
          "Typica",
          "Typica",
          "Caturra",
          "Typica",
          "Java",
          "Catimor",
          "Bourbon",
          "Caturra",
          "Sarchimor",
          "Caturra",
          "Mundo Novo",
          "SHG",
          "Catimor",
          "Maragogype",
          "Mundo Novo"
         ],
         "x0": " ",
         "xaxis": "x",
         "y": [
          87.58,
          87.42,
          87.17,
          87,
          86.92,
          86.67,
          86.5,
          86.25,
          86.25,
          86.25,
          86.17,
          86.17,
          86.08,
          86.08,
          85.92,
          85.83,
          85.75,
          85.67,
          85.67,
          85.58,
          85.5,
          85.5,
          85.5,
          85.42,
          85.42,
          85.33,
          85.33,
          85.33,
          85.33,
          85.25,
          85.25,
          85.25,
          85.25,
          85.08,
          85.08,
          85.08,
          85,
          85,
          85,
          85,
          84.92,
          84.92,
          84.83,
          84.83,
          84.83,
          84.83,
          84.83,
          84.75,
          84.75,
          84.75,
          84.75,
          84.67,
          84.67,
          84.58,
          84.58,
          84.58,
          84.58,
          84.58,
          84.5,
          84.5,
          84.5,
          84.5,
          84.42,
          84.33,
          84.33,
          84.33,
          84.33,
          84.25,
          84.25,
          84.17,
          84.08,
          84.08,
          84.08,
          84,
          84,
          84,
          84,
          84,
          84,
          83.92,
          83.92,
          83.92,
          83.92,
          83.83,
          83.83,
          83.83,
          83.75,
          83.67,
          83.67,
          83.58,
          83.58,
          83.5,
          83.5,
          83.5,
          83.5,
          83.42,
          83.42,
          83.33,
          83.33,
          83.33,
          83.33,
          83.33,
          83.33,
          83.25,
          83.25,
          83.25,
          83.17,
          83.08,
          83.08,
          83.08,
          83,
          82.92,
          82.92,
          82.92,
          82.83,
          82.83,
          82.75,
          82.75,
          82.67,
          82.67,
          82.67,
          82.58,
          82.58,
          82.5,
          82.5,
          82.5,
          82.5,
          82.5,
          82.5,
          82.33,
          82.33,
          82.33,
          82.25,
          82.17,
          82.17,
          82,
          81.92,
          81.92,
          81.83,
          81.67,
          81.58,
          81.58,
          81.42,
          81.17,
          80.83,
          80.5,
          80.42,
          80.33,
          80.08,
          80,
          79.67,
          78.08,
          78
         ],
         "y0": " ",
         "yaxis": "y"
        }
       ],
       "layout": {
        "boxmode": "group",
        "height": 600,
        "legend": {
         "tracegroupgap": 0
        },
        "paper_bgcolor": "rgba(0, 0, 0, 0)",
        "plot_bgcolor": "rgba(0, 0, 0, 0)",
        "template": {
         "data": {
          "bar": [
           {
            "error_x": {
             "color": "#2a3f5f"
            },
            "error_y": {
             "color": "#2a3f5f"
            },
            "marker": {
             "line": {
              "color": "#E5ECF6",
              "width": 0.5
             },
             "pattern": {
              "fillmode": "overlay",
              "size": 10,
              "solidity": 0.2
             }
            },
            "type": "bar"
           }
          ],
          "barpolar": [
           {
            "marker": {
             "line": {
              "color": "#E5ECF6",
              "width": 0.5
             },
             "pattern": {
              "fillmode": "overlay",
              "size": 10,
              "solidity": 0.2
             }
            },
            "type": "barpolar"
           }
          ],
          "carpet": [
           {
            "aaxis": {
             "endlinecolor": "#2a3f5f",
             "gridcolor": "white",
             "linecolor": "white",
             "minorgridcolor": "white",
             "startlinecolor": "#2a3f5f"
            },
            "baxis": {
             "endlinecolor": "#2a3f5f",
             "gridcolor": "white",
             "linecolor": "white",
             "minorgridcolor": "white",
             "startlinecolor": "#2a3f5f"
            },
            "type": "carpet"
           }
          ],
          "choropleth": [
           {
            "colorbar": {
             "outlinewidth": 0,
             "ticks": ""
            },
            "type": "choropleth"
           }
          ],
          "contour": [
           {
            "colorbar": {
             "outlinewidth": 0,
             "ticks": ""
            },
            "colorscale": [
             [
              0,
              "#0d0887"
             ],
             [
              0.1111111111111111,
              "#46039f"
             ],
             [
              0.2222222222222222,
              "#7201a8"
             ],
             [
              0.3333333333333333,
              "#9c179e"
             ],
             [
              0.4444444444444444,
              "#bd3786"
             ],
             [
              0.5555555555555556,
              "#d8576b"
             ],
             [
              0.6666666666666666,
              "#ed7953"
             ],
             [
              0.7777777777777778,
              "#fb9f3a"
             ],
             [
              0.8888888888888888,
              "#fdca26"
             ],
             [
              1,
              "#f0f921"
             ]
            ],
            "type": "contour"
           }
          ],
          "contourcarpet": [
           {
            "colorbar": {
             "outlinewidth": 0,
             "ticks": ""
            },
            "type": "contourcarpet"
           }
          ],
          "heatmap": [
           {
            "colorbar": {
             "outlinewidth": 0,
             "ticks": ""
            },
            "colorscale": [
             [
              0,
              "#0d0887"
             ],
             [
              0.1111111111111111,
              "#46039f"
             ],
             [
              0.2222222222222222,
              "#7201a8"
             ],
             [
              0.3333333333333333,
              "#9c179e"
             ],
             [
              0.4444444444444444,
              "#bd3786"
             ],
             [
              0.5555555555555556,
              "#d8576b"
             ],
             [
              0.6666666666666666,
              "#ed7953"
             ],
             [
              0.7777777777777778,
              "#fb9f3a"
             ],
             [
              0.8888888888888888,
              "#fdca26"
             ],
             [
              1,
              "#f0f921"
             ]
            ],
            "type": "heatmap"
           }
          ],
          "heatmapgl": [
           {
            "colorbar": {
             "outlinewidth": 0,
             "ticks": ""
            },
            "colorscale": [
             [
              0,
              "#0d0887"
             ],
             [
              0.1111111111111111,
              "#46039f"
             ],
             [
              0.2222222222222222,
              "#7201a8"
             ],
             [
              0.3333333333333333,
              "#9c179e"
             ],
             [
              0.4444444444444444,
              "#bd3786"
             ],
             [
              0.5555555555555556,
              "#d8576b"
             ],
             [
              0.6666666666666666,
              "#ed7953"
             ],
             [
              0.7777777777777778,
              "#fb9f3a"
             ],
             [
              0.8888888888888888,
              "#fdca26"
             ],
             [
              1,
              "#f0f921"
             ]
            ],
            "type": "heatmapgl"
           }
          ],
          "histogram": [
           {
            "marker": {
             "pattern": {
              "fillmode": "overlay",
              "size": 10,
              "solidity": 0.2
             }
            },
            "type": "histogram"
           }
          ],
          "histogram2d": [
           {
            "colorbar": {
             "outlinewidth": 0,
             "ticks": ""
            },
            "colorscale": [
             [
              0,
              "#0d0887"
             ],
             [
              0.1111111111111111,
              "#46039f"
             ],
             [
              0.2222222222222222,
              "#7201a8"
             ],
             [
              0.3333333333333333,
              "#9c179e"
             ],
             [
              0.4444444444444444,
              "#bd3786"
             ],
             [
              0.5555555555555556,
              "#d8576b"
             ],
             [
              0.6666666666666666,
              "#ed7953"
             ],
             [
              0.7777777777777778,
              "#fb9f3a"
             ],
             [
              0.8888888888888888,
              "#fdca26"
             ],
             [
              1,
              "#f0f921"
             ]
            ],
            "type": "histogram2d"
           }
          ],
          "histogram2dcontour": [
           {
            "colorbar": {
             "outlinewidth": 0,
             "ticks": ""
            },
            "colorscale": [
             [
              0,
              "#0d0887"
             ],
             [
              0.1111111111111111,
              "#46039f"
             ],
             [
              0.2222222222222222,
              "#7201a8"
             ],
             [
              0.3333333333333333,
              "#9c179e"
             ],
             [
              0.4444444444444444,
              "#bd3786"
             ],
             [
              0.5555555555555556,
              "#d8576b"
             ],
             [
              0.6666666666666666,
              "#ed7953"
             ],
             [
              0.7777777777777778,
              "#fb9f3a"
             ],
             [
              0.8888888888888888,
              "#fdca26"
             ],
             [
              1,
              "#f0f921"
             ]
            ],
            "type": "histogram2dcontour"
           }
          ],
          "mesh3d": [
           {
            "colorbar": {
             "outlinewidth": 0,
             "ticks": ""
            },
            "type": "mesh3d"
           }
          ],
          "parcoords": [
           {
            "line": {
             "colorbar": {
              "outlinewidth": 0,
              "ticks": ""
             }
            },
            "type": "parcoords"
           }
          ],
          "pie": [
           {
            "automargin": true,
            "type": "pie"
           }
          ],
          "scatter": [
           {
            "fillpattern": {
             "fillmode": "overlay",
             "size": 10,
             "solidity": 0.2
            },
            "type": "scatter"
           }
          ],
          "scatter3d": [
           {
            "line": {
             "colorbar": {
              "outlinewidth": 0,
              "ticks": ""
             }
            },
            "marker": {
             "colorbar": {
              "outlinewidth": 0,
              "ticks": ""
             }
            },
            "type": "scatter3d"
           }
          ],
          "scattercarpet": [
           {
            "marker": {
             "colorbar": {
              "outlinewidth": 0,
              "ticks": ""
             }
            },
            "type": "scattercarpet"
           }
          ],
          "scattergeo": [
           {
            "marker": {
             "colorbar": {
              "outlinewidth": 0,
              "ticks": ""
             }
            },
            "type": "scattergeo"
           }
          ],
          "scattergl": [
           {
            "marker": {
             "colorbar": {
              "outlinewidth": 0,
              "ticks": ""
             }
            },
            "type": "scattergl"
           }
          ],
          "scattermapbox": [
           {
            "marker": {
             "colorbar": {
              "outlinewidth": 0,
              "ticks": ""
             }
            },
            "type": "scattermapbox"
           }
          ],
          "scatterpolar": [
           {
            "marker": {
             "colorbar": {
              "outlinewidth": 0,
              "ticks": ""
             }
            },
            "type": "scatterpolar"
           }
          ],
          "scatterpolargl": [
           {
            "marker": {
             "colorbar": {
              "outlinewidth": 0,
              "ticks": ""
             }
            },
            "type": "scatterpolargl"
           }
          ],
          "scatterternary": [
           {
            "marker": {
             "colorbar": {
              "outlinewidth": 0,
              "ticks": ""
             }
            },
            "type": "scatterternary"
           }
          ],
          "surface": [
           {
            "colorbar": {
             "outlinewidth": 0,
             "ticks": ""
            },
            "colorscale": [
             [
              0,
              "#0d0887"
             ],
             [
              0.1111111111111111,
              "#46039f"
             ],
             [
              0.2222222222222222,
              "#7201a8"
             ],
             [
              0.3333333333333333,
              "#9c179e"
             ],
             [
              0.4444444444444444,
              "#bd3786"
             ],
             [
              0.5555555555555556,
              "#d8576b"
             ],
             [
              0.6666666666666666,
              "#ed7953"
             ],
             [
              0.7777777777777778,
              "#fb9f3a"
             ],
             [
              0.8888888888888888,
              "#fdca26"
             ],
             [
              1,
              "#f0f921"
             ]
            ],
            "type": "surface"
           }
          ],
          "table": [
           {
            "cells": {
             "fill": {
              "color": "#EBF0F8"
             },
             "line": {
              "color": "white"
             }
            },
            "header": {
             "fill": {
              "color": "#C8D4E3"
             },
             "line": {
              "color": "white"
             }
            },
            "type": "table"
           }
          ]
         },
         "layout": {
          "annotationdefaults": {
           "arrowcolor": "#2a3f5f",
           "arrowhead": 0,
           "arrowwidth": 1
          },
          "autotypenumbers": "strict",
          "coloraxis": {
           "colorbar": {
            "outlinewidth": 0,
            "ticks": ""
           }
          },
          "colorscale": {
           "diverging": [
            [
             0,
             "#8e0152"
            ],
            [
             0.1,
             "#c51b7d"
            ],
            [
             0.2,
             "#de77ae"
            ],
            [
             0.3,
             "#f1b6da"
            ],
            [
             0.4,
             "#fde0ef"
            ],
            [
             0.5,
             "#f7f7f7"
            ],
            [
             0.6,
             "#e6f5d0"
            ],
            [
             0.7,
             "#b8e186"
            ],
            [
             0.8,
             "#7fbc41"
            ],
            [
             0.9,
             "#4d9221"
            ],
            [
             1,
             "#276419"
            ]
           ],
           "sequential": [
            [
             0,
             "#0d0887"
            ],
            [
             0.1111111111111111,
             "#46039f"
            ],
            [
             0.2222222222222222,
             "#7201a8"
            ],
            [
             0.3333333333333333,
             "#9c179e"
            ],
            [
             0.4444444444444444,
             "#bd3786"
            ],
            [
             0.5555555555555556,
             "#d8576b"
            ],
            [
             0.6666666666666666,
             "#ed7953"
            ],
            [
             0.7777777777777778,
             "#fb9f3a"
            ],
            [
             0.8888888888888888,
             "#fdca26"
            ],
            [
             1,
             "#f0f921"
            ]
           ],
           "sequentialminus": [
            [
             0,
             "#0d0887"
            ],
            [
             0.1111111111111111,
             "#46039f"
            ],
            [
             0.2222222222222222,
             "#7201a8"
            ],
            [
             0.3333333333333333,
             "#9c179e"
            ],
            [
             0.4444444444444444,
             "#bd3786"
            ],
            [
             0.5555555555555556,
             "#d8576b"
            ],
            [
             0.6666666666666666,
             "#ed7953"
            ],
            [
             0.7777777777777778,
             "#fb9f3a"
            ],
            [
             0.8888888888888888,
             "#fdca26"
            ],
            [
             1,
             "#f0f921"
            ]
           ]
          },
          "colorway": [
           "#636efa",
           "#EF553B",
           "#00cc96",
           "#ab63fa",
           "#FFA15A",
           "#19d3f3",
           "#FF6692",
           "#B6E880",
           "#FF97FF",
           "#FECB52"
          ],
          "font": {
           "color": "#2a3f5f"
          },
          "geo": {
           "bgcolor": "white",
           "lakecolor": "white",
           "landcolor": "#E5ECF6",
           "showlakes": true,
           "showland": true,
           "subunitcolor": "white"
          },
          "hoverlabel": {
           "align": "left"
          },
          "hovermode": "closest",
          "mapbox": {
           "style": "light"
          },
          "paper_bgcolor": "white",
          "plot_bgcolor": "#E5ECF6",
          "polar": {
           "angularaxis": {
            "gridcolor": "white",
            "linecolor": "white",
            "ticks": ""
           },
           "bgcolor": "#E5ECF6",
           "radialaxis": {
            "gridcolor": "white",
            "linecolor": "white",
            "ticks": ""
           }
          },
          "scene": {
           "xaxis": {
            "backgroundcolor": "#E5ECF6",
            "gridcolor": "white",
            "gridwidth": 2,
            "linecolor": "white",
            "showbackground": true,
            "ticks": "",
            "zerolinecolor": "white"
           },
           "yaxis": {
            "backgroundcolor": "#E5ECF6",
            "gridcolor": "white",
            "gridwidth": 2,
            "linecolor": "white",
            "showbackground": true,
            "ticks": "",
            "zerolinecolor": "white"
           },
           "zaxis": {
            "backgroundcolor": "#E5ECF6",
            "gridcolor": "white",
            "gridwidth": 2,
            "linecolor": "white",
            "showbackground": true,
            "ticks": "",
            "zerolinecolor": "white"
           }
          },
          "shapedefaults": {
           "line": {
            "color": "#2a3f5f"
           }
          },
          "ternary": {
           "aaxis": {
            "gridcolor": "white",
            "linecolor": "white",
            "ticks": ""
           },
           "baxis": {
            "gridcolor": "white",
            "linecolor": "white",
            "ticks": ""
           },
           "bgcolor": "#E5ECF6",
           "caxis": {
            "gridcolor": "white",
            "linecolor": "white",
            "ticks": ""
           }
          },
          "title": {
           "x": 0.05
          },
          "xaxis": {
           "automargin": true,
           "gridcolor": "white",
           "linecolor": "white",
           "ticks": "",
           "title": {
            "standoff": 15
           },
           "zerolinecolor": "white",
           "zerolinewidth": 2
          },
          "yaxis": {
           "automargin": true,
           "gridcolor": "white",
           "linecolor": "white",
           "ticks": "",
           "title": {
            "standoff": 15
           },
           "zerolinecolor": "white",
           "zerolinewidth": 2
          }
         }
        },
        "title": {
         "text": "Distribution of Total Cup Points by Variety"
        },
        "width": 1100,
        "xaxis": {
         "anchor": "y",
         "domain": [
          0,
          1
         ],
         "title": {
          "text": "Variety"
         }
        },
        "yaxis": {
         "anchor": "x",
         "domain": [
          0,
          1
         ],
         "title": {
          "text": "Total Cup Points"
         }
        }
       }
      }
     },
     "metadata": {},
     "output_type": "display_data"
    }
   ],
   "source": [
    "# Boxplot of total cup points by variety\n",
    "quality_variety_box = px.box(coffee[coffee['variety'].isin(top_varieties)], x='variety', \n",
    "                                  y='total_cup_points', title='Distribution of Total Cup Points by Variety',\n",
    "                                  color_discrete_sequence=[px.colors.qualitative.Antique[6]],\n",
    "                                  width=1100, height=600)\n",
    "\n",
    "quality_variety_box.update_layout({\n",
    "    'plot_bgcolor':'rgba(0, 0, 0, 0)',\n",
    "    'paper_bgcolor':'rgba(0, 0, 0, 0)'\n",
    "})\n",
    "\n",
    "quality_variety_box.update_layout(yaxis_title='Total Cup Points', xaxis_title='Variety')\n",
    "\n",
    "quality_variety_box.show()"
   ]
  },
  {
   "attachments": {},
   "cell_type": "markdown",
   "metadata": {},
   "source": [
    "### Coffee Quality by Color"
   ]
  },
  {
   "cell_type": "code",
   "execution_count": 662,
   "metadata": {},
   "outputs": [
    {
     "data": {
      "application/vnd.plotly.v1+json": {
       "config": {
        "plotlyServerURL": "https://plot.ly"
       },
       "data": [
        {
         "alignmentgroup": "True",
         "bingroup": "x",
         "histfunc": "avg",
         "hovertemplate": "variable=aroma<br>Color=%{x}<br>avg of value=%{y}<extra></extra>",
         "legendgroup": "aroma",
         "marker": {
          "color": "rgb(217, 175, 107)",
          "pattern": {
           "shape": ""
          }
         },
         "name": "aroma",
         "offsetgroup": "aroma",
         "orientation": "v",
         "showlegend": true,
         "type": "histogram",
         "x": [
          "green",
          "blue-green",
          "pale-yellow",
          "green",
          "yellow-green",
          "green",
          "green",
          "yellow-green",
          "green",
          "green",
          "green",
          "brown",
          "green",
          "yellow-green",
          "green",
          "green",
          "green",
          "yellow-green",
          "brown",
          "green",
          "pale-yellow",
          "green",
          "brown",
          "brown",
          "blue-green",
          "green",
          "green",
          "green",
          "blue-green",
          "green",
          "blue-green",
          "green",
          "green",
          "green",
          "yellow-green",
          "green",
          "blue-green",
          "green",
          "green",
          "brown",
          "green",
          "pale-yellow",
          "green",
          "green",
          "yellow-green",
          "green",
          "green",
          "green",
          "brown",
          "blue-green",
          "green",
          "green",
          "green",
          "green",
          "green",
          "blue-green",
          "blue-green",
          "green",
          "green",
          "green",
          "green",
          "green",
          "green",
          "green",
          "brown",
          "green",
          "blue-green",
          "green",
          "green",
          "green",
          "blue-green",
          "green",
          "yellow-green",
          "yellow-green",
          "brown",
          "green",
          "blue-green",
          "green",
          "blue-green",
          "green",
          "green",
          "green",
          "yellow-green",
          "green",
          "green",
          "green",
          "green",
          "green",
          "green",
          "green",
          "green",
          "green",
          "green",
          "pale-yellow",
          "green",
          "green",
          "green",
          "green",
          "green",
          "green",
          "green",
          "blue-green",
          "pale-yellow",
          "green",
          "pale-yellow",
          "green",
          "green",
          "green",
          "green",
          "blue-green",
          "green",
          "green",
          "green",
          "green",
          "blue-green",
          "green",
          "green",
          "green",
          "green",
          "green",
          "blue-green",
          "yellow-green",
          "green",
          "green",
          "green",
          "brown",
          "blue-green",
          "green",
          "green",
          "blue-green",
          "brown",
          "green",
          "green",
          "blue-green",
          "blue-green",
          "green",
          "green",
          "yellow-green",
          "green",
          "yellow-green",
          "green",
          "green",
          "pale-yellow",
          "green",
          "green",
          "yellow-green",
          "green",
          "green",
          "blue-green",
          "green",
          "green",
          "green",
          "blue-green",
          "blue-green",
          "pale-yellow",
          "green",
          "green",
          "blue-green",
          "blue-green",
          "green",
          "blue-green",
          "green",
          "green",
          "green",
          "green",
          "green",
          "blue-green",
          "green",
          "green",
          "green",
          "blue-green",
          "blue-green",
          "green",
          "green",
          "green",
          "pale-yellow",
          "yellow-green",
          "yellow-green",
          "green",
          "green",
          "yellow-green",
          "green",
          "green",
          "pale-yellow",
          "green",
          "green",
          "green",
          "blue-green",
          "green",
          "green",
          "green",
          "green",
          "blue-green",
          "green",
          "green",
          "green",
          "green",
          "blue-green",
          "green"
         ],
         "xaxis": "x",
         "y": [
          8.58,
          8.5,
          8.33,
          8.08,
          8.33,
          8.33,
          8.33,
          8.25,
          8.08,
          8.08,
          8.08,
          8.08,
          8.08,
          7.67,
          8.08,
          8.17,
          8.17,
          8,
          8.08,
          8.17,
          8,
          8.08,
          7.67,
          8.08,
          7.83,
          7.83,
          7.92,
          8.17,
          8,
          8,
          8,
          7.92,
          8.08,
          7.67,
          8,
          7.92,
          8,
          8.25,
          8.17,
          8,
          8,
          8,
          8,
          7.92,
          8.17,
          7.67,
          7.83,
          7.92,
          8,
          7.83,
          8,
          7.92,
          7.83,
          7.67,
          7.83,
          7.83,
          7.92,
          7.67,
          7.58,
          7.83,
          8.17,
          7.92,
          8.08,
          7.83,
          8,
          7.75,
          7.75,
          7.83,
          7.92,
          8.08,
          7.83,
          7.67,
          7.92,
          7.83,
          7.83,
          7.75,
          7.67,
          7.58,
          7.92,
          7.75,
          7.58,
          7.83,
          7.92,
          7.67,
          7.67,
          7.75,
          7.58,
          8,
          7.75,
          7.67,
          7.67,
          7.83,
          7.58,
          7.75,
          7.67,
          7.58,
          7.83,
          7.92,
          7.67,
          7.67,
          7.67,
          7.67,
          7.83,
          7.58,
          7.67,
          7.58,
          7.58,
          7.58,
          7.75,
          7.75,
          7.42,
          7.42,
          7.67,
          7.75,
          7.75,
          7.75,
          7.58,
          7.5,
          7.58,
          7.67,
          7.75,
          7.92,
          7.92,
          7.58,
          7.75,
          7.67,
          7.67,
          7.75,
          7.75,
          7.67,
          7.67,
          7.67,
          7.75,
          8,
          7.5,
          7.75,
          7.58,
          7.67,
          7.67,
          7.17,
          7.58,
          7.33,
          7.33,
          7.58,
          7.33,
          7.5,
          7.67,
          7.67,
          7.67,
          7.5,
          7.67,
          7.75,
          7.5,
          7.33,
          7.67,
          7.58,
          7.42,
          7.58,
          7.5,
          7.5,
          7.33,
          7.67,
          7.67,
          7.75,
          7.5,
          7.67,
          7.5,
          7.33,
          7.5,
          7.17,
          7.42,
          7.67,
          7.5,
          7.33,
          7.25,
          7.5,
          7.42,
          7.33,
          7.58,
          7.33,
          7.42,
          7.33,
          7.33,
          7.42,
          7.25,
          7.42,
          7.42,
          7.42,
          7.25,
          7.42,
          7.25,
          7.5,
          7.08,
          7.25,
          7.17,
          7.33,
          7.25,
          6.5,
          7.25
         ],
         "yaxis": "y"
        },
        {
         "alignmentgroup": "True",
         "bingroup": "x",
         "histfunc": "avg",
         "hovertemplate": "variable=flavor<br>Color=%{x}<br>avg of value=%{y}<extra></extra>",
         "legendgroup": "flavor",
         "marker": {
          "color": "rgb(175, 100, 88)",
          "pattern": {
           "shape": ""
          }
         },
         "name": "flavor",
         "offsetgroup": "flavor",
         "orientation": "v",
         "showlegend": true,
         "type": "histogram",
         "x": [
          "green",
          "blue-green",
          "pale-yellow",
          "green",
          "yellow-green",
          "green",
          "green",
          "yellow-green",
          "green",
          "green",
          "green",
          "brown",
          "green",
          "yellow-green",
          "green",
          "green",
          "green",
          "yellow-green",
          "brown",
          "green",
          "pale-yellow",
          "green",
          "brown",
          "brown",
          "blue-green",
          "green",
          "green",
          "green",
          "blue-green",
          "green",
          "blue-green",
          "green",
          "green",
          "green",
          "yellow-green",
          "green",
          "blue-green",
          "green",
          "green",
          "brown",
          "green",
          "pale-yellow",
          "green",
          "green",
          "yellow-green",
          "green",
          "green",
          "green",
          "brown",
          "blue-green",
          "green",
          "green",
          "green",
          "green",
          "green",
          "blue-green",
          "blue-green",
          "green",
          "green",
          "green",
          "green",
          "green",
          "green",
          "green",
          "brown",
          "green",
          "blue-green",
          "green",
          "green",
          "green",
          "blue-green",
          "green",
          "yellow-green",
          "yellow-green",
          "brown",
          "green",
          "blue-green",
          "green",
          "blue-green",
          "green",
          "green",
          "green",
          "yellow-green",
          "green",
          "green",
          "green",
          "green",
          "green",
          "green",
          "green",
          "green",
          "green",
          "green",
          "pale-yellow",
          "green",
          "green",
          "green",
          "green",
          "green",
          "green",
          "green",
          "blue-green",
          "pale-yellow",
          "green",
          "pale-yellow",
          "green",
          "green",
          "green",
          "green",
          "blue-green",
          "green",
          "green",
          "green",
          "green",
          "blue-green",
          "green",
          "green",
          "green",
          "green",
          "green",
          "blue-green",
          "yellow-green",
          "green",
          "green",
          "green",
          "brown",
          "blue-green",
          "green",
          "green",
          "blue-green",
          "brown",
          "green",
          "green",
          "blue-green",
          "blue-green",
          "green",
          "green",
          "yellow-green",
          "green",
          "yellow-green",
          "green",
          "green",
          "pale-yellow",
          "green",
          "green",
          "yellow-green",
          "green",
          "green",
          "blue-green",
          "green",
          "green",
          "green",
          "blue-green",
          "blue-green",
          "pale-yellow",
          "green",
          "green",
          "blue-green",
          "blue-green",
          "green",
          "blue-green",
          "green",
          "green",
          "green",
          "green",
          "green",
          "blue-green",
          "green",
          "green",
          "green",
          "blue-green",
          "blue-green",
          "green",
          "green",
          "green",
          "pale-yellow",
          "yellow-green",
          "yellow-green",
          "green",
          "green",
          "yellow-green",
          "green",
          "green",
          "pale-yellow",
          "green",
          "green",
          "green",
          "blue-green",
          "green",
          "green",
          "green",
          "green",
          "blue-green",
          "green",
          "green",
          "green",
          "green",
          "blue-green",
          "green"
         ],
         "xaxis": "x",
         "y": [
          8.5,
          8.5,
          8.42,
          8.17,
          8.33,
          8.33,
          8.17,
          8.25,
          8.08,
          8.17,
          8.25,
          8,
          8,
          8.17,
          8,
          8.08,
          8.08,
          8.17,
          8.17,
          8,
          7.92,
          8,
          8,
          8,
          8,
          8.08,
          7.92,
          8.08,
          8,
          7.92,
          8,
          8,
          8.17,
          7.83,
          8.08,
          7.75,
          7.92,
          8.08,
          7.75,
          7.92,
          8.08,
          7.92,
          7.92,
          8,
          8.08,
          8.08,
          7.92,
          7.92,
          8,
          7.92,
          8,
          7.75,
          7.83,
          7.92,
          7.92,
          7.83,
          8.08,
          8,
          7.83,
          7.83,
          7.83,
          7.75,
          7.83,
          8,
          7.83,
          7.83,
          7.92,
          7.92,
          7.83,
          7.92,
          8,
          7.83,
          7.83,
          7.75,
          7.83,
          7.75,
          7.67,
          7.92,
          7.92,
          7.75,
          7.92,
          7.92,
          7.75,
          7.83,
          7.92,
          7.75,
          7.67,
          7.75,
          7.58,
          7.83,
          7.92,
          7.83,
          7.83,
          7.67,
          7.75,
          7.83,
          7.67,
          7.75,
          7.92,
          7.92,
          7.67,
          7.67,
          7.83,
          7.75,
          7.67,
          7.67,
          7.75,
          7.83,
          7.67,
          7.75,
          7.83,
          7.42,
          7.67,
          7.75,
          7.92,
          7.67,
          7.67,
          7.75,
          7.67,
          7.67,
          7.83,
          7.92,
          7.67,
          7.5,
          7.75,
          7.67,
          7.75,
          7.58,
          7.75,
          7.67,
          7.75,
          7.67,
          7.58,
          7.67,
          7.67,
          7.5,
          7.5,
          7.5,
          7.58,
          7.92,
          7.42,
          7.58,
          7.5,
          7.67,
          7.58,
          7.58,
          7.58,
          7.67,
          7.58,
          7.58,
          7.33,
          7.67,
          7.58,
          7.58,
          7.42,
          7.58,
          7.42,
          7.58,
          7.5,
          7.5,
          7.67,
          7.58,
          7.5,
          7.42,
          7.5,
          7.5,
          7.67,
          7.42,
          7.58,
          7.5,
          7.42,
          7.33,
          7.5,
          7.42,
          7.42,
          7.5,
          7.5,
          7.5,
          7.42,
          7.42,
          7.5,
          7.5,
          7.42,
          7.25,
          7.25,
          7.25,
          7.42,
          7.33,
          7.25,
          7.17,
          7.25,
          7.25,
          7.25,
          7.17,
          7.17,
          7.08,
          7.17,
          6.75,
          7.08
         ],
         "yaxis": "y"
        },
        {
         "alignmentgroup": "True",
         "bingroup": "x",
         "histfunc": "avg",
         "hovertemplate": "variable=aftertaste<br>Color=%{x}<br>avg of value=%{y}<extra></extra>",
         "legendgroup": "aftertaste",
         "marker": {
          "color": "rgb(115, 111, 76)",
          "pattern": {
           "shape": ""
          }
         },
         "name": "aftertaste",
         "offsetgroup": "aftertaste",
         "orientation": "v",
         "showlegend": true,
         "type": "histogram",
         "x": [
          "green",
          "blue-green",
          "pale-yellow",
          "green",
          "yellow-green",
          "green",
          "green",
          "yellow-green",
          "green",
          "green",
          "green",
          "brown",
          "green",
          "yellow-green",
          "green",
          "green",
          "green",
          "yellow-green",
          "brown",
          "green",
          "pale-yellow",
          "green",
          "brown",
          "brown",
          "blue-green",
          "green",
          "green",
          "green",
          "blue-green",
          "green",
          "blue-green",
          "green",
          "green",
          "green",
          "yellow-green",
          "green",
          "blue-green",
          "green",
          "green",
          "brown",
          "green",
          "pale-yellow",
          "green",
          "green",
          "yellow-green",
          "green",
          "green",
          "green",
          "brown",
          "blue-green",
          "green",
          "green",
          "green",
          "green",
          "green",
          "blue-green",
          "blue-green",
          "green",
          "green",
          "green",
          "green",
          "green",
          "green",
          "green",
          "brown",
          "green",
          "blue-green",
          "green",
          "green",
          "green",
          "blue-green",
          "green",
          "yellow-green",
          "yellow-green",
          "brown",
          "green",
          "blue-green",
          "green",
          "blue-green",
          "green",
          "green",
          "green",
          "yellow-green",
          "green",
          "green",
          "green",
          "green",
          "green",
          "green",
          "green",
          "green",
          "green",
          "green",
          "pale-yellow",
          "green",
          "green",
          "green",
          "green",
          "green",
          "green",
          "green",
          "blue-green",
          "pale-yellow",
          "green",
          "pale-yellow",
          "green",
          "green",
          "green",
          "green",
          "blue-green",
          "green",
          "green",
          "green",
          "green",
          "blue-green",
          "green",
          "green",
          "green",
          "green",
          "green",
          "blue-green",
          "yellow-green",
          "green",
          "green",
          "green",
          "brown",
          "blue-green",
          "green",
          "green",
          "blue-green",
          "brown",
          "green",
          "green",
          "blue-green",
          "blue-green",
          "green",
          "green",
          "yellow-green",
          "green",
          "yellow-green",
          "green",
          "green",
          "pale-yellow",
          "green",
          "green",
          "yellow-green",
          "green",
          "green",
          "blue-green",
          "green",
          "green",
          "green",
          "blue-green",
          "blue-green",
          "pale-yellow",
          "green",
          "green",
          "blue-green",
          "blue-green",
          "green",
          "blue-green",
          "green",
          "green",
          "green",
          "green",
          "green",
          "blue-green",
          "green",
          "green",
          "green",
          "blue-green",
          "blue-green",
          "green",
          "green",
          "green",
          "pale-yellow",
          "yellow-green",
          "yellow-green",
          "green",
          "green",
          "yellow-green",
          "green",
          "green",
          "pale-yellow",
          "green",
          "green",
          "green",
          "blue-green",
          "green",
          "green",
          "green",
          "green",
          "blue-green",
          "green",
          "green",
          "green",
          "green",
          "blue-green",
          "green"
         ],
         "xaxis": "x",
         "y": [
          8.42,
          7.92,
          8.08,
          8.17,
          8.08,
          8.25,
          8.08,
          8.17,
          8.25,
          8.08,
          8,
          8,
          8.08,
          8,
          8.08,
          8,
          7.92,
          8,
          7.75,
          7.92,
          8.08,
          7.92,
          7.83,
          7.83,
          7.92,
          7.83,
          8,
          7.92,
          8,
          8,
          7.83,
          7.83,
          7.67,
          7.83,
          8,
          7.83,
          7.83,
          7.83,
          7.83,
          7.83,
          7.67,
          7.67,
          7.75,
          7.92,
          7.83,
          7.67,
          7.75,
          7.83,
          7.75,
          7.75,
          7.83,
          7.75,
          7.67,
          7.92,
          7.75,
          7.75,
          7.67,
          7.67,
          7.5,
          7.75,
          7.67,
          7.67,
          7.67,
          7.67,
          7.75,
          7.67,
          7.83,
          7.75,
          7.75,
          7.75,
          7.5,
          7.75,
          7.75,
          7.58,
          7.83,
          7.75,
          7.83,
          7.67,
          7.58,
          7.58,
          7.58,
          7.83,
          7.67,
          7.67,
          7.67,
          7.75,
          7.75,
          7.5,
          7.58,
          7.58,
          7.58,
          7.58,
          7.58,
          7.58,
          7.67,
          7.67,
          7.5,
          7.42,
          7.58,
          7.67,
          7.58,
          7.75,
          7.67,
          7.67,
          7.58,
          7.5,
          7.58,
          7.58,
          7.58,
          7.5,
          7.58,
          7.42,
          7.5,
          7.5,
          7.67,
          7.58,
          7.5,
          7.58,
          7.58,
          7.42,
          7.58,
          7.75,
          7.42,
          7.5,
          7.58,
          7.58,
          7.67,
          7.58,
          7.5,
          7.5,
          7.33,
          7.5,
          7.58,
          7.42,
          7.58,
          7.42,
          7.5,
          7.42,
          7.5,
          7.58,
          7.58,
          7.25,
          7.25,
          7.58,
          7.58,
          7.5,
          7.33,
          7.42,
          7.42,
          7.42,
          7.17,
          7.17,
          7.5,
          7.5,
          7.5,
          7.33,
          7.58,
          7.42,
          7.33,
          7.42,
          7.25,
          7.42,
          7.33,
          7.33,
          7.42,
          7.25,
          7.33,
          7.42,
          7.42,
          7.42,
          7.42,
          7.25,
          7.33,
          7.33,
          7.42,
          7.42,
          7.58,
          7.33,
          7.25,
          7.25,
          7.33,
          7.42,
          7.25,
          7.33,
          7.42,
          7.25,
          7.25,
          7.33,
          7.17,
          7,
          7.17,
          7.17,
          7.08,
          7.17,
          6.92,
          6.75,
          7.08,
          6.75,
          6.67
         ],
         "yaxis": "y"
        },
        {
         "alignmentgroup": "True",
         "bingroup": "x",
         "histfunc": "avg",
         "hovertemplate": "variable=acidity<br>Color=%{x}<br>avg of value=%{y}<extra></extra>",
         "legendgroup": "acidity",
         "marker": {
          "color": "rgb(82, 106, 131)",
          "pattern": {
           "shape": ""
          }
         },
         "name": "acidity",
         "offsetgroup": "acidity",
         "orientation": "v",
         "showlegend": true,
         "type": "histogram",
         "x": [
          "green",
          "blue-green",
          "pale-yellow",
          "green",
          "yellow-green",
          "green",
          "green",
          "yellow-green",
          "green",
          "green",
          "green",
          "brown",
          "green",
          "yellow-green",
          "green",
          "green",
          "green",
          "yellow-green",
          "brown",
          "green",
          "pale-yellow",
          "green",
          "brown",
          "brown",
          "blue-green",
          "green",
          "green",
          "green",
          "blue-green",
          "green",
          "blue-green",
          "green",
          "green",
          "green",
          "yellow-green",
          "green",
          "blue-green",
          "green",
          "green",
          "brown",
          "green",
          "pale-yellow",
          "green",
          "green",
          "yellow-green",
          "green",
          "green",
          "green",
          "brown",
          "blue-green",
          "green",
          "green",
          "green",
          "green",
          "green",
          "blue-green",
          "blue-green",
          "green",
          "green",
          "green",
          "green",
          "green",
          "green",
          "green",
          "brown",
          "green",
          "blue-green",
          "green",
          "green",
          "green",
          "blue-green",
          "green",
          "yellow-green",
          "yellow-green",
          "brown",
          "green",
          "blue-green",
          "green",
          "blue-green",
          "green",
          "green",
          "green",
          "yellow-green",
          "green",
          "green",
          "green",
          "green",
          "green",
          "green",
          "green",
          "green",
          "green",
          "green",
          "pale-yellow",
          "green",
          "green",
          "green",
          "green",
          "green",
          "green",
          "green",
          "blue-green",
          "pale-yellow",
          "green",
          "pale-yellow",
          "green",
          "green",
          "green",
          "green",
          "blue-green",
          "green",
          "green",
          "green",
          "green",
          "blue-green",
          "green",
          "green",
          "green",
          "green",
          "green",
          "blue-green",
          "yellow-green",
          "green",
          "green",
          "green",
          "brown",
          "blue-green",
          "green",
          "green",
          "blue-green",
          "brown",
          "green",
          "green",
          "blue-green",
          "blue-green",
          "green",
          "green",
          "yellow-green",
          "green",
          "yellow-green",
          "green",
          "green",
          "pale-yellow",
          "green",
          "green",
          "yellow-green",
          "green",
          "green",
          "blue-green",
          "green",
          "green",
          "green",
          "blue-green",
          "blue-green",
          "pale-yellow",
          "green",
          "green",
          "blue-green",
          "blue-green",
          "green",
          "blue-green",
          "green",
          "green",
          "green",
          "green",
          "green",
          "blue-green",
          "green",
          "green",
          "green",
          "blue-green",
          "blue-green",
          "green",
          "green",
          "green",
          "pale-yellow",
          "yellow-green",
          "yellow-green",
          "green",
          "green",
          "yellow-green",
          "green",
          "green",
          "pale-yellow",
          "green",
          "green",
          "green",
          "blue-green",
          "green",
          "green",
          "green",
          "green",
          "blue-green",
          "green",
          "green",
          "green",
          "green",
          "blue-green",
          "green"
         ],
         "xaxis": "x",
         "y": [
          8.58,
          8,
          8.17,
          8.25,
          8.25,
          7.83,
          8,
          8,
          8.08,
          8.17,
          8.08,
          7.75,
          8.08,
          8.33,
          7.92,
          7.92,
          8.17,
          7.92,
          7.92,
          7.92,
          7.92,
          7.92,
          8,
          8.17,
          8,
          7.92,
          7.92,
          8,
          7.92,
          7.83,
          7.83,
          7.92,
          7.83,
          8,
          8,
          8.17,
          7.92,
          7.75,
          7.58,
          7.92,
          7.75,
          8,
          7.75,
          8,
          7.67,
          8,
          8,
          7.83,
          7.75,
          7.83,
          7.83,
          7.92,
          7.67,
          7.83,
          7.92,
          7.92,
          7.92,
          7.83,
          7.67,
          7.75,
          7.83,
          7.67,
          7.67,
          7.75,
          7.67,
          7.83,
          7.75,
          7.75,
          7.92,
          7.83,
          7.75,
          7.75,
          7.92,
          7.92,
          7.83,
          7.75,
          7.83,
          7.75,
          7.75,
          7.83,
          7.83,
          7.58,
          7.75,
          7.83,
          7.75,
          7.67,
          7.75,
          7.67,
          7.92,
          7.92,
          7.75,
          7.67,
          7.75,
          7.75,
          7.75,
          7.67,
          7.92,
          7.58,
          7.58,
          7.58,
          7.67,
          7.75,
          7.58,
          7.83,
          7.75,
          7.75,
          7.75,
          7.67,
          7.58,
          7.58,
          7.67,
          8,
          7.67,
          7.5,
          7.92,
          7.5,
          7.75,
          7.75,
          7.75,
          7.75,
          7.58,
          7.33,
          7.5,
          7.83,
          7.67,
          7.67,
          7.58,
          7.58,
          7.75,
          7.58,
          7.67,
          7.58,
          7.58,
          7.58,
          7.58,
          7.67,
          7.67,
          7.75,
          7.5,
          7.5,
          7.5,
          7.33,
          7.92,
          7.5,
          7.5,
          7.42,
          7.5,
          7.42,
          7.42,
          7.58,
          7.67,
          7.67,
          7.5,
          7.5,
          7.5,
          7.5,
          7.42,
          7.42,
          7.5,
          7.42,
          7.67,
          7.5,
          7.58,
          7.5,
          7.5,
          7.5,
          7.5,
          7.5,
          7.42,
          7.42,
          7.33,
          7.67,
          7.5,
          7.42,
          7.5,
          7.33,
          7.33,
          7.42,
          7.25,
          7.42,
          7.33,
          7.33,
          7.33,
          7.42,
          7.25,
          7.42,
          7.25,
          7.5,
          7.33,
          7.08,
          7.33,
          7.17,
          7.42,
          7.08,
          7.17,
          7.17,
          7,
          7.17,
          6.83
         ],
         "yaxis": "y"
        },
        {
         "alignmentgroup": "True",
         "bingroup": "x",
         "histfunc": "avg",
         "hovertemplate": "variable=body<br>Color=%{x}<br>avg of value=%{y}<extra></extra>",
         "legendgroup": "body",
         "marker": {
          "color": "rgb(160, 97, 119)",
          "pattern": {
           "shape": ""
          }
         },
         "name": "body",
         "offsetgroup": "body",
         "orientation": "v",
         "showlegend": true,
         "type": "histogram",
         "x": [
          "green",
          "blue-green",
          "pale-yellow",
          "green",
          "yellow-green",
          "green",
          "green",
          "yellow-green",
          "green",
          "green",
          "green",
          "brown",
          "green",
          "yellow-green",
          "green",
          "green",
          "green",
          "yellow-green",
          "brown",
          "green",
          "pale-yellow",
          "green",
          "brown",
          "brown",
          "blue-green",
          "green",
          "green",
          "green",
          "blue-green",
          "green",
          "blue-green",
          "green",
          "green",
          "green",
          "yellow-green",
          "green",
          "blue-green",
          "green",
          "green",
          "brown",
          "green",
          "pale-yellow",
          "green",
          "green",
          "yellow-green",
          "green",
          "green",
          "green",
          "brown",
          "blue-green",
          "green",
          "green",
          "green",
          "green",
          "green",
          "blue-green",
          "blue-green",
          "green",
          "green",
          "green",
          "green",
          "green",
          "green",
          "green",
          "brown",
          "green",
          "blue-green",
          "green",
          "green",
          "green",
          "blue-green",
          "green",
          "yellow-green",
          "yellow-green",
          "brown",
          "green",
          "blue-green",
          "green",
          "blue-green",
          "green",
          "green",
          "green",
          "yellow-green",
          "green",
          "green",
          "green",
          "green",
          "green",
          "green",
          "green",
          "green",
          "green",
          "green",
          "pale-yellow",
          "green",
          "green",
          "green",
          "green",
          "green",
          "green",
          "green",
          "blue-green",
          "pale-yellow",
          "green",
          "pale-yellow",
          "green",
          "green",
          "green",
          "green",
          "blue-green",
          "green",
          "green",
          "green",
          "green",
          "blue-green",
          "green",
          "green",
          "green",
          "green",
          "green",
          "blue-green",
          "yellow-green",
          "green",
          "green",
          "green",
          "brown",
          "blue-green",
          "green",
          "green",
          "blue-green",
          "brown",
          "green",
          "green",
          "blue-green",
          "blue-green",
          "green",
          "green",
          "yellow-green",
          "green",
          "yellow-green",
          "green",
          "green",
          "pale-yellow",
          "green",
          "green",
          "yellow-green",
          "green",
          "green",
          "blue-green",
          "green",
          "green",
          "green",
          "blue-green",
          "blue-green",
          "pale-yellow",
          "green",
          "green",
          "blue-green",
          "blue-green",
          "green",
          "blue-green",
          "green",
          "green",
          "green",
          "green",
          "green",
          "blue-green",
          "green",
          "green",
          "green",
          "blue-green",
          "blue-green",
          "green",
          "green",
          "green",
          "pale-yellow",
          "yellow-green",
          "yellow-green",
          "green",
          "green",
          "yellow-green",
          "green",
          "green",
          "pale-yellow",
          "green",
          "green",
          "green",
          "blue-green",
          "green",
          "green",
          "green",
          "green",
          "blue-green",
          "green",
          "green",
          "green",
          "green",
          "blue-green",
          "green"
         ],
         "xaxis": "x",
         "y": [
          8.25,
          7.92,
          7.92,
          8.17,
          7.92,
          7.83,
          7.83,
          7.92,
          7.92,
          8,
          7.92,
          8.25,
          8,
          8,
          8.08,
          8,
          7.75,
          7.92,
          7.83,
          8.17,
          7.75,
          8,
          8.08,
          7.75,
          8,
          8,
          7.83,
          7.58,
          7.75,
          7.67,
          7.75,
          7.83,
          7.67,
          8,
          7.67,
          8,
          7.83,
          7.67,
          7.92,
          7.75,
          7.92,
          7.75,
          7.75,
          7.58,
          7.67,
          7.92,
          7.75,
          7.75,
          7.67,
          7.83,
          7.58,
          7.83,
          7.83,
          7.75,
          7.67,
          7.83,
          7.67,
          7.92,
          7.83,
          7.75,
          7.67,
          7.83,
          7.67,
          7.67,
          7.58,
          7.75,
          7.75,
          7.75,
          7.58,
          7.5,
          7.75,
          7.83,
          7.5,
          8,
          7.67,
          7.83,
          7.67,
          7.83,
          7.58,
          7.75,
          7.75,
          7.58,
          7.75,
          7.75,
          7.67,
          7.75,
          7.75,
          7.67,
          7.67,
          7.67,
          7.67,
          7.67,
          7.67,
          7.75,
          7.67,
          7.67,
          7.5,
          7.92,
          7.58,
          7.67,
          7.83,
          7.5,
          7.58,
          7.5,
          7.67,
          7.75,
          7.58,
          7.58,
          7.58,
          7.83,
          7.67,
          7.92,
          7.58,
          7.58,
          7.75,
          7.67,
          7.5,
          7.67,
          7.42,
          7.5,
          7.58,
          7.58,
          7.67,
          7.67,
          7.42,
          7.58,
          7.5,
          7.5,
          7.5,
          7.58,
          7.58,
          7.58,
          7.58,
          7.58,
          7.5,
          7.58,
          7.58,
          7.42,
          7.58,
          7.58,
          7.67,
          7.75,
          7.75,
          7.33,
          7.67,
          7.5,
          7.58,
          7.42,
          7.5,
          7.5,
          7.83,
          7.42,
          7.67,
          7.5,
          7.67,
          7.58,
          7.58,
          7.5,
          7.5,
          7.42,
          7.83,
          7.33,
          7.33,
          7.33,
          7.25,
          7.5,
          7.25,
          7.42,
          7.25,
          7.58,
          7.5,
          7.42,
          7.33,
          7.58,
          7.42,
          7.33,
          7.33,
          7.42,
          7.5,
          7.42,
          7.33,
          7.33,
          7.5,
          7.33,
          7.42,
          7.17,
          7.17,
          7.08,
          7.08,
          7.42,
          7,
          7.17,
          7.42,
          7.17,
          7.42,
          7.42,
          7.08,
          7.08,
          6.83
         ],
         "yaxis": "y"
        },
        {
         "alignmentgroup": "True",
         "bingroup": "x",
         "histfunc": "avg",
         "hovertemplate": "variable=balance<br>Color=%{x}<br>avg of value=%{y}<extra></extra>",
         "legendgroup": "balance",
         "marker": {
          "color": "rgb(104, 133, 92)",
          "pattern": {
           "shape": ""
          }
         },
         "name": "balance",
         "offsetgroup": "balance",
         "orientation": "v",
         "showlegend": true,
         "type": "histogram",
         "x": [
          "green",
          "blue-green",
          "pale-yellow",
          "green",
          "yellow-green",
          "green",
          "green",
          "yellow-green",
          "green",
          "green",
          "green",
          "brown",
          "green",
          "yellow-green",
          "green",
          "green",
          "green",
          "yellow-green",
          "brown",
          "green",
          "pale-yellow",
          "green",
          "brown",
          "brown",
          "blue-green",
          "green",
          "green",
          "green",
          "blue-green",
          "green",
          "blue-green",
          "green",
          "green",
          "green",
          "yellow-green",
          "green",
          "blue-green",
          "green",
          "green",
          "brown",
          "green",
          "pale-yellow",
          "green",
          "green",
          "yellow-green",
          "green",
          "green",
          "green",
          "brown",
          "blue-green",
          "green",
          "green",
          "green",
          "green",
          "green",
          "blue-green",
          "blue-green",
          "green",
          "green",
          "green",
          "green",
          "green",
          "green",
          "green",
          "brown",
          "green",
          "blue-green",
          "green",
          "green",
          "green",
          "blue-green",
          "green",
          "yellow-green",
          "yellow-green",
          "brown",
          "green",
          "blue-green",
          "green",
          "blue-green",
          "green",
          "green",
          "green",
          "yellow-green",
          "green",
          "green",
          "green",
          "green",
          "green",
          "green",
          "green",
          "green",
          "green",
          "green",
          "pale-yellow",
          "green",
          "green",
          "green",
          "green",
          "green",
          "green",
          "green",
          "blue-green",
          "pale-yellow",
          "green",
          "pale-yellow",
          "green",
          "green",
          "green",
          "green",
          "blue-green",
          "green",
          "green",
          "green",
          "green",
          "blue-green",
          "green",
          "green",
          "green",
          "green",
          "green",
          "blue-green",
          "yellow-green",
          "green",
          "green",
          "green",
          "brown",
          "blue-green",
          "green",
          "green",
          "blue-green",
          "brown",
          "green",
          "green",
          "blue-green",
          "blue-green",
          "green",
          "green",
          "yellow-green",
          "green",
          "yellow-green",
          "green",
          "green",
          "pale-yellow",
          "green",
          "green",
          "yellow-green",
          "green",
          "green",
          "blue-green",
          "green",
          "green",
          "green",
          "blue-green",
          "blue-green",
          "pale-yellow",
          "green",
          "green",
          "blue-green",
          "blue-green",
          "green",
          "blue-green",
          "green",
          "green",
          "green",
          "green",
          "green",
          "blue-green",
          "green",
          "green",
          "green",
          "blue-green",
          "blue-green",
          "green",
          "green",
          "green",
          "pale-yellow",
          "yellow-green",
          "yellow-green",
          "green",
          "green",
          "yellow-green",
          "green",
          "green",
          "pale-yellow",
          "green",
          "green",
          "green",
          "blue-green",
          "green",
          "green",
          "green",
          "green",
          "blue-green",
          "green",
          "green",
          "green",
          "green",
          "blue-green",
          "green"
         ],
         "xaxis": "x",
         "y": [
          8.42,
          8.25,
          8.17,
          8.08,
          7.92,
          8.17,
          8.25,
          8.08,
          8,
          8,
          7.92,
          8.17,
          8,
          8,
          8,
          7.92,
          7.92,
          7.92,
          8,
          7.75,
          8,
          7.83,
          8,
          7.83,
          7.92,
          7.83,
          7.92,
          7.83,
          7.92,
          8,
          7.92,
          7.83,
          7.92,
          8,
          7.75,
          7.75,
          7.83,
          7.75,
          8,
          7.75,
          7.83,
          7.83,
          7.92,
          7.75,
          7.75,
          7.83,
          7.75,
          7.83,
          7.75,
          7.83,
          7.83,
          7.83,
          8,
          7.83,
          7.83,
          7.75,
          7.75,
          7.67,
          7.67,
          7.75,
          7.67,
          7.75,
          7.75,
          7.75,
          7.83,
          7.75,
          7.75,
          7.75,
          7.67,
          7.58,
          7.75,
          7.75,
          7.67,
          7.5,
          7.67,
          7.67,
          7.75,
          7.75,
          7.67,
          7.75,
          7.67,
          7.67,
          8,
          7.67,
          7.58,
          7.67,
          7.75,
          7.67,
          7.75,
          7.67,
          7.58,
          7.58,
          7.75,
          7.67,
          7.67,
          7.67,
          7.67,
          7.67,
          7.75,
          7.67,
          7.58,
          7.67,
          7.58,
          7.67,
          7.67,
          7.67,
          7.67,
          7.58,
          7.67,
          7.5,
          7.75,
          7.67,
          7.67,
          7.58,
          7.83,
          7.5,
          7.58,
          7.58,
          7.58,
          7.75,
          7.5,
          7.5,
          7.58,
          7.5,
          7.5,
          7.58,
          7.58,
          7.58,
          7.42,
          7.5,
          7.5,
          7.5,
          7.5,
          7.42,
          7.5,
          7.5,
          7.5,
          7.58,
          7.5,
          7.67,
          7.75,
          8.17,
          7.58,
          7.5,
          7.67,
          7.58,
          7.5,
          7.5,
          7.5,
          7.58,
          7.5,
          7.42,
          7.42,
          7.58,
          7.42,
          7.42,
          7.5,
          7.5,
          7.42,
          7.67,
          7.42,
          7.42,
          7.42,
          7.5,
          7.5,
          7.33,
          7.33,
          7.5,
          7.42,
          7.5,
          7.42,
          7.25,
          7.33,
          7.42,
          7.42,
          7.33,
          7.25,
          7.42,
          7.33,
          7.33,
          7.33,
          7.25,
          7.42,
          7.33,
          7.42,
          7.33,
          7.25,
          7,
          7.25,
          7.17,
          7.17,
          7.08,
          7.08,
          7.17,
          7.17,
          7.17,
          7.08,
          7,
          6.67
         ],
         "yaxis": "y"
        },
        {
         "alignmentgroup": "True",
         "bingroup": "x",
         "histfunc": "avg",
         "hovertemplate": "variable=overall<br>Color=%{x}<br>avg of value=%{y}<extra></extra>",
         "legendgroup": "overall",
         "marker": {
          "color": "rgb(98, 83, 119)",
          "pattern": {
           "shape": ""
          }
         },
         "name": "overall",
         "offsetgroup": "overall",
         "orientation": "v",
         "showlegend": true,
         "type": "histogram",
         "x": [
          "green",
          "blue-green",
          "pale-yellow",
          "green",
          "yellow-green",
          "green",
          "green",
          "yellow-green",
          "green",
          "green",
          "green",
          "brown",
          "green",
          "yellow-green",
          "green",
          "green",
          "green",
          "yellow-green",
          "brown",
          "green",
          "pale-yellow",
          "green",
          "brown",
          "brown",
          "blue-green",
          "green",
          "green",
          "green",
          "blue-green",
          "green",
          "blue-green",
          "green",
          "green",
          "green",
          "yellow-green",
          "green",
          "blue-green",
          "green",
          "green",
          "brown",
          "green",
          "pale-yellow",
          "green",
          "green",
          "yellow-green",
          "green",
          "green",
          "green",
          "brown",
          "blue-green",
          "green",
          "green",
          "green",
          "green",
          "green",
          "blue-green",
          "blue-green",
          "green",
          "green",
          "green",
          "green",
          "green",
          "green",
          "green",
          "brown",
          "green",
          "blue-green",
          "green",
          "green",
          "green",
          "blue-green",
          "green",
          "yellow-green",
          "yellow-green",
          "brown",
          "green",
          "blue-green",
          "green",
          "blue-green",
          "green",
          "green",
          "green",
          "yellow-green",
          "green",
          "green",
          "green",
          "green",
          "green",
          "green",
          "green",
          "green",
          "green",
          "green",
          "pale-yellow",
          "green",
          "green",
          "green",
          "green",
          "green",
          "green",
          "green",
          "blue-green",
          "pale-yellow",
          "green",
          "pale-yellow",
          "green",
          "green",
          "green",
          "green",
          "blue-green",
          "green",
          "green",
          "green",
          "green",
          "blue-green",
          "green",
          "green",
          "green",
          "green",
          "green",
          "blue-green",
          "yellow-green",
          "green",
          "green",
          "green",
          "brown",
          "blue-green",
          "green",
          "green",
          "blue-green",
          "brown",
          "green",
          "green",
          "blue-green",
          "blue-green",
          "green",
          "green",
          "yellow-green",
          "green",
          "yellow-green",
          "green",
          "green",
          "pale-yellow",
          "green",
          "green",
          "yellow-green",
          "green",
          "green",
          "blue-green",
          "green",
          "green",
          "green",
          "blue-green",
          "blue-green",
          "pale-yellow",
          "green",
          "green",
          "blue-green",
          "blue-green",
          "green",
          "blue-green",
          "green",
          "green",
          "green",
          "green",
          "green",
          "blue-green",
          "green",
          "green",
          "green",
          "blue-green",
          "blue-green",
          "green",
          "green",
          "green",
          "pale-yellow",
          "yellow-green",
          "yellow-green",
          "green",
          "green",
          "yellow-green",
          "green",
          "green",
          "pale-yellow",
          "green",
          "green",
          "green",
          "blue-green",
          "green",
          "green",
          "green",
          "green",
          "blue-green",
          "green",
          "green",
          "green",
          "green",
          "blue-green",
          "green"
         ],
         "xaxis": "x",
         "y": [
          8.58,
          8.5,
          8.33,
          8.25,
          8.25,
          8.25,
          8.25,
          8.08,
          8.25,
          8,
          8,
          8,
          8,
          8,
          8,
          8,
          8.08,
          8.17,
          8.17,
          7.92,
          8.08,
          7.92,
          8.08,
          8,
          7.92,
          8,
          8,
          7.92,
          7.92,
          8,
          8.08,
          8,
          8,
          8,
          7.83,
          7.83,
          7.92,
          7.92,
          8,
          7.92,
          7.83,
          7.92,
          7.92,
          7.83,
          7.83,
          7.83,
          7.92,
          7.83,
          7.92,
          7.83,
          7.75,
          7.83,
          8,
          7.83,
          7.83,
          7.83,
          7.75,
          7.92,
          8.58,
          7.92,
          7.75,
          8,
          7.92,
          7.92,
          7.92,
          7.92,
          7.75,
          7.75,
          7.83,
          7.83,
          7.83,
          7.75,
          7.75,
          7.75,
          7.67,
          7.83,
          7.83,
          7.75,
          7.83,
          7.75,
          7.75,
          7.67,
          7.92,
          7.67,
          7.75,
          7.67,
          7.75,
          7.75,
          7.75,
          7.67,
          7.75,
          7.75,
          7.75,
          7.75,
          7.67,
          7.75,
          7.75,
          7.58,
          7.75,
          7.58,
          7.75,
          7.67,
          7.58,
          7.67,
          7.67,
          7.67,
          7.67,
          7.75,
          7.67,
          7.58,
          7.58,
          7.67,
          7.67,
          7.75,
          7.92,
          7.67,
          7.75,
          7.5,
          7.75,
          7.58,
          7.5,
          7.33,
          7.5,
          7.67,
          7.58,
          7.5,
          7.5,
          7.67,
          7.5,
          7.67,
          7.58,
          7.58,
          7.5,
          7.33,
          7.58,
          7.5,
          7.58,
          7.58,
          7.5,
          7.42,
          7.33,
          7.33,
          7.42,
          7.5,
          7.33,
          7.58,
          7.5,
          7.5,
          7.5,
          7.42,
          7.33,
          7.42,
          7.33,
          7.5,
          7.33,
          7.5,
          7.58,
          7.42,
          7.58,
          7.42,
          7.17,
          7.42,
          7.42,
          7.33,
          7.5,
          7.42,
          7.5,
          7.5,
          7.42,
          7.42,
          7.5,
          7.42,
          7.42,
          7.42,
          7.42,
          7.42,
          7.33,
          7.33,
          7.33,
          7.42,
          7.33,
          7.33,
          7.17,
          7.25,
          7.17,
          7.33,
          7.25,
          7.17,
          7.17,
          7.17,
          7.25,
          7,
          7,
          7.17,
          7.08,
          7.08,
          7,
          6.83,
          6.67
         ],
         "yaxis": "y"
        }
       ],
       "layout": {
        "barmode": "group",
        "legend": {
         "title": {
          "text": "variable"
         },
         "tracegroupgap": 0
        },
        "paper_bgcolor": "rgba(0, 0, 0, 0)",
        "plot_bgcolor": "rgba(0, 0, 0, 0)",
        "template": {
         "data": {
          "bar": [
           {
            "error_x": {
             "color": "#2a3f5f"
            },
            "error_y": {
             "color": "#2a3f5f"
            },
            "marker": {
             "line": {
              "color": "#E5ECF6",
              "width": 0.5
             },
             "pattern": {
              "fillmode": "overlay",
              "size": 10,
              "solidity": 0.2
             }
            },
            "type": "bar"
           }
          ],
          "barpolar": [
           {
            "marker": {
             "line": {
              "color": "#E5ECF6",
              "width": 0.5
             },
             "pattern": {
              "fillmode": "overlay",
              "size": 10,
              "solidity": 0.2
             }
            },
            "type": "barpolar"
           }
          ],
          "carpet": [
           {
            "aaxis": {
             "endlinecolor": "#2a3f5f",
             "gridcolor": "white",
             "linecolor": "white",
             "minorgridcolor": "white",
             "startlinecolor": "#2a3f5f"
            },
            "baxis": {
             "endlinecolor": "#2a3f5f",
             "gridcolor": "white",
             "linecolor": "white",
             "minorgridcolor": "white",
             "startlinecolor": "#2a3f5f"
            },
            "type": "carpet"
           }
          ],
          "choropleth": [
           {
            "colorbar": {
             "outlinewidth": 0,
             "ticks": ""
            },
            "type": "choropleth"
           }
          ],
          "contour": [
           {
            "colorbar": {
             "outlinewidth": 0,
             "ticks": ""
            },
            "colorscale": [
             [
              0,
              "#0d0887"
             ],
             [
              0.1111111111111111,
              "#46039f"
             ],
             [
              0.2222222222222222,
              "#7201a8"
             ],
             [
              0.3333333333333333,
              "#9c179e"
             ],
             [
              0.4444444444444444,
              "#bd3786"
             ],
             [
              0.5555555555555556,
              "#d8576b"
             ],
             [
              0.6666666666666666,
              "#ed7953"
             ],
             [
              0.7777777777777778,
              "#fb9f3a"
             ],
             [
              0.8888888888888888,
              "#fdca26"
             ],
             [
              1,
              "#f0f921"
             ]
            ],
            "type": "contour"
           }
          ],
          "contourcarpet": [
           {
            "colorbar": {
             "outlinewidth": 0,
             "ticks": ""
            },
            "type": "contourcarpet"
           }
          ],
          "heatmap": [
           {
            "colorbar": {
             "outlinewidth": 0,
             "ticks": ""
            },
            "colorscale": [
             [
              0,
              "#0d0887"
             ],
             [
              0.1111111111111111,
              "#46039f"
             ],
             [
              0.2222222222222222,
              "#7201a8"
             ],
             [
              0.3333333333333333,
              "#9c179e"
             ],
             [
              0.4444444444444444,
              "#bd3786"
             ],
             [
              0.5555555555555556,
              "#d8576b"
             ],
             [
              0.6666666666666666,
              "#ed7953"
             ],
             [
              0.7777777777777778,
              "#fb9f3a"
             ],
             [
              0.8888888888888888,
              "#fdca26"
             ],
             [
              1,
              "#f0f921"
             ]
            ],
            "type": "heatmap"
           }
          ],
          "heatmapgl": [
           {
            "colorbar": {
             "outlinewidth": 0,
             "ticks": ""
            },
            "colorscale": [
             [
              0,
              "#0d0887"
             ],
             [
              0.1111111111111111,
              "#46039f"
             ],
             [
              0.2222222222222222,
              "#7201a8"
             ],
             [
              0.3333333333333333,
              "#9c179e"
             ],
             [
              0.4444444444444444,
              "#bd3786"
             ],
             [
              0.5555555555555556,
              "#d8576b"
             ],
             [
              0.6666666666666666,
              "#ed7953"
             ],
             [
              0.7777777777777778,
              "#fb9f3a"
             ],
             [
              0.8888888888888888,
              "#fdca26"
             ],
             [
              1,
              "#f0f921"
             ]
            ],
            "type": "heatmapgl"
           }
          ],
          "histogram": [
           {
            "marker": {
             "pattern": {
              "fillmode": "overlay",
              "size": 10,
              "solidity": 0.2
             }
            },
            "type": "histogram"
           }
          ],
          "histogram2d": [
           {
            "colorbar": {
             "outlinewidth": 0,
             "ticks": ""
            },
            "colorscale": [
             [
              0,
              "#0d0887"
             ],
             [
              0.1111111111111111,
              "#46039f"
             ],
             [
              0.2222222222222222,
              "#7201a8"
             ],
             [
              0.3333333333333333,
              "#9c179e"
             ],
             [
              0.4444444444444444,
              "#bd3786"
             ],
             [
              0.5555555555555556,
              "#d8576b"
             ],
             [
              0.6666666666666666,
              "#ed7953"
             ],
             [
              0.7777777777777778,
              "#fb9f3a"
             ],
             [
              0.8888888888888888,
              "#fdca26"
             ],
             [
              1,
              "#f0f921"
             ]
            ],
            "type": "histogram2d"
           }
          ],
          "histogram2dcontour": [
           {
            "colorbar": {
             "outlinewidth": 0,
             "ticks": ""
            },
            "colorscale": [
             [
              0,
              "#0d0887"
             ],
             [
              0.1111111111111111,
              "#46039f"
             ],
             [
              0.2222222222222222,
              "#7201a8"
             ],
             [
              0.3333333333333333,
              "#9c179e"
             ],
             [
              0.4444444444444444,
              "#bd3786"
             ],
             [
              0.5555555555555556,
              "#d8576b"
             ],
             [
              0.6666666666666666,
              "#ed7953"
             ],
             [
              0.7777777777777778,
              "#fb9f3a"
             ],
             [
              0.8888888888888888,
              "#fdca26"
             ],
             [
              1,
              "#f0f921"
             ]
            ],
            "type": "histogram2dcontour"
           }
          ],
          "mesh3d": [
           {
            "colorbar": {
             "outlinewidth": 0,
             "ticks": ""
            },
            "type": "mesh3d"
           }
          ],
          "parcoords": [
           {
            "line": {
             "colorbar": {
              "outlinewidth": 0,
              "ticks": ""
             }
            },
            "type": "parcoords"
           }
          ],
          "pie": [
           {
            "automargin": true,
            "type": "pie"
           }
          ],
          "scatter": [
           {
            "fillpattern": {
             "fillmode": "overlay",
             "size": 10,
             "solidity": 0.2
            },
            "type": "scatter"
           }
          ],
          "scatter3d": [
           {
            "line": {
             "colorbar": {
              "outlinewidth": 0,
              "ticks": ""
             }
            },
            "marker": {
             "colorbar": {
              "outlinewidth": 0,
              "ticks": ""
             }
            },
            "type": "scatter3d"
           }
          ],
          "scattercarpet": [
           {
            "marker": {
             "colorbar": {
              "outlinewidth": 0,
              "ticks": ""
             }
            },
            "type": "scattercarpet"
           }
          ],
          "scattergeo": [
           {
            "marker": {
             "colorbar": {
              "outlinewidth": 0,
              "ticks": ""
             }
            },
            "type": "scattergeo"
           }
          ],
          "scattergl": [
           {
            "marker": {
             "colorbar": {
              "outlinewidth": 0,
              "ticks": ""
             }
            },
            "type": "scattergl"
           }
          ],
          "scattermapbox": [
           {
            "marker": {
             "colorbar": {
              "outlinewidth": 0,
              "ticks": ""
             }
            },
            "type": "scattermapbox"
           }
          ],
          "scatterpolar": [
           {
            "marker": {
             "colorbar": {
              "outlinewidth": 0,
              "ticks": ""
             }
            },
            "type": "scatterpolar"
           }
          ],
          "scatterpolargl": [
           {
            "marker": {
             "colorbar": {
              "outlinewidth": 0,
              "ticks": ""
             }
            },
            "type": "scatterpolargl"
           }
          ],
          "scatterternary": [
           {
            "marker": {
             "colorbar": {
              "outlinewidth": 0,
              "ticks": ""
             }
            },
            "type": "scatterternary"
           }
          ],
          "surface": [
           {
            "colorbar": {
             "outlinewidth": 0,
             "ticks": ""
            },
            "colorscale": [
             [
              0,
              "#0d0887"
             ],
             [
              0.1111111111111111,
              "#46039f"
             ],
             [
              0.2222222222222222,
              "#7201a8"
             ],
             [
              0.3333333333333333,
              "#9c179e"
             ],
             [
              0.4444444444444444,
              "#bd3786"
             ],
             [
              0.5555555555555556,
              "#d8576b"
             ],
             [
              0.6666666666666666,
              "#ed7953"
             ],
             [
              0.7777777777777778,
              "#fb9f3a"
             ],
             [
              0.8888888888888888,
              "#fdca26"
             ],
             [
              1,
              "#f0f921"
             ]
            ],
            "type": "surface"
           }
          ],
          "table": [
           {
            "cells": {
             "fill": {
              "color": "#EBF0F8"
             },
             "line": {
              "color": "white"
             }
            },
            "header": {
             "fill": {
              "color": "#C8D4E3"
             },
             "line": {
              "color": "white"
             }
            },
            "type": "table"
           }
          ]
         },
         "layout": {
          "annotationdefaults": {
           "arrowcolor": "#2a3f5f",
           "arrowhead": 0,
           "arrowwidth": 1
          },
          "autotypenumbers": "strict",
          "coloraxis": {
           "colorbar": {
            "outlinewidth": 0,
            "ticks": ""
           }
          },
          "colorscale": {
           "diverging": [
            [
             0,
             "#8e0152"
            ],
            [
             0.1,
             "#c51b7d"
            ],
            [
             0.2,
             "#de77ae"
            ],
            [
             0.3,
             "#f1b6da"
            ],
            [
             0.4,
             "#fde0ef"
            ],
            [
             0.5,
             "#f7f7f7"
            ],
            [
             0.6,
             "#e6f5d0"
            ],
            [
             0.7,
             "#b8e186"
            ],
            [
             0.8,
             "#7fbc41"
            ],
            [
             0.9,
             "#4d9221"
            ],
            [
             1,
             "#276419"
            ]
           ],
           "sequential": [
            [
             0,
             "#0d0887"
            ],
            [
             0.1111111111111111,
             "#46039f"
            ],
            [
             0.2222222222222222,
             "#7201a8"
            ],
            [
             0.3333333333333333,
             "#9c179e"
            ],
            [
             0.4444444444444444,
             "#bd3786"
            ],
            [
             0.5555555555555556,
             "#d8576b"
            ],
            [
             0.6666666666666666,
             "#ed7953"
            ],
            [
             0.7777777777777778,
             "#fb9f3a"
            ],
            [
             0.8888888888888888,
             "#fdca26"
            ],
            [
             1,
             "#f0f921"
            ]
           ],
           "sequentialminus": [
            [
             0,
             "#0d0887"
            ],
            [
             0.1111111111111111,
             "#46039f"
            ],
            [
             0.2222222222222222,
             "#7201a8"
            ],
            [
             0.3333333333333333,
             "#9c179e"
            ],
            [
             0.4444444444444444,
             "#bd3786"
            ],
            [
             0.5555555555555556,
             "#d8576b"
            ],
            [
             0.6666666666666666,
             "#ed7953"
            ],
            [
             0.7777777777777778,
             "#fb9f3a"
            ],
            [
             0.8888888888888888,
             "#fdca26"
            ],
            [
             1,
             "#f0f921"
            ]
           ]
          },
          "colorway": [
           "#636efa",
           "#EF553B",
           "#00cc96",
           "#ab63fa",
           "#FFA15A",
           "#19d3f3",
           "#FF6692",
           "#B6E880",
           "#FF97FF",
           "#FECB52"
          ],
          "font": {
           "color": "#2a3f5f"
          },
          "geo": {
           "bgcolor": "white",
           "lakecolor": "white",
           "landcolor": "#E5ECF6",
           "showlakes": true,
           "showland": true,
           "subunitcolor": "white"
          },
          "hoverlabel": {
           "align": "left"
          },
          "hovermode": "closest",
          "mapbox": {
           "style": "light"
          },
          "paper_bgcolor": "white",
          "plot_bgcolor": "#E5ECF6",
          "polar": {
           "angularaxis": {
            "gridcolor": "white",
            "linecolor": "white",
            "ticks": ""
           },
           "bgcolor": "#E5ECF6",
           "radialaxis": {
            "gridcolor": "white",
            "linecolor": "white",
            "ticks": ""
           }
          },
          "scene": {
           "xaxis": {
            "backgroundcolor": "#E5ECF6",
            "gridcolor": "white",
            "gridwidth": 2,
            "linecolor": "white",
            "showbackground": true,
            "ticks": "",
            "zerolinecolor": "white"
           },
           "yaxis": {
            "backgroundcolor": "#E5ECF6",
            "gridcolor": "white",
            "gridwidth": 2,
            "linecolor": "white",
            "showbackground": true,
            "ticks": "",
            "zerolinecolor": "white"
           },
           "zaxis": {
            "backgroundcolor": "#E5ECF6",
            "gridcolor": "white",
            "gridwidth": 2,
            "linecolor": "white",
            "showbackground": true,
            "ticks": "",
            "zerolinecolor": "white"
           }
          },
          "shapedefaults": {
           "line": {
            "color": "#2a3f5f"
           }
          },
          "ternary": {
           "aaxis": {
            "gridcolor": "white",
            "linecolor": "white",
            "ticks": ""
           },
           "baxis": {
            "gridcolor": "white",
            "linecolor": "white",
            "ticks": ""
           },
           "bgcolor": "#E5ECF6",
           "caxis": {
            "gridcolor": "white",
            "linecolor": "white",
            "ticks": ""
           }
          },
          "title": {
           "x": 0.05
          },
          "xaxis": {
           "automargin": true,
           "gridcolor": "white",
           "linecolor": "white",
           "ticks": "",
           "title": {
            "standoff": 15
           },
           "zerolinecolor": "white",
           "zerolinewidth": 2
          },
          "yaxis": {
           "automargin": true,
           "gridcolor": "white",
           "linecolor": "white",
           "ticks": "",
           "title": {
            "standoff": 15
           },
           "zerolinecolor": "white",
           "zerolinewidth": 2
          }
         }
        },
        "title": {
         "text": "Average Coffee Quality Measures by Color"
        },
        "xaxis": {
         "anchor": "y",
         "domain": [
          0,
          1
         ],
         "title": {
          "text": "Color"
         }
        },
        "yaxis": {
         "anchor": "x",
         "domain": [
          0,
          1
         ],
         "title": {
          "text": "avg of value"
         }
        }
       }
      }
     },
     "metadata": {},
     "output_type": "display_data"
    }
   ],
   "source": [
    "# Compare average coffee quality by color\n",
    "quality_by_color = px.histogram(coffee, x='color', \n",
    "                                  y=['aroma', 'flavor', 'aftertaste', 'acidity', 'body', 'balance', 'overall'], \n",
    "                                  histfunc=\"avg\", title='Average Coffee Quality Measures by Color', \n",
    "                                  labels={'color':'Color'},\n",
    "                                  barmode='group', color_discrete_sequence=[px.colors.qualitative.Antique[1],\n",
    "                                                                            px.colors.qualitative.Antique[2],\n",
    "                                                                            px.colors.qualitative.Antique[3],\n",
    "                                                                            px.colors.qualitative.Antique[4],\n",
    "                                                                            px.colors.qualitative.Antique[8],\n",
    "                                                                            px.colors.qualitative.Antique[6],\n",
    "                                                                            px.colors.qualitative.Antique[5]])\n",
    "\n",
    "quality_by_color.update_layout({\n",
    "    'plot_bgcolor':'rgba(0, 0, 0, 0)',\n",
    "    'paper_bgcolor':'rgba(0, 0, 0, 0)'\n",
    "})\n",
    "\n",
    "country.update_layout(xaxis={'categoryorder':'total descending'})\n",
    "\n",
    "quality_by_color.show()"
   ]
  },
  {
   "cell_type": "code",
   "execution_count": 663,
   "metadata": {},
   "outputs": [
    {
     "data": {
      "application/vnd.plotly.v1+json": {
       "config": {
        "plotlyServerURL": "https://plot.ly"
       },
       "data": [
        {
         "alignmentgroup": "True",
         "hovertemplate": "color=%{x}<br>total_cup_points=%{y}<extra></extra>",
         "legendgroup": "",
         "marker": {
          "color": "rgb(104, 133, 92)"
         },
         "name": "",
         "notched": false,
         "offsetgroup": "",
         "orientation": "v",
         "showlegend": false,
         "type": "box",
         "x": [
          "green",
          "blue-green",
          "pale-yellow",
          "green",
          "yellow-green",
          "green",
          "green",
          "yellow-green",
          "green",
          "green",
          "green",
          "brown",
          "green",
          "yellow-green",
          "green",
          "green",
          "green",
          "yellow-green",
          "brown",
          "green",
          "pale-yellow",
          "green",
          "brown",
          "brown",
          "blue-green",
          "green",
          "green",
          "green",
          "blue-green",
          "green",
          "blue-green",
          "green",
          "green",
          "green",
          "yellow-green",
          "green",
          "blue-green",
          "green",
          "green",
          "brown",
          "green",
          "pale-yellow",
          "green",
          "green",
          "yellow-green",
          "green",
          "green",
          "green",
          "brown",
          "blue-green",
          "green",
          "green",
          "green",
          "green",
          "green",
          "blue-green",
          "blue-green",
          "green",
          "green",
          "green",
          "green",
          "green",
          "green",
          "green",
          "brown",
          "green",
          "blue-green",
          "green",
          "green",
          "green",
          "blue-green",
          "green",
          "yellow-green",
          "yellow-green",
          "brown",
          "green",
          "blue-green",
          "green",
          "blue-green",
          "green",
          "green",
          "green",
          "yellow-green",
          "green",
          "green",
          "green",
          "green",
          "green",
          "green",
          "green",
          "green",
          "green",
          "green",
          "pale-yellow",
          "green",
          "green",
          "green",
          "green",
          "green",
          "green",
          "green",
          "blue-green",
          "pale-yellow",
          "green",
          "pale-yellow",
          "green",
          "green",
          "green",
          "green",
          "blue-green",
          "green",
          "green",
          "green",
          "green",
          "blue-green",
          "green",
          "green",
          "green",
          "green",
          "green",
          "blue-green",
          "yellow-green",
          "green",
          "green",
          "green",
          "brown",
          "blue-green",
          "green",
          "green",
          "blue-green",
          "brown",
          "green",
          "green",
          "blue-green",
          "blue-green",
          "green",
          "green",
          "yellow-green",
          "green",
          "yellow-green",
          "green",
          "green",
          "pale-yellow",
          "green",
          "green",
          "yellow-green",
          "green",
          "green",
          "blue-green",
          "green",
          "green",
          "green",
          "blue-green",
          "blue-green",
          "pale-yellow",
          "green",
          "green",
          "blue-green",
          "blue-green",
          "green",
          "blue-green",
          "green",
          "green",
          "green",
          "green",
          "green",
          "blue-green",
          "green",
          "green",
          "green",
          "blue-green",
          "blue-green",
          "green",
          "green",
          "green",
          "pale-yellow",
          "yellow-green",
          "yellow-green",
          "green",
          "green",
          "yellow-green",
          "green",
          "green",
          "pale-yellow",
          "green",
          "green",
          "green",
          "blue-green",
          "green",
          "green",
          "green",
          "green",
          "blue-green",
          "green",
          "green",
          "green",
          "green",
          "blue-green",
          "green"
         ],
         "x0": " ",
         "xaxis": "x",
         "y": [
          89.33,
          87.58,
          87.42,
          87.17,
          87.08,
          87,
          86.92,
          86.75,
          86.67,
          86.5,
          86.25,
          86.25,
          86.25,
          86.17,
          86.17,
          86.08,
          86.08,
          86.08,
          85.92,
          85.83,
          85.75,
          85.67,
          85.67,
          85.67,
          85.58,
          85.5,
          85.5,
          85.5,
          85.5,
          85.42,
          85.42,
          85.33,
          85.33,
          85.33,
          85.33,
          85.25,
          85.25,
          85.25,
          85.25,
          85.08,
          85.08,
          85.08,
          85,
          85,
          85,
          85,
          84.92,
          84.92,
          84.83,
          84.83,
          84.83,
          84.83,
          84.83,
          84.75,
          84.75,
          84.75,
          84.75,
          84.67,
          84.67,
          84.58,
          84.58,
          84.58,
          84.58,
          84.58,
          84.58,
          84.5,
          84.5,
          84.5,
          84.5,
          84.5,
          84.42,
          84.33,
          84.33,
          84.33,
          84.33,
          84.33,
          84.25,
          84.25,
          84.25,
          84.17,
          84.08,
          84.08,
          84.08,
          84.08,
          84,
          84,
          84,
          84,
          84,
          84,
          83.92,
          83.92,
          83.92,
          83.92,
          83.83,
          83.83,
          83.83,
          83.83,
          83.83,
          83.75,
          83.75,
          83.67,
          83.67,
          83.67,
          83.67,
          83.58,
          83.58,
          83.58,
          83.5,
          83.5,
          83.5,
          83.5,
          83.42,
          83.42,
          83.42,
          83.33,
          83.33,
          83.33,
          83.33,
          83.33,
          83.33,
          83.33,
          83.25,
          83.25,
          83.25,
          83.25,
          83.25,
          83.25,
          83.17,
          83.17,
          83.08,
          83.08,
          83.08,
          83,
          82.92,
          82.92,
          82.92,
          82.92,
          82.83,
          82.83,
          82.83,
          82.75,
          82.75,
          82.67,
          82.67,
          82.67,
          82.67,
          82.58,
          82.58,
          82.58,
          82.5,
          82.5,
          82.5,
          82.5,
          82.5,
          82.5,
          82.5,
          82.42,
          82.33,
          82.33,
          82.33,
          82.33,
          82.25,
          82.17,
          82.17,
          82.17,
          82.08,
          82.08,
          82,
          82,
          82,
          82,
          81.92,
          81.92,
          81.83,
          81.83,
          81.75,
          81.75,
          81.67,
          81.58,
          81.58,
          81.5,
          81.42,
          81.33,
          81.17,
          81.17,
          81,
          80.83,
          80.5,
          80.42,
          80.42,
          80.33,
          80.33,
          80.17,
          80.08,
          80,
          79.67,
          78.08,
          78
         ],
         "y0": " ",
         "yaxis": "y"
        }
       ],
       "layout": {
        "boxmode": "group",
        "height": 600,
        "legend": {
         "tracegroupgap": 0
        },
        "paper_bgcolor": "rgba(0, 0, 0, 0)",
        "plot_bgcolor": "rgba(0, 0, 0, 0)",
        "template": {
         "data": {
          "bar": [
           {
            "error_x": {
             "color": "#2a3f5f"
            },
            "error_y": {
             "color": "#2a3f5f"
            },
            "marker": {
             "line": {
              "color": "#E5ECF6",
              "width": 0.5
             },
             "pattern": {
              "fillmode": "overlay",
              "size": 10,
              "solidity": 0.2
             }
            },
            "type": "bar"
           }
          ],
          "barpolar": [
           {
            "marker": {
             "line": {
              "color": "#E5ECF6",
              "width": 0.5
             },
             "pattern": {
              "fillmode": "overlay",
              "size": 10,
              "solidity": 0.2
             }
            },
            "type": "barpolar"
           }
          ],
          "carpet": [
           {
            "aaxis": {
             "endlinecolor": "#2a3f5f",
             "gridcolor": "white",
             "linecolor": "white",
             "minorgridcolor": "white",
             "startlinecolor": "#2a3f5f"
            },
            "baxis": {
             "endlinecolor": "#2a3f5f",
             "gridcolor": "white",
             "linecolor": "white",
             "minorgridcolor": "white",
             "startlinecolor": "#2a3f5f"
            },
            "type": "carpet"
           }
          ],
          "choropleth": [
           {
            "colorbar": {
             "outlinewidth": 0,
             "ticks": ""
            },
            "type": "choropleth"
           }
          ],
          "contour": [
           {
            "colorbar": {
             "outlinewidth": 0,
             "ticks": ""
            },
            "colorscale": [
             [
              0,
              "#0d0887"
             ],
             [
              0.1111111111111111,
              "#46039f"
             ],
             [
              0.2222222222222222,
              "#7201a8"
             ],
             [
              0.3333333333333333,
              "#9c179e"
             ],
             [
              0.4444444444444444,
              "#bd3786"
             ],
             [
              0.5555555555555556,
              "#d8576b"
             ],
             [
              0.6666666666666666,
              "#ed7953"
             ],
             [
              0.7777777777777778,
              "#fb9f3a"
             ],
             [
              0.8888888888888888,
              "#fdca26"
             ],
             [
              1,
              "#f0f921"
             ]
            ],
            "type": "contour"
           }
          ],
          "contourcarpet": [
           {
            "colorbar": {
             "outlinewidth": 0,
             "ticks": ""
            },
            "type": "contourcarpet"
           }
          ],
          "heatmap": [
           {
            "colorbar": {
             "outlinewidth": 0,
             "ticks": ""
            },
            "colorscale": [
             [
              0,
              "#0d0887"
             ],
             [
              0.1111111111111111,
              "#46039f"
             ],
             [
              0.2222222222222222,
              "#7201a8"
             ],
             [
              0.3333333333333333,
              "#9c179e"
             ],
             [
              0.4444444444444444,
              "#bd3786"
             ],
             [
              0.5555555555555556,
              "#d8576b"
             ],
             [
              0.6666666666666666,
              "#ed7953"
             ],
             [
              0.7777777777777778,
              "#fb9f3a"
             ],
             [
              0.8888888888888888,
              "#fdca26"
             ],
             [
              1,
              "#f0f921"
             ]
            ],
            "type": "heatmap"
           }
          ],
          "heatmapgl": [
           {
            "colorbar": {
             "outlinewidth": 0,
             "ticks": ""
            },
            "colorscale": [
             [
              0,
              "#0d0887"
             ],
             [
              0.1111111111111111,
              "#46039f"
             ],
             [
              0.2222222222222222,
              "#7201a8"
             ],
             [
              0.3333333333333333,
              "#9c179e"
             ],
             [
              0.4444444444444444,
              "#bd3786"
             ],
             [
              0.5555555555555556,
              "#d8576b"
             ],
             [
              0.6666666666666666,
              "#ed7953"
             ],
             [
              0.7777777777777778,
              "#fb9f3a"
             ],
             [
              0.8888888888888888,
              "#fdca26"
             ],
             [
              1,
              "#f0f921"
             ]
            ],
            "type": "heatmapgl"
           }
          ],
          "histogram": [
           {
            "marker": {
             "pattern": {
              "fillmode": "overlay",
              "size": 10,
              "solidity": 0.2
             }
            },
            "type": "histogram"
           }
          ],
          "histogram2d": [
           {
            "colorbar": {
             "outlinewidth": 0,
             "ticks": ""
            },
            "colorscale": [
             [
              0,
              "#0d0887"
             ],
             [
              0.1111111111111111,
              "#46039f"
             ],
             [
              0.2222222222222222,
              "#7201a8"
             ],
             [
              0.3333333333333333,
              "#9c179e"
             ],
             [
              0.4444444444444444,
              "#bd3786"
             ],
             [
              0.5555555555555556,
              "#d8576b"
             ],
             [
              0.6666666666666666,
              "#ed7953"
             ],
             [
              0.7777777777777778,
              "#fb9f3a"
             ],
             [
              0.8888888888888888,
              "#fdca26"
             ],
             [
              1,
              "#f0f921"
             ]
            ],
            "type": "histogram2d"
           }
          ],
          "histogram2dcontour": [
           {
            "colorbar": {
             "outlinewidth": 0,
             "ticks": ""
            },
            "colorscale": [
             [
              0,
              "#0d0887"
             ],
             [
              0.1111111111111111,
              "#46039f"
             ],
             [
              0.2222222222222222,
              "#7201a8"
             ],
             [
              0.3333333333333333,
              "#9c179e"
             ],
             [
              0.4444444444444444,
              "#bd3786"
             ],
             [
              0.5555555555555556,
              "#d8576b"
             ],
             [
              0.6666666666666666,
              "#ed7953"
             ],
             [
              0.7777777777777778,
              "#fb9f3a"
             ],
             [
              0.8888888888888888,
              "#fdca26"
             ],
             [
              1,
              "#f0f921"
             ]
            ],
            "type": "histogram2dcontour"
           }
          ],
          "mesh3d": [
           {
            "colorbar": {
             "outlinewidth": 0,
             "ticks": ""
            },
            "type": "mesh3d"
           }
          ],
          "parcoords": [
           {
            "line": {
             "colorbar": {
              "outlinewidth": 0,
              "ticks": ""
             }
            },
            "type": "parcoords"
           }
          ],
          "pie": [
           {
            "automargin": true,
            "type": "pie"
           }
          ],
          "scatter": [
           {
            "fillpattern": {
             "fillmode": "overlay",
             "size": 10,
             "solidity": 0.2
            },
            "type": "scatter"
           }
          ],
          "scatter3d": [
           {
            "line": {
             "colorbar": {
              "outlinewidth": 0,
              "ticks": ""
             }
            },
            "marker": {
             "colorbar": {
              "outlinewidth": 0,
              "ticks": ""
             }
            },
            "type": "scatter3d"
           }
          ],
          "scattercarpet": [
           {
            "marker": {
             "colorbar": {
              "outlinewidth": 0,
              "ticks": ""
             }
            },
            "type": "scattercarpet"
           }
          ],
          "scattergeo": [
           {
            "marker": {
             "colorbar": {
              "outlinewidth": 0,
              "ticks": ""
             }
            },
            "type": "scattergeo"
           }
          ],
          "scattergl": [
           {
            "marker": {
             "colorbar": {
              "outlinewidth": 0,
              "ticks": ""
             }
            },
            "type": "scattergl"
           }
          ],
          "scattermapbox": [
           {
            "marker": {
             "colorbar": {
              "outlinewidth": 0,
              "ticks": ""
             }
            },
            "type": "scattermapbox"
           }
          ],
          "scatterpolar": [
           {
            "marker": {
             "colorbar": {
              "outlinewidth": 0,
              "ticks": ""
             }
            },
            "type": "scatterpolar"
           }
          ],
          "scatterpolargl": [
           {
            "marker": {
             "colorbar": {
              "outlinewidth": 0,
              "ticks": ""
             }
            },
            "type": "scatterpolargl"
           }
          ],
          "scatterternary": [
           {
            "marker": {
             "colorbar": {
              "outlinewidth": 0,
              "ticks": ""
             }
            },
            "type": "scatterternary"
           }
          ],
          "surface": [
           {
            "colorbar": {
             "outlinewidth": 0,
             "ticks": ""
            },
            "colorscale": [
             [
              0,
              "#0d0887"
             ],
             [
              0.1111111111111111,
              "#46039f"
             ],
             [
              0.2222222222222222,
              "#7201a8"
             ],
             [
              0.3333333333333333,
              "#9c179e"
             ],
             [
              0.4444444444444444,
              "#bd3786"
             ],
             [
              0.5555555555555556,
              "#d8576b"
             ],
             [
              0.6666666666666666,
              "#ed7953"
             ],
             [
              0.7777777777777778,
              "#fb9f3a"
             ],
             [
              0.8888888888888888,
              "#fdca26"
             ],
             [
              1,
              "#f0f921"
             ]
            ],
            "type": "surface"
           }
          ],
          "table": [
           {
            "cells": {
             "fill": {
              "color": "#EBF0F8"
             },
             "line": {
              "color": "white"
             }
            },
            "header": {
             "fill": {
              "color": "#C8D4E3"
             },
             "line": {
              "color": "white"
             }
            },
            "type": "table"
           }
          ]
         },
         "layout": {
          "annotationdefaults": {
           "arrowcolor": "#2a3f5f",
           "arrowhead": 0,
           "arrowwidth": 1
          },
          "autotypenumbers": "strict",
          "coloraxis": {
           "colorbar": {
            "outlinewidth": 0,
            "ticks": ""
           }
          },
          "colorscale": {
           "diverging": [
            [
             0,
             "#8e0152"
            ],
            [
             0.1,
             "#c51b7d"
            ],
            [
             0.2,
             "#de77ae"
            ],
            [
             0.3,
             "#f1b6da"
            ],
            [
             0.4,
             "#fde0ef"
            ],
            [
             0.5,
             "#f7f7f7"
            ],
            [
             0.6,
             "#e6f5d0"
            ],
            [
             0.7,
             "#b8e186"
            ],
            [
             0.8,
             "#7fbc41"
            ],
            [
             0.9,
             "#4d9221"
            ],
            [
             1,
             "#276419"
            ]
           ],
           "sequential": [
            [
             0,
             "#0d0887"
            ],
            [
             0.1111111111111111,
             "#46039f"
            ],
            [
             0.2222222222222222,
             "#7201a8"
            ],
            [
             0.3333333333333333,
             "#9c179e"
            ],
            [
             0.4444444444444444,
             "#bd3786"
            ],
            [
             0.5555555555555556,
             "#d8576b"
            ],
            [
             0.6666666666666666,
             "#ed7953"
            ],
            [
             0.7777777777777778,
             "#fb9f3a"
            ],
            [
             0.8888888888888888,
             "#fdca26"
            ],
            [
             1,
             "#f0f921"
            ]
           ],
           "sequentialminus": [
            [
             0,
             "#0d0887"
            ],
            [
             0.1111111111111111,
             "#46039f"
            ],
            [
             0.2222222222222222,
             "#7201a8"
            ],
            [
             0.3333333333333333,
             "#9c179e"
            ],
            [
             0.4444444444444444,
             "#bd3786"
            ],
            [
             0.5555555555555556,
             "#d8576b"
            ],
            [
             0.6666666666666666,
             "#ed7953"
            ],
            [
             0.7777777777777778,
             "#fb9f3a"
            ],
            [
             0.8888888888888888,
             "#fdca26"
            ],
            [
             1,
             "#f0f921"
            ]
           ]
          },
          "colorway": [
           "#636efa",
           "#EF553B",
           "#00cc96",
           "#ab63fa",
           "#FFA15A",
           "#19d3f3",
           "#FF6692",
           "#B6E880",
           "#FF97FF",
           "#FECB52"
          ],
          "font": {
           "color": "#2a3f5f"
          },
          "geo": {
           "bgcolor": "white",
           "lakecolor": "white",
           "landcolor": "#E5ECF6",
           "showlakes": true,
           "showland": true,
           "subunitcolor": "white"
          },
          "hoverlabel": {
           "align": "left"
          },
          "hovermode": "closest",
          "mapbox": {
           "style": "light"
          },
          "paper_bgcolor": "white",
          "plot_bgcolor": "#E5ECF6",
          "polar": {
           "angularaxis": {
            "gridcolor": "white",
            "linecolor": "white",
            "ticks": ""
           },
           "bgcolor": "#E5ECF6",
           "radialaxis": {
            "gridcolor": "white",
            "linecolor": "white",
            "ticks": ""
           }
          },
          "scene": {
           "xaxis": {
            "backgroundcolor": "#E5ECF6",
            "gridcolor": "white",
            "gridwidth": 2,
            "linecolor": "white",
            "showbackground": true,
            "ticks": "",
            "zerolinecolor": "white"
           },
           "yaxis": {
            "backgroundcolor": "#E5ECF6",
            "gridcolor": "white",
            "gridwidth": 2,
            "linecolor": "white",
            "showbackground": true,
            "ticks": "",
            "zerolinecolor": "white"
           },
           "zaxis": {
            "backgroundcolor": "#E5ECF6",
            "gridcolor": "white",
            "gridwidth": 2,
            "linecolor": "white",
            "showbackground": true,
            "ticks": "",
            "zerolinecolor": "white"
           }
          },
          "shapedefaults": {
           "line": {
            "color": "#2a3f5f"
           }
          },
          "ternary": {
           "aaxis": {
            "gridcolor": "white",
            "linecolor": "white",
            "ticks": ""
           },
           "baxis": {
            "gridcolor": "white",
            "linecolor": "white",
            "ticks": ""
           },
           "bgcolor": "#E5ECF6",
           "caxis": {
            "gridcolor": "white",
            "linecolor": "white",
            "ticks": ""
           }
          },
          "title": {
           "x": 0.05
          },
          "xaxis": {
           "automargin": true,
           "gridcolor": "white",
           "linecolor": "white",
           "ticks": "",
           "title": {
            "standoff": 15
           },
           "zerolinecolor": "white",
           "zerolinewidth": 2
          },
          "yaxis": {
           "automargin": true,
           "gridcolor": "white",
           "linecolor": "white",
           "ticks": "",
           "title": {
            "standoff": 15
           },
           "zerolinecolor": "white",
           "zerolinewidth": 2
          }
         }
        },
        "title": {
         "text": "Distribution of Total Cup Points by Color"
        },
        "width": 1100,
        "xaxis": {
         "anchor": "y",
         "domain": [
          0,
          1
         ],
         "title": {
          "text": "Color"
         }
        },
        "yaxis": {
         "anchor": "x",
         "domain": [
          0,
          1
         ],
         "title": {
          "text": "Total Cup Points"
         }
        }
       }
      }
     },
     "metadata": {},
     "output_type": "display_data"
    }
   ],
   "source": [
    "# Boxplot of total cup points by color\n",
    "quality_color_box = px.box(coffee, x='color', y='total_cup_points', \n",
    "                           title='Distribution of Total Cup Points by Color',\n",
    "                            color_discrete_sequence=[px.colors.qualitative.Antique[6]],\n",
    "                            width=1100, height=600)\n",
    "\n",
    "quality_color_box.update_layout({\n",
    "    'plot_bgcolor':'rgba(0, 0, 0, 0)',\n",
    "    'paper_bgcolor':'rgba(0, 0, 0, 0)'\n",
    "})\n",
    "\n",
    "quality_color_box.update_layout(yaxis_title='Total Cup Points', xaxis_title='Color')\n",
    "\n",
    "quality_color_box.show()"
   ]
  },
  {
   "attachments": {},
   "cell_type": "markdown",
   "metadata": {},
   "source": [
    "### Coffee Quality by Altitude"
   ]
  },
  {
   "cell_type": "code",
   "execution_count": 687,
   "metadata": {},
   "outputs": [
    {
     "data": {
      "application/vnd.plotly.v1+json": {
       "config": {
        "plotlyServerURL": "https://plot.ly"
       },
       "data": [
        {
         "hovertemplate": "Altitude=%{x}<br>Total Cup Points=%{y}<extra></extra>",
         "legendgroup": "",
         "marker": {
          "color": "rgb(104, 133, 92)",
          "symbol": "circle"
         },
         "mode": "markers",
         "name": "",
         "orientation": "v",
         "showlegend": false,
         "type": "scatter",
         "x": [
          1815,
          1200,
          1300,
          1900,
          1975,
          1668,
          1250,
          1200,
          1250,
          1550,
          2000,
          2000,
          1250,
          1950,
          1850,
          1100,
          2000,
          1300,
          1200,
          1585,
          1900,
          850,
          1600,
          1350,
          1250,
          1250,
          1300,
          1200,
          1060,
          600,
          200,
          200,
          668,
          1950,
          2250,
          1700,
          1200,
          650,
          1750,
          400,
          1000,
          800,
          1905,
          150,
          800,
          1600,
          1600,
          375,
          230,
          1200,
          1750,
          1654,
          1300,
          1400,
          1100,
          1200,
          1200,
          1600,
          1850,
          250,
          700,
          1350,
          1250,
          1450,
          650,
          1900,
          520,
          1368,
          1943,
          400,
          850,
          1350,
          1300,
          2361,
          1500,
          2100,
          1300,
          1600,
          1500,
          1368,
          1600,
          150,
          800,
          1550,
          1550,
          1800,
          1675,
          1800,
          1550,
          1550,
          1850,
          1900,
          1600,
          1350,
          1411,
          1400,
          2000,
          1700,
          500,
          1800,
          1200,
          1250,
          1400,
          300,
          1470,
          325,
          275,
          1600,
          1400,
          1700,
          1390,
          1700,
          1450,
          1650,
          1100,
          1905,
          250,
          1302.5,
          300,
          1100,
          750,
          1400,
          1550,
          950,
          1150,
          1390,
          1600,
          1400,
          250,
          340,
          1250,
          1368,
          1450,
          1650,
          275,
          1350,
          1350,
          1200,
          1280,
          1400,
          900,
          1200,
          1450,
          1700,
          1390,
          1200,
          1450,
          165,
          465,
          1350,
          1200,
          1200,
          1100,
          640,
          1340,
          1368,
          139,
          1275,
          1040,
          1200,
          1200,
          140,
          1600,
          1200,
          1725,
          1368,
          600,
          460,
          500,
          1000,
          1450,
          1350,
          1600,
          1400,
          300,
          1000,
          950,
          1574,
          1200,
          1200,
          300,
          435,
          1400,
          1400,
          700,
          1550,
          1200,
          1400,
          1100,
          1000,
          1600,
          1600,
          1300,
          1200,
          950,
          1200,
          1300,
          1200,
          975
         ],
         "xaxis": "x",
         "y": [
          89.33,
          87.58,
          87.42,
          87.17,
          87.08,
          87,
          86.92,
          86.75,
          86.67,
          86.5,
          86.25,
          86.25,
          86.25,
          86.17,
          86.17,
          86.08,
          86.08,
          86.08,
          85.92,
          85.83,
          85.75,
          85.67,
          85.67,
          85.67,
          85.58,
          85.5,
          85.5,
          85.5,
          85.5,
          85.42,
          85.42,
          85.33,
          85.33,
          85.33,
          85.33,
          85.25,
          85.25,
          85.25,
          85.25,
          85.08,
          85.08,
          85.08,
          85,
          85,
          85,
          85,
          84.92,
          84.92,
          84.83,
          84.83,
          84.83,
          84.83,
          84.83,
          84.75,
          84.75,
          84.75,
          84.75,
          84.67,
          84.67,
          84.58,
          84.58,
          84.58,
          84.58,
          84.58,
          84.58,
          84.5,
          84.5,
          84.5,
          84.5,
          84.5,
          84.42,
          84.33,
          84.33,
          84.33,
          84.33,
          84.33,
          84.25,
          84.25,
          84.25,
          84.17,
          84.08,
          84.08,
          84.08,
          84.08,
          84,
          84,
          84,
          84,
          84,
          84,
          83.92,
          83.92,
          83.92,
          83.92,
          83.83,
          83.83,
          83.83,
          83.83,
          83.83,
          83.75,
          83.75,
          83.67,
          83.67,
          83.67,
          83.67,
          83.58,
          83.58,
          83.58,
          83.5,
          83.5,
          83.5,
          83.5,
          83.42,
          83.42,
          83.42,
          83.33,
          83.33,
          83.33,
          83.33,
          83.33,
          83.33,
          83.33,
          83.25,
          83.25,
          83.25,
          83.25,
          83.25,
          83.25,
          83.17,
          83.17,
          83.08,
          83.08,
          83.08,
          83,
          82.92,
          82.92,
          82.92,
          82.92,
          82.83,
          82.83,
          82.83,
          82.75,
          82.75,
          82.67,
          82.67,
          82.67,
          82.67,
          82.58,
          82.58,
          82.58,
          82.5,
          82.5,
          82.5,
          82.5,
          82.5,
          82.5,
          82.5,
          82.42,
          82.33,
          82.33,
          82.33,
          82.33,
          82.25,
          82.17,
          82.17,
          82.17,
          82.08,
          82.08,
          82,
          82,
          82,
          82,
          81.92,
          81.92,
          81.83,
          81.83,
          81.75,
          81.75,
          81.67,
          81.58,
          81.58,
          81.5,
          81.42,
          81.33,
          81.17,
          81.17,
          81,
          80.83,
          80.5,
          80.42,
          80.42,
          80.33,
          80.33,
          80.17,
          80.08,
          80,
          79.67,
          78.08,
          78
         ],
         "yaxis": "y"
        }
       ],
       "layout": {
        "height": 600,
        "legend": {
         "tracegroupgap": 0
        },
        "paper_bgcolor": "rgba(0, 0, 0, 0)",
        "plot_bgcolor": "rgba(0, 0, 0, 0)",
        "template": {
         "data": {
          "bar": [
           {
            "error_x": {
             "color": "#2a3f5f"
            },
            "error_y": {
             "color": "#2a3f5f"
            },
            "marker": {
             "line": {
              "color": "#E5ECF6",
              "width": 0.5
             },
             "pattern": {
              "fillmode": "overlay",
              "size": 10,
              "solidity": 0.2
             }
            },
            "type": "bar"
           }
          ],
          "barpolar": [
           {
            "marker": {
             "line": {
              "color": "#E5ECF6",
              "width": 0.5
             },
             "pattern": {
              "fillmode": "overlay",
              "size": 10,
              "solidity": 0.2
             }
            },
            "type": "barpolar"
           }
          ],
          "carpet": [
           {
            "aaxis": {
             "endlinecolor": "#2a3f5f",
             "gridcolor": "white",
             "linecolor": "white",
             "minorgridcolor": "white",
             "startlinecolor": "#2a3f5f"
            },
            "baxis": {
             "endlinecolor": "#2a3f5f",
             "gridcolor": "white",
             "linecolor": "white",
             "minorgridcolor": "white",
             "startlinecolor": "#2a3f5f"
            },
            "type": "carpet"
           }
          ],
          "choropleth": [
           {
            "colorbar": {
             "outlinewidth": 0,
             "ticks": ""
            },
            "type": "choropleth"
           }
          ],
          "contour": [
           {
            "colorbar": {
             "outlinewidth": 0,
             "ticks": ""
            },
            "colorscale": [
             [
              0,
              "#0d0887"
             ],
             [
              0.1111111111111111,
              "#46039f"
             ],
             [
              0.2222222222222222,
              "#7201a8"
             ],
             [
              0.3333333333333333,
              "#9c179e"
             ],
             [
              0.4444444444444444,
              "#bd3786"
             ],
             [
              0.5555555555555556,
              "#d8576b"
             ],
             [
              0.6666666666666666,
              "#ed7953"
             ],
             [
              0.7777777777777778,
              "#fb9f3a"
             ],
             [
              0.8888888888888888,
              "#fdca26"
             ],
             [
              1,
              "#f0f921"
             ]
            ],
            "type": "contour"
           }
          ],
          "contourcarpet": [
           {
            "colorbar": {
             "outlinewidth": 0,
             "ticks": ""
            },
            "type": "contourcarpet"
           }
          ],
          "heatmap": [
           {
            "colorbar": {
             "outlinewidth": 0,
             "ticks": ""
            },
            "colorscale": [
             [
              0,
              "#0d0887"
             ],
             [
              0.1111111111111111,
              "#46039f"
             ],
             [
              0.2222222222222222,
              "#7201a8"
             ],
             [
              0.3333333333333333,
              "#9c179e"
             ],
             [
              0.4444444444444444,
              "#bd3786"
             ],
             [
              0.5555555555555556,
              "#d8576b"
             ],
             [
              0.6666666666666666,
              "#ed7953"
             ],
             [
              0.7777777777777778,
              "#fb9f3a"
             ],
             [
              0.8888888888888888,
              "#fdca26"
             ],
             [
              1,
              "#f0f921"
             ]
            ],
            "type": "heatmap"
           }
          ],
          "heatmapgl": [
           {
            "colorbar": {
             "outlinewidth": 0,
             "ticks": ""
            },
            "colorscale": [
             [
              0,
              "#0d0887"
             ],
             [
              0.1111111111111111,
              "#46039f"
             ],
             [
              0.2222222222222222,
              "#7201a8"
             ],
             [
              0.3333333333333333,
              "#9c179e"
             ],
             [
              0.4444444444444444,
              "#bd3786"
             ],
             [
              0.5555555555555556,
              "#d8576b"
             ],
             [
              0.6666666666666666,
              "#ed7953"
             ],
             [
              0.7777777777777778,
              "#fb9f3a"
             ],
             [
              0.8888888888888888,
              "#fdca26"
             ],
             [
              1,
              "#f0f921"
             ]
            ],
            "type": "heatmapgl"
           }
          ],
          "histogram": [
           {
            "marker": {
             "pattern": {
              "fillmode": "overlay",
              "size": 10,
              "solidity": 0.2
             }
            },
            "type": "histogram"
           }
          ],
          "histogram2d": [
           {
            "colorbar": {
             "outlinewidth": 0,
             "ticks": ""
            },
            "colorscale": [
             [
              0,
              "#0d0887"
             ],
             [
              0.1111111111111111,
              "#46039f"
             ],
             [
              0.2222222222222222,
              "#7201a8"
             ],
             [
              0.3333333333333333,
              "#9c179e"
             ],
             [
              0.4444444444444444,
              "#bd3786"
             ],
             [
              0.5555555555555556,
              "#d8576b"
             ],
             [
              0.6666666666666666,
              "#ed7953"
             ],
             [
              0.7777777777777778,
              "#fb9f3a"
             ],
             [
              0.8888888888888888,
              "#fdca26"
             ],
             [
              1,
              "#f0f921"
             ]
            ],
            "type": "histogram2d"
           }
          ],
          "histogram2dcontour": [
           {
            "colorbar": {
             "outlinewidth": 0,
             "ticks": ""
            },
            "colorscale": [
             [
              0,
              "#0d0887"
             ],
             [
              0.1111111111111111,
              "#46039f"
             ],
             [
              0.2222222222222222,
              "#7201a8"
             ],
             [
              0.3333333333333333,
              "#9c179e"
             ],
             [
              0.4444444444444444,
              "#bd3786"
             ],
             [
              0.5555555555555556,
              "#d8576b"
             ],
             [
              0.6666666666666666,
              "#ed7953"
             ],
             [
              0.7777777777777778,
              "#fb9f3a"
             ],
             [
              0.8888888888888888,
              "#fdca26"
             ],
             [
              1,
              "#f0f921"
             ]
            ],
            "type": "histogram2dcontour"
           }
          ],
          "mesh3d": [
           {
            "colorbar": {
             "outlinewidth": 0,
             "ticks": ""
            },
            "type": "mesh3d"
           }
          ],
          "parcoords": [
           {
            "line": {
             "colorbar": {
              "outlinewidth": 0,
              "ticks": ""
             }
            },
            "type": "parcoords"
           }
          ],
          "pie": [
           {
            "automargin": true,
            "type": "pie"
           }
          ],
          "scatter": [
           {
            "fillpattern": {
             "fillmode": "overlay",
             "size": 10,
             "solidity": 0.2
            },
            "type": "scatter"
           }
          ],
          "scatter3d": [
           {
            "line": {
             "colorbar": {
              "outlinewidth": 0,
              "ticks": ""
             }
            },
            "marker": {
             "colorbar": {
              "outlinewidth": 0,
              "ticks": ""
             }
            },
            "type": "scatter3d"
           }
          ],
          "scattercarpet": [
           {
            "marker": {
             "colorbar": {
              "outlinewidth": 0,
              "ticks": ""
             }
            },
            "type": "scattercarpet"
           }
          ],
          "scattergeo": [
           {
            "marker": {
             "colorbar": {
              "outlinewidth": 0,
              "ticks": ""
             }
            },
            "type": "scattergeo"
           }
          ],
          "scattergl": [
           {
            "marker": {
             "colorbar": {
              "outlinewidth": 0,
              "ticks": ""
             }
            },
            "type": "scattergl"
           }
          ],
          "scattermapbox": [
           {
            "marker": {
             "colorbar": {
              "outlinewidth": 0,
              "ticks": ""
             }
            },
            "type": "scattermapbox"
           }
          ],
          "scatterpolar": [
           {
            "marker": {
             "colorbar": {
              "outlinewidth": 0,
              "ticks": ""
             }
            },
            "type": "scatterpolar"
           }
          ],
          "scatterpolargl": [
           {
            "marker": {
             "colorbar": {
              "outlinewidth": 0,
              "ticks": ""
             }
            },
            "type": "scatterpolargl"
           }
          ],
          "scatterternary": [
           {
            "marker": {
             "colorbar": {
              "outlinewidth": 0,
              "ticks": ""
             }
            },
            "type": "scatterternary"
           }
          ],
          "surface": [
           {
            "colorbar": {
             "outlinewidth": 0,
             "ticks": ""
            },
            "colorscale": [
             [
              0,
              "#0d0887"
             ],
             [
              0.1111111111111111,
              "#46039f"
             ],
             [
              0.2222222222222222,
              "#7201a8"
             ],
             [
              0.3333333333333333,
              "#9c179e"
             ],
             [
              0.4444444444444444,
              "#bd3786"
             ],
             [
              0.5555555555555556,
              "#d8576b"
             ],
             [
              0.6666666666666666,
              "#ed7953"
             ],
             [
              0.7777777777777778,
              "#fb9f3a"
             ],
             [
              0.8888888888888888,
              "#fdca26"
             ],
             [
              1,
              "#f0f921"
             ]
            ],
            "type": "surface"
           }
          ],
          "table": [
           {
            "cells": {
             "fill": {
              "color": "#EBF0F8"
             },
             "line": {
              "color": "white"
             }
            },
            "header": {
             "fill": {
              "color": "#C8D4E3"
             },
             "line": {
              "color": "white"
             }
            },
            "type": "table"
           }
          ]
         },
         "layout": {
          "annotationdefaults": {
           "arrowcolor": "#2a3f5f",
           "arrowhead": 0,
           "arrowwidth": 1
          },
          "autotypenumbers": "strict",
          "coloraxis": {
           "colorbar": {
            "outlinewidth": 0,
            "ticks": ""
           }
          },
          "colorscale": {
           "diverging": [
            [
             0,
             "#8e0152"
            ],
            [
             0.1,
             "#c51b7d"
            ],
            [
             0.2,
             "#de77ae"
            ],
            [
             0.3,
             "#f1b6da"
            ],
            [
             0.4,
             "#fde0ef"
            ],
            [
             0.5,
             "#f7f7f7"
            ],
            [
             0.6,
             "#e6f5d0"
            ],
            [
             0.7,
             "#b8e186"
            ],
            [
             0.8,
             "#7fbc41"
            ],
            [
             0.9,
             "#4d9221"
            ],
            [
             1,
             "#276419"
            ]
           ],
           "sequential": [
            [
             0,
             "#0d0887"
            ],
            [
             0.1111111111111111,
             "#46039f"
            ],
            [
             0.2222222222222222,
             "#7201a8"
            ],
            [
             0.3333333333333333,
             "#9c179e"
            ],
            [
             0.4444444444444444,
             "#bd3786"
            ],
            [
             0.5555555555555556,
             "#d8576b"
            ],
            [
             0.6666666666666666,
             "#ed7953"
            ],
            [
             0.7777777777777778,
             "#fb9f3a"
            ],
            [
             0.8888888888888888,
             "#fdca26"
            ],
            [
             1,
             "#f0f921"
            ]
           ],
           "sequentialminus": [
            [
             0,
             "#0d0887"
            ],
            [
             0.1111111111111111,
             "#46039f"
            ],
            [
             0.2222222222222222,
             "#7201a8"
            ],
            [
             0.3333333333333333,
             "#9c179e"
            ],
            [
             0.4444444444444444,
             "#bd3786"
            ],
            [
             0.5555555555555556,
             "#d8576b"
            ],
            [
             0.6666666666666666,
             "#ed7953"
            ],
            [
             0.7777777777777778,
             "#fb9f3a"
            ],
            [
             0.8888888888888888,
             "#fdca26"
            ],
            [
             1,
             "#f0f921"
            ]
           ]
          },
          "colorway": [
           "#636efa",
           "#EF553B",
           "#00cc96",
           "#ab63fa",
           "#FFA15A",
           "#19d3f3",
           "#FF6692",
           "#B6E880",
           "#FF97FF",
           "#FECB52"
          ],
          "font": {
           "color": "#2a3f5f"
          },
          "geo": {
           "bgcolor": "white",
           "lakecolor": "white",
           "landcolor": "#E5ECF6",
           "showlakes": true,
           "showland": true,
           "subunitcolor": "white"
          },
          "hoverlabel": {
           "align": "left"
          },
          "hovermode": "closest",
          "mapbox": {
           "style": "light"
          },
          "paper_bgcolor": "white",
          "plot_bgcolor": "#E5ECF6",
          "polar": {
           "angularaxis": {
            "gridcolor": "white",
            "linecolor": "white",
            "ticks": ""
           },
           "bgcolor": "#E5ECF6",
           "radialaxis": {
            "gridcolor": "white",
            "linecolor": "white",
            "ticks": ""
           }
          },
          "scene": {
           "xaxis": {
            "backgroundcolor": "#E5ECF6",
            "gridcolor": "white",
            "gridwidth": 2,
            "linecolor": "white",
            "showbackground": true,
            "ticks": "",
            "zerolinecolor": "white"
           },
           "yaxis": {
            "backgroundcolor": "#E5ECF6",
            "gridcolor": "white",
            "gridwidth": 2,
            "linecolor": "white",
            "showbackground": true,
            "ticks": "",
            "zerolinecolor": "white"
           },
           "zaxis": {
            "backgroundcolor": "#E5ECF6",
            "gridcolor": "white",
            "gridwidth": 2,
            "linecolor": "white",
            "showbackground": true,
            "ticks": "",
            "zerolinecolor": "white"
           }
          },
          "shapedefaults": {
           "line": {
            "color": "#2a3f5f"
           }
          },
          "ternary": {
           "aaxis": {
            "gridcolor": "white",
            "linecolor": "white",
            "ticks": ""
           },
           "baxis": {
            "gridcolor": "white",
            "linecolor": "white",
            "ticks": ""
           },
           "bgcolor": "#E5ECF6",
           "caxis": {
            "gridcolor": "white",
            "linecolor": "white",
            "ticks": ""
           }
          },
          "title": {
           "x": 0.05
          },
          "xaxis": {
           "automargin": true,
           "gridcolor": "white",
           "linecolor": "white",
           "ticks": "",
           "title": {
            "standoff": 15
           },
           "zerolinecolor": "white",
           "zerolinewidth": 2
          },
          "yaxis": {
           "automargin": true,
           "gridcolor": "white",
           "linecolor": "white",
           "ticks": "",
           "title": {
            "standoff": 15
           },
           "zerolinecolor": "white",
           "zerolinewidth": 2
          }
         }
        },
        "title": {
         "text": "Total Cup Quality by Altitude"
        },
        "width": 1200,
        "xaxis": {
         "anchor": "y",
         "domain": [
          0,
          1
         ],
         "title": {
          "text": "Altitude"
         }
        },
        "yaxis": {
         "anchor": "x",
         "domain": [
          0,
          1
         ],
         "title": {
          "text": "Total Cup Points"
         }
        }
       }
      }
     },
     "metadata": {},
     "output_type": "display_data"
    }
   ],
   "source": [
    "# Scatter plot of total cup quality by altitude\n",
    "quality_by_altitude = px.scatter(coffee, x='altitude_mean', y='total_cup_points',\n",
    "                                 title=('Total Cup Quality by Altitude'),\n",
    "                                 labels={'total_cup_points':'Total Cup Points', 'altitude_mean':'Altitude'},\n",
    "                                 color_discrete_sequence=[px.colors.qualitative.Antique[6]],\n",
    "                                 hover_data=['country_of_origin', 'variety'],\n",
    "                                 width=1200, height=600)\n",
    "\n",
    "quality_by_altitude.update_layout({\n",
    "    'plot_bgcolor':'rgba(0, 0, 0, 0)',\n",
    "    'paper_bgcolor':'rgba(0, 0, 0, 0)'\n",
    "    })\n",
    "\n",
    "\n",
    "quality_by_altitude.show()"
   ]
  },
  {
   "cell_type": "code",
   "execution_count": 688,
   "metadata": {},
   "outputs": [
    {
     "data": {
      "application/vnd.plotly.v1+json": {
       "config": {
        "plotlyServerURL": "https://plot.ly"
       },
       "data": [
        {
         "hovertemplate": "Altitude=%{x}<br>Aroma=%{y}<extra></extra>",
         "legendgroup": "",
         "marker": {
          "color": "rgb(104, 133, 92)",
          "symbol": "circle"
         },
         "mode": "markers",
         "name": "",
         "orientation": "v",
         "showlegend": false,
         "type": "scatter",
         "x": [
          1815,
          1200,
          1300,
          1900,
          1975,
          1668,
          1250,
          1200,
          1250,
          1550,
          2000,
          2000,
          1250,
          1950,
          1850,
          1100,
          2000,
          1300,
          1200,
          1585,
          1900,
          850,
          1600,
          1350,
          1250,
          1250,
          1300,
          1200,
          1060,
          600,
          200,
          200,
          668,
          1950,
          2250,
          1700,
          1200,
          650,
          1750,
          400,
          1000,
          800,
          1905,
          150,
          800,
          1600,
          1600,
          375,
          230,
          1200,
          1750,
          1654,
          1300,
          1400,
          1100,
          1200,
          1200,
          1600,
          1850,
          250,
          700,
          1350,
          1250,
          1450,
          650,
          1900,
          520,
          1368,
          1943,
          400,
          850,
          1350,
          1300,
          2361,
          1500,
          2100,
          1300,
          1600,
          1500,
          1368,
          1600,
          150,
          800,
          1550,
          1550,
          1800,
          1675,
          1800,
          1550,
          1550,
          1850,
          1900,
          1600,
          1350,
          1411,
          1400,
          2000,
          1700,
          500,
          1800,
          1200,
          1250,
          1400,
          300,
          1470,
          325,
          275,
          1600,
          1400,
          1700,
          1390,
          1700,
          1450,
          1650,
          1100,
          1905,
          250,
          1302.5,
          300,
          1100,
          750,
          1400,
          1550,
          950,
          1150,
          1390,
          1600,
          1400,
          250,
          340,
          1250,
          1368,
          1450,
          1650,
          275,
          1350,
          1350,
          1200,
          1280,
          1400,
          900,
          1200,
          1450,
          1700,
          1390,
          1200,
          1450,
          165,
          465,
          1350,
          1200,
          1200,
          1100,
          640,
          1340,
          1368,
          139,
          1275,
          1040,
          1200,
          1200,
          140,
          1600,
          1200,
          1725,
          1368,
          600,
          460,
          500,
          1000,
          1450,
          1350,
          1600,
          1400,
          300,
          1000,
          950,
          1574,
          1200,
          1200,
          300,
          435,
          1400,
          1400,
          700,
          1550,
          1200,
          1400,
          1100,
          1000,
          1600,
          1600,
          1300,
          1200,
          950,
          1200,
          1300,
          1200,
          975
         ],
         "xaxis": "x",
         "y": [
          8.58,
          8.5,
          8.33,
          8.08,
          8.33,
          8.33,
          8.33,
          8.25,
          8.08,
          8.08,
          8.08,
          8.08,
          8.08,
          7.67,
          8.08,
          8.17,
          8.17,
          8,
          8.08,
          8.17,
          8,
          8.08,
          7.67,
          8.08,
          7.83,
          7.83,
          7.92,
          8.17,
          8,
          8,
          8,
          7.92,
          8.08,
          7.67,
          8,
          7.92,
          8,
          8.25,
          8.17,
          8,
          8,
          8,
          8,
          7.92,
          8.17,
          7.67,
          7.83,
          7.92,
          8,
          7.83,
          8,
          7.92,
          7.83,
          7.67,
          7.83,
          7.83,
          7.92,
          7.67,
          7.58,
          7.83,
          8.17,
          7.92,
          8.08,
          7.83,
          8,
          7.75,
          7.75,
          7.83,
          7.92,
          8.08,
          7.83,
          7.67,
          7.92,
          7.83,
          7.83,
          7.75,
          7.67,
          7.58,
          7.92,
          7.75,
          7.58,
          7.83,
          7.92,
          7.67,
          7.67,
          7.75,
          7.58,
          8,
          7.75,
          7.67,
          7.67,
          7.83,
          7.58,
          7.75,
          7.67,
          7.58,
          7.83,
          7.92,
          7.67,
          7.67,
          7.67,
          7.67,
          7.83,
          7.58,
          7.67,
          7.58,
          7.58,
          7.58,
          7.75,
          7.75,
          7.42,
          7.42,
          7.67,
          7.75,
          7.75,
          7.75,
          7.58,
          7.5,
          7.58,
          7.67,
          7.75,
          7.92,
          7.92,
          7.58,
          7.75,
          7.67,
          7.67,
          7.75,
          7.75,
          7.67,
          7.67,
          7.67,
          7.75,
          8,
          7.5,
          7.75,
          7.58,
          7.67,
          7.67,
          7.17,
          7.58,
          7.33,
          7.33,
          7.58,
          7.33,
          7.5,
          7.67,
          7.67,
          7.67,
          7.5,
          7.67,
          7.75,
          7.5,
          7.33,
          7.67,
          7.58,
          7.42,
          7.58,
          7.5,
          7.5,
          7.33,
          7.67,
          7.67,
          7.75,
          7.5,
          7.67,
          7.5,
          7.33,
          7.5,
          7.17,
          7.42,
          7.67,
          7.5,
          7.33,
          7.25,
          7.5,
          7.42,
          7.33,
          7.58,
          7.33,
          7.42,
          7.33,
          7.33,
          7.42,
          7.25,
          7.42,
          7.42,
          7.42,
          7.25,
          7.42,
          7.25,
          7.5,
          7.08,
          7.25,
          7.17,
          7.33,
          7.25,
          6.5,
          7.25
         ],
         "yaxis": "y"
        }
       ],
       "layout": {
        "height": 600,
        "legend": {
         "tracegroupgap": 0
        },
        "paper_bgcolor": "rgba(0, 0, 0, 0)",
        "plot_bgcolor": "rgba(0, 0, 0, 0)",
        "template": {
         "data": {
          "bar": [
           {
            "error_x": {
             "color": "#2a3f5f"
            },
            "error_y": {
             "color": "#2a3f5f"
            },
            "marker": {
             "line": {
              "color": "#E5ECF6",
              "width": 0.5
             },
             "pattern": {
              "fillmode": "overlay",
              "size": 10,
              "solidity": 0.2
             }
            },
            "type": "bar"
           }
          ],
          "barpolar": [
           {
            "marker": {
             "line": {
              "color": "#E5ECF6",
              "width": 0.5
             },
             "pattern": {
              "fillmode": "overlay",
              "size": 10,
              "solidity": 0.2
             }
            },
            "type": "barpolar"
           }
          ],
          "carpet": [
           {
            "aaxis": {
             "endlinecolor": "#2a3f5f",
             "gridcolor": "white",
             "linecolor": "white",
             "minorgridcolor": "white",
             "startlinecolor": "#2a3f5f"
            },
            "baxis": {
             "endlinecolor": "#2a3f5f",
             "gridcolor": "white",
             "linecolor": "white",
             "minorgridcolor": "white",
             "startlinecolor": "#2a3f5f"
            },
            "type": "carpet"
           }
          ],
          "choropleth": [
           {
            "colorbar": {
             "outlinewidth": 0,
             "ticks": ""
            },
            "type": "choropleth"
           }
          ],
          "contour": [
           {
            "colorbar": {
             "outlinewidth": 0,
             "ticks": ""
            },
            "colorscale": [
             [
              0,
              "#0d0887"
             ],
             [
              0.1111111111111111,
              "#46039f"
             ],
             [
              0.2222222222222222,
              "#7201a8"
             ],
             [
              0.3333333333333333,
              "#9c179e"
             ],
             [
              0.4444444444444444,
              "#bd3786"
             ],
             [
              0.5555555555555556,
              "#d8576b"
             ],
             [
              0.6666666666666666,
              "#ed7953"
             ],
             [
              0.7777777777777778,
              "#fb9f3a"
             ],
             [
              0.8888888888888888,
              "#fdca26"
             ],
             [
              1,
              "#f0f921"
             ]
            ],
            "type": "contour"
           }
          ],
          "contourcarpet": [
           {
            "colorbar": {
             "outlinewidth": 0,
             "ticks": ""
            },
            "type": "contourcarpet"
           }
          ],
          "heatmap": [
           {
            "colorbar": {
             "outlinewidth": 0,
             "ticks": ""
            },
            "colorscale": [
             [
              0,
              "#0d0887"
             ],
             [
              0.1111111111111111,
              "#46039f"
             ],
             [
              0.2222222222222222,
              "#7201a8"
             ],
             [
              0.3333333333333333,
              "#9c179e"
             ],
             [
              0.4444444444444444,
              "#bd3786"
             ],
             [
              0.5555555555555556,
              "#d8576b"
             ],
             [
              0.6666666666666666,
              "#ed7953"
             ],
             [
              0.7777777777777778,
              "#fb9f3a"
             ],
             [
              0.8888888888888888,
              "#fdca26"
             ],
             [
              1,
              "#f0f921"
             ]
            ],
            "type": "heatmap"
           }
          ],
          "heatmapgl": [
           {
            "colorbar": {
             "outlinewidth": 0,
             "ticks": ""
            },
            "colorscale": [
             [
              0,
              "#0d0887"
             ],
             [
              0.1111111111111111,
              "#46039f"
             ],
             [
              0.2222222222222222,
              "#7201a8"
             ],
             [
              0.3333333333333333,
              "#9c179e"
             ],
             [
              0.4444444444444444,
              "#bd3786"
             ],
             [
              0.5555555555555556,
              "#d8576b"
             ],
             [
              0.6666666666666666,
              "#ed7953"
             ],
             [
              0.7777777777777778,
              "#fb9f3a"
             ],
             [
              0.8888888888888888,
              "#fdca26"
             ],
             [
              1,
              "#f0f921"
             ]
            ],
            "type": "heatmapgl"
           }
          ],
          "histogram": [
           {
            "marker": {
             "pattern": {
              "fillmode": "overlay",
              "size": 10,
              "solidity": 0.2
             }
            },
            "type": "histogram"
           }
          ],
          "histogram2d": [
           {
            "colorbar": {
             "outlinewidth": 0,
             "ticks": ""
            },
            "colorscale": [
             [
              0,
              "#0d0887"
             ],
             [
              0.1111111111111111,
              "#46039f"
             ],
             [
              0.2222222222222222,
              "#7201a8"
             ],
             [
              0.3333333333333333,
              "#9c179e"
             ],
             [
              0.4444444444444444,
              "#bd3786"
             ],
             [
              0.5555555555555556,
              "#d8576b"
             ],
             [
              0.6666666666666666,
              "#ed7953"
             ],
             [
              0.7777777777777778,
              "#fb9f3a"
             ],
             [
              0.8888888888888888,
              "#fdca26"
             ],
             [
              1,
              "#f0f921"
             ]
            ],
            "type": "histogram2d"
           }
          ],
          "histogram2dcontour": [
           {
            "colorbar": {
             "outlinewidth": 0,
             "ticks": ""
            },
            "colorscale": [
             [
              0,
              "#0d0887"
             ],
             [
              0.1111111111111111,
              "#46039f"
             ],
             [
              0.2222222222222222,
              "#7201a8"
             ],
             [
              0.3333333333333333,
              "#9c179e"
             ],
             [
              0.4444444444444444,
              "#bd3786"
             ],
             [
              0.5555555555555556,
              "#d8576b"
             ],
             [
              0.6666666666666666,
              "#ed7953"
             ],
             [
              0.7777777777777778,
              "#fb9f3a"
             ],
             [
              0.8888888888888888,
              "#fdca26"
             ],
             [
              1,
              "#f0f921"
             ]
            ],
            "type": "histogram2dcontour"
           }
          ],
          "mesh3d": [
           {
            "colorbar": {
             "outlinewidth": 0,
             "ticks": ""
            },
            "type": "mesh3d"
           }
          ],
          "parcoords": [
           {
            "line": {
             "colorbar": {
              "outlinewidth": 0,
              "ticks": ""
             }
            },
            "type": "parcoords"
           }
          ],
          "pie": [
           {
            "automargin": true,
            "type": "pie"
           }
          ],
          "scatter": [
           {
            "fillpattern": {
             "fillmode": "overlay",
             "size": 10,
             "solidity": 0.2
            },
            "type": "scatter"
           }
          ],
          "scatter3d": [
           {
            "line": {
             "colorbar": {
              "outlinewidth": 0,
              "ticks": ""
             }
            },
            "marker": {
             "colorbar": {
              "outlinewidth": 0,
              "ticks": ""
             }
            },
            "type": "scatter3d"
           }
          ],
          "scattercarpet": [
           {
            "marker": {
             "colorbar": {
              "outlinewidth": 0,
              "ticks": ""
             }
            },
            "type": "scattercarpet"
           }
          ],
          "scattergeo": [
           {
            "marker": {
             "colorbar": {
              "outlinewidth": 0,
              "ticks": ""
             }
            },
            "type": "scattergeo"
           }
          ],
          "scattergl": [
           {
            "marker": {
             "colorbar": {
              "outlinewidth": 0,
              "ticks": ""
             }
            },
            "type": "scattergl"
           }
          ],
          "scattermapbox": [
           {
            "marker": {
             "colorbar": {
              "outlinewidth": 0,
              "ticks": ""
             }
            },
            "type": "scattermapbox"
           }
          ],
          "scatterpolar": [
           {
            "marker": {
             "colorbar": {
              "outlinewidth": 0,
              "ticks": ""
             }
            },
            "type": "scatterpolar"
           }
          ],
          "scatterpolargl": [
           {
            "marker": {
             "colorbar": {
              "outlinewidth": 0,
              "ticks": ""
             }
            },
            "type": "scatterpolargl"
           }
          ],
          "scatterternary": [
           {
            "marker": {
             "colorbar": {
              "outlinewidth": 0,
              "ticks": ""
             }
            },
            "type": "scatterternary"
           }
          ],
          "surface": [
           {
            "colorbar": {
             "outlinewidth": 0,
             "ticks": ""
            },
            "colorscale": [
             [
              0,
              "#0d0887"
             ],
             [
              0.1111111111111111,
              "#46039f"
             ],
             [
              0.2222222222222222,
              "#7201a8"
             ],
             [
              0.3333333333333333,
              "#9c179e"
             ],
             [
              0.4444444444444444,
              "#bd3786"
             ],
             [
              0.5555555555555556,
              "#d8576b"
             ],
             [
              0.6666666666666666,
              "#ed7953"
             ],
             [
              0.7777777777777778,
              "#fb9f3a"
             ],
             [
              0.8888888888888888,
              "#fdca26"
             ],
             [
              1,
              "#f0f921"
             ]
            ],
            "type": "surface"
           }
          ],
          "table": [
           {
            "cells": {
             "fill": {
              "color": "#EBF0F8"
             },
             "line": {
              "color": "white"
             }
            },
            "header": {
             "fill": {
              "color": "#C8D4E3"
             },
             "line": {
              "color": "white"
             }
            },
            "type": "table"
           }
          ]
         },
         "layout": {
          "annotationdefaults": {
           "arrowcolor": "#2a3f5f",
           "arrowhead": 0,
           "arrowwidth": 1
          },
          "autotypenumbers": "strict",
          "coloraxis": {
           "colorbar": {
            "outlinewidth": 0,
            "ticks": ""
           }
          },
          "colorscale": {
           "diverging": [
            [
             0,
             "#8e0152"
            ],
            [
             0.1,
             "#c51b7d"
            ],
            [
             0.2,
             "#de77ae"
            ],
            [
             0.3,
             "#f1b6da"
            ],
            [
             0.4,
             "#fde0ef"
            ],
            [
             0.5,
             "#f7f7f7"
            ],
            [
             0.6,
             "#e6f5d0"
            ],
            [
             0.7,
             "#b8e186"
            ],
            [
             0.8,
             "#7fbc41"
            ],
            [
             0.9,
             "#4d9221"
            ],
            [
             1,
             "#276419"
            ]
           ],
           "sequential": [
            [
             0,
             "#0d0887"
            ],
            [
             0.1111111111111111,
             "#46039f"
            ],
            [
             0.2222222222222222,
             "#7201a8"
            ],
            [
             0.3333333333333333,
             "#9c179e"
            ],
            [
             0.4444444444444444,
             "#bd3786"
            ],
            [
             0.5555555555555556,
             "#d8576b"
            ],
            [
             0.6666666666666666,
             "#ed7953"
            ],
            [
             0.7777777777777778,
             "#fb9f3a"
            ],
            [
             0.8888888888888888,
             "#fdca26"
            ],
            [
             1,
             "#f0f921"
            ]
           ],
           "sequentialminus": [
            [
             0,
             "#0d0887"
            ],
            [
             0.1111111111111111,
             "#46039f"
            ],
            [
             0.2222222222222222,
             "#7201a8"
            ],
            [
             0.3333333333333333,
             "#9c179e"
            ],
            [
             0.4444444444444444,
             "#bd3786"
            ],
            [
             0.5555555555555556,
             "#d8576b"
            ],
            [
             0.6666666666666666,
             "#ed7953"
            ],
            [
             0.7777777777777778,
             "#fb9f3a"
            ],
            [
             0.8888888888888888,
             "#fdca26"
            ],
            [
             1,
             "#f0f921"
            ]
           ]
          },
          "colorway": [
           "#636efa",
           "#EF553B",
           "#00cc96",
           "#ab63fa",
           "#FFA15A",
           "#19d3f3",
           "#FF6692",
           "#B6E880",
           "#FF97FF",
           "#FECB52"
          ],
          "font": {
           "color": "#2a3f5f"
          },
          "geo": {
           "bgcolor": "white",
           "lakecolor": "white",
           "landcolor": "#E5ECF6",
           "showlakes": true,
           "showland": true,
           "subunitcolor": "white"
          },
          "hoverlabel": {
           "align": "left"
          },
          "hovermode": "closest",
          "mapbox": {
           "style": "light"
          },
          "paper_bgcolor": "white",
          "plot_bgcolor": "#E5ECF6",
          "polar": {
           "angularaxis": {
            "gridcolor": "white",
            "linecolor": "white",
            "ticks": ""
           },
           "bgcolor": "#E5ECF6",
           "radialaxis": {
            "gridcolor": "white",
            "linecolor": "white",
            "ticks": ""
           }
          },
          "scene": {
           "xaxis": {
            "backgroundcolor": "#E5ECF6",
            "gridcolor": "white",
            "gridwidth": 2,
            "linecolor": "white",
            "showbackground": true,
            "ticks": "",
            "zerolinecolor": "white"
           },
           "yaxis": {
            "backgroundcolor": "#E5ECF6",
            "gridcolor": "white",
            "gridwidth": 2,
            "linecolor": "white",
            "showbackground": true,
            "ticks": "",
            "zerolinecolor": "white"
           },
           "zaxis": {
            "backgroundcolor": "#E5ECF6",
            "gridcolor": "white",
            "gridwidth": 2,
            "linecolor": "white",
            "showbackground": true,
            "ticks": "",
            "zerolinecolor": "white"
           }
          },
          "shapedefaults": {
           "line": {
            "color": "#2a3f5f"
           }
          },
          "ternary": {
           "aaxis": {
            "gridcolor": "white",
            "linecolor": "white",
            "ticks": ""
           },
           "baxis": {
            "gridcolor": "white",
            "linecolor": "white",
            "ticks": ""
           },
           "bgcolor": "#E5ECF6",
           "caxis": {
            "gridcolor": "white",
            "linecolor": "white",
            "ticks": ""
           }
          },
          "title": {
           "x": 0.05
          },
          "xaxis": {
           "automargin": true,
           "gridcolor": "white",
           "linecolor": "white",
           "ticks": "",
           "title": {
            "standoff": 15
           },
           "zerolinecolor": "white",
           "zerolinewidth": 2
          },
          "yaxis": {
           "automargin": true,
           "gridcolor": "white",
           "linecolor": "white",
           "ticks": "",
           "title": {
            "standoff": 15
           },
           "zerolinecolor": "white",
           "zerolinewidth": 2
          }
         }
        },
        "title": {
         "text": "Aroma by Altitude"
        },
        "width": 1200,
        "xaxis": {
         "anchor": "y",
         "domain": [
          0,
          1
         ],
         "title": {
          "text": "Altitude"
         }
        },
        "yaxis": {
         "anchor": "x",
         "domain": [
          0,
          1
         ],
         "title": {
          "text": "Aroma"
         }
        }
       }
      }
     },
     "metadata": {},
     "output_type": "display_data"
    },
    {
     "data": {
      "application/vnd.plotly.v1+json": {
       "config": {
        "plotlyServerURL": "https://plot.ly"
       },
       "data": [
        {
         "hovertemplate": "Altitude=%{x}<br>Flavor=%{y}<extra></extra>",
         "legendgroup": "",
         "marker": {
          "color": "rgb(104, 133, 92)",
          "symbol": "circle"
         },
         "mode": "markers",
         "name": "",
         "orientation": "v",
         "showlegend": false,
         "type": "scatter",
         "x": [
          1815,
          1200,
          1300,
          1900,
          1975,
          1668,
          1250,
          1200,
          1250,
          1550,
          2000,
          2000,
          1250,
          1950,
          1850,
          1100,
          2000,
          1300,
          1200,
          1585,
          1900,
          850,
          1600,
          1350,
          1250,
          1250,
          1300,
          1200,
          1060,
          600,
          200,
          200,
          668,
          1950,
          2250,
          1700,
          1200,
          650,
          1750,
          400,
          1000,
          800,
          1905,
          150,
          800,
          1600,
          1600,
          375,
          230,
          1200,
          1750,
          1654,
          1300,
          1400,
          1100,
          1200,
          1200,
          1600,
          1850,
          250,
          700,
          1350,
          1250,
          1450,
          650,
          1900,
          520,
          1368,
          1943,
          400,
          850,
          1350,
          1300,
          2361,
          1500,
          2100,
          1300,
          1600,
          1500,
          1368,
          1600,
          150,
          800,
          1550,
          1550,
          1800,
          1675,
          1800,
          1550,
          1550,
          1850,
          1900,
          1600,
          1350,
          1411,
          1400,
          2000,
          1700,
          500,
          1800,
          1200,
          1250,
          1400,
          300,
          1470,
          325,
          275,
          1600,
          1400,
          1700,
          1390,
          1700,
          1450,
          1650,
          1100,
          1905,
          250,
          1302.5,
          300,
          1100,
          750,
          1400,
          1550,
          950,
          1150,
          1390,
          1600,
          1400,
          250,
          340,
          1250,
          1368,
          1450,
          1650,
          275,
          1350,
          1350,
          1200,
          1280,
          1400,
          900,
          1200,
          1450,
          1700,
          1390,
          1200,
          1450,
          165,
          465,
          1350,
          1200,
          1200,
          1100,
          640,
          1340,
          1368,
          139,
          1275,
          1040,
          1200,
          1200,
          140,
          1600,
          1200,
          1725,
          1368,
          600,
          460,
          500,
          1000,
          1450,
          1350,
          1600,
          1400,
          300,
          1000,
          950,
          1574,
          1200,
          1200,
          300,
          435,
          1400,
          1400,
          700,
          1550,
          1200,
          1400,
          1100,
          1000,
          1600,
          1600,
          1300,
          1200,
          950,
          1200,
          1300,
          1200,
          975
         ],
         "xaxis": "x",
         "y": [
          8.5,
          8.5,
          8.42,
          8.17,
          8.33,
          8.33,
          8.17,
          8.25,
          8.08,
          8.17,
          8.25,
          8,
          8,
          8.17,
          8,
          8.08,
          8.08,
          8.17,
          8.17,
          8,
          7.92,
          8,
          8,
          8,
          8,
          8.08,
          7.92,
          8.08,
          8,
          7.92,
          8,
          8,
          8.17,
          7.83,
          8.08,
          7.75,
          7.92,
          8.08,
          7.75,
          7.92,
          8.08,
          7.92,
          7.92,
          8,
          8.08,
          8.08,
          7.92,
          7.92,
          8,
          7.92,
          8,
          7.75,
          7.83,
          7.92,
          7.92,
          7.83,
          8.08,
          8,
          7.83,
          7.83,
          7.83,
          7.75,
          7.83,
          8,
          7.83,
          7.83,
          7.92,
          7.92,
          7.83,
          7.92,
          8,
          7.83,
          7.83,
          7.75,
          7.83,
          7.75,
          7.67,
          7.92,
          7.92,
          7.75,
          7.92,
          7.92,
          7.75,
          7.83,
          7.92,
          7.75,
          7.67,
          7.75,
          7.58,
          7.83,
          7.92,
          7.83,
          7.83,
          7.67,
          7.75,
          7.83,
          7.67,
          7.75,
          7.92,
          7.92,
          7.67,
          7.67,
          7.83,
          7.75,
          7.67,
          7.67,
          7.75,
          7.83,
          7.67,
          7.75,
          7.83,
          7.42,
          7.67,
          7.75,
          7.92,
          7.67,
          7.67,
          7.75,
          7.67,
          7.67,
          7.83,
          7.92,
          7.67,
          7.5,
          7.75,
          7.67,
          7.75,
          7.58,
          7.75,
          7.67,
          7.75,
          7.67,
          7.58,
          7.67,
          7.67,
          7.5,
          7.5,
          7.5,
          7.58,
          7.92,
          7.42,
          7.58,
          7.5,
          7.67,
          7.58,
          7.58,
          7.58,
          7.67,
          7.58,
          7.58,
          7.33,
          7.67,
          7.58,
          7.58,
          7.42,
          7.58,
          7.42,
          7.58,
          7.5,
          7.5,
          7.67,
          7.58,
          7.5,
          7.42,
          7.5,
          7.5,
          7.67,
          7.42,
          7.58,
          7.5,
          7.42,
          7.33,
          7.5,
          7.42,
          7.42,
          7.5,
          7.5,
          7.5,
          7.42,
          7.42,
          7.5,
          7.5,
          7.42,
          7.25,
          7.25,
          7.25,
          7.42,
          7.33,
          7.25,
          7.17,
          7.25,
          7.25,
          7.25,
          7.17,
          7.17,
          7.08,
          7.17,
          6.75,
          7.08
         ],
         "yaxis": "y"
        }
       ],
       "layout": {
        "height": 600,
        "legend": {
         "tracegroupgap": 0
        },
        "paper_bgcolor": "rgba(0, 0, 0, 0)",
        "plot_bgcolor": "rgba(0, 0, 0, 0)",
        "template": {
         "data": {
          "bar": [
           {
            "error_x": {
             "color": "#2a3f5f"
            },
            "error_y": {
             "color": "#2a3f5f"
            },
            "marker": {
             "line": {
              "color": "#E5ECF6",
              "width": 0.5
             },
             "pattern": {
              "fillmode": "overlay",
              "size": 10,
              "solidity": 0.2
             }
            },
            "type": "bar"
           }
          ],
          "barpolar": [
           {
            "marker": {
             "line": {
              "color": "#E5ECF6",
              "width": 0.5
             },
             "pattern": {
              "fillmode": "overlay",
              "size": 10,
              "solidity": 0.2
             }
            },
            "type": "barpolar"
           }
          ],
          "carpet": [
           {
            "aaxis": {
             "endlinecolor": "#2a3f5f",
             "gridcolor": "white",
             "linecolor": "white",
             "minorgridcolor": "white",
             "startlinecolor": "#2a3f5f"
            },
            "baxis": {
             "endlinecolor": "#2a3f5f",
             "gridcolor": "white",
             "linecolor": "white",
             "minorgridcolor": "white",
             "startlinecolor": "#2a3f5f"
            },
            "type": "carpet"
           }
          ],
          "choropleth": [
           {
            "colorbar": {
             "outlinewidth": 0,
             "ticks": ""
            },
            "type": "choropleth"
           }
          ],
          "contour": [
           {
            "colorbar": {
             "outlinewidth": 0,
             "ticks": ""
            },
            "colorscale": [
             [
              0,
              "#0d0887"
             ],
             [
              0.1111111111111111,
              "#46039f"
             ],
             [
              0.2222222222222222,
              "#7201a8"
             ],
             [
              0.3333333333333333,
              "#9c179e"
             ],
             [
              0.4444444444444444,
              "#bd3786"
             ],
             [
              0.5555555555555556,
              "#d8576b"
             ],
             [
              0.6666666666666666,
              "#ed7953"
             ],
             [
              0.7777777777777778,
              "#fb9f3a"
             ],
             [
              0.8888888888888888,
              "#fdca26"
             ],
             [
              1,
              "#f0f921"
             ]
            ],
            "type": "contour"
           }
          ],
          "contourcarpet": [
           {
            "colorbar": {
             "outlinewidth": 0,
             "ticks": ""
            },
            "type": "contourcarpet"
           }
          ],
          "heatmap": [
           {
            "colorbar": {
             "outlinewidth": 0,
             "ticks": ""
            },
            "colorscale": [
             [
              0,
              "#0d0887"
             ],
             [
              0.1111111111111111,
              "#46039f"
             ],
             [
              0.2222222222222222,
              "#7201a8"
             ],
             [
              0.3333333333333333,
              "#9c179e"
             ],
             [
              0.4444444444444444,
              "#bd3786"
             ],
             [
              0.5555555555555556,
              "#d8576b"
             ],
             [
              0.6666666666666666,
              "#ed7953"
             ],
             [
              0.7777777777777778,
              "#fb9f3a"
             ],
             [
              0.8888888888888888,
              "#fdca26"
             ],
             [
              1,
              "#f0f921"
             ]
            ],
            "type": "heatmap"
           }
          ],
          "heatmapgl": [
           {
            "colorbar": {
             "outlinewidth": 0,
             "ticks": ""
            },
            "colorscale": [
             [
              0,
              "#0d0887"
             ],
             [
              0.1111111111111111,
              "#46039f"
             ],
             [
              0.2222222222222222,
              "#7201a8"
             ],
             [
              0.3333333333333333,
              "#9c179e"
             ],
             [
              0.4444444444444444,
              "#bd3786"
             ],
             [
              0.5555555555555556,
              "#d8576b"
             ],
             [
              0.6666666666666666,
              "#ed7953"
             ],
             [
              0.7777777777777778,
              "#fb9f3a"
             ],
             [
              0.8888888888888888,
              "#fdca26"
             ],
             [
              1,
              "#f0f921"
             ]
            ],
            "type": "heatmapgl"
           }
          ],
          "histogram": [
           {
            "marker": {
             "pattern": {
              "fillmode": "overlay",
              "size": 10,
              "solidity": 0.2
             }
            },
            "type": "histogram"
           }
          ],
          "histogram2d": [
           {
            "colorbar": {
             "outlinewidth": 0,
             "ticks": ""
            },
            "colorscale": [
             [
              0,
              "#0d0887"
             ],
             [
              0.1111111111111111,
              "#46039f"
             ],
             [
              0.2222222222222222,
              "#7201a8"
             ],
             [
              0.3333333333333333,
              "#9c179e"
             ],
             [
              0.4444444444444444,
              "#bd3786"
             ],
             [
              0.5555555555555556,
              "#d8576b"
             ],
             [
              0.6666666666666666,
              "#ed7953"
             ],
             [
              0.7777777777777778,
              "#fb9f3a"
             ],
             [
              0.8888888888888888,
              "#fdca26"
             ],
             [
              1,
              "#f0f921"
             ]
            ],
            "type": "histogram2d"
           }
          ],
          "histogram2dcontour": [
           {
            "colorbar": {
             "outlinewidth": 0,
             "ticks": ""
            },
            "colorscale": [
             [
              0,
              "#0d0887"
             ],
             [
              0.1111111111111111,
              "#46039f"
             ],
             [
              0.2222222222222222,
              "#7201a8"
             ],
             [
              0.3333333333333333,
              "#9c179e"
             ],
             [
              0.4444444444444444,
              "#bd3786"
             ],
             [
              0.5555555555555556,
              "#d8576b"
             ],
             [
              0.6666666666666666,
              "#ed7953"
             ],
             [
              0.7777777777777778,
              "#fb9f3a"
             ],
             [
              0.8888888888888888,
              "#fdca26"
             ],
             [
              1,
              "#f0f921"
             ]
            ],
            "type": "histogram2dcontour"
           }
          ],
          "mesh3d": [
           {
            "colorbar": {
             "outlinewidth": 0,
             "ticks": ""
            },
            "type": "mesh3d"
           }
          ],
          "parcoords": [
           {
            "line": {
             "colorbar": {
              "outlinewidth": 0,
              "ticks": ""
             }
            },
            "type": "parcoords"
           }
          ],
          "pie": [
           {
            "automargin": true,
            "type": "pie"
           }
          ],
          "scatter": [
           {
            "fillpattern": {
             "fillmode": "overlay",
             "size": 10,
             "solidity": 0.2
            },
            "type": "scatter"
           }
          ],
          "scatter3d": [
           {
            "line": {
             "colorbar": {
              "outlinewidth": 0,
              "ticks": ""
             }
            },
            "marker": {
             "colorbar": {
              "outlinewidth": 0,
              "ticks": ""
             }
            },
            "type": "scatter3d"
           }
          ],
          "scattercarpet": [
           {
            "marker": {
             "colorbar": {
              "outlinewidth": 0,
              "ticks": ""
             }
            },
            "type": "scattercarpet"
           }
          ],
          "scattergeo": [
           {
            "marker": {
             "colorbar": {
              "outlinewidth": 0,
              "ticks": ""
             }
            },
            "type": "scattergeo"
           }
          ],
          "scattergl": [
           {
            "marker": {
             "colorbar": {
              "outlinewidth": 0,
              "ticks": ""
             }
            },
            "type": "scattergl"
           }
          ],
          "scattermapbox": [
           {
            "marker": {
             "colorbar": {
              "outlinewidth": 0,
              "ticks": ""
             }
            },
            "type": "scattermapbox"
           }
          ],
          "scatterpolar": [
           {
            "marker": {
             "colorbar": {
              "outlinewidth": 0,
              "ticks": ""
             }
            },
            "type": "scatterpolar"
           }
          ],
          "scatterpolargl": [
           {
            "marker": {
             "colorbar": {
              "outlinewidth": 0,
              "ticks": ""
             }
            },
            "type": "scatterpolargl"
           }
          ],
          "scatterternary": [
           {
            "marker": {
             "colorbar": {
              "outlinewidth": 0,
              "ticks": ""
             }
            },
            "type": "scatterternary"
           }
          ],
          "surface": [
           {
            "colorbar": {
             "outlinewidth": 0,
             "ticks": ""
            },
            "colorscale": [
             [
              0,
              "#0d0887"
             ],
             [
              0.1111111111111111,
              "#46039f"
             ],
             [
              0.2222222222222222,
              "#7201a8"
             ],
             [
              0.3333333333333333,
              "#9c179e"
             ],
             [
              0.4444444444444444,
              "#bd3786"
             ],
             [
              0.5555555555555556,
              "#d8576b"
             ],
             [
              0.6666666666666666,
              "#ed7953"
             ],
             [
              0.7777777777777778,
              "#fb9f3a"
             ],
             [
              0.8888888888888888,
              "#fdca26"
             ],
             [
              1,
              "#f0f921"
             ]
            ],
            "type": "surface"
           }
          ],
          "table": [
           {
            "cells": {
             "fill": {
              "color": "#EBF0F8"
             },
             "line": {
              "color": "white"
             }
            },
            "header": {
             "fill": {
              "color": "#C8D4E3"
             },
             "line": {
              "color": "white"
             }
            },
            "type": "table"
           }
          ]
         },
         "layout": {
          "annotationdefaults": {
           "arrowcolor": "#2a3f5f",
           "arrowhead": 0,
           "arrowwidth": 1
          },
          "autotypenumbers": "strict",
          "coloraxis": {
           "colorbar": {
            "outlinewidth": 0,
            "ticks": ""
           }
          },
          "colorscale": {
           "diverging": [
            [
             0,
             "#8e0152"
            ],
            [
             0.1,
             "#c51b7d"
            ],
            [
             0.2,
             "#de77ae"
            ],
            [
             0.3,
             "#f1b6da"
            ],
            [
             0.4,
             "#fde0ef"
            ],
            [
             0.5,
             "#f7f7f7"
            ],
            [
             0.6,
             "#e6f5d0"
            ],
            [
             0.7,
             "#b8e186"
            ],
            [
             0.8,
             "#7fbc41"
            ],
            [
             0.9,
             "#4d9221"
            ],
            [
             1,
             "#276419"
            ]
           ],
           "sequential": [
            [
             0,
             "#0d0887"
            ],
            [
             0.1111111111111111,
             "#46039f"
            ],
            [
             0.2222222222222222,
             "#7201a8"
            ],
            [
             0.3333333333333333,
             "#9c179e"
            ],
            [
             0.4444444444444444,
             "#bd3786"
            ],
            [
             0.5555555555555556,
             "#d8576b"
            ],
            [
             0.6666666666666666,
             "#ed7953"
            ],
            [
             0.7777777777777778,
             "#fb9f3a"
            ],
            [
             0.8888888888888888,
             "#fdca26"
            ],
            [
             1,
             "#f0f921"
            ]
           ],
           "sequentialminus": [
            [
             0,
             "#0d0887"
            ],
            [
             0.1111111111111111,
             "#46039f"
            ],
            [
             0.2222222222222222,
             "#7201a8"
            ],
            [
             0.3333333333333333,
             "#9c179e"
            ],
            [
             0.4444444444444444,
             "#bd3786"
            ],
            [
             0.5555555555555556,
             "#d8576b"
            ],
            [
             0.6666666666666666,
             "#ed7953"
            ],
            [
             0.7777777777777778,
             "#fb9f3a"
            ],
            [
             0.8888888888888888,
             "#fdca26"
            ],
            [
             1,
             "#f0f921"
            ]
           ]
          },
          "colorway": [
           "#636efa",
           "#EF553B",
           "#00cc96",
           "#ab63fa",
           "#FFA15A",
           "#19d3f3",
           "#FF6692",
           "#B6E880",
           "#FF97FF",
           "#FECB52"
          ],
          "font": {
           "color": "#2a3f5f"
          },
          "geo": {
           "bgcolor": "white",
           "lakecolor": "white",
           "landcolor": "#E5ECF6",
           "showlakes": true,
           "showland": true,
           "subunitcolor": "white"
          },
          "hoverlabel": {
           "align": "left"
          },
          "hovermode": "closest",
          "mapbox": {
           "style": "light"
          },
          "paper_bgcolor": "white",
          "plot_bgcolor": "#E5ECF6",
          "polar": {
           "angularaxis": {
            "gridcolor": "white",
            "linecolor": "white",
            "ticks": ""
           },
           "bgcolor": "#E5ECF6",
           "radialaxis": {
            "gridcolor": "white",
            "linecolor": "white",
            "ticks": ""
           }
          },
          "scene": {
           "xaxis": {
            "backgroundcolor": "#E5ECF6",
            "gridcolor": "white",
            "gridwidth": 2,
            "linecolor": "white",
            "showbackground": true,
            "ticks": "",
            "zerolinecolor": "white"
           },
           "yaxis": {
            "backgroundcolor": "#E5ECF6",
            "gridcolor": "white",
            "gridwidth": 2,
            "linecolor": "white",
            "showbackground": true,
            "ticks": "",
            "zerolinecolor": "white"
           },
           "zaxis": {
            "backgroundcolor": "#E5ECF6",
            "gridcolor": "white",
            "gridwidth": 2,
            "linecolor": "white",
            "showbackground": true,
            "ticks": "",
            "zerolinecolor": "white"
           }
          },
          "shapedefaults": {
           "line": {
            "color": "#2a3f5f"
           }
          },
          "ternary": {
           "aaxis": {
            "gridcolor": "white",
            "linecolor": "white",
            "ticks": ""
           },
           "baxis": {
            "gridcolor": "white",
            "linecolor": "white",
            "ticks": ""
           },
           "bgcolor": "#E5ECF6",
           "caxis": {
            "gridcolor": "white",
            "linecolor": "white",
            "ticks": ""
           }
          },
          "title": {
           "x": 0.05
          },
          "xaxis": {
           "automargin": true,
           "gridcolor": "white",
           "linecolor": "white",
           "ticks": "",
           "title": {
            "standoff": 15
           },
           "zerolinecolor": "white",
           "zerolinewidth": 2
          },
          "yaxis": {
           "automargin": true,
           "gridcolor": "white",
           "linecolor": "white",
           "ticks": "",
           "title": {
            "standoff": 15
           },
           "zerolinecolor": "white",
           "zerolinewidth": 2
          }
         }
        },
        "title": {
         "text": "Flavor by Altitude"
        },
        "width": 1200,
        "xaxis": {
         "anchor": "y",
         "domain": [
          0,
          1
         ],
         "title": {
          "text": "Altitude"
         }
        },
        "yaxis": {
         "anchor": "x",
         "domain": [
          0,
          1
         ],
         "title": {
          "text": "Flavor"
         }
        }
       }
      }
     },
     "metadata": {},
     "output_type": "display_data"
    },
    {
     "data": {
      "application/vnd.plotly.v1+json": {
       "config": {
        "plotlyServerURL": "https://plot.ly"
       },
       "data": [
        {
         "hovertemplate": "Altitude=%{x}<br>Aftertaste=%{y}<extra></extra>",
         "legendgroup": "",
         "marker": {
          "color": "rgb(104, 133, 92)",
          "symbol": "circle"
         },
         "mode": "markers",
         "name": "",
         "orientation": "v",
         "showlegend": false,
         "type": "scatter",
         "x": [
          1815,
          1200,
          1300,
          1900,
          1975,
          1668,
          1250,
          1200,
          1250,
          1550,
          2000,
          2000,
          1250,
          1950,
          1850,
          1100,
          2000,
          1300,
          1200,
          1585,
          1900,
          850,
          1600,
          1350,
          1250,
          1250,
          1300,
          1200,
          1060,
          600,
          200,
          200,
          668,
          1950,
          2250,
          1700,
          1200,
          650,
          1750,
          400,
          1000,
          800,
          1905,
          150,
          800,
          1600,
          1600,
          375,
          230,
          1200,
          1750,
          1654,
          1300,
          1400,
          1100,
          1200,
          1200,
          1600,
          1850,
          250,
          700,
          1350,
          1250,
          1450,
          650,
          1900,
          520,
          1368,
          1943,
          400,
          850,
          1350,
          1300,
          2361,
          1500,
          2100,
          1300,
          1600,
          1500,
          1368,
          1600,
          150,
          800,
          1550,
          1550,
          1800,
          1675,
          1800,
          1550,
          1550,
          1850,
          1900,
          1600,
          1350,
          1411,
          1400,
          2000,
          1700,
          500,
          1800,
          1200,
          1250,
          1400,
          300,
          1470,
          325,
          275,
          1600,
          1400,
          1700,
          1390,
          1700,
          1450,
          1650,
          1100,
          1905,
          250,
          1302.5,
          300,
          1100,
          750,
          1400,
          1550,
          950,
          1150,
          1390,
          1600,
          1400,
          250,
          340,
          1250,
          1368,
          1450,
          1650,
          275,
          1350,
          1350,
          1200,
          1280,
          1400,
          900,
          1200,
          1450,
          1700,
          1390,
          1200,
          1450,
          165,
          465,
          1350,
          1200,
          1200,
          1100,
          640,
          1340,
          1368,
          139,
          1275,
          1040,
          1200,
          1200,
          140,
          1600,
          1200,
          1725,
          1368,
          600,
          460,
          500,
          1000,
          1450,
          1350,
          1600,
          1400,
          300,
          1000,
          950,
          1574,
          1200,
          1200,
          300,
          435,
          1400,
          1400,
          700,
          1550,
          1200,
          1400,
          1100,
          1000,
          1600,
          1600,
          1300,
          1200,
          950,
          1200,
          1300,
          1200,
          975
         ],
         "xaxis": "x",
         "y": [
          8.42,
          7.92,
          8.08,
          8.17,
          8.08,
          8.25,
          8.08,
          8.17,
          8.25,
          8.08,
          8,
          8,
          8.08,
          8,
          8.08,
          8,
          7.92,
          8,
          7.75,
          7.92,
          8.08,
          7.92,
          7.83,
          7.83,
          7.92,
          7.83,
          8,
          7.92,
          8,
          8,
          7.83,
          7.83,
          7.67,
          7.83,
          8,
          7.83,
          7.83,
          7.83,
          7.83,
          7.83,
          7.67,
          7.67,
          7.75,
          7.92,
          7.83,
          7.67,
          7.75,
          7.83,
          7.75,
          7.75,
          7.83,
          7.75,
          7.67,
          7.92,
          7.75,
          7.75,
          7.67,
          7.67,
          7.5,
          7.75,
          7.67,
          7.67,
          7.67,
          7.67,
          7.75,
          7.67,
          7.83,
          7.75,
          7.75,
          7.75,
          7.5,
          7.75,
          7.75,
          7.58,
          7.83,
          7.75,
          7.83,
          7.67,
          7.58,
          7.58,
          7.58,
          7.83,
          7.67,
          7.67,
          7.67,
          7.75,
          7.75,
          7.5,
          7.58,
          7.58,
          7.58,
          7.58,
          7.58,
          7.58,
          7.67,
          7.67,
          7.5,
          7.42,
          7.58,
          7.67,
          7.58,
          7.75,
          7.67,
          7.67,
          7.58,
          7.5,
          7.58,
          7.58,
          7.58,
          7.5,
          7.58,
          7.42,
          7.5,
          7.5,
          7.67,
          7.58,
          7.5,
          7.58,
          7.58,
          7.42,
          7.58,
          7.75,
          7.42,
          7.5,
          7.58,
          7.58,
          7.67,
          7.58,
          7.5,
          7.5,
          7.33,
          7.5,
          7.58,
          7.42,
          7.58,
          7.42,
          7.5,
          7.42,
          7.5,
          7.58,
          7.58,
          7.25,
          7.25,
          7.58,
          7.58,
          7.5,
          7.33,
          7.42,
          7.42,
          7.42,
          7.17,
          7.17,
          7.5,
          7.5,
          7.5,
          7.33,
          7.58,
          7.42,
          7.33,
          7.42,
          7.25,
          7.42,
          7.33,
          7.33,
          7.42,
          7.25,
          7.33,
          7.42,
          7.42,
          7.42,
          7.42,
          7.25,
          7.33,
          7.33,
          7.42,
          7.42,
          7.58,
          7.33,
          7.25,
          7.25,
          7.33,
          7.42,
          7.25,
          7.33,
          7.42,
          7.25,
          7.25,
          7.33,
          7.17,
          7,
          7.17,
          7.17,
          7.08,
          7.17,
          6.92,
          6.75,
          7.08,
          6.75,
          6.67
         ],
         "yaxis": "y"
        }
       ],
       "layout": {
        "height": 600,
        "legend": {
         "tracegroupgap": 0
        },
        "paper_bgcolor": "rgba(0, 0, 0, 0)",
        "plot_bgcolor": "rgba(0, 0, 0, 0)",
        "template": {
         "data": {
          "bar": [
           {
            "error_x": {
             "color": "#2a3f5f"
            },
            "error_y": {
             "color": "#2a3f5f"
            },
            "marker": {
             "line": {
              "color": "#E5ECF6",
              "width": 0.5
             },
             "pattern": {
              "fillmode": "overlay",
              "size": 10,
              "solidity": 0.2
             }
            },
            "type": "bar"
           }
          ],
          "barpolar": [
           {
            "marker": {
             "line": {
              "color": "#E5ECF6",
              "width": 0.5
             },
             "pattern": {
              "fillmode": "overlay",
              "size": 10,
              "solidity": 0.2
             }
            },
            "type": "barpolar"
           }
          ],
          "carpet": [
           {
            "aaxis": {
             "endlinecolor": "#2a3f5f",
             "gridcolor": "white",
             "linecolor": "white",
             "minorgridcolor": "white",
             "startlinecolor": "#2a3f5f"
            },
            "baxis": {
             "endlinecolor": "#2a3f5f",
             "gridcolor": "white",
             "linecolor": "white",
             "minorgridcolor": "white",
             "startlinecolor": "#2a3f5f"
            },
            "type": "carpet"
           }
          ],
          "choropleth": [
           {
            "colorbar": {
             "outlinewidth": 0,
             "ticks": ""
            },
            "type": "choropleth"
           }
          ],
          "contour": [
           {
            "colorbar": {
             "outlinewidth": 0,
             "ticks": ""
            },
            "colorscale": [
             [
              0,
              "#0d0887"
             ],
             [
              0.1111111111111111,
              "#46039f"
             ],
             [
              0.2222222222222222,
              "#7201a8"
             ],
             [
              0.3333333333333333,
              "#9c179e"
             ],
             [
              0.4444444444444444,
              "#bd3786"
             ],
             [
              0.5555555555555556,
              "#d8576b"
             ],
             [
              0.6666666666666666,
              "#ed7953"
             ],
             [
              0.7777777777777778,
              "#fb9f3a"
             ],
             [
              0.8888888888888888,
              "#fdca26"
             ],
             [
              1,
              "#f0f921"
             ]
            ],
            "type": "contour"
           }
          ],
          "contourcarpet": [
           {
            "colorbar": {
             "outlinewidth": 0,
             "ticks": ""
            },
            "type": "contourcarpet"
           }
          ],
          "heatmap": [
           {
            "colorbar": {
             "outlinewidth": 0,
             "ticks": ""
            },
            "colorscale": [
             [
              0,
              "#0d0887"
             ],
             [
              0.1111111111111111,
              "#46039f"
             ],
             [
              0.2222222222222222,
              "#7201a8"
             ],
             [
              0.3333333333333333,
              "#9c179e"
             ],
             [
              0.4444444444444444,
              "#bd3786"
             ],
             [
              0.5555555555555556,
              "#d8576b"
             ],
             [
              0.6666666666666666,
              "#ed7953"
             ],
             [
              0.7777777777777778,
              "#fb9f3a"
             ],
             [
              0.8888888888888888,
              "#fdca26"
             ],
             [
              1,
              "#f0f921"
             ]
            ],
            "type": "heatmap"
           }
          ],
          "heatmapgl": [
           {
            "colorbar": {
             "outlinewidth": 0,
             "ticks": ""
            },
            "colorscale": [
             [
              0,
              "#0d0887"
             ],
             [
              0.1111111111111111,
              "#46039f"
             ],
             [
              0.2222222222222222,
              "#7201a8"
             ],
             [
              0.3333333333333333,
              "#9c179e"
             ],
             [
              0.4444444444444444,
              "#bd3786"
             ],
             [
              0.5555555555555556,
              "#d8576b"
             ],
             [
              0.6666666666666666,
              "#ed7953"
             ],
             [
              0.7777777777777778,
              "#fb9f3a"
             ],
             [
              0.8888888888888888,
              "#fdca26"
             ],
             [
              1,
              "#f0f921"
             ]
            ],
            "type": "heatmapgl"
           }
          ],
          "histogram": [
           {
            "marker": {
             "pattern": {
              "fillmode": "overlay",
              "size": 10,
              "solidity": 0.2
             }
            },
            "type": "histogram"
           }
          ],
          "histogram2d": [
           {
            "colorbar": {
             "outlinewidth": 0,
             "ticks": ""
            },
            "colorscale": [
             [
              0,
              "#0d0887"
             ],
             [
              0.1111111111111111,
              "#46039f"
             ],
             [
              0.2222222222222222,
              "#7201a8"
             ],
             [
              0.3333333333333333,
              "#9c179e"
             ],
             [
              0.4444444444444444,
              "#bd3786"
             ],
             [
              0.5555555555555556,
              "#d8576b"
             ],
             [
              0.6666666666666666,
              "#ed7953"
             ],
             [
              0.7777777777777778,
              "#fb9f3a"
             ],
             [
              0.8888888888888888,
              "#fdca26"
             ],
             [
              1,
              "#f0f921"
             ]
            ],
            "type": "histogram2d"
           }
          ],
          "histogram2dcontour": [
           {
            "colorbar": {
             "outlinewidth": 0,
             "ticks": ""
            },
            "colorscale": [
             [
              0,
              "#0d0887"
             ],
             [
              0.1111111111111111,
              "#46039f"
             ],
             [
              0.2222222222222222,
              "#7201a8"
             ],
             [
              0.3333333333333333,
              "#9c179e"
             ],
             [
              0.4444444444444444,
              "#bd3786"
             ],
             [
              0.5555555555555556,
              "#d8576b"
             ],
             [
              0.6666666666666666,
              "#ed7953"
             ],
             [
              0.7777777777777778,
              "#fb9f3a"
             ],
             [
              0.8888888888888888,
              "#fdca26"
             ],
             [
              1,
              "#f0f921"
             ]
            ],
            "type": "histogram2dcontour"
           }
          ],
          "mesh3d": [
           {
            "colorbar": {
             "outlinewidth": 0,
             "ticks": ""
            },
            "type": "mesh3d"
           }
          ],
          "parcoords": [
           {
            "line": {
             "colorbar": {
              "outlinewidth": 0,
              "ticks": ""
             }
            },
            "type": "parcoords"
           }
          ],
          "pie": [
           {
            "automargin": true,
            "type": "pie"
           }
          ],
          "scatter": [
           {
            "fillpattern": {
             "fillmode": "overlay",
             "size": 10,
             "solidity": 0.2
            },
            "type": "scatter"
           }
          ],
          "scatter3d": [
           {
            "line": {
             "colorbar": {
              "outlinewidth": 0,
              "ticks": ""
             }
            },
            "marker": {
             "colorbar": {
              "outlinewidth": 0,
              "ticks": ""
             }
            },
            "type": "scatter3d"
           }
          ],
          "scattercarpet": [
           {
            "marker": {
             "colorbar": {
              "outlinewidth": 0,
              "ticks": ""
             }
            },
            "type": "scattercarpet"
           }
          ],
          "scattergeo": [
           {
            "marker": {
             "colorbar": {
              "outlinewidth": 0,
              "ticks": ""
             }
            },
            "type": "scattergeo"
           }
          ],
          "scattergl": [
           {
            "marker": {
             "colorbar": {
              "outlinewidth": 0,
              "ticks": ""
             }
            },
            "type": "scattergl"
           }
          ],
          "scattermapbox": [
           {
            "marker": {
             "colorbar": {
              "outlinewidth": 0,
              "ticks": ""
             }
            },
            "type": "scattermapbox"
           }
          ],
          "scatterpolar": [
           {
            "marker": {
             "colorbar": {
              "outlinewidth": 0,
              "ticks": ""
             }
            },
            "type": "scatterpolar"
           }
          ],
          "scatterpolargl": [
           {
            "marker": {
             "colorbar": {
              "outlinewidth": 0,
              "ticks": ""
             }
            },
            "type": "scatterpolargl"
           }
          ],
          "scatterternary": [
           {
            "marker": {
             "colorbar": {
              "outlinewidth": 0,
              "ticks": ""
             }
            },
            "type": "scatterternary"
           }
          ],
          "surface": [
           {
            "colorbar": {
             "outlinewidth": 0,
             "ticks": ""
            },
            "colorscale": [
             [
              0,
              "#0d0887"
             ],
             [
              0.1111111111111111,
              "#46039f"
             ],
             [
              0.2222222222222222,
              "#7201a8"
             ],
             [
              0.3333333333333333,
              "#9c179e"
             ],
             [
              0.4444444444444444,
              "#bd3786"
             ],
             [
              0.5555555555555556,
              "#d8576b"
             ],
             [
              0.6666666666666666,
              "#ed7953"
             ],
             [
              0.7777777777777778,
              "#fb9f3a"
             ],
             [
              0.8888888888888888,
              "#fdca26"
             ],
             [
              1,
              "#f0f921"
             ]
            ],
            "type": "surface"
           }
          ],
          "table": [
           {
            "cells": {
             "fill": {
              "color": "#EBF0F8"
             },
             "line": {
              "color": "white"
             }
            },
            "header": {
             "fill": {
              "color": "#C8D4E3"
             },
             "line": {
              "color": "white"
             }
            },
            "type": "table"
           }
          ]
         },
         "layout": {
          "annotationdefaults": {
           "arrowcolor": "#2a3f5f",
           "arrowhead": 0,
           "arrowwidth": 1
          },
          "autotypenumbers": "strict",
          "coloraxis": {
           "colorbar": {
            "outlinewidth": 0,
            "ticks": ""
           }
          },
          "colorscale": {
           "diverging": [
            [
             0,
             "#8e0152"
            ],
            [
             0.1,
             "#c51b7d"
            ],
            [
             0.2,
             "#de77ae"
            ],
            [
             0.3,
             "#f1b6da"
            ],
            [
             0.4,
             "#fde0ef"
            ],
            [
             0.5,
             "#f7f7f7"
            ],
            [
             0.6,
             "#e6f5d0"
            ],
            [
             0.7,
             "#b8e186"
            ],
            [
             0.8,
             "#7fbc41"
            ],
            [
             0.9,
             "#4d9221"
            ],
            [
             1,
             "#276419"
            ]
           ],
           "sequential": [
            [
             0,
             "#0d0887"
            ],
            [
             0.1111111111111111,
             "#46039f"
            ],
            [
             0.2222222222222222,
             "#7201a8"
            ],
            [
             0.3333333333333333,
             "#9c179e"
            ],
            [
             0.4444444444444444,
             "#bd3786"
            ],
            [
             0.5555555555555556,
             "#d8576b"
            ],
            [
             0.6666666666666666,
             "#ed7953"
            ],
            [
             0.7777777777777778,
             "#fb9f3a"
            ],
            [
             0.8888888888888888,
             "#fdca26"
            ],
            [
             1,
             "#f0f921"
            ]
           ],
           "sequentialminus": [
            [
             0,
             "#0d0887"
            ],
            [
             0.1111111111111111,
             "#46039f"
            ],
            [
             0.2222222222222222,
             "#7201a8"
            ],
            [
             0.3333333333333333,
             "#9c179e"
            ],
            [
             0.4444444444444444,
             "#bd3786"
            ],
            [
             0.5555555555555556,
             "#d8576b"
            ],
            [
             0.6666666666666666,
             "#ed7953"
            ],
            [
             0.7777777777777778,
             "#fb9f3a"
            ],
            [
             0.8888888888888888,
             "#fdca26"
            ],
            [
             1,
             "#f0f921"
            ]
           ]
          },
          "colorway": [
           "#636efa",
           "#EF553B",
           "#00cc96",
           "#ab63fa",
           "#FFA15A",
           "#19d3f3",
           "#FF6692",
           "#B6E880",
           "#FF97FF",
           "#FECB52"
          ],
          "font": {
           "color": "#2a3f5f"
          },
          "geo": {
           "bgcolor": "white",
           "lakecolor": "white",
           "landcolor": "#E5ECF6",
           "showlakes": true,
           "showland": true,
           "subunitcolor": "white"
          },
          "hoverlabel": {
           "align": "left"
          },
          "hovermode": "closest",
          "mapbox": {
           "style": "light"
          },
          "paper_bgcolor": "white",
          "plot_bgcolor": "#E5ECF6",
          "polar": {
           "angularaxis": {
            "gridcolor": "white",
            "linecolor": "white",
            "ticks": ""
           },
           "bgcolor": "#E5ECF6",
           "radialaxis": {
            "gridcolor": "white",
            "linecolor": "white",
            "ticks": ""
           }
          },
          "scene": {
           "xaxis": {
            "backgroundcolor": "#E5ECF6",
            "gridcolor": "white",
            "gridwidth": 2,
            "linecolor": "white",
            "showbackground": true,
            "ticks": "",
            "zerolinecolor": "white"
           },
           "yaxis": {
            "backgroundcolor": "#E5ECF6",
            "gridcolor": "white",
            "gridwidth": 2,
            "linecolor": "white",
            "showbackground": true,
            "ticks": "",
            "zerolinecolor": "white"
           },
           "zaxis": {
            "backgroundcolor": "#E5ECF6",
            "gridcolor": "white",
            "gridwidth": 2,
            "linecolor": "white",
            "showbackground": true,
            "ticks": "",
            "zerolinecolor": "white"
           }
          },
          "shapedefaults": {
           "line": {
            "color": "#2a3f5f"
           }
          },
          "ternary": {
           "aaxis": {
            "gridcolor": "white",
            "linecolor": "white",
            "ticks": ""
           },
           "baxis": {
            "gridcolor": "white",
            "linecolor": "white",
            "ticks": ""
           },
           "bgcolor": "#E5ECF6",
           "caxis": {
            "gridcolor": "white",
            "linecolor": "white",
            "ticks": ""
           }
          },
          "title": {
           "x": 0.05
          },
          "xaxis": {
           "automargin": true,
           "gridcolor": "white",
           "linecolor": "white",
           "ticks": "",
           "title": {
            "standoff": 15
           },
           "zerolinecolor": "white",
           "zerolinewidth": 2
          },
          "yaxis": {
           "automargin": true,
           "gridcolor": "white",
           "linecolor": "white",
           "ticks": "",
           "title": {
            "standoff": 15
           },
           "zerolinecolor": "white",
           "zerolinewidth": 2
          }
         }
        },
        "title": {
         "text": "Aftertaste by Altitude"
        },
        "width": 1200,
        "xaxis": {
         "anchor": "y",
         "domain": [
          0,
          1
         ],
         "title": {
          "text": "Altitude"
         }
        },
        "yaxis": {
         "anchor": "x",
         "domain": [
          0,
          1
         ],
         "title": {
          "text": "Aftertaste"
         }
        }
       }
      }
     },
     "metadata": {},
     "output_type": "display_data"
    },
    {
     "data": {
      "application/vnd.plotly.v1+json": {
       "config": {
        "plotlyServerURL": "https://plot.ly"
       },
       "data": [
        {
         "hovertemplate": "Altitude=%{x}<br>Acidity=%{y}<extra></extra>",
         "legendgroup": "",
         "marker": {
          "color": "rgb(104, 133, 92)",
          "symbol": "circle"
         },
         "mode": "markers",
         "name": "",
         "orientation": "v",
         "showlegend": false,
         "type": "scatter",
         "x": [
          1815,
          1200,
          1300,
          1900,
          1975,
          1668,
          1250,
          1200,
          1250,
          1550,
          2000,
          2000,
          1250,
          1950,
          1850,
          1100,
          2000,
          1300,
          1200,
          1585,
          1900,
          850,
          1600,
          1350,
          1250,
          1250,
          1300,
          1200,
          1060,
          600,
          200,
          200,
          668,
          1950,
          2250,
          1700,
          1200,
          650,
          1750,
          400,
          1000,
          800,
          1905,
          150,
          800,
          1600,
          1600,
          375,
          230,
          1200,
          1750,
          1654,
          1300,
          1400,
          1100,
          1200,
          1200,
          1600,
          1850,
          250,
          700,
          1350,
          1250,
          1450,
          650,
          1900,
          520,
          1368,
          1943,
          400,
          850,
          1350,
          1300,
          2361,
          1500,
          2100,
          1300,
          1600,
          1500,
          1368,
          1600,
          150,
          800,
          1550,
          1550,
          1800,
          1675,
          1800,
          1550,
          1550,
          1850,
          1900,
          1600,
          1350,
          1411,
          1400,
          2000,
          1700,
          500,
          1800,
          1200,
          1250,
          1400,
          300,
          1470,
          325,
          275,
          1600,
          1400,
          1700,
          1390,
          1700,
          1450,
          1650,
          1100,
          1905,
          250,
          1302.5,
          300,
          1100,
          750,
          1400,
          1550,
          950,
          1150,
          1390,
          1600,
          1400,
          250,
          340,
          1250,
          1368,
          1450,
          1650,
          275,
          1350,
          1350,
          1200,
          1280,
          1400,
          900,
          1200,
          1450,
          1700,
          1390,
          1200,
          1450,
          165,
          465,
          1350,
          1200,
          1200,
          1100,
          640,
          1340,
          1368,
          139,
          1275,
          1040,
          1200,
          1200,
          140,
          1600,
          1200,
          1725,
          1368,
          600,
          460,
          500,
          1000,
          1450,
          1350,
          1600,
          1400,
          300,
          1000,
          950,
          1574,
          1200,
          1200,
          300,
          435,
          1400,
          1400,
          700,
          1550,
          1200,
          1400,
          1100,
          1000,
          1600,
          1600,
          1300,
          1200,
          950,
          1200,
          1300,
          1200,
          975
         ],
         "xaxis": "x",
         "y": [
          8.58,
          8,
          8.17,
          8.25,
          8.25,
          7.83,
          8,
          8,
          8.08,
          8.17,
          8.08,
          7.75,
          8.08,
          8.33,
          7.92,
          7.92,
          8.17,
          7.92,
          7.92,
          7.92,
          7.92,
          7.92,
          8,
          8.17,
          8,
          7.92,
          7.92,
          8,
          7.92,
          7.83,
          7.83,
          7.92,
          7.83,
          8,
          8,
          8.17,
          7.92,
          7.75,
          7.58,
          7.92,
          7.75,
          8,
          7.75,
          8,
          7.67,
          8,
          8,
          7.83,
          7.75,
          7.83,
          7.83,
          7.92,
          7.67,
          7.83,
          7.92,
          7.92,
          7.92,
          7.83,
          7.67,
          7.75,
          7.83,
          7.67,
          7.67,
          7.75,
          7.67,
          7.83,
          7.75,
          7.75,
          7.92,
          7.83,
          7.75,
          7.75,
          7.92,
          7.92,
          7.83,
          7.75,
          7.83,
          7.75,
          7.75,
          7.83,
          7.83,
          7.58,
          7.75,
          7.83,
          7.75,
          7.67,
          7.75,
          7.67,
          7.92,
          7.92,
          7.75,
          7.67,
          7.75,
          7.75,
          7.75,
          7.67,
          7.92,
          7.58,
          7.58,
          7.58,
          7.67,
          7.75,
          7.58,
          7.83,
          7.75,
          7.75,
          7.75,
          7.67,
          7.58,
          7.58,
          7.67,
          8,
          7.67,
          7.5,
          7.92,
          7.5,
          7.75,
          7.75,
          7.75,
          7.75,
          7.58,
          7.33,
          7.5,
          7.83,
          7.67,
          7.67,
          7.58,
          7.58,
          7.75,
          7.58,
          7.67,
          7.58,
          7.58,
          7.58,
          7.58,
          7.67,
          7.67,
          7.75,
          7.5,
          7.5,
          7.5,
          7.33,
          7.92,
          7.5,
          7.5,
          7.42,
          7.5,
          7.42,
          7.42,
          7.58,
          7.67,
          7.67,
          7.5,
          7.5,
          7.5,
          7.5,
          7.42,
          7.42,
          7.5,
          7.42,
          7.67,
          7.5,
          7.58,
          7.5,
          7.5,
          7.5,
          7.5,
          7.5,
          7.42,
          7.42,
          7.33,
          7.67,
          7.5,
          7.42,
          7.5,
          7.33,
          7.33,
          7.42,
          7.25,
          7.42,
          7.33,
          7.33,
          7.33,
          7.42,
          7.25,
          7.42,
          7.25,
          7.5,
          7.33,
          7.08,
          7.33,
          7.17,
          7.42,
          7.08,
          7.17,
          7.17,
          7,
          7.17,
          6.83
         ],
         "yaxis": "y"
        }
       ],
       "layout": {
        "height": 600,
        "legend": {
         "tracegroupgap": 0
        },
        "paper_bgcolor": "rgba(0, 0, 0, 0)",
        "plot_bgcolor": "rgba(0, 0, 0, 0)",
        "template": {
         "data": {
          "bar": [
           {
            "error_x": {
             "color": "#2a3f5f"
            },
            "error_y": {
             "color": "#2a3f5f"
            },
            "marker": {
             "line": {
              "color": "#E5ECF6",
              "width": 0.5
             },
             "pattern": {
              "fillmode": "overlay",
              "size": 10,
              "solidity": 0.2
             }
            },
            "type": "bar"
           }
          ],
          "barpolar": [
           {
            "marker": {
             "line": {
              "color": "#E5ECF6",
              "width": 0.5
             },
             "pattern": {
              "fillmode": "overlay",
              "size": 10,
              "solidity": 0.2
             }
            },
            "type": "barpolar"
           }
          ],
          "carpet": [
           {
            "aaxis": {
             "endlinecolor": "#2a3f5f",
             "gridcolor": "white",
             "linecolor": "white",
             "minorgridcolor": "white",
             "startlinecolor": "#2a3f5f"
            },
            "baxis": {
             "endlinecolor": "#2a3f5f",
             "gridcolor": "white",
             "linecolor": "white",
             "minorgridcolor": "white",
             "startlinecolor": "#2a3f5f"
            },
            "type": "carpet"
           }
          ],
          "choropleth": [
           {
            "colorbar": {
             "outlinewidth": 0,
             "ticks": ""
            },
            "type": "choropleth"
           }
          ],
          "contour": [
           {
            "colorbar": {
             "outlinewidth": 0,
             "ticks": ""
            },
            "colorscale": [
             [
              0,
              "#0d0887"
             ],
             [
              0.1111111111111111,
              "#46039f"
             ],
             [
              0.2222222222222222,
              "#7201a8"
             ],
             [
              0.3333333333333333,
              "#9c179e"
             ],
             [
              0.4444444444444444,
              "#bd3786"
             ],
             [
              0.5555555555555556,
              "#d8576b"
             ],
             [
              0.6666666666666666,
              "#ed7953"
             ],
             [
              0.7777777777777778,
              "#fb9f3a"
             ],
             [
              0.8888888888888888,
              "#fdca26"
             ],
             [
              1,
              "#f0f921"
             ]
            ],
            "type": "contour"
           }
          ],
          "contourcarpet": [
           {
            "colorbar": {
             "outlinewidth": 0,
             "ticks": ""
            },
            "type": "contourcarpet"
           }
          ],
          "heatmap": [
           {
            "colorbar": {
             "outlinewidth": 0,
             "ticks": ""
            },
            "colorscale": [
             [
              0,
              "#0d0887"
             ],
             [
              0.1111111111111111,
              "#46039f"
             ],
             [
              0.2222222222222222,
              "#7201a8"
             ],
             [
              0.3333333333333333,
              "#9c179e"
             ],
             [
              0.4444444444444444,
              "#bd3786"
             ],
             [
              0.5555555555555556,
              "#d8576b"
             ],
             [
              0.6666666666666666,
              "#ed7953"
             ],
             [
              0.7777777777777778,
              "#fb9f3a"
             ],
             [
              0.8888888888888888,
              "#fdca26"
             ],
             [
              1,
              "#f0f921"
             ]
            ],
            "type": "heatmap"
           }
          ],
          "heatmapgl": [
           {
            "colorbar": {
             "outlinewidth": 0,
             "ticks": ""
            },
            "colorscale": [
             [
              0,
              "#0d0887"
             ],
             [
              0.1111111111111111,
              "#46039f"
             ],
             [
              0.2222222222222222,
              "#7201a8"
             ],
             [
              0.3333333333333333,
              "#9c179e"
             ],
             [
              0.4444444444444444,
              "#bd3786"
             ],
             [
              0.5555555555555556,
              "#d8576b"
             ],
             [
              0.6666666666666666,
              "#ed7953"
             ],
             [
              0.7777777777777778,
              "#fb9f3a"
             ],
             [
              0.8888888888888888,
              "#fdca26"
             ],
             [
              1,
              "#f0f921"
             ]
            ],
            "type": "heatmapgl"
           }
          ],
          "histogram": [
           {
            "marker": {
             "pattern": {
              "fillmode": "overlay",
              "size": 10,
              "solidity": 0.2
             }
            },
            "type": "histogram"
           }
          ],
          "histogram2d": [
           {
            "colorbar": {
             "outlinewidth": 0,
             "ticks": ""
            },
            "colorscale": [
             [
              0,
              "#0d0887"
             ],
             [
              0.1111111111111111,
              "#46039f"
             ],
             [
              0.2222222222222222,
              "#7201a8"
             ],
             [
              0.3333333333333333,
              "#9c179e"
             ],
             [
              0.4444444444444444,
              "#bd3786"
             ],
             [
              0.5555555555555556,
              "#d8576b"
             ],
             [
              0.6666666666666666,
              "#ed7953"
             ],
             [
              0.7777777777777778,
              "#fb9f3a"
             ],
             [
              0.8888888888888888,
              "#fdca26"
             ],
             [
              1,
              "#f0f921"
             ]
            ],
            "type": "histogram2d"
           }
          ],
          "histogram2dcontour": [
           {
            "colorbar": {
             "outlinewidth": 0,
             "ticks": ""
            },
            "colorscale": [
             [
              0,
              "#0d0887"
             ],
             [
              0.1111111111111111,
              "#46039f"
             ],
             [
              0.2222222222222222,
              "#7201a8"
             ],
             [
              0.3333333333333333,
              "#9c179e"
             ],
             [
              0.4444444444444444,
              "#bd3786"
             ],
             [
              0.5555555555555556,
              "#d8576b"
             ],
             [
              0.6666666666666666,
              "#ed7953"
             ],
             [
              0.7777777777777778,
              "#fb9f3a"
             ],
             [
              0.8888888888888888,
              "#fdca26"
             ],
             [
              1,
              "#f0f921"
             ]
            ],
            "type": "histogram2dcontour"
           }
          ],
          "mesh3d": [
           {
            "colorbar": {
             "outlinewidth": 0,
             "ticks": ""
            },
            "type": "mesh3d"
           }
          ],
          "parcoords": [
           {
            "line": {
             "colorbar": {
              "outlinewidth": 0,
              "ticks": ""
             }
            },
            "type": "parcoords"
           }
          ],
          "pie": [
           {
            "automargin": true,
            "type": "pie"
           }
          ],
          "scatter": [
           {
            "fillpattern": {
             "fillmode": "overlay",
             "size": 10,
             "solidity": 0.2
            },
            "type": "scatter"
           }
          ],
          "scatter3d": [
           {
            "line": {
             "colorbar": {
              "outlinewidth": 0,
              "ticks": ""
             }
            },
            "marker": {
             "colorbar": {
              "outlinewidth": 0,
              "ticks": ""
             }
            },
            "type": "scatter3d"
           }
          ],
          "scattercarpet": [
           {
            "marker": {
             "colorbar": {
              "outlinewidth": 0,
              "ticks": ""
             }
            },
            "type": "scattercarpet"
           }
          ],
          "scattergeo": [
           {
            "marker": {
             "colorbar": {
              "outlinewidth": 0,
              "ticks": ""
             }
            },
            "type": "scattergeo"
           }
          ],
          "scattergl": [
           {
            "marker": {
             "colorbar": {
              "outlinewidth": 0,
              "ticks": ""
             }
            },
            "type": "scattergl"
           }
          ],
          "scattermapbox": [
           {
            "marker": {
             "colorbar": {
              "outlinewidth": 0,
              "ticks": ""
             }
            },
            "type": "scattermapbox"
           }
          ],
          "scatterpolar": [
           {
            "marker": {
             "colorbar": {
              "outlinewidth": 0,
              "ticks": ""
             }
            },
            "type": "scatterpolar"
           }
          ],
          "scatterpolargl": [
           {
            "marker": {
             "colorbar": {
              "outlinewidth": 0,
              "ticks": ""
             }
            },
            "type": "scatterpolargl"
           }
          ],
          "scatterternary": [
           {
            "marker": {
             "colorbar": {
              "outlinewidth": 0,
              "ticks": ""
             }
            },
            "type": "scatterternary"
           }
          ],
          "surface": [
           {
            "colorbar": {
             "outlinewidth": 0,
             "ticks": ""
            },
            "colorscale": [
             [
              0,
              "#0d0887"
             ],
             [
              0.1111111111111111,
              "#46039f"
             ],
             [
              0.2222222222222222,
              "#7201a8"
             ],
             [
              0.3333333333333333,
              "#9c179e"
             ],
             [
              0.4444444444444444,
              "#bd3786"
             ],
             [
              0.5555555555555556,
              "#d8576b"
             ],
             [
              0.6666666666666666,
              "#ed7953"
             ],
             [
              0.7777777777777778,
              "#fb9f3a"
             ],
             [
              0.8888888888888888,
              "#fdca26"
             ],
             [
              1,
              "#f0f921"
             ]
            ],
            "type": "surface"
           }
          ],
          "table": [
           {
            "cells": {
             "fill": {
              "color": "#EBF0F8"
             },
             "line": {
              "color": "white"
             }
            },
            "header": {
             "fill": {
              "color": "#C8D4E3"
             },
             "line": {
              "color": "white"
             }
            },
            "type": "table"
           }
          ]
         },
         "layout": {
          "annotationdefaults": {
           "arrowcolor": "#2a3f5f",
           "arrowhead": 0,
           "arrowwidth": 1
          },
          "autotypenumbers": "strict",
          "coloraxis": {
           "colorbar": {
            "outlinewidth": 0,
            "ticks": ""
           }
          },
          "colorscale": {
           "diverging": [
            [
             0,
             "#8e0152"
            ],
            [
             0.1,
             "#c51b7d"
            ],
            [
             0.2,
             "#de77ae"
            ],
            [
             0.3,
             "#f1b6da"
            ],
            [
             0.4,
             "#fde0ef"
            ],
            [
             0.5,
             "#f7f7f7"
            ],
            [
             0.6,
             "#e6f5d0"
            ],
            [
             0.7,
             "#b8e186"
            ],
            [
             0.8,
             "#7fbc41"
            ],
            [
             0.9,
             "#4d9221"
            ],
            [
             1,
             "#276419"
            ]
           ],
           "sequential": [
            [
             0,
             "#0d0887"
            ],
            [
             0.1111111111111111,
             "#46039f"
            ],
            [
             0.2222222222222222,
             "#7201a8"
            ],
            [
             0.3333333333333333,
             "#9c179e"
            ],
            [
             0.4444444444444444,
             "#bd3786"
            ],
            [
             0.5555555555555556,
             "#d8576b"
            ],
            [
             0.6666666666666666,
             "#ed7953"
            ],
            [
             0.7777777777777778,
             "#fb9f3a"
            ],
            [
             0.8888888888888888,
             "#fdca26"
            ],
            [
             1,
             "#f0f921"
            ]
           ],
           "sequentialminus": [
            [
             0,
             "#0d0887"
            ],
            [
             0.1111111111111111,
             "#46039f"
            ],
            [
             0.2222222222222222,
             "#7201a8"
            ],
            [
             0.3333333333333333,
             "#9c179e"
            ],
            [
             0.4444444444444444,
             "#bd3786"
            ],
            [
             0.5555555555555556,
             "#d8576b"
            ],
            [
             0.6666666666666666,
             "#ed7953"
            ],
            [
             0.7777777777777778,
             "#fb9f3a"
            ],
            [
             0.8888888888888888,
             "#fdca26"
            ],
            [
             1,
             "#f0f921"
            ]
           ]
          },
          "colorway": [
           "#636efa",
           "#EF553B",
           "#00cc96",
           "#ab63fa",
           "#FFA15A",
           "#19d3f3",
           "#FF6692",
           "#B6E880",
           "#FF97FF",
           "#FECB52"
          ],
          "font": {
           "color": "#2a3f5f"
          },
          "geo": {
           "bgcolor": "white",
           "lakecolor": "white",
           "landcolor": "#E5ECF6",
           "showlakes": true,
           "showland": true,
           "subunitcolor": "white"
          },
          "hoverlabel": {
           "align": "left"
          },
          "hovermode": "closest",
          "mapbox": {
           "style": "light"
          },
          "paper_bgcolor": "white",
          "plot_bgcolor": "#E5ECF6",
          "polar": {
           "angularaxis": {
            "gridcolor": "white",
            "linecolor": "white",
            "ticks": ""
           },
           "bgcolor": "#E5ECF6",
           "radialaxis": {
            "gridcolor": "white",
            "linecolor": "white",
            "ticks": ""
           }
          },
          "scene": {
           "xaxis": {
            "backgroundcolor": "#E5ECF6",
            "gridcolor": "white",
            "gridwidth": 2,
            "linecolor": "white",
            "showbackground": true,
            "ticks": "",
            "zerolinecolor": "white"
           },
           "yaxis": {
            "backgroundcolor": "#E5ECF6",
            "gridcolor": "white",
            "gridwidth": 2,
            "linecolor": "white",
            "showbackground": true,
            "ticks": "",
            "zerolinecolor": "white"
           },
           "zaxis": {
            "backgroundcolor": "#E5ECF6",
            "gridcolor": "white",
            "gridwidth": 2,
            "linecolor": "white",
            "showbackground": true,
            "ticks": "",
            "zerolinecolor": "white"
           }
          },
          "shapedefaults": {
           "line": {
            "color": "#2a3f5f"
           }
          },
          "ternary": {
           "aaxis": {
            "gridcolor": "white",
            "linecolor": "white",
            "ticks": ""
           },
           "baxis": {
            "gridcolor": "white",
            "linecolor": "white",
            "ticks": ""
           },
           "bgcolor": "#E5ECF6",
           "caxis": {
            "gridcolor": "white",
            "linecolor": "white",
            "ticks": ""
           }
          },
          "title": {
           "x": 0.05
          },
          "xaxis": {
           "automargin": true,
           "gridcolor": "white",
           "linecolor": "white",
           "ticks": "",
           "title": {
            "standoff": 15
           },
           "zerolinecolor": "white",
           "zerolinewidth": 2
          },
          "yaxis": {
           "automargin": true,
           "gridcolor": "white",
           "linecolor": "white",
           "ticks": "",
           "title": {
            "standoff": 15
           },
           "zerolinecolor": "white",
           "zerolinewidth": 2
          }
         }
        },
        "title": {
         "text": "Acidity by Altitude"
        },
        "width": 1200,
        "xaxis": {
         "anchor": "y",
         "domain": [
          0,
          1
         ],
         "title": {
          "text": "Altitude"
         }
        },
        "yaxis": {
         "anchor": "x",
         "domain": [
          0,
          1
         ],
         "title": {
          "text": "Acidity"
         }
        }
       }
      }
     },
     "metadata": {},
     "output_type": "display_data"
    },
    {
     "data": {
      "application/vnd.plotly.v1+json": {
       "config": {
        "plotlyServerURL": "https://plot.ly"
       },
       "data": [
        {
         "hovertemplate": "Altitude=%{x}<br>Body=%{y}<extra></extra>",
         "legendgroup": "",
         "marker": {
          "color": "rgb(104, 133, 92)",
          "symbol": "circle"
         },
         "mode": "markers",
         "name": "",
         "orientation": "v",
         "showlegend": false,
         "type": "scatter",
         "x": [
          1815,
          1200,
          1300,
          1900,
          1975,
          1668,
          1250,
          1200,
          1250,
          1550,
          2000,
          2000,
          1250,
          1950,
          1850,
          1100,
          2000,
          1300,
          1200,
          1585,
          1900,
          850,
          1600,
          1350,
          1250,
          1250,
          1300,
          1200,
          1060,
          600,
          200,
          200,
          668,
          1950,
          2250,
          1700,
          1200,
          650,
          1750,
          400,
          1000,
          800,
          1905,
          150,
          800,
          1600,
          1600,
          375,
          230,
          1200,
          1750,
          1654,
          1300,
          1400,
          1100,
          1200,
          1200,
          1600,
          1850,
          250,
          700,
          1350,
          1250,
          1450,
          650,
          1900,
          520,
          1368,
          1943,
          400,
          850,
          1350,
          1300,
          2361,
          1500,
          2100,
          1300,
          1600,
          1500,
          1368,
          1600,
          150,
          800,
          1550,
          1550,
          1800,
          1675,
          1800,
          1550,
          1550,
          1850,
          1900,
          1600,
          1350,
          1411,
          1400,
          2000,
          1700,
          500,
          1800,
          1200,
          1250,
          1400,
          300,
          1470,
          325,
          275,
          1600,
          1400,
          1700,
          1390,
          1700,
          1450,
          1650,
          1100,
          1905,
          250,
          1302.5,
          300,
          1100,
          750,
          1400,
          1550,
          950,
          1150,
          1390,
          1600,
          1400,
          250,
          340,
          1250,
          1368,
          1450,
          1650,
          275,
          1350,
          1350,
          1200,
          1280,
          1400,
          900,
          1200,
          1450,
          1700,
          1390,
          1200,
          1450,
          165,
          465,
          1350,
          1200,
          1200,
          1100,
          640,
          1340,
          1368,
          139,
          1275,
          1040,
          1200,
          1200,
          140,
          1600,
          1200,
          1725,
          1368,
          600,
          460,
          500,
          1000,
          1450,
          1350,
          1600,
          1400,
          300,
          1000,
          950,
          1574,
          1200,
          1200,
          300,
          435,
          1400,
          1400,
          700,
          1550,
          1200,
          1400,
          1100,
          1000,
          1600,
          1600,
          1300,
          1200,
          950,
          1200,
          1300,
          1200,
          975
         ],
         "xaxis": "x",
         "y": [
          8.25,
          7.92,
          7.92,
          8.17,
          7.92,
          7.83,
          7.83,
          7.92,
          7.92,
          8,
          7.92,
          8.25,
          8,
          8,
          8.08,
          8,
          7.75,
          7.92,
          7.83,
          8.17,
          7.75,
          8,
          8.08,
          7.75,
          8,
          8,
          7.83,
          7.58,
          7.75,
          7.67,
          7.75,
          7.83,
          7.67,
          8,
          7.67,
          8,
          7.83,
          7.67,
          7.92,
          7.75,
          7.92,
          7.75,
          7.75,
          7.58,
          7.67,
          7.92,
          7.75,
          7.75,
          7.67,
          7.83,
          7.58,
          7.83,
          7.83,
          7.75,
          7.67,
          7.83,
          7.67,
          7.92,
          7.83,
          7.75,
          7.67,
          7.83,
          7.67,
          7.67,
          7.58,
          7.75,
          7.75,
          7.75,
          7.58,
          7.5,
          7.75,
          7.83,
          7.5,
          8,
          7.67,
          7.83,
          7.67,
          7.83,
          7.58,
          7.75,
          7.75,
          7.58,
          7.75,
          7.75,
          7.67,
          7.75,
          7.75,
          7.67,
          7.67,
          7.67,
          7.67,
          7.67,
          7.67,
          7.75,
          7.67,
          7.67,
          7.5,
          7.92,
          7.58,
          7.67,
          7.83,
          7.5,
          7.58,
          7.5,
          7.67,
          7.75,
          7.58,
          7.58,
          7.58,
          7.83,
          7.67,
          7.92,
          7.58,
          7.58,
          7.75,
          7.67,
          7.5,
          7.67,
          7.42,
          7.5,
          7.58,
          7.58,
          7.67,
          7.67,
          7.42,
          7.58,
          7.5,
          7.5,
          7.5,
          7.58,
          7.58,
          7.58,
          7.58,
          7.58,
          7.5,
          7.58,
          7.58,
          7.42,
          7.58,
          7.58,
          7.67,
          7.75,
          7.75,
          7.33,
          7.67,
          7.5,
          7.58,
          7.42,
          7.5,
          7.5,
          7.83,
          7.42,
          7.67,
          7.5,
          7.67,
          7.58,
          7.58,
          7.5,
          7.5,
          7.42,
          7.83,
          7.33,
          7.33,
          7.33,
          7.25,
          7.5,
          7.25,
          7.42,
          7.25,
          7.58,
          7.5,
          7.42,
          7.33,
          7.58,
          7.42,
          7.33,
          7.33,
          7.42,
          7.5,
          7.42,
          7.33,
          7.33,
          7.5,
          7.33,
          7.42,
          7.17,
          7.17,
          7.08,
          7.08,
          7.42,
          7,
          7.17,
          7.42,
          7.17,
          7.42,
          7.42,
          7.08,
          7.08,
          6.83
         ],
         "yaxis": "y"
        }
       ],
       "layout": {
        "height": 600,
        "legend": {
         "tracegroupgap": 0
        },
        "paper_bgcolor": "rgba(0, 0, 0, 0)",
        "plot_bgcolor": "rgba(0, 0, 0, 0)",
        "template": {
         "data": {
          "bar": [
           {
            "error_x": {
             "color": "#2a3f5f"
            },
            "error_y": {
             "color": "#2a3f5f"
            },
            "marker": {
             "line": {
              "color": "#E5ECF6",
              "width": 0.5
             },
             "pattern": {
              "fillmode": "overlay",
              "size": 10,
              "solidity": 0.2
             }
            },
            "type": "bar"
           }
          ],
          "barpolar": [
           {
            "marker": {
             "line": {
              "color": "#E5ECF6",
              "width": 0.5
             },
             "pattern": {
              "fillmode": "overlay",
              "size": 10,
              "solidity": 0.2
             }
            },
            "type": "barpolar"
           }
          ],
          "carpet": [
           {
            "aaxis": {
             "endlinecolor": "#2a3f5f",
             "gridcolor": "white",
             "linecolor": "white",
             "minorgridcolor": "white",
             "startlinecolor": "#2a3f5f"
            },
            "baxis": {
             "endlinecolor": "#2a3f5f",
             "gridcolor": "white",
             "linecolor": "white",
             "minorgridcolor": "white",
             "startlinecolor": "#2a3f5f"
            },
            "type": "carpet"
           }
          ],
          "choropleth": [
           {
            "colorbar": {
             "outlinewidth": 0,
             "ticks": ""
            },
            "type": "choropleth"
           }
          ],
          "contour": [
           {
            "colorbar": {
             "outlinewidth": 0,
             "ticks": ""
            },
            "colorscale": [
             [
              0,
              "#0d0887"
             ],
             [
              0.1111111111111111,
              "#46039f"
             ],
             [
              0.2222222222222222,
              "#7201a8"
             ],
             [
              0.3333333333333333,
              "#9c179e"
             ],
             [
              0.4444444444444444,
              "#bd3786"
             ],
             [
              0.5555555555555556,
              "#d8576b"
             ],
             [
              0.6666666666666666,
              "#ed7953"
             ],
             [
              0.7777777777777778,
              "#fb9f3a"
             ],
             [
              0.8888888888888888,
              "#fdca26"
             ],
             [
              1,
              "#f0f921"
             ]
            ],
            "type": "contour"
           }
          ],
          "contourcarpet": [
           {
            "colorbar": {
             "outlinewidth": 0,
             "ticks": ""
            },
            "type": "contourcarpet"
           }
          ],
          "heatmap": [
           {
            "colorbar": {
             "outlinewidth": 0,
             "ticks": ""
            },
            "colorscale": [
             [
              0,
              "#0d0887"
             ],
             [
              0.1111111111111111,
              "#46039f"
             ],
             [
              0.2222222222222222,
              "#7201a8"
             ],
             [
              0.3333333333333333,
              "#9c179e"
             ],
             [
              0.4444444444444444,
              "#bd3786"
             ],
             [
              0.5555555555555556,
              "#d8576b"
             ],
             [
              0.6666666666666666,
              "#ed7953"
             ],
             [
              0.7777777777777778,
              "#fb9f3a"
             ],
             [
              0.8888888888888888,
              "#fdca26"
             ],
             [
              1,
              "#f0f921"
             ]
            ],
            "type": "heatmap"
           }
          ],
          "heatmapgl": [
           {
            "colorbar": {
             "outlinewidth": 0,
             "ticks": ""
            },
            "colorscale": [
             [
              0,
              "#0d0887"
             ],
             [
              0.1111111111111111,
              "#46039f"
             ],
             [
              0.2222222222222222,
              "#7201a8"
             ],
             [
              0.3333333333333333,
              "#9c179e"
             ],
             [
              0.4444444444444444,
              "#bd3786"
             ],
             [
              0.5555555555555556,
              "#d8576b"
             ],
             [
              0.6666666666666666,
              "#ed7953"
             ],
             [
              0.7777777777777778,
              "#fb9f3a"
             ],
             [
              0.8888888888888888,
              "#fdca26"
             ],
             [
              1,
              "#f0f921"
             ]
            ],
            "type": "heatmapgl"
           }
          ],
          "histogram": [
           {
            "marker": {
             "pattern": {
              "fillmode": "overlay",
              "size": 10,
              "solidity": 0.2
             }
            },
            "type": "histogram"
           }
          ],
          "histogram2d": [
           {
            "colorbar": {
             "outlinewidth": 0,
             "ticks": ""
            },
            "colorscale": [
             [
              0,
              "#0d0887"
             ],
             [
              0.1111111111111111,
              "#46039f"
             ],
             [
              0.2222222222222222,
              "#7201a8"
             ],
             [
              0.3333333333333333,
              "#9c179e"
             ],
             [
              0.4444444444444444,
              "#bd3786"
             ],
             [
              0.5555555555555556,
              "#d8576b"
             ],
             [
              0.6666666666666666,
              "#ed7953"
             ],
             [
              0.7777777777777778,
              "#fb9f3a"
             ],
             [
              0.8888888888888888,
              "#fdca26"
             ],
             [
              1,
              "#f0f921"
             ]
            ],
            "type": "histogram2d"
           }
          ],
          "histogram2dcontour": [
           {
            "colorbar": {
             "outlinewidth": 0,
             "ticks": ""
            },
            "colorscale": [
             [
              0,
              "#0d0887"
             ],
             [
              0.1111111111111111,
              "#46039f"
             ],
             [
              0.2222222222222222,
              "#7201a8"
             ],
             [
              0.3333333333333333,
              "#9c179e"
             ],
             [
              0.4444444444444444,
              "#bd3786"
             ],
             [
              0.5555555555555556,
              "#d8576b"
             ],
             [
              0.6666666666666666,
              "#ed7953"
             ],
             [
              0.7777777777777778,
              "#fb9f3a"
             ],
             [
              0.8888888888888888,
              "#fdca26"
             ],
             [
              1,
              "#f0f921"
             ]
            ],
            "type": "histogram2dcontour"
           }
          ],
          "mesh3d": [
           {
            "colorbar": {
             "outlinewidth": 0,
             "ticks": ""
            },
            "type": "mesh3d"
           }
          ],
          "parcoords": [
           {
            "line": {
             "colorbar": {
              "outlinewidth": 0,
              "ticks": ""
             }
            },
            "type": "parcoords"
           }
          ],
          "pie": [
           {
            "automargin": true,
            "type": "pie"
           }
          ],
          "scatter": [
           {
            "fillpattern": {
             "fillmode": "overlay",
             "size": 10,
             "solidity": 0.2
            },
            "type": "scatter"
           }
          ],
          "scatter3d": [
           {
            "line": {
             "colorbar": {
              "outlinewidth": 0,
              "ticks": ""
             }
            },
            "marker": {
             "colorbar": {
              "outlinewidth": 0,
              "ticks": ""
             }
            },
            "type": "scatter3d"
           }
          ],
          "scattercarpet": [
           {
            "marker": {
             "colorbar": {
              "outlinewidth": 0,
              "ticks": ""
             }
            },
            "type": "scattercarpet"
           }
          ],
          "scattergeo": [
           {
            "marker": {
             "colorbar": {
              "outlinewidth": 0,
              "ticks": ""
             }
            },
            "type": "scattergeo"
           }
          ],
          "scattergl": [
           {
            "marker": {
             "colorbar": {
              "outlinewidth": 0,
              "ticks": ""
             }
            },
            "type": "scattergl"
           }
          ],
          "scattermapbox": [
           {
            "marker": {
             "colorbar": {
              "outlinewidth": 0,
              "ticks": ""
             }
            },
            "type": "scattermapbox"
           }
          ],
          "scatterpolar": [
           {
            "marker": {
             "colorbar": {
              "outlinewidth": 0,
              "ticks": ""
             }
            },
            "type": "scatterpolar"
           }
          ],
          "scatterpolargl": [
           {
            "marker": {
             "colorbar": {
              "outlinewidth": 0,
              "ticks": ""
             }
            },
            "type": "scatterpolargl"
           }
          ],
          "scatterternary": [
           {
            "marker": {
             "colorbar": {
              "outlinewidth": 0,
              "ticks": ""
             }
            },
            "type": "scatterternary"
           }
          ],
          "surface": [
           {
            "colorbar": {
             "outlinewidth": 0,
             "ticks": ""
            },
            "colorscale": [
             [
              0,
              "#0d0887"
             ],
             [
              0.1111111111111111,
              "#46039f"
             ],
             [
              0.2222222222222222,
              "#7201a8"
             ],
             [
              0.3333333333333333,
              "#9c179e"
             ],
             [
              0.4444444444444444,
              "#bd3786"
             ],
             [
              0.5555555555555556,
              "#d8576b"
             ],
             [
              0.6666666666666666,
              "#ed7953"
             ],
             [
              0.7777777777777778,
              "#fb9f3a"
             ],
             [
              0.8888888888888888,
              "#fdca26"
             ],
             [
              1,
              "#f0f921"
             ]
            ],
            "type": "surface"
           }
          ],
          "table": [
           {
            "cells": {
             "fill": {
              "color": "#EBF0F8"
             },
             "line": {
              "color": "white"
             }
            },
            "header": {
             "fill": {
              "color": "#C8D4E3"
             },
             "line": {
              "color": "white"
             }
            },
            "type": "table"
           }
          ]
         },
         "layout": {
          "annotationdefaults": {
           "arrowcolor": "#2a3f5f",
           "arrowhead": 0,
           "arrowwidth": 1
          },
          "autotypenumbers": "strict",
          "coloraxis": {
           "colorbar": {
            "outlinewidth": 0,
            "ticks": ""
           }
          },
          "colorscale": {
           "diverging": [
            [
             0,
             "#8e0152"
            ],
            [
             0.1,
             "#c51b7d"
            ],
            [
             0.2,
             "#de77ae"
            ],
            [
             0.3,
             "#f1b6da"
            ],
            [
             0.4,
             "#fde0ef"
            ],
            [
             0.5,
             "#f7f7f7"
            ],
            [
             0.6,
             "#e6f5d0"
            ],
            [
             0.7,
             "#b8e186"
            ],
            [
             0.8,
             "#7fbc41"
            ],
            [
             0.9,
             "#4d9221"
            ],
            [
             1,
             "#276419"
            ]
           ],
           "sequential": [
            [
             0,
             "#0d0887"
            ],
            [
             0.1111111111111111,
             "#46039f"
            ],
            [
             0.2222222222222222,
             "#7201a8"
            ],
            [
             0.3333333333333333,
             "#9c179e"
            ],
            [
             0.4444444444444444,
             "#bd3786"
            ],
            [
             0.5555555555555556,
             "#d8576b"
            ],
            [
             0.6666666666666666,
             "#ed7953"
            ],
            [
             0.7777777777777778,
             "#fb9f3a"
            ],
            [
             0.8888888888888888,
             "#fdca26"
            ],
            [
             1,
             "#f0f921"
            ]
           ],
           "sequentialminus": [
            [
             0,
             "#0d0887"
            ],
            [
             0.1111111111111111,
             "#46039f"
            ],
            [
             0.2222222222222222,
             "#7201a8"
            ],
            [
             0.3333333333333333,
             "#9c179e"
            ],
            [
             0.4444444444444444,
             "#bd3786"
            ],
            [
             0.5555555555555556,
             "#d8576b"
            ],
            [
             0.6666666666666666,
             "#ed7953"
            ],
            [
             0.7777777777777778,
             "#fb9f3a"
            ],
            [
             0.8888888888888888,
             "#fdca26"
            ],
            [
             1,
             "#f0f921"
            ]
           ]
          },
          "colorway": [
           "#636efa",
           "#EF553B",
           "#00cc96",
           "#ab63fa",
           "#FFA15A",
           "#19d3f3",
           "#FF6692",
           "#B6E880",
           "#FF97FF",
           "#FECB52"
          ],
          "font": {
           "color": "#2a3f5f"
          },
          "geo": {
           "bgcolor": "white",
           "lakecolor": "white",
           "landcolor": "#E5ECF6",
           "showlakes": true,
           "showland": true,
           "subunitcolor": "white"
          },
          "hoverlabel": {
           "align": "left"
          },
          "hovermode": "closest",
          "mapbox": {
           "style": "light"
          },
          "paper_bgcolor": "white",
          "plot_bgcolor": "#E5ECF6",
          "polar": {
           "angularaxis": {
            "gridcolor": "white",
            "linecolor": "white",
            "ticks": ""
           },
           "bgcolor": "#E5ECF6",
           "radialaxis": {
            "gridcolor": "white",
            "linecolor": "white",
            "ticks": ""
           }
          },
          "scene": {
           "xaxis": {
            "backgroundcolor": "#E5ECF6",
            "gridcolor": "white",
            "gridwidth": 2,
            "linecolor": "white",
            "showbackground": true,
            "ticks": "",
            "zerolinecolor": "white"
           },
           "yaxis": {
            "backgroundcolor": "#E5ECF6",
            "gridcolor": "white",
            "gridwidth": 2,
            "linecolor": "white",
            "showbackground": true,
            "ticks": "",
            "zerolinecolor": "white"
           },
           "zaxis": {
            "backgroundcolor": "#E5ECF6",
            "gridcolor": "white",
            "gridwidth": 2,
            "linecolor": "white",
            "showbackground": true,
            "ticks": "",
            "zerolinecolor": "white"
           }
          },
          "shapedefaults": {
           "line": {
            "color": "#2a3f5f"
           }
          },
          "ternary": {
           "aaxis": {
            "gridcolor": "white",
            "linecolor": "white",
            "ticks": ""
           },
           "baxis": {
            "gridcolor": "white",
            "linecolor": "white",
            "ticks": ""
           },
           "bgcolor": "#E5ECF6",
           "caxis": {
            "gridcolor": "white",
            "linecolor": "white",
            "ticks": ""
           }
          },
          "title": {
           "x": 0.05
          },
          "xaxis": {
           "automargin": true,
           "gridcolor": "white",
           "linecolor": "white",
           "ticks": "",
           "title": {
            "standoff": 15
           },
           "zerolinecolor": "white",
           "zerolinewidth": 2
          },
          "yaxis": {
           "automargin": true,
           "gridcolor": "white",
           "linecolor": "white",
           "ticks": "",
           "title": {
            "standoff": 15
           },
           "zerolinecolor": "white",
           "zerolinewidth": 2
          }
         }
        },
        "title": {
         "text": "Body by Altitude"
        },
        "width": 1200,
        "xaxis": {
         "anchor": "y",
         "domain": [
          0,
          1
         ],
         "title": {
          "text": "Altitude"
         }
        },
        "yaxis": {
         "anchor": "x",
         "domain": [
          0,
          1
         ],
         "title": {
          "text": "Body"
         }
        }
       }
      }
     },
     "metadata": {},
     "output_type": "display_data"
    },
    {
     "data": {
      "application/vnd.plotly.v1+json": {
       "config": {
        "plotlyServerURL": "https://plot.ly"
       },
       "data": [
        {
         "hovertemplate": "Altitude=%{x}<br>Balance=%{y}<extra></extra>",
         "legendgroup": "",
         "marker": {
          "color": "rgb(104, 133, 92)",
          "symbol": "circle"
         },
         "mode": "markers",
         "name": "",
         "orientation": "v",
         "showlegend": false,
         "type": "scatter",
         "x": [
          1815,
          1200,
          1300,
          1900,
          1975,
          1668,
          1250,
          1200,
          1250,
          1550,
          2000,
          2000,
          1250,
          1950,
          1850,
          1100,
          2000,
          1300,
          1200,
          1585,
          1900,
          850,
          1600,
          1350,
          1250,
          1250,
          1300,
          1200,
          1060,
          600,
          200,
          200,
          668,
          1950,
          2250,
          1700,
          1200,
          650,
          1750,
          400,
          1000,
          800,
          1905,
          150,
          800,
          1600,
          1600,
          375,
          230,
          1200,
          1750,
          1654,
          1300,
          1400,
          1100,
          1200,
          1200,
          1600,
          1850,
          250,
          700,
          1350,
          1250,
          1450,
          650,
          1900,
          520,
          1368,
          1943,
          400,
          850,
          1350,
          1300,
          2361,
          1500,
          2100,
          1300,
          1600,
          1500,
          1368,
          1600,
          150,
          800,
          1550,
          1550,
          1800,
          1675,
          1800,
          1550,
          1550,
          1850,
          1900,
          1600,
          1350,
          1411,
          1400,
          2000,
          1700,
          500,
          1800,
          1200,
          1250,
          1400,
          300,
          1470,
          325,
          275,
          1600,
          1400,
          1700,
          1390,
          1700,
          1450,
          1650,
          1100,
          1905,
          250,
          1302.5,
          300,
          1100,
          750,
          1400,
          1550,
          950,
          1150,
          1390,
          1600,
          1400,
          250,
          340,
          1250,
          1368,
          1450,
          1650,
          275,
          1350,
          1350,
          1200,
          1280,
          1400,
          900,
          1200,
          1450,
          1700,
          1390,
          1200,
          1450,
          165,
          465,
          1350,
          1200,
          1200,
          1100,
          640,
          1340,
          1368,
          139,
          1275,
          1040,
          1200,
          1200,
          140,
          1600,
          1200,
          1725,
          1368,
          600,
          460,
          500,
          1000,
          1450,
          1350,
          1600,
          1400,
          300,
          1000,
          950,
          1574,
          1200,
          1200,
          300,
          435,
          1400,
          1400,
          700,
          1550,
          1200,
          1400,
          1100,
          1000,
          1600,
          1600,
          1300,
          1200,
          950,
          1200,
          1300,
          1200,
          975
         ],
         "xaxis": "x",
         "y": [
          8.42,
          8.25,
          8.17,
          8.08,
          7.92,
          8.17,
          8.25,
          8.08,
          8,
          8,
          7.92,
          8.17,
          8,
          8,
          8,
          7.92,
          7.92,
          7.92,
          8,
          7.75,
          8,
          7.83,
          8,
          7.83,
          7.92,
          7.83,
          7.92,
          7.83,
          7.92,
          8,
          7.92,
          7.83,
          7.92,
          8,
          7.75,
          7.75,
          7.83,
          7.75,
          8,
          7.75,
          7.83,
          7.83,
          7.92,
          7.75,
          7.75,
          7.83,
          7.75,
          7.83,
          7.75,
          7.83,
          7.83,
          7.83,
          8,
          7.83,
          7.83,
          7.75,
          7.75,
          7.67,
          7.67,
          7.75,
          7.67,
          7.75,
          7.75,
          7.75,
          7.83,
          7.75,
          7.75,
          7.75,
          7.67,
          7.58,
          7.75,
          7.75,
          7.67,
          7.5,
          7.67,
          7.67,
          7.75,
          7.75,
          7.67,
          7.75,
          7.67,
          7.67,
          8,
          7.67,
          7.58,
          7.67,
          7.75,
          7.67,
          7.75,
          7.67,
          7.58,
          7.58,
          7.75,
          7.67,
          7.67,
          7.67,
          7.67,
          7.67,
          7.75,
          7.67,
          7.58,
          7.67,
          7.58,
          7.67,
          7.67,
          7.67,
          7.67,
          7.58,
          7.67,
          7.5,
          7.75,
          7.67,
          7.67,
          7.58,
          7.83,
          7.5,
          7.58,
          7.58,
          7.58,
          7.75,
          7.5,
          7.5,
          7.58,
          7.5,
          7.5,
          7.58,
          7.58,
          7.58,
          7.42,
          7.5,
          7.5,
          7.5,
          7.5,
          7.42,
          7.5,
          7.5,
          7.5,
          7.58,
          7.5,
          7.67,
          7.75,
          8.17,
          7.58,
          7.5,
          7.67,
          7.58,
          7.5,
          7.5,
          7.5,
          7.58,
          7.5,
          7.42,
          7.42,
          7.58,
          7.42,
          7.42,
          7.5,
          7.5,
          7.42,
          7.67,
          7.42,
          7.42,
          7.42,
          7.5,
          7.5,
          7.33,
          7.33,
          7.5,
          7.42,
          7.5,
          7.42,
          7.25,
          7.33,
          7.42,
          7.42,
          7.33,
          7.25,
          7.42,
          7.33,
          7.33,
          7.33,
          7.25,
          7.42,
          7.33,
          7.42,
          7.33,
          7.25,
          7,
          7.25,
          7.17,
          7.17,
          7.08,
          7.08,
          7.17,
          7.17,
          7.17,
          7.08,
          7,
          6.67
         ],
         "yaxis": "y"
        }
       ],
       "layout": {
        "height": 600,
        "legend": {
         "tracegroupgap": 0
        },
        "paper_bgcolor": "rgba(0, 0, 0, 0)",
        "plot_bgcolor": "rgba(0, 0, 0, 0)",
        "template": {
         "data": {
          "bar": [
           {
            "error_x": {
             "color": "#2a3f5f"
            },
            "error_y": {
             "color": "#2a3f5f"
            },
            "marker": {
             "line": {
              "color": "#E5ECF6",
              "width": 0.5
             },
             "pattern": {
              "fillmode": "overlay",
              "size": 10,
              "solidity": 0.2
             }
            },
            "type": "bar"
           }
          ],
          "barpolar": [
           {
            "marker": {
             "line": {
              "color": "#E5ECF6",
              "width": 0.5
             },
             "pattern": {
              "fillmode": "overlay",
              "size": 10,
              "solidity": 0.2
             }
            },
            "type": "barpolar"
           }
          ],
          "carpet": [
           {
            "aaxis": {
             "endlinecolor": "#2a3f5f",
             "gridcolor": "white",
             "linecolor": "white",
             "minorgridcolor": "white",
             "startlinecolor": "#2a3f5f"
            },
            "baxis": {
             "endlinecolor": "#2a3f5f",
             "gridcolor": "white",
             "linecolor": "white",
             "minorgridcolor": "white",
             "startlinecolor": "#2a3f5f"
            },
            "type": "carpet"
           }
          ],
          "choropleth": [
           {
            "colorbar": {
             "outlinewidth": 0,
             "ticks": ""
            },
            "type": "choropleth"
           }
          ],
          "contour": [
           {
            "colorbar": {
             "outlinewidth": 0,
             "ticks": ""
            },
            "colorscale": [
             [
              0,
              "#0d0887"
             ],
             [
              0.1111111111111111,
              "#46039f"
             ],
             [
              0.2222222222222222,
              "#7201a8"
             ],
             [
              0.3333333333333333,
              "#9c179e"
             ],
             [
              0.4444444444444444,
              "#bd3786"
             ],
             [
              0.5555555555555556,
              "#d8576b"
             ],
             [
              0.6666666666666666,
              "#ed7953"
             ],
             [
              0.7777777777777778,
              "#fb9f3a"
             ],
             [
              0.8888888888888888,
              "#fdca26"
             ],
             [
              1,
              "#f0f921"
             ]
            ],
            "type": "contour"
           }
          ],
          "contourcarpet": [
           {
            "colorbar": {
             "outlinewidth": 0,
             "ticks": ""
            },
            "type": "contourcarpet"
           }
          ],
          "heatmap": [
           {
            "colorbar": {
             "outlinewidth": 0,
             "ticks": ""
            },
            "colorscale": [
             [
              0,
              "#0d0887"
             ],
             [
              0.1111111111111111,
              "#46039f"
             ],
             [
              0.2222222222222222,
              "#7201a8"
             ],
             [
              0.3333333333333333,
              "#9c179e"
             ],
             [
              0.4444444444444444,
              "#bd3786"
             ],
             [
              0.5555555555555556,
              "#d8576b"
             ],
             [
              0.6666666666666666,
              "#ed7953"
             ],
             [
              0.7777777777777778,
              "#fb9f3a"
             ],
             [
              0.8888888888888888,
              "#fdca26"
             ],
             [
              1,
              "#f0f921"
             ]
            ],
            "type": "heatmap"
           }
          ],
          "heatmapgl": [
           {
            "colorbar": {
             "outlinewidth": 0,
             "ticks": ""
            },
            "colorscale": [
             [
              0,
              "#0d0887"
             ],
             [
              0.1111111111111111,
              "#46039f"
             ],
             [
              0.2222222222222222,
              "#7201a8"
             ],
             [
              0.3333333333333333,
              "#9c179e"
             ],
             [
              0.4444444444444444,
              "#bd3786"
             ],
             [
              0.5555555555555556,
              "#d8576b"
             ],
             [
              0.6666666666666666,
              "#ed7953"
             ],
             [
              0.7777777777777778,
              "#fb9f3a"
             ],
             [
              0.8888888888888888,
              "#fdca26"
             ],
             [
              1,
              "#f0f921"
             ]
            ],
            "type": "heatmapgl"
           }
          ],
          "histogram": [
           {
            "marker": {
             "pattern": {
              "fillmode": "overlay",
              "size": 10,
              "solidity": 0.2
             }
            },
            "type": "histogram"
           }
          ],
          "histogram2d": [
           {
            "colorbar": {
             "outlinewidth": 0,
             "ticks": ""
            },
            "colorscale": [
             [
              0,
              "#0d0887"
             ],
             [
              0.1111111111111111,
              "#46039f"
             ],
             [
              0.2222222222222222,
              "#7201a8"
             ],
             [
              0.3333333333333333,
              "#9c179e"
             ],
             [
              0.4444444444444444,
              "#bd3786"
             ],
             [
              0.5555555555555556,
              "#d8576b"
             ],
             [
              0.6666666666666666,
              "#ed7953"
             ],
             [
              0.7777777777777778,
              "#fb9f3a"
             ],
             [
              0.8888888888888888,
              "#fdca26"
             ],
             [
              1,
              "#f0f921"
             ]
            ],
            "type": "histogram2d"
           }
          ],
          "histogram2dcontour": [
           {
            "colorbar": {
             "outlinewidth": 0,
             "ticks": ""
            },
            "colorscale": [
             [
              0,
              "#0d0887"
             ],
             [
              0.1111111111111111,
              "#46039f"
             ],
             [
              0.2222222222222222,
              "#7201a8"
             ],
             [
              0.3333333333333333,
              "#9c179e"
             ],
             [
              0.4444444444444444,
              "#bd3786"
             ],
             [
              0.5555555555555556,
              "#d8576b"
             ],
             [
              0.6666666666666666,
              "#ed7953"
             ],
             [
              0.7777777777777778,
              "#fb9f3a"
             ],
             [
              0.8888888888888888,
              "#fdca26"
             ],
             [
              1,
              "#f0f921"
             ]
            ],
            "type": "histogram2dcontour"
           }
          ],
          "mesh3d": [
           {
            "colorbar": {
             "outlinewidth": 0,
             "ticks": ""
            },
            "type": "mesh3d"
           }
          ],
          "parcoords": [
           {
            "line": {
             "colorbar": {
              "outlinewidth": 0,
              "ticks": ""
             }
            },
            "type": "parcoords"
           }
          ],
          "pie": [
           {
            "automargin": true,
            "type": "pie"
           }
          ],
          "scatter": [
           {
            "fillpattern": {
             "fillmode": "overlay",
             "size": 10,
             "solidity": 0.2
            },
            "type": "scatter"
           }
          ],
          "scatter3d": [
           {
            "line": {
             "colorbar": {
              "outlinewidth": 0,
              "ticks": ""
             }
            },
            "marker": {
             "colorbar": {
              "outlinewidth": 0,
              "ticks": ""
             }
            },
            "type": "scatter3d"
           }
          ],
          "scattercarpet": [
           {
            "marker": {
             "colorbar": {
              "outlinewidth": 0,
              "ticks": ""
             }
            },
            "type": "scattercarpet"
           }
          ],
          "scattergeo": [
           {
            "marker": {
             "colorbar": {
              "outlinewidth": 0,
              "ticks": ""
             }
            },
            "type": "scattergeo"
           }
          ],
          "scattergl": [
           {
            "marker": {
             "colorbar": {
              "outlinewidth": 0,
              "ticks": ""
             }
            },
            "type": "scattergl"
           }
          ],
          "scattermapbox": [
           {
            "marker": {
             "colorbar": {
              "outlinewidth": 0,
              "ticks": ""
             }
            },
            "type": "scattermapbox"
           }
          ],
          "scatterpolar": [
           {
            "marker": {
             "colorbar": {
              "outlinewidth": 0,
              "ticks": ""
             }
            },
            "type": "scatterpolar"
           }
          ],
          "scatterpolargl": [
           {
            "marker": {
             "colorbar": {
              "outlinewidth": 0,
              "ticks": ""
             }
            },
            "type": "scatterpolargl"
           }
          ],
          "scatterternary": [
           {
            "marker": {
             "colorbar": {
              "outlinewidth": 0,
              "ticks": ""
             }
            },
            "type": "scatterternary"
           }
          ],
          "surface": [
           {
            "colorbar": {
             "outlinewidth": 0,
             "ticks": ""
            },
            "colorscale": [
             [
              0,
              "#0d0887"
             ],
             [
              0.1111111111111111,
              "#46039f"
             ],
             [
              0.2222222222222222,
              "#7201a8"
             ],
             [
              0.3333333333333333,
              "#9c179e"
             ],
             [
              0.4444444444444444,
              "#bd3786"
             ],
             [
              0.5555555555555556,
              "#d8576b"
             ],
             [
              0.6666666666666666,
              "#ed7953"
             ],
             [
              0.7777777777777778,
              "#fb9f3a"
             ],
             [
              0.8888888888888888,
              "#fdca26"
             ],
             [
              1,
              "#f0f921"
             ]
            ],
            "type": "surface"
           }
          ],
          "table": [
           {
            "cells": {
             "fill": {
              "color": "#EBF0F8"
             },
             "line": {
              "color": "white"
             }
            },
            "header": {
             "fill": {
              "color": "#C8D4E3"
             },
             "line": {
              "color": "white"
             }
            },
            "type": "table"
           }
          ]
         },
         "layout": {
          "annotationdefaults": {
           "arrowcolor": "#2a3f5f",
           "arrowhead": 0,
           "arrowwidth": 1
          },
          "autotypenumbers": "strict",
          "coloraxis": {
           "colorbar": {
            "outlinewidth": 0,
            "ticks": ""
           }
          },
          "colorscale": {
           "diverging": [
            [
             0,
             "#8e0152"
            ],
            [
             0.1,
             "#c51b7d"
            ],
            [
             0.2,
             "#de77ae"
            ],
            [
             0.3,
             "#f1b6da"
            ],
            [
             0.4,
             "#fde0ef"
            ],
            [
             0.5,
             "#f7f7f7"
            ],
            [
             0.6,
             "#e6f5d0"
            ],
            [
             0.7,
             "#b8e186"
            ],
            [
             0.8,
             "#7fbc41"
            ],
            [
             0.9,
             "#4d9221"
            ],
            [
             1,
             "#276419"
            ]
           ],
           "sequential": [
            [
             0,
             "#0d0887"
            ],
            [
             0.1111111111111111,
             "#46039f"
            ],
            [
             0.2222222222222222,
             "#7201a8"
            ],
            [
             0.3333333333333333,
             "#9c179e"
            ],
            [
             0.4444444444444444,
             "#bd3786"
            ],
            [
             0.5555555555555556,
             "#d8576b"
            ],
            [
             0.6666666666666666,
             "#ed7953"
            ],
            [
             0.7777777777777778,
             "#fb9f3a"
            ],
            [
             0.8888888888888888,
             "#fdca26"
            ],
            [
             1,
             "#f0f921"
            ]
           ],
           "sequentialminus": [
            [
             0,
             "#0d0887"
            ],
            [
             0.1111111111111111,
             "#46039f"
            ],
            [
             0.2222222222222222,
             "#7201a8"
            ],
            [
             0.3333333333333333,
             "#9c179e"
            ],
            [
             0.4444444444444444,
             "#bd3786"
            ],
            [
             0.5555555555555556,
             "#d8576b"
            ],
            [
             0.6666666666666666,
             "#ed7953"
            ],
            [
             0.7777777777777778,
             "#fb9f3a"
            ],
            [
             0.8888888888888888,
             "#fdca26"
            ],
            [
             1,
             "#f0f921"
            ]
           ]
          },
          "colorway": [
           "#636efa",
           "#EF553B",
           "#00cc96",
           "#ab63fa",
           "#FFA15A",
           "#19d3f3",
           "#FF6692",
           "#B6E880",
           "#FF97FF",
           "#FECB52"
          ],
          "font": {
           "color": "#2a3f5f"
          },
          "geo": {
           "bgcolor": "white",
           "lakecolor": "white",
           "landcolor": "#E5ECF6",
           "showlakes": true,
           "showland": true,
           "subunitcolor": "white"
          },
          "hoverlabel": {
           "align": "left"
          },
          "hovermode": "closest",
          "mapbox": {
           "style": "light"
          },
          "paper_bgcolor": "white",
          "plot_bgcolor": "#E5ECF6",
          "polar": {
           "angularaxis": {
            "gridcolor": "white",
            "linecolor": "white",
            "ticks": ""
           },
           "bgcolor": "#E5ECF6",
           "radialaxis": {
            "gridcolor": "white",
            "linecolor": "white",
            "ticks": ""
           }
          },
          "scene": {
           "xaxis": {
            "backgroundcolor": "#E5ECF6",
            "gridcolor": "white",
            "gridwidth": 2,
            "linecolor": "white",
            "showbackground": true,
            "ticks": "",
            "zerolinecolor": "white"
           },
           "yaxis": {
            "backgroundcolor": "#E5ECF6",
            "gridcolor": "white",
            "gridwidth": 2,
            "linecolor": "white",
            "showbackground": true,
            "ticks": "",
            "zerolinecolor": "white"
           },
           "zaxis": {
            "backgroundcolor": "#E5ECF6",
            "gridcolor": "white",
            "gridwidth": 2,
            "linecolor": "white",
            "showbackground": true,
            "ticks": "",
            "zerolinecolor": "white"
           }
          },
          "shapedefaults": {
           "line": {
            "color": "#2a3f5f"
           }
          },
          "ternary": {
           "aaxis": {
            "gridcolor": "white",
            "linecolor": "white",
            "ticks": ""
           },
           "baxis": {
            "gridcolor": "white",
            "linecolor": "white",
            "ticks": ""
           },
           "bgcolor": "#E5ECF6",
           "caxis": {
            "gridcolor": "white",
            "linecolor": "white",
            "ticks": ""
           }
          },
          "title": {
           "x": 0.05
          },
          "xaxis": {
           "automargin": true,
           "gridcolor": "white",
           "linecolor": "white",
           "ticks": "",
           "title": {
            "standoff": 15
           },
           "zerolinecolor": "white",
           "zerolinewidth": 2
          },
          "yaxis": {
           "automargin": true,
           "gridcolor": "white",
           "linecolor": "white",
           "ticks": "",
           "title": {
            "standoff": 15
           },
           "zerolinecolor": "white",
           "zerolinewidth": 2
          }
         }
        },
        "title": {
         "text": "Balance by Altitude"
        },
        "width": 1200,
        "xaxis": {
         "anchor": "y",
         "domain": [
          0,
          1
         ],
         "title": {
          "text": "Altitude"
         }
        },
        "yaxis": {
         "anchor": "x",
         "domain": [
          0,
          1
         ],
         "title": {
          "text": "Balance"
         }
        }
       }
      }
     },
     "metadata": {},
     "output_type": "display_data"
    },
    {
     "data": {
      "application/vnd.plotly.v1+json": {
       "config": {
        "plotlyServerURL": "https://plot.ly"
       },
       "data": [
        {
         "hovertemplate": "Altitude=%{x}<br>Overall=%{y}<extra></extra>",
         "legendgroup": "",
         "marker": {
          "color": "rgb(104, 133, 92)",
          "symbol": "circle"
         },
         "mode": "markers",
         "name": "",
         "orientation": "v",
         "showlegend": false,
         "type": "scatter",
         "x": [
          1815,
          1200,
          1300,
          1900,
          1975,
          1668,
          1250,
          1200,
          1250,
          1550,
          2000,
          2000,
          1250,
          1950,
          1850,
          1100,
          2000,
          1300,
          1200,
          1585,
          1900,
          850,
          1600,
          1350,
          1250,
          1250,
          1300,
          1200,
          1060,
          600,
          200,
          200,
          668,
          1950,
          2250,
          1700,
          1200,
          650,
          1750,
          400,
          1000,
          800,
          1905,
          150,
          800,
          1600,
          1600,
          375,
          230,
          1200,
          1750,
          1654,
          1300,
          1400,
          1100,
          1200,
          1200,
          1600,
          1850,
          250,
          700,
          1350,
          1250,
          1450,
          650,
          1900,
          520,
          1368,
          1943,
          400,
          850,
          1350,
          1300,
          2361,
          1500,
          2100,
          1300,
          1600,
          1500,
          1368,
          1600,
          150,
          800,
          1550,
          1550,
          1800,
          1675,
          1800,
          1550,
          1550,
          1850,
          1900,
          1600,
          1350,
          1411,
          1400,
          2000,
          1700,
          500,
          1800,
          1200,
          1250,
          1400,
          300,
          1470,
          325,
          275,
          1600,
          1400,
          1700,
          1390,
          1700,
          1450,
          1650,
          1100,
          1905,
          250,
          1302.5,
          300,
          1100,
          750,
          1400,
          1550,
          950,
          1150,
          1390,
          1600,
          1400,
          250,
          340,
          1250,
          1368,
          1450,
          1650,
          275,
          1350,
          1350,
          1200,
          1280,
          1400,
          900,
          1200,
          1450,
          1700,
          1390,
          1200,
          1450,
          165,
          465,
          1350,
          1200,
          1200,
          1100,
          640,
          1340,
          1368,
          139,
          1275,
          1040,
          1200,
          1200,
          140,
          1600,
          1200,
          1725,
          1368,
          600,
          460,
          500,
          1000,
          1450,
          1350,
          1600,
          1400,
          300,
          1000,
          950,
          1574,
          1200,
          1200,
          300,
          435,
          1400,
          1400,
          700,
          1550,
          1200,
          1400,
          1100,
          1000,
          1600,
          1600,
          1300,
          1200,
          950,
          1200,
          1300,
          1200,
          975
         ],
         "xaxis": "x",
         "y": [
          8.58,
          8.5,
          8.33,
          8.25,
          8.25,
          8.25,
          8.25,
          8.08,
          8.25,
          8,
          8,
          8,
          8,
          8,
          8,
          8,
          8.08,
          8.17,
          8.17,
          7.92,
          8.08,
          7.92,
          8.08,
          8,
          7.92,
          8,
          8,
          7.92,
          7.92,
          8,
          8.08,
          8,
          8,
          8,
          7.83,
          7.83,
          7.92,
          7.92,
          8,
          7.92,
          7.83,
          7.92,
          7.92,
          7.83,
          7.83,
          7.83,
          7.92,
          7.83,
          7.92,
          7.83,
          7.75,
          7.83,
          8,
          7.83,
          7.83,
          7.83,
          7.75,
          7.92,
          8.58,
          7.92,
          7.75,
          8,
          7.92,
          7.92,
          7.92,
          7.92,
          7.75,
          7.75,
          7.83,
          7.83,
          7.83,
          7.75,
          7.75,
          7.75,
          7.67,
          7.83,
          7.83,
          7.75,
          7.83,
          7.75,
          7.75,
          7.67,
          7.92,
          7.67,
          7.75,
          7.67,
          7.75,
          7.75,
          7.75,
          7.67,
          7.75,
          7.75,
          7.75,
          7.75,
          7.67,
          7.75,
          7.75,
          7.58,
          7.75,
          7.58,
          7.75,
          7.67,
          7.58,
          7.67,
          7.67,
          7.67,
          7.67,
          7.75,
          7.67,
          7.58,
          7.58,
          7.67,
          7.67,
          7.75,
          7.92,
          7.67,
          7.75,
          7.5,
          7.75,
          7.58,
          7.5,
          7.33,
          7.5,
          7.67,
          7.58,
          7.5,
          7.5,
          7.67,
          7.5,
          7.67,
          7.58,
          7.58,
          7.5,
          7.33,
          7.58,
          7.5,
          7.58,
          7.58,
          7.5,
          7.42,
          7.33,
          7.33,
          7.42,
          7.5,
          7.33,
          7.58,
          7.5,
          7.5,
          7.5,
          7.42,
          7.33,
          7.42,
          7.33,
          7.5,
          7.33,
          7.5,
          7.58,
          7.42,
          7.58,
          7.42,
          7.17,
          7.42,
          7.42,
          7.33,
          7.5,
          7.42,
          7.5,
          7.5,
          7.42,
          7.42,
          7.5,
          7.42,
          7.42,
          7.42,
          7.42,
          7.42,
          7.33,
          7.33,
          7.33,
          7.42,
          7.33,
          7.33,
          7.17,
          7.25,
          7.17,
          7.33,
          7.25,
          7.17,
          7.17,
          7.17,
          7.25,
          7,
          7,
          7.17,
          7.08,
          7.08,
          7,
          6.83,
          6.67
         ],
         "yaxis": "y"
        }
       ],
       "layout": {
        "height": 600,
        "legend": {
         "tracegroupgap": 0
        },
        "paper_bgcolor": "rgba(0, 0, 0, 0)",
        "plot_bgcolor": "rgba(0, 0, 0, 0)",
        "template": {
         "data": {
          "bar": [
           {
            "error_x": {
             "color": "#2a3f5f"
            },
            "error_y": {
             "color": "#2a3f5f"
            },
            "marker": {
             "line": {
              "color": "#E5ECF6",
              "width": 0.5
             },
             "pattern": {
              "fillmode": "overlay",
              "size": 10,
              "solidity": 0.2
             }
            },
            "type": "bar"
           }
          ],
          "barpolar": [
           {
            "marker": {
             "line": {
              "color": "#E5ECF6",
              "width": 0.5
             },
             "pattern": {
              "fillmode": "overlay",
              "size": 10,
              "solidity": 0.2
             }
            },
            "type": "barpolar"
           }
          ],
          "carpet": [
           {
            "aaxis": {
             "endlinecolor": "#2a3f5f",
             "gridcolor": "white",
             "linecolor": "white",
             "minorgridcolor": "white",
             "startlinecolor": "#2a3f5f"
            },
            "baxis": {
             "endlinecolor": "#2a3f5f",
             "gridcolor": "white",
             "linecolor": "white",
             "minorgridcolor": "white",
             "startlinecolor": "#2a3f5f"
            },
            "type": "carpet"
           }
          ],
          "choropleth": [
           {
            "colorbar": {
             "outlinewidth": 0,
             "ticks": ""
            },
            "type": "choropleth"
           }
          ],
          "contour": [
           {
            "colorbar": {
             "outlinewidth": 0,
             "ticks": ""
            },
            "colorscale": [
             [
              0,
              "#0d0887"
             ],
             [
              0.1111111111111111,
              "#46039f"
             ],
             [
              0.2222222222222222,
              "#7201a8"
             ],
             [
              0.3333333333333333,
              "#9c179e"
             ],
             [
              0.4444444444444444,
              "#bd3786"
             ],
             [
              0.5555555555555556,
              "#d8576b"
             ],
             [
              0.6666666666666666,
              "#ed7953"
             ],
             [
              0.7777777777777778,
              "#fb9f3a"
             ],
             [
              0.8888888888888888,
              "#fdca26"
             ],
             [
              1,
              "#f0f921"
             ]
            ],
            "type": "contour"
           }
          ],
          "contourcarpet": [
           {
            "colorbar": {
             "outlinewidth": 0,
             "ticks": ""
            },
            "type": "contourcarpet"
           }
          ],
          "heatmap": [
           {
            "colorbar": {
             "outlinewidth": 0,
             "ticks": ""
            },
            "colorscale": [
             [
              0,
              "#0d0887"
             ],
             [
              0.1111111111111111,
              "#46039f"
             ],
             [
              0.2222222222222222,
              "#7201a8"
             ],
             [
              0.3333333333333333,
              "#9c179e"
             ],
             [
              0.4444444444444444,
              "#bd3786"
             ],
             [
              0.5555555555555556,
              "#d8576b"
             ],
             [
              0.6666666666666666,
              "#ed7953"
             ],
             [
              0.7777777777777778,
              "#fb9f3a"
             ],
             [
              0.8888888888888888,
              "#fdca26"
             ],
             [
              1,
              "#f0f921"
             ]
            ],
            "type": "heatmap"
           }
          ],
          "heatmapgl": [
           {
            "colorbar": {
             "outlinewidth": 0,
             "ticks": ""
            },
            "colorscale": [
             [
              0,
              "#0d0887"
             ],
             [
              0.1111111111111111,
              "#46039f"
             ],
             [
              0.2222222222222222,
              "#7201a8"
             ],
             [
              0.3333333333333333,
              "#9c179e"
             ],
             [
              0.4444444444444444,
              "#bd3786"
             ],
             [
              0.5555555555555556,
              "#d8576b"
             ],
             [
              0.6666666666666666,
              "#ed7953"
             ],
             [
              0.7777777777777778,
              "#fb9f3a"
             ],
             [
              0.8888888888888888,
              "#fdca26"
             ],
             [
              1,
              "#f0f921"
             ]
            ],
            "type": "heatmapgl"
           }
          ],
          "histogram": [
           {
            "marker": {
             "pattern": {
              "fillmode": "overlay",
              "size": 10,
              "solidity": 0.2
             }
            },
            "type": "histogram"
           }
          ],
          "histogram2d": [
           {
            "colorbar": {
             "outlinewidth": 0,
             "ticks": ""
            },
            "colorscale": [
             [
              0,
              "#0d0887"
             ],
             [
              0.1111111111111111,
              "#46039f"
             ],
             [
              0.2222222222222222,
              "#7201a8"
             ],
             [
              0.3333333333333333,
              "#9c179e"
             ],
             [
              0.4444444444444444,
              "#bd3786"
             ],
             [
              0.5555555555555556,
              "#d8576b"
             ],
             [
              0.6666666666666666,
              "#ed7953"
             ],
             [
              0.7777777777777778,
              "#fb9f3a"
             ],
             [
              0.8888888888888888,
              "#fdca26"
             ],
             [
              1,
              "#f0f921"
             ]
            ],
            "type": "histogram2d"
           }
          ],
          "histogram2dcontour": [
           {
            "colorbar": {
             "outlinewidth": 0,
             "ticks": ""
            },
            "colorscale": [
             [
              0,
              "#0d0887"
             ],
             [
              0.1111111111111111,
              "#46039f"
             ],
             [
              0.2222222222222222,
              "#7201a8"
             ],
             [
              0.3333333333333333,
              "#9c179e"
             ],
             [
              0.4444444444444444,
              "#bd3786"
             ],
             [
              0.5555555555555556,
              "#d8576b"
             ],
             [
              0.6666666666666666,
              "#ed7953"
             ],
             [
              0.7777777777777778,
              "#fb9f3a"
             ],
             [
              0.8888888888888888,
              "#fdca26"
             ],
             [
              1,
              "#f0f921"
             ]
            ],
            "type": "histogram2dcontour"
           }
          ],
          "mesh3d": [
           {
            "colorbar": {
             "outlinewidth": 0,
             "ticks": ""
            },
            "type": "mesh3d"
           }
          ],
          "parcoords": [
           {
            "line": {
             "colorbar": {
              "outlinewidth": 0,
              "ticks": ""
             }
            },
            "type": "parcoords"
           }
          ],
          "pie": [
           {
            "automargin": true,
            "type": "pie"
           }
          ],
          "scatter": [
           {
            "fillpattern": {
             "fillmode": "overlay",
             "size": 10,
             "solidity": 0.2
            },
            "type": "scatter"
           }
          ],
          "scatter3d": [
           {
            "line": {
             "colorbar": {
              "outlinewidth": 0,
              "ticks": ""
             }
            },
            "marker": {
             "colorbar": {
              "outlinewidth": 0,
              "ticks": ""
             }
            },
            "type": "scatter3d"
           }
          ],
          "scattercarpet": [
           {
            "marker": {
             "colorbar": {
              "outlinewidth": 0,
              "ticks": ""
             }
            },
            "type": "scattercarpet"
           }
          ],
          "scattergeo": [
           {
            "marker": {
             "colorbar": {
              "outlinewidth": 0,
              "ticks": ""
             }
            },
            "type": "scattergeo"
           }
          ],
          "scattergl": [
           {
            "marker": {
             "colorbar": {
              "outlinewidth": 0,
              "ticks": ""
             }
            },
            "type": "scattergl"
           }
          ],
          "scattermapbox": [
           {
            "marker": {
             "colorbar": {
              "outlinewidth": 0,
              "ticks": ""
             }
            },
            "type": "scattermapbox"
           }
          ],
          "scatterpolar": [
           {
            "marker": {
             "colorbar": {
              "outlinewidth": 0,
              "ticks": ""
             }
            },
            "type": "scatterpolar"
           }
          ],
          "scatterpolargl": [
           {
            "marker": {
             "colorbar": {
              "outlinewidth": 0,
              "ticks": ""
             }
            },
            "type": "scatterpolargl"
           }
          ],
          "scatterternary": [
           {
            "marker": {
             "colorbar": {
              "outlinewidth": 0,
              "ticks": ""
             }
            },
            "type": "scatterternary"
           }
          ],
          "surface": [
           {
            "colorbar": {
             "outlinewidth": 0,
             "ticks": ""
            },
            "colorscale": [
             [
              0,
              "#0d0887"
             ],
             [
              0.1111111111111111,
              "#46039f"
             ],
             [
              0.2222222222222222,
              "#7201a8"
             ],
             [
              0.3333333333333333,
              "#9c179e"
             ],
             [
              0.4444444444444444,
              "#bd3786"
             ],
             [
              0.5555555555555556,
              "#d8576b"
             ],
             [
              0.6666666666666666,
              "#ed7953"
             ],
             [
              0.7777777777777778,
              "#fb9f3a"
             ],
             [
              0.8888888888888888,
              "#fdca26"
             ],
             [
              1,
              "#f0f921"
             ]
            ],
            "type": "surface"
           }
          ],
          "table": [
           {
            "cells": {
             "fill": {
              "color": "#EBF0F8"
             },
             "line": {
              "color": "white"
             }
            },
            "header": {
             "fill": {
              "color": "#C8D4E3"
             },
             "line": {
              "color": "white"
             }
            },
            "type": "table"
           }
          ]
         },
         "layout": {
          "annotationdefaults": {
           "arrowcolor": "#2a3f5f",
           "arrowhead": 0,
           "arrowwidth": 1
          },
          "autotypenumbers": "strict",
          "coloraxis": {
           "colorbar": {
            "outlinewidth": 0,
            "ticks": ""
           }
          },
          "colorscale": {
           "diverging": [
            [
             0,
             "#8e0152"
            ],
            [
             0.1,
             "#c51b7d"
            ],
            [
             0.2,
             "#de77ae"
            ],
            [
             0.3,
             "#f1b6da"
            ],
            [
             0.4,
             "#fde0ef"
            ],
            [
             0.5,
             "#f7f7f7"
            ],
            [
             0.6,
             "#e6f5d0"
            ],
            [
             0.7,
             "#b8e186"
            ],
            [
             0.8,
             "#7fbc41"
            ],
            [
             0.9,
             "#4d9221"
            ],
            [
             1,
             "#276419"
            ]
           ],
           "sequential": [
            [
             0,
             "#0d0887"
            ],
            [
             0.1111111111111111,
             "#46039f"
            ],
            [
             0.2222222222222222,
             "#7201a8"
            ],
            [
             0.3333333333333333,
             "#9c179e"
            ],
            [
             0.4444444444444444,
             "#bd3786"
            ],
            [
             0.5555555555555556,
             "#d8576b"
            ],
            [
             0.6666666666666666,
             "#ed7953"
            ],
            [
             0.7777777777777778,
             "#fb9f3a"
            ],
            [
             0.8888888888888888,
             "#fdca26"
            ],
            [
             1,
             "#f0f921"
            ]
           ],
           "sequentialminus": [
            [
             0,
             "#0d0887"
            ],
            [
             0.1111111111111111,
             "#46039f"
            ],
            [
             0.2222222222222222,
             "#7201a8"
            ],
            [
             0.3333333333333333,
             "#9c179e"
            ],
            [
             0.4444444444444444,
             "#bd3786"
            ],
            [
             0.5555555555555556,
             "#d8576b"
            ],
            [
             0.6666666666666666,
             "#ed7953"
            ],
            [
             0.7777777777777778,
             "#fb9f3a"
            ],
            [
             0.8888888888888888,
             "#fdca26"
            ],
            [
             1,
             "#f0f921"
            ]
           ]
          },
          "colorway": [
           "#636efa",
           "#EF553B",
           "#00cc96",
           "#ab63fa",
           "#FFA15A",
           "#19d3f3",
           "#FF6692",
           "#B6E880",
           "#FF97FF",
           "#FECB52"
          ],
          "font": {
           "color": "#2a3f5f"
          },
          "geo": {
           "bgcolor": "white",
           "lakecolor": "white",
           "landcolor": "#E5ECF6",
           "showlakes": true,
           "showland": true,
           "subunitcolor": "white"
          },
          "hoverlabel": {
           "align": "left"
          },
          "hovermode": "closest",
          "mapbox": {
           "style": "light"
          },
          "paper_bgcolor": "white",
          "plot_bgcolor": "#E5ECF6",
          "polar": {
           "angularaxis": {
            "gridcolor": "white",
            "linecolor": "white",
            "ticks": ""
           },
           "bgcolor": "#E5ECF6",
           "radialaxis": {
            "gridcolor": "white",
            "linecolor": "white",
            "ticks": ""
           }
          },
          "scene": {
           "xaxis": {
            "backgroundcolor": "#E5ECF6",
            "gridcolor": "white",
            "gridwidth": 2,
            "linecolor": "white",
            "showbackground": true,
            "ticks": "",
            "zerolinecolor": "white"
           },
           "yaxis": {
            "backgroundcolor": "#E5ECF6",
            "gridcolor": "white",
            "gridwidth": 2,
            "linecolor": "white",
            "showbackground": true,
            "ticks": "",
            "zerolinecolor": "white"
           },
           "zaxis": {
            "backgroundcolor": "#E5ECF6",
            "gridcolor": "white",
            "gridwidth": 2,
            "linecolor": "white",
            "showbackground": true,
            "ticks": "",
            "zerolinecolor": "white"
           }
          },
          "shapedefaults": {
           "line": {
            "color": "#2a3f5f"
           }
          },
          "ternary": {
           "aaxis": {
            "gridcolor": "white",
            "linecolor": "white",
            "ticks": ""
           },
           "baxis": {
            "gridcolor": "white",
            "linecolor": "white",
            "ticks": ""
           },
           "bgcolor": "#E5ECF6",
           "caxis": {
            "gridcolor": "white",
            "linecolor": "white",
            "ticks": ""
           }
          },
          "title": {
           "x": 0.05
          },
          "xaxis": {
           "automargin": true,
           "gridcolor": "white",
           "linecolor": "white",
           "ticks": "",
           "title": {
            "standoff": 15
           },
           "zerolinecolor": "white",
           "zerolinewidth": 2
          },
          "yaxis": {
           "automargin": true,
           "gridcolor": "white",
           "linecolor": "white",
           "ticks": "",
           "title": {
            "standoff": 15
           },
           "zerolinecolor": "white",
           "zerolinewidth": 2
          }
         }
        },
        "title": {
         "text": "Overall by Altitude"
        },
        "width": 1200,
        "xaxis": {
         "anchor": "y",
         "domain": [
          0,
          1
         ],
         "title": {
          "text": "Altitude"
         }
        },
        "yaxis": {
         "anchor": "x",
         "domain": [
          0,
          1
         ],
         "title": {
          "text": "Overall"
         }
        }
       }
      }
     },
     "metadata": {},
     "output_type": "display_data"
    }
   ],
   "source": [
    "# Scatter plots of quality measures by altitude\n",
    "y_columns = ['aroma', 'flavor', 'aftertaste', 'acidity', 'body', 'balance', 'overall']\n",
    "\n",
    "for column in y_columns:\n",
    "    quality_scatter = px.scatter(coffee, x='altitude_mean', y=column,\n",
    "                                 title=(f'{column.capitalize()} by Altitude'),\n",
    "                                 labels={column:column.capitalize(), 'altitude_mean':'Altitude'},\n",
    "                                 color_discrete_sequence=[px.colors.qualitative.Antique[6]],\n",
    "                                 hover_data=['country_of_origin', 'variety'],\n",
    "                                 width=1200, height=600)\n",
    "    \n",
    "    quality_scatter.update_layout({\n",
    "    'plot_bgcolor':'rgba(0, 0, 0, 0)',\n",
    "    'paper_bgcolor':'rgba(0, 0, 0, 0)'\n",
    "    })\n",
    "\n",
    "    quality_scatter.show()"
   ]
  },
  {
   "cell_type": "code",
   "execution_count": 694,
   "metadata": {},
   "outputs": [
    {
     "data": {
      "application/vnd.plotly.v1+json": {
       "config": {
        "plotlyServerURL": "https://plot.ly"
       },
       "data": [
        {
         "alignmentgroup": "True",
         "bingroup": "x",
         "histfunc": "avg",
         "hovertemplate": "country_of_origin=%{x}<br>avg of category_two_defects=%{y}<extra></extra>",
         "legendgroup": "",
         "marker": {
          "color": "rgb(104, 133, 92)",
          "pattern": {
           "shape": ""
          }
         },
         "name": "",
         "offsetgroup": "",
         "orientation": "v",
         "showlegend": false,
         "type": "histogram",
         "x": [
          "Colombia",
          "Taiwan",
          "Costa Rica",
          "Colombia",
          "Guatemala",
          "Taiwan",
          "Taiwan",
          "Taiwan",
          "Tanzania",
          "Ethiopia",
          "Guatemala",
          "Taiwan",
          "Ethiopia",
          "Colombia",
          "Taiwan",
          "Ethiopia",
          "Taiwan",
          "Taiwan",
          "Tanzania",
          "Guatemala",
          "Taiwan",
          "Thailand",
          "Colombia",
          "Taiwan",
          "Brazil",
          "Taiwan",
          "Taiwan",
          "Taiwan",
          "United States (Hawaii)",
          "Taiwan",
          "Taiwan",
          "Taiwan",
          "Ethiopia",
          "Ethiopia",
          "Ethiopia",
          "Taiwan",
          "Taiwan",
          "Taiwan",
          "Taiwan",
          "Taiwan",
          "Taiwan",
          "Taiwan",
          "Guatemala",
          "Guatemala",
          "Taiwan",
          "Taiwan",
          "Peru",
          "Tanzania",
          "Taiwan",
          "Taiwan",
          "Brazil",
          "Taiwan",
          "Guatemala",
          "Costa Rica",
          "Taiwan",
          "Taiwan",
          "Nicaragua",
          "Taiwan",
          "Taiwan",
          "Costa Rica",
          "Taiwan",
          "Honduras",
          "Ethiopia",
          "Taiwan",
          "Taiwan",
          "Guatemala",
          "United States (Hawaii)",
          "Ethiopia",
          "El Salvador",
          "Colombia",
          "Guatemala",
          "Honduras",
          "Guatemala",
          "Taiwan",
          "Taiwan",
          "Guatemala",
          "Guatemala",
          "Honduras",
          "Tanzania",
          "Ethiopia",
          "Tanzania",
          "Colombia",
          "Costa Rica",
          "Guatemala",
          "Guatemala",
          "Thailand",
          "Colombia",
          "Guatemala",
          "Ethiopia",
          "Colombia",
          "United States (Hawaii)",
          "Colombia",
          "Mexico",
          "Taiwan",
          "Taiwan",
          "Honduras",
          "Taiwan",
          "Taiwan",
          "Guatemala",
          "Honduras",
          "Colombia",
          "Thailand",
          "Ethiopia",
          "Thailand",
          "Taiwan",
          "Taiwan",
          "Guatemala",
          "Taiwan",
          "Colombia",
          "Taiwan",
          "Thailand",
          "Tanzania",
          "Brazil",
          "Taiwan",
          "Colombia",
          "Honduras",
          "Honduras",
          "Taiwan",
          "Taiwan",
          "Honduras",
          "Honduras",
          "Colombia",
          "Taiwan",
          "Mexico",
          "Colombia",
          "Taiwan",
          "Honduras",
          "Thailand",
          "Nicaragua",
          "Costa Rica",
          "Colombia",
          "Thailand",
          "Thailand",
          "Honduras",
          "Taiwan",
          "Taiwan",
          "Nicaragua",
          "El Salvador",
          "Brazil",
          "United States (Hawaii)",
          "Mexico",
          "Honduras",
          "Taiwan",
          "Nicaragua",
          "El Salvador",
          "El Salvador",
          "Taiwan",
          "Peru",
          "United States (Hawaii)",
          "Honduras",
          "Taiwan",
          "Taiwan",
          "Taiwan",
          "Thailand",
          "Guatemala",
          "Peru",
          "Guatemala",
          "Taiwan",
          "Brazil",
          "Brazil",
          "Colombia",
          "Mexico",
          "Costa Rica",
          "Taiwan",
          "Taiwan",
          "Thailand",
          "Thailand",
          "Thailand",
          "Colombia",
          "Brazil",
          "El Salvador",
          "Nicaragua",
          "Nicaragua",
          "Colombia",
          "Peru",
          "El Salvador",
          "Brazil",
          "Brazil",
          "Nicaragua",
          "El Salvador",
          "Brazil"
         ],
         "xaxis": "x",
         "y": [
          3,
          0,
          0,
          2,
          2,
          0,
          1,
          0,
          0,
          1,
          1,
          0,
          2,
          0,
          0,
          2,
          0,
          1,
          0,
          0,
          0,
          5,
          2,
          0,
          3,
          2,
          0,
          0,
          0,
          0,
          0,
          0,
          3,
          4,
          1,
          0,
          0,
          0,
          0,
          5,
          0,
          0,
          1,
          1,
          2,
          0,
          0,
          0,
          0,
          0,
          5,
          0,
          1,
          2,
          0,
          0,
          2,
          2,
          0,
          0,
          0,
          3,
          9,
          0,
          1,
          5,
          7,
          4,
          4,
          1,
          1,
          2,
          2,
          2,
          0,
          2,
          2,
          0,
          3,
          1,
          2,
          3,
          2,
          0,
          2,
          3,
          1,
          4,
          12,
          5,
          3,
          1,
          12,
          0,
          0,
          1,
          0,
          0,
          4,
          5,
          2,
          0,
          11,
          0,
          0,
          0,
          0,
          1,
          0,
          1,
          16,
          8,
          4,
          1,
          2,
          3,
          5,
          2,
          0,
          7,
          2,
          1,
          0,
          1,
          3,
          0,
          4,
          5,
          1,
          1,
          2,
          0,
          0,
          2,
          0,
          2,
          0,
          2,
          1,
          1,
          0,
          8,
          2,
          0,
          10,
          0,
          1,
          3,
          5,
          8,
          0,
          3,
          1,
          0,
          2,
          2,
          1,
          0,
          2,
          0,
          0,
          2,
          4,
          0,
          0,
          1,
          5,
          0,
          2,
          1,
          7,
          3,
          5,
          3,
          11,
          7,
          2,
          4,
          12,
          13,
          1
         ],
         "yaxis": "y"
        }
       ],
       "layout": {
        "barmode": "group",
        "height": 500,
        "legend": {
         "tracegroupgap": 0
        },
        "paper_bgcolor": "rgba(0, 0, 0, 0)",
        "plot_bgcolor": "rgba(0, 0, 0, 0)",
        "template": {
         "data": {
          "bar": [
           {
            "error_x": {
             "color": "#2a3f5f"
            },
            "error_y": {
             "color": "#2a3f5f"
            },
            "marker": {
             "line": {
              "color": "#E5ECF6",
              "width": 0.5
             },
             "pattern": {
              "fillmode": "overlay",
              "size": 10,
              "solidity": 0.2
             }
            },
            "type": "bar"
           }
          ],
          "barpolar": [
           {
            "marker": {
             "line": {
              "color": "#E5ECF6",
              "width": 0.5
             },
             "pattern": {
              "fillmode": "overlay",
              "size": 10,
              "solidity": 0.2
             }
            },
            "type": "barpolar"
           }
          ],
          "carpet": [
           {
            "aaxis": {
             "endlinecolor": "#2a3f5f",
             "gridcolor": "white",
             "linecolor": "white",
             "minorgridcolor": "white",
             "startlinecolor": "#2a3f5f"
            },
            "baxis": {
             "endlinecolor": "#2a3f5f",
             "gridcolor": "white",
             "linecolor": "white",
             "minorgridcolor": "white",
             "startlinecolor": "#2a3f5f"
            },
            "type": "carpet"
           }
          ],
          "choropleth": [
           {
            "colorbar": {
             "outlinewidth": 0,
             "ticks": ""
            },
            "type": "choropleth"
           }
          ],
          "contour": [
           {
            "colorbar": {
             "outlinewidth": 0,
             "ticks": ""
            },
            "colorscale": [
             [
              0,
              "#0d0887"
             ],
             [
              0.1111111111111111,
              "#46039f"
             ],
             [
              0.2222222222222222,
              "#7201a8"
             ],
             [
              0.3333333333333333,
              "#9c179e"
             ],
             [
              0.4444444444444444,
              "#bd3786"
             ],
             [
              0.5555555555555556,
              "#d8576b"
             ],
             [
              0.6666666666666666,
              "#ed7953"
             ],
             [
              0.7777777777777778,
              "#fb9f3a"
             ],
             [
              0.8888888888888888,
              "#fdca26"
             ],
             [
              1,
              "#f0f921"
             ]
            ],
            "type": "contour"
           }
          ],
          "contourcarpet": [
           {
            "colorbar": {
             "outlinewidth": 0,
             "ticks": ""
            },
            "type": "contourcarpet"
           }
          ],
          "heatmap": [
           {
            "colorbar": {
             "outlinewidth": 0,
             "ticks": ""
            },
            "colorscale": [
             [
              0,
              "#0d0887"
             ],
             [
              0.1111111111111111,
              "#46039f"
             ],
             [
              0.2222222222222222,
              "#7201a8"
             ],
             [
              0.3333333333333333,
              "#9c179e"
             ],
             [
              0.4444444444444444,
              "#bd3786"
             ],
             [
              0.5555555555555556,
              "#d8576b"
             ],
             [
              0.6666666666666666,
              "#ed7953"
             ],
             [
              0.7777777777777778,
              "#fb9f3a"
             ],
             [
              0.8888888888888888,
              "#fdca26"
             ],
             [
              1,
              "#f0f921"
             ]
            ],
            "type": "heatmap"
           }
          ],
          "heatmapgl": [
           {
            "colorbar": {
             "outlinewidth": 0,
             "ticks": ""
            },
            "colorscale": [
             [
              0,
              "#0d0887"
             ],
             [
              0.1111111111111111,
              "#46039f"
             ],
             [
              0.2222222222222222,
              "#7201a8"
             ],
             [
              0.3333333333333333,
              "#9c179e"
             ],
             [
              0.4444444444444444,
              "#bd3786"
             ],
             [
              0.5555555555555556,
              "#d8576b"
             ],
             [
              0.6666666666666666,
              "#ed7953"
             ],
             [
              0.7777777777777778,
              "#fb9f3a"
             ],
             [
              0.8888888888888888,
              "#fdca26"
             ],
             [
              1,
              "#f0f921"
             ]
            ],
            "type": "heatmapgl"
           }
          ],
          "histogram": [
           {
            "marker": {
             "pattern": {
              "fillmode": "overlay",
              "size": 10,
              "solidity": 0.2
             }
            },
            "type": "histogram"
           }
          ],
          "histogram2d": [
           {
            "colorbar": {
             "outlinewidth": 0,
             "ticks": ""
            },
            "colorscale": [
             [
              0,
              "#0d0887"
             ],
             [
              0.1111111111111111,
              "#46039f"
             ],
             [
              0.2222222222222222,
              "#7201a8"
             ],
             [
              0.3333333333333333,
              "#9c179e"
             ],
             [
              0.4444444444444444,
              "#bd3786"
             ],
             [
              0.5555555555555556,
              "#d8576b"
             ],
             [
              0.6666666666666666,
              "#ed7953"
             ],
             [
              0.7777777777777778,
              "#fb9f3a"
             ],
             [
              0.8888888888888888,
              "#fdca26"
             ],
             [
              1,
              "#f0f921"
             ]
            ],
            "type": "histogram2d"
           }
          ],
          "histogram2dcontour": [
           {
            "colorbar": {
             "outlinewidth": 0,
             "ticks": ""
            },
            "colorscale": [
             [
              0,
              "#0d0887"
             ],
             [
              0.1111111111111111,
              "#46039f"
             ],
             [
              0.2222222222222222,
              "#7201a8"
             ],
             [
              0.3333333333333333,
              "#9c179e"
             ],
             [
              0.4444444444444444,
              "#bd3786"
             ],
             [
              0.5555555555555556,
              "#d8576b"
             ],
             [
              0.6666666666666666,
              "#ed7953"
             ],
             [
              0.7777777777777778,
              "#fb9f3a"
             ],
             [
              0.8888888888888888,
              "#fdca26"
             ],
             [
              1,
              "#f0f921"
             ]
            ],
            "type": "histogram2dcontour"
           }
          ],
          "mesh3d": [
           {
            "colorbar": {
             "outlinewidth": 0,
             "ticks": ""
            },
            "type": "mesh3d"
           }
          ],
          "parcoords": [
           {
            "line": {
             "colorbar": {
              "outlinewidth": 0,
              "ticks": ""
             }
            },
            "type": "parcoords"
           }
          ],
          "pie": [
           {
            "automargin": true,
            "type": "pie"
           }
          ],
          "scatter": [
           {
            "fillpattern": {
             "fillmode": "overlay",
             "size": 10,
             "solidity": 0.2
            },
            "type": "scatter"
           }
          ],
          "scatter3d": [
           {
            "line": {
             "colorbar": {
              "outlinewidth": 0,
              "ticks": ""
             }
            },
            "marker": {
             "colorbar": {
              "outlinewidth": 0,
              "ticks": ""
             }
            },
            "type": "scatter3d"
           }
          ],
          "scattercarpet": [
           {
            "marker": {
             "colorbar": {
              "outlinewidth": 0,
              "ticks": ""
             }
            },
            "type": "scattercarpet"
           }
          ],
          "scattergeo": [
           {
            "marker": {
             "colorbar": {
              "outlinewidth": 0,
              "ticks": ""
             }
            },
            "type": "scattergeo"
           }
          ],
          "scattergl": [
           {
            "marker": {
             "colorbar": {
              "outlinewidth": 0,
              "ticks": ""
             }
            },
            "type": "scattergl"
           }
          ],
          "scattermapbox": [
           {
            "marker": {
             "colorbar": {
              "outlinewidth": 0,
              "ticks": ""
             }
            },
            "type": "scattermapbox"
           }
          ],
          "scatterpolar": [
           {
            "marker": {
             "colorbar": {
              "outlinewidth": 0,
              "ticks": ""
             }
            },
            "type": "scatterpolar"
           }
          ],
          "scatterpolargl": [
           {
            "marker": {
             "colorbar": {
              "outlinewidth": 0,
              "ticks": ""
             }
            },
            "type": "scatterpolargl"
           }
          ],
          "scatterternary": [
           {
            "marker": {
             "colorbar": {
              "outlinewidth": 0,
              "ticks": ""
             }
            },
            "type": "scatterternary"
           }
          ],
          "surface": [
           {
            "colorbar": {
             "outlinewidth": 0,
             "ticks": ""
            },
            "colorscale": [
             [
              0,
              "#0d0887"
             ],
             [
              0.1111111111111111,
              "#46039f"
             ],
             [
              0.2222222222222222,
              "#7201a8"
             ],
             [
              0.3333333333333333,
              "#9c179e"
             ],
             [
              0.4444444444444444,
              "#bd3786"
             ],
             [
              0.5555555555555556,
              "#d8576b"
             ],
             [
              0.6666666666666666,
              "#ed7953"
             ],
             [
              0.7777777777777778,
              "#fb9f3a"
             ],
             [
              0.8888888888888888,
              "#fdca26"
             ],
             [
              1,
              "#f0f921"
             ]
            ],
            "type": "surface"
           }
          ],
          "table": [
           {
            "cells": {
             "fill": {
              "color": "#EBF0F8"
             },
             "line": {
              "color": "white"
             }
            },
            "header": {
             "fill": {
              "color": "#C8D4E3"
             },
             "line": {
              "color": "white"
             }
            },
            "type": "table"
           }
          ]
         },
         "layout": {
          "annotationdefaults": {
           "arrowcolor": "#2a3f5f",
           "arrowhead": 0,
           "arrowwidth": 1
          },
          "autotypenumbers": "strict",
          "coloraxis": {
           "colorbar": {
            "outlinewidth": 0,
            "ticks": ""
           }
          },
          "colorscale": {
           "diverging": [
            [
             0,
             "#8e0152"
            ],
            [
             0.1,
             "#c51b7d"
            ],
            [
             0.2,
             "#de77ae"
            ],
            [
             0.3,
             "#f1b6da"
            ],
            [
             0.4,
             "#fde0ef"
            ],
            [
             0.5,
             "#f7f7f7"
            ],
            [
             0.6,
             "#e6f5d0"
            ],
            [
             0.7,
             "#b8e186"
            ],
            [
             0.8,
             "#7fbc41"
            ],
            [
             0.9,
             "#4d9221"
            ],
            [
             1,
             "#276419"
            ]
           ],
           "sequential": [
            [
             0,
             "#0d0887"
            ],
            [
             0.1111111111111111,
             "#46039f"
            ],
            [
             0.2222222222222222,
             "#7201a8"
            ],
            [
             0.3333333333333333,
             "#9c179e"
            ],
            [
             0.4444444444444444,
             "#bd3786"
            ],
            [
             0.5555555555555556,
             "#d8576b"
            ],
            [
             0.6666666666666666,
             "#ed7953"
            ],
            [
             0.7777777777777778,
             "#fb9f3a"
            ],
            [
             0.8888888888888888,
             "#fdca26"
            ],
            [
             1,
             "#f0f921"
            ]
           ],
           "sequentialminus": [
            [
             0,
             "#0d0887"
            ],
            [
             0.1111111111111111,
             "#46039f"
            ],
            [
             0.2222222222222222,
             "#7201a8"
            ],
            [
             0.3333333333333333,
             "#9c179e"
            ],
            [
             0.4444444444444444,
             "#bd3786"
            ],
            [
             0.5555555555555556,
             "#d8576b"
            ],
            [
             0.6666666666666666,
             "#ed7953"
            ],
            [
             0.7777777777777778,
             "#fb9f3a"
            ],
            [
             0.8888888888888888,
             "#fdca26"
            ],
            [
             1,
             "#f0f921"
            ]
           ]
          },
          "colorway": [
           "#636efa",
           "#EF553B",
           "#00cc96",
           "#ab63fa",
           "#FFA15A",
           "#19d3f3",
           "#FF6692",
           "#B6E880",
           "#FF97FF",
           "#FECB52"
          ],
          "font": {
           "color": "#2a3f5f"
          },
          "geo": {
           "bgcolor": "white",
           "lakecolor": "white",
           "landcolor": "#E5ECF6",
           "showlakes": true,
           "showland": true,
           "subunitcolor": "white"
          },
          "hoverlabel": {
           "align": "left"
          },
          "hovermode": "closest",
          "mapbox": {
           "style": "light"
          },
          "paper_bgcolor": "white",
          "plot_bgcolor": "#E5ECF6",
          "polar": {
           "angularaxis": {
            "gridcolor": "white",
            "linecolor": "white",
            "ticks": ""
           },
           "bgcolor": "#E5ECF6",
           "radialaxis": {
            "gridcolor": "white",
            "linecolor": "white",
            "ticks": ""
           }
          },
          "scene": {
           "xaxis": {
            "backgroundcolor": "#E5ECF6",
            "gridcolor": "white",
            "gridwidth": 2,
            "linecolor": "white",
            "showbackground": true,
            "ticks": "",
            "zerolinecolor": "white"
           },
           "yaxis": {
            "backgroundcolor": "#E5ECF6",
            "gridcolor": "white",
            "gridwidth": 2,
            "linecolor": "white",
            "showbackground": true,
            "ticks": "",
            "zerolinecolor": "white"
           },
           "zaxis": {
            "backgroundcolor": "#E5ECF6",
            "gridcolor": "white",
            "gridwidth": 2,
            "linecolor": "white",
            "showbackground": true,
            "ticks": "",
            "zerolinecolor": "white"
           }
          },
          "shapedefaults": {
           "line": {
            "color": "#2a3f5f"
           }
          },
          "ternary": {
           "aaxis": {
            "gridcolor": "white",
            "linecolor": "white",
            "ticks": ""
           },
           "baxis": {
            "gridcolor": "white",
            "linecolor": "white",
            "ticks": ""
           },
           "bgcolor": "#E5ECF6",
           "caxis": {
            "gridcolor": "white",
            "linecolor": "white",
            "ticks": ""
           }
          },
          "title": {
           "x": 0.05
          },
          "xaxis": {
           "automargin": true,
           "gridcolor": "white",
           "linecolor": "white",
           "ticks": "",
           "title": {
            "standoff": 15
           },
           "zerolinecolor": "white",
           "zerolinewidth": 2
          },
          "yaxis": {
           "automargin": true,
           "gridcolor": "white",
           "linecolor": "white",
           "ticks": "",
           "title": {
            "standoff": 15
           },
           "zerolinecolor": "white",
           "zerolinewidth": 2
          }
         }
        },
        "title": {
         "text": "Average Category Two Defects by Country"
        },
        "width": 1200,
        "xaxis": {
         "anchor": "y",
         "categoryorder": "total descending",
         "domain": [
          0,
          1
         ],
         "title": {
          "text": "Country of Origin"
         }
        },
        "yaxis": {
         "anchor": "x",
         "domain": [
          0,
          1
         ],
         "title": {
          "text": "Average Score"
         }
        }
       }
      }
     },
     "metadata": {},
     "output_type": "display_data"
    }
   ],
   "source": [
    "# Compare average defects in countries with 4 or more batches\n",
    "defects_by_country = px.histogram(coffee[coffee['country_of_origin'].isin(top_countries)], x='country_of_origin', \n",
    "                                  y='category_two_defects', \n",
    "                                  histfunc=\"avg\", title='Average Category Two Defects by Country', \n",
    "                                  barmode='group', width=1200, height=500, \n",
    "                                  color_discrete_sequence=[px.colors.qualitative.Antique[6]])\n",
    "\n",
    "defects_by_country.update_layout({\n",
    "    'plot_bgcolor':'rgba(0, 0, 0, 0)',\n",
    "    'paper_bgcolor':'rgba(0, 0, 0, 0)'\n",
    "})\n",
    "\n",
    "defects_by_country.update_layout(xaxis={'categoryorder':'total descending'})\n",
    "defects_by_country.update_layout(yaxis_title='Average Score', xaxis_title='Country of Origin')\n",
    "\n",
    "defects_by_country.show()"
   ]
  },
  {
   "cell_type": "code",
   "execution_count": 709,
   "metadata": {},
   "outputs": [
    {
     "data": {
      "application/vnd.plotly.v1+json": {
       "config": {
        "plotlyServerURL": "https://plot.ly"
       },
       "data": [
        {
         "customdata": [
          [
           "Colombia",
           "Castillo"
          ],
          [
           "Taiwan",
           "Gesha"
          ],
          [
           "Laos",
           "Java"
          ],
          [
           "Costa Rica",
           "Gesha"
          ],
          [
           "Colombia",
           "Red Bourbon"
          ],
          [
           "Guatemala",
           "Gesha"
          ],
          [
           "Taiwan",
           "Gesha"
          ],
          [
           "Taiwan",
           "Sl34+Gesha"
          ],
          [
           "Taiwan",
           "SL34"
          ],
          [
           "Tanzania",
           "Bourbon"
          ],
          [
           "Ethiopia",
           "Ethiopian Heirlooms"
          ],
          [
           "Guatemala",
           "Gesha"
          ],
          [
           "Taiwan",
           "Gesha"
          ],
          [
           "Ethiopia",
           "Gesha"
          ],
          [
           "Colombia",
           "Caturra"
          ],
          [
           "Taiwan",
           "SL34"
          ],
          [
           "Ethiopia",
           "Wolishalo,Kurume,Dega"
          ],
          [
           "Taiwan",
           "Gesha"
          ],
          [
           "Taiwan",
           "Gesha"
          ],
          [
           "Tanzania",
           "Bourbon"
          ],
          [
           "Guatemala",
           "Gesha"
          ],
          [
           "Taiwan",
           "Typica"
          ],
          [
           "Thailand",
           "Catimor"
          ],
          [
           "Colombia",
           "Castillo Paraguaycito"
          ],
          [
           "Taiwan",
           "SL34"
          ],
          [
           "Brazil",
           "unknown"
          ],
          [
           "Taiwan",
           "Gesha"
          ],
          [
           "Taiwan",
           "Gesha"
          ],
          [
           "Taiwan",
           "Gesha"
          ],
          [
           "United States (Hawaii)",
           "Typica"
          ],
          [
           "Taiwan",
           "Typica"
          ],
          [
           "Taiwan",
           "Typica"
          ],
          [
           "Taiwan",
           "Gesha"
          ],
          [
           "Ethiopia",
           "Ethiopian Heirlooms"
          ],
          [
           "Ethiopia",
           "Ethiopian Heirlooms"
          ],
          [
           "Ethiopia",
           "Ethiopian Heirlooms"
          ],
          [
           "Taiwan",
           "Gesha"
          ],
          [
           "Taiwan",
           "Gesha"
          ],
          [
           "Kenya",
           "SL28"
          ],
          [
           "Taiwan",
           "Typica"
          ],
          [
           "Taiwan",
           "Typica"
          ],
          [
           "Taiwan",
           "Gesha"
          ],
          [
           "Uganda",
           "SL14"
          ],
          [
           "Taiwan",
           "Typica"
          ],
          [
           "Taiwan",
           "Gesha"
          ],
          [
           "Guatemala",
           "Caturra"
          ],
          [
           "Guatemala",
           "Caturra"
          ],
          [
           "Taiwan",
           "Typica"
          ],
          [
           "Taiwan",
           "Yellow Bourbon"
          ],
          [
           "Indonesia",
           "Catimor"
          ],
          [
           "Peru",
           "Gesha"
          ],
          [
           "Tanzania",
           "Bourbon"
          ],
          [
           "Taiwan",
           "SL34"
          ],
          [
           "Taiwan",
           "SL34"
          ],
          [
           "Brazil",
           "Yellow Bourbon"
          ],
          [
           "Panama",
           "Catuai"
          ],
          [
           "Taiwan",
           "Yellow Bourbon"
          ],
          [
           "Guatemala",
           "Caturra"
          ],
          [
           "Costa Rica",
           "Caturra"
          ],
          [
           "Taiwan",
           "Typica"
          ],
          [
           "Taiwan",
           "Gesha"
          ],
          [
           "Nicaragua",
           "Catrenic"
          ],
          [
           "Taiwan",
           "Gesha"
          ],
          [
           "Taiwan",
           "SL34"
          ],
          [
           "Vietnam",
           "Catimor"
          ],
          [
           "Costa Rica",
           "Gesha"
          ],
          [
           "Taiwan",
           "unknown"
          ],
          [
           "Honduras",
           "Catuai"
          ],
          [
           "Ethiopia",
           "Ethiopian Heirlooms"
          ],
          [
           "Taiwan",
           "Typica"
          ],
          [
           "Taiwan",
           "Gesha"
          ],
          [
           "Guatemala",
           "Bourbon"
          ],
          [
           "United States (Hawaii)",
           "Catuai"
          ],
          [
           "Ethiopia",
           "Ethiopian Heirlooms"
          ],
          [
           "El Salvador",
           "Pacamara"
          ],
          [
           "Colombia",
           "Castillo and Colombia blend"
          ],
          [
           "Indonesia",
           "Jember,TIM-TIM,Ateng"
          ],
          [
           "Guatemala",
           "Typica"
          ],
          [
           "Madagascar",
           "Bourbon"
          ],
          [
           "Honduras",
           "Catuai"
          ],
          [
           "Guatemala",
           "Caturra"
          ],
          [
           "Taiwan",
           "unknown"
          ],
          [
           "Taiwan",
           "Gesha"
          ],
          [
           "Guatemala",
           "Caturra"
          ],
          [
           "Guatemala",
           "Caturra"
          ],
          [
           "Honduras",
           "Typica"
          ],
          [
           "Tanzania",
           "Bourbon"
          ],
          [
           "Ethiopia",
           "Ethiopian Heirlooms"
          ],
          [
           "Tanzania",
           "Bourbon"
          ],
          [
           "Colombia",
           "Caturra"
          ],
          [
           "Costa Rica",
           "Caturra"
          ],
          [
           "Guatemala",
           "Gesha"
          ],
          [
           "Guatemala",
           "Bourbon"
          ],
          [
           "Thailand",
           "Catimor"
          ],
          [
           "Colombia",
           "unknown"
          ],
          [
           "Guatemala",
           "BOURBON, CATURRA Y CATIMOR"
          ],
          [
           "Ethiopia",
           "Ethiopian Heirlooms"
          ],
          [
           "Colombia",
           "Caturra"
          ],
          [
           "United States (Hawaii)",
           "Typica"
          ],
          [
           "Colombia",
           "Bourbon Sidra"
          ],
          [
           "Mexico",
           "Sarchimor"
          ],
          [
           "Taiwan",
           "SL34"
          ],
          [
           "Myanmar",
           "Catimor,Catuai,Caturra,Bourbon"
          ],
          [
           "Taiwan",
           "unknown"
          ],
          [
           "Honduras",
           "Parainema"
          ],
          [
           "Taiwan",
           "unknown"
          ],
          [
           "Taiwan",
           "Typica"
          ],
          [
           "Guatemala",
           "Caturra"
          ],
          [
           "Honduras",
           "SHG"
          ],
          [
           "Colombia",
           "Caturra"
          ],
          [
           "Thailand",
           "Bourbon"
          ],
          [
           "Ethiopia",
           "Ethiopian Heirlooms"
          ],
          [
           "Thailand",
           "Java"
          ],
          [
           "Uganda",
           "SL14"
          ],
          [
           "Taiwan",
           "Typica + SL34"
          ],
          [
           "Uganda",
           "SL14"
          ],
          [
           "Taiwan",
           "Typica"
          ],
          [
           "Guatemala",
           "MARSELLESA, CATUAI, CATURRA & MARSELLESA, ANACAFE 14, CATUAI"
          ],
          [
           "Taiwan",
           "Typica"
          ],
          [
           "Colombia",
           "Caturra"
          ],
          [
           "Taiwan",
           "SL34"
          ],
          [
           "Thailand",
           "Typica"
          ],
          [
           "Tanzania",
           "Bourbon"
          ],
          [
           "Brazil",
           "Mundo Novo"
          ],
          [
           "Taiwan",
           "unknown"
          ],
          [
           "Colombia",
           "Red Bourbon,Caturra"
          ],
          [
           "Honduras",
           "Lempira"
          ],
          [
           "Honduras",
           "Catuai"
          ],
          [
           "Taiwan",
           "Typica"
          ],
          [
           "Taiwan",
           "unknown"
          ],
          [
           "Laos",
           "Catimor"
          ],
          [
           "Honduras",
           "Catuai"
          ],
          [
           "Honduras",
           "Catuai"
          ],
          [
           "Colombia",
           "Caturra"
          ],
          [
           "Taiwan",
           "Typica"
          ],
          [
           "Mexico",
           "Bourbon"
          ],
          [
           "Colombia",
           "Typica Gesha"
          ],
          [
           "Taiwan",
           "Gesha"
          ],
          [
           "Honduras",
           "Catuai"
          ],
          [
           "Thailand",
           "Gayo"
          ],
          [
           "Vietnam",
           "Catimor"
          ],
          [
           "Nicaragua",
           "SHG"
          ],
          [
           "Costa Rica",
           "SL28"
          ],
          [
           "Colombia",
           "Caturra"
          ],
          [
           "Thailand",
           "Caturra"
          ],
          [
           "Thailand",
           "Bourbon, Catimor, Caturra, Typica"
          ],
          [
           "Honduras",
           "Catuai"
          ],
          [
           "Taiwan",
           "unknow"
          ],
          [
           "Taiwan",
           "Caturra"
          ],
          [
           "Nicaragua",
           "Parainema"
          ],
          [
           "El Salvador",
           "Bourbon"
          ],
          [
           "Panama",
           "Caturra"
          ],
          [
           "Brazil",
           "Mundo Novo"
          ],
          [
           "United States (Hawaii)",
           "Maragogype"
          ],
          [
           "Mexico",
           "Pacamara"
          ],
          [
           "Honduras",
           "Catuai"
          ],
          [
           "Taiwan",
           "unknown"
          ],
          [
           "Nicaragua",
           "Caturra-Catuai"
          ],
          [
           "Vietnam",
           "Catimor"
          ],
          [
           "El Salvador",
           "Bourbon"
          ],
          [
           "El Salvador",
           "Bourbon"
          ],
          [
           "Taiwan",
           "unknown"
          ],
          [
           "Peru",
           "Caturra"
          ],
          [
           "United States (Hawaii)",
           "Typica"
          ],
          [
           "Kenya",
           "SL28,SL34,Ruiru11"
          ],
          [
           "Honduras",
           "Catuai"
          ],
          [
           "Taiwan",
           "unknown"
          ],
          [
           "Taiwan",
           "unknown"
          ],
          [
           "Taiwan",
           "unknown"
          ],
          [
           "Thailand",
           "Catimor"
          ],
          [
           "Guatemala",
           "unknown"
          ],
          [
           "Indonesia",
           "unknown"
          ],
          [
           "Peru",
           "Caturra"
          ],
          [
           "Guatemala",
           "Caturra"
          ],
          [
           "Taiwan",
           "Typica"
          ],
          [
           "Brazil",
           "Yellow Catuai"
          ],
          [
           "Brazil",
           "Catucai"
          ],
          [
           "Colombia",
           "Santander"
          ],
          [
           "Mexico",
           "Typica"
          ],
          [
           "Costa Rica",
           "Caturra"
          ],
          [
           "Taiwan",
           "Typica"
          ],
          [
           "Taiwan",
           "unknown"
          ],
          [
           "Thailand",
           "Java"
          ],
          [
           "Thailand",
           "Typica Bourbon Caturra Catimor"
          ],
          [
           "Thailand",
           "Catimor"
          ],
          [
           "Colombia",
           "Caturra,Colombia,Castillo"
          ],
          [
           "Brazil",
           "unknown"
          ],
          [
           "El Salvador",
           "Bourbon"
          ],
          [
           "Nicaragua",
           "Caturra"
          ],
          [
           "Nicaragua",
           "Sarchimor"
          ],
          [
           "Colombia",
           "Castillo,Caturra,Bourbon"
          ],
          [
           "Peru",
           "Caturra"
          ],
          [
           "El Salvador",
           "Pacas"
          ],
          [
           "Brazil",
           "Catuai and Mundo Novo"
          ],
          [
           "Brazil",
           "Mundo Novo"
          ],
          [
           "Nicaragua",
           "SHG"
          ],
          [
           "Laos",
           "Catimor"
          ],
          [
           "El Salvador",
           "Maragogype"
          ],
          [
           "Brazil",
           "Mundo Novo"
          ]
         ],
         "hovertemplate": "Altitude=%{x}<br>Category Two Defects=%{y}<br>country_of_origin=%{customdata[0]}<br>variety=%{customdata[1]}<extra></extra>",
         "legendgroup": "",
         "marker": {
          "color": "rgb(104, 133, 92)",
          "symbol": "circle"
         },
         "mode": "markers",
         "name": "",
         "orientation": "v",
         "showlegend": false,
         "type": "scatter",
         "x": [
          1815,
          1200,
          1300,
          1900,
          1975,
          1668,
          1250,
          1200,
          1250,
          1550,
          2000,
          2000,
          1250,
          1950,
          1850,
          1100,
          2000,
          1300,
          1200,
          1585,
          1900,
          850,
          1600,
          1350,
          1250,
          1250,
          1300,
          1200,
          1060,
          600,
          200,
          200,
          668,
          1950,
          2250,
          1700,
          1200,
          650,
          1750,
          400,
          1000,
          800,
          1905,
          150,
          800,
          1600,
          1600,
          375,
          230,
          1200,
          1750,
          1654,
          1300,
          1400,
          1100,
          1200,
          1200,
          1600,
          1850,
          250,
          700,
          1350,
          1250,
          1450,
          650,
          1900,
          520,
          1368,
          1943,
          400,
          850,
          1350,
          1300,
          2361,
          1500,
          2100,
          1300,
          1600,
          1500,
          1368,
          1600,
          150,
          800,
          1550,
          1550,
          1800,
          1675,
          1800,
          1550,
          1550,
          1850,
          1900,
          1600,
          1350,
          1411,
          1400,
          2000,
          1700,
          500,
          1800,
          1200,
          1250,
          1400,
          300,
          1470,
          325,
          275,
          1600,
          1400,
          1700,
          1390,
          1700,
          1450,
          1650,
          1100,
          1905,
          250,
          1302.5,
          300,
          1100,
          750,
          1400,
          1550,
          950,
          1150,
          1390,
          1600,
          1400,
          250,
          340,
          1250,
          1368,
          1450,
          1650,
          275,
          1350,
          1350,
          1200,
          1280,
          1400,
          900,
          1200,
          1450,
          1700,
          1390,
          1200,
          1450,
          165,
          465,
          1350,
          1200,
          1200,
          1100,
          640,
          1340,
          1368,
          139,
          1275,
          1040,
          1200,
          1200,
          140,
          1600,
          1200,
          1725,
          1368,
          600,
          460,
          500,
          1000,
          1450,
          1350,
          1600,
          1400,
          300,
          1000,
          950,
          1574,
          1200,
          1200,
          300,
          435,
          1400,
          1400,
          700,
          1550,
          1200,
          1400,
          1100,
          1000,
          1600,
          1600,
          1300,
          1200,
          950,
          1200,
          1300,
          1200,
          975
         ],
         "xaxis": "x",
         "y": [
          3,
          0,
          2,
          0,
          2,
          2,
          0,
          1,
          0,
          0,
          1,
          1,
          0,
          2,
          0,
          0,
          2,
          0,
          1,
          0,
          0,
          0,
          5,
          2,
          0,
          3,
          2,
          0,
          0,
          0,
          0,
          0,
          0,
          3,
          4,
          1,
          0,
          0,
          1,
          0,
          0,
          5,
          1,
          0,
          0,
          1,
          1,
          2,
          0,
          2,
          0,
          0,
          0,
          0,
          5,
          5,
          0,
          1,
          2,
          0,
          0,
          2,
          2,
          0,
          0,
          0,
          0,
          3,
          9,
          0,
          1,
          5,
          7,
          4,
          4,
          1,
          1,
          1,
          0,
          2,
          2,
          2,
          0,
          2,
          2,
          0,
          3,
          1,
          2,
          3,
          2,
          0,
          2,
          3,
          1,
          4,
          12,
          5,
          3,
          1,
          12,
          0,
          1,
          0,
          1,
          0,
          0,
          4,
          5,
          2,
          0,
          11,
          0,
          3,
          0,
          5,
          0,
          0,
          1,
          0,
          1,
          16,
          8,
          4,
          1,
          2,
          3,
          5,
          2,
          0,
          7,
          7,
          2,
          1,
          0,
          1,
          3,
          0,
          4,
          5,
          4,
          1,
          1,
          2,
          0,
          0,
          2,
          0,
          2,
          0,
          2,
          0,
          1,
          1,
          0,
          8,
          2,
          0,
          0,
          10,
          0,
          1,
          3,
          5,
          2,
          8,
          0,
          3,
          1,
          0,
          2,
          0,
          2,
          1,
          0,
          2,
          0,
          0,
          2,
          4,
          0,
          0,
          1,
          5,
          0,
          2,
          1,
          7,
          3,
          5,
          3,
          11,
          7,
          2,
          4,
          12,
          11,
          13,
          1
         ],
         "yaxis": "y"
        }
       ],
       "layout": {
        "height": 600,
        "legend": {
         "tracegroupgap": 0
        },
        "paper_bgcolor": "rgba(0, 0, 0, 0)",
        "plot_bgcolor": "rgba(0, 0, 0, 0)",
        "template": {
         "data": {
          "bar": [
           {
            "error_x": {
             "color": "#2a3f5f"
            },
            "error_y": {
             "color": "#2a3f5f"
            },
            "marker": {
             "line": {
              "color": "#E5ECF6",
              "width": 0.5
             },
             "pattern": {
              "fillmode": "overlay",
              "size": 10,
              "solidity": 0.2
             }
            },
            "type": "bar"
           }
          ],
          "barpolar": [
           {
            "marker": {
             "line": {
              "color": "#E5ECF6",
              "width": 0.5
             },
             "pattern": {
              "fillmode": "overlay",
              "size": 10,
              "solidity": 0.2
             }
            },
            "type": "barpolar"
           }
          ],
          "carpet": [
           {
            "aaxis": {
             "endlinecolor": "#2a3f5f",
             "gridcolor": "white",
             "linecolor": "white",
             "minorgridcolor": "white",
             "startlinecolor": "#2a3f5f"
            },
            "baxis": {
             "endlinecolor": "#2a3f5f",
             "gridcolor": "white",
             "linecolor": "white",
             "minorgridcolor": "white",
             "startlinecolor": "#2a3f5f"
            },
            "type": "carpet"
           }
          ],
          "choropleth": [
           {
            "colorbar": {
             "outlinewidth": 0,
             "ticks": ""
            },
            "type": "choropleth"
           }
          ],
          "contour": [
           {
            "colorbar": {
             "outlinewidth": 0,
             "ticks": ""
            },
            "colorscale": [
             [
              0,
              "#0d0887"
             ],
             [
              0.1111111111111111,
              "#46039f"
             ],
             [
              0.2222222222222222,
              "#7201a8"
             ],
             [
              0.3333333333333333,
              "#9c179e"
             ],
             [
              0.4444444444444444,
              "#bd3786"
             ],
             [
              0.5555555555555556,
              "#d8576b"
             ],
             [
              0.6666666666666666,
              "#ed7953"
             ],
             [
              0.7777777777777778,
              "#fb9f3a"
             ],
             [
              0.8888888888888888,
              "#fdca26"
             ],
             [
              1,
              "#f0f921"
             ]
            ],
            "type": "contour"
           }
          ],
          "contourcarpet": [
           {
            "colorbar": {
             "outlinewidth": 0,
             "ticks": ""
            },
            "type": "contourcarpet"
           }
          ],
          "heatmap": [
           {
            "colorbar": {
             "outlinewidth": 0,
             "ticks": ""
            },
            "colorscale": [
             [
              0,
              "#0d0887"
             ],
             [
              0.1111111111111111,
              "#46039f"
             ],
             [
              0.2222222222222222,
              "#7201a8"
             ],
             [
              0.3333333333333333,
              "#9c179e"
             ],
             [
              0.4444444444444444,
              "#bd3786"
             ],
             [
              0.5555555555555556,
              "#d8576b"
             ],
             [
              0.6666666666666666,
              "#ed7953"
             ],
             [
              0.7777777777777778,
              "#fb9f3a"
             ],
             [
              0.8888888888888888,
              "#fdca26"
             ],
             [
              1,
              "#f0f921"
             ]
            ],
            "type": "heatmap"
           }
          ],
          "heatmapgl": [
           {
            "colorbar": {
             "outlinewidth": 0,
             "ticks": ""
            },
            "colorscale": [
             [
              0,
              "#0d0887"
             ],
             [
              0.1111111111111111,
              "#46039f"
             ],
             [
              0.2222222222222222,
              "#7201a8"
             ],
             [
              0.3333333333333333,
              "#9c179e"
             ],
             [
              0.4444444444444444,
              "#bd3786"
             ],
             [
              0.5555555555555556,
              "#d8576b"
             ],
             [
              0.6666666666666666,
              "#ed7953"
             ],
             [
              0.7777777777777778,
              "#fb9f3a"
             ],
             [
              0.8888888888888888,
              "#fdca26"
             ],
             [
              1,
              "#f0f921"
             ]
            ],
            "type": "heatmapgl"
           }
          ],
          "histogram": [
           {
            "marker": {
             "pattern": {
              "fillmode": "overlay",
              "size": 10,
              "solidity": 0.2
             }
            },
            "type": "histogram"
           }
          ],
          "histogram2d": [
           {
            "colorbar": {
             "outlinewidth": 0,
             "ticks": ""
            },
            "colorscale": [
             [
              0,
              "#0d0887"
             ],
             [
              0.1111111111111111,
              "#46039f"
             ],
             [
              0.2222222222222222,
              "#7201a8"
             ],
             [
              0.3333333333333333,
              "#9c179e"
             ],
             [
              0.4444444444444444,
              "#bd3786"
             ],
             [
              0.5555555555555556,
              "#d8576b"
             ],
             [
              0.6666666666666666,
              "#ed7953"
             ],
             [
              0.7777777777777778,
              "#fb9f3a"
             ],
             [
              0.8888888888888888,
              "#fdca26"
             ],
             [
              1,
              "#f0f921"
             ]
            ],
            "type": "histogram2d"
           }
          ],
          "histogram2dcontour": [
           {
            "colorbar": {
             "outlinewidth": 0,
             "ticks": ""
            },
            "colorscale": [
             [
              0,
              "#0d0887"
             ],
             [
              0.1111111111111111,
              "#46039f"
             ],
             [
              0.2222222222222222,
              "#7201a8"
             ],
             [
              0.3333333333333333,
              "#9c179e"
             ],
             [
              0.4444444444444444,
              "#bd3786"
             ],
             [
              0.5555555555555556,
              "#d8576b"
             ],
             [
              0.6666666666666666,
              "#ed7953"
             ],
             [
              0.7777777777777778,
              "#fb9f3a"
             ],
             [
              0.8888888888888888,
              "#fdca26"
             ],
             [
              1,
              "#f0f921"
             ]
            ],
            "type": "histogram2dcontour"
           }
          ],
          "mesh3d": [
           {
            "colorbar": {
             "outlinewidth": 0,
             "ticks": ""
            },
            "type": "mesh3d"
           }
          ],
          "parcoords": [
           {
            "line": {
             "colorbar": {
              "outlinewidth": 0,
              "ticks": ""
             }
            },
            "type": "parcoords"
           }
          ],
          "pie": [
           {
            "automargin": true,
            "type": "pie"
           }
          ],
          "scatter": [
           {
            "fillpattern": {
             "fillmode": "overlay",
             "size": 10,
             "solidity": 0.2
            },
            "type": "scatter"
           }
          ],
          "scatter3d": [
           {
            "line": {
             "colorbar": {
              "outlinewidth": 0,
              "ticks": ""
             }
            },
            "marker": {
             "colorbar": {
              "outlinewidth": 0,
              "ticks": ""
             }
            },
            "type": "scatter3d"
           }
          ],
          "scattercarpet": [
           {
            "marker": {
             "colorbar": {
              "outlinewidth": 0,
              "ticks": ""
             }
            },
            "type": "scattercarpet"
           }
          ],
          "scattergeo": [
           {
            "marker": {
             "colorbar": {
              "outlinewidth": 0,
              "ticks": ""
             }
            },
            "type": "scattergeo"
           }
          ],
          "scattergl": [
           {
            "marker": {
             "colorbar": {
              "outlinewidth": 0,
              "ticks": ""
             }
            },
            "type": "scattergl"
           }
          ],
          "scattermapbox": [
           {
            "marker": {
             "colorbar": {
              "outlinewidth": 0,
              "ticks": ""
             }
            },
            "type": "scattermapbox"
           }
          ],
          "scatterpolar": [
           {
            "marker": {
             "colorbar": {
              "outlinewidth": 0,
              "ticks": ""
             }
            },
            "type": "scatterpolar"
           }
          ],
          "scatterpolargl": [
           {
            "marker": {
             "colorbar": {
              "outlinewidth": 0,
              "ticks": ""
             }
            },
            "type": "scatterpolargl"
           }
          ],
          "scatterternary": [
           {
            "marker": {
             "colorbar": {
              "outlinewidth": 0,
              "ticks": ""
             }
            },
            "type": "scatterternary"
           }
          ],
          "surface": [
           {
            "colorbar": {
             "outlinewidth": 0,
             "ticks": ""
            },
            "colorscale": [
             [
              0,
              "#0d0887"
             ],
             [
              0.1111111111111111,
              "#46039f"
             ],
             [
              0.2222222222222222,
              "#7201a8"
             ],
             [
              0.3333333333333333,
              "#9c179e"
             ],
             [
              0.4444444444444444,
              "#bd3786"
             ],
             [
              0.5555555555555556,
              "#d8576b"
             ],
             [
              0.6666666666666666,
              "#ed7953"
             ],
             [
              0.7777777777777778,
              "#fb9f3a"
             ],
             [
              0.8888888888888888,
              "#fdca26"
             ],
             [
              1,
              "#f0f921"
             ]
            ],
            "type": "surface"
           }
          ],
          "table": [
           {
            "cells": {
             "fill": {
              "color": "#EBF0F8"
             },
             "line": {
              "color": "white"
             }
            },
            "header": {
             "fill": {
              "color": "#C8D4E3"
             },
             "line": {
              "color": "white"
             }
            },
            "type": "table"
           }
          ]
         },
         "layout": {
          "annotationdefaults": {
           "arrowcolor": "#2a3f5f",
           "arrowhead": 0,
           "arrowwidth": 1
          },
          "autotypenumbers": "strict",
          "coloraxis": {
           "colorbar": {
            "outlinewidth": 0,
            "ticks": ""
           }
          },
          "colorscale": {
           "diverging": [
            [
             0,
             "#8e0152"
            ],
            [
             0.1,
             "#c51b7d"
            ],
            [
             0.2,
             "#de77ae"
            ],
            [
             0.3,
             "#f1b6da"
            ],
            [
             0.4,
             "#fde0ef"
            ],
            [
             0.5,
             "#f7f7f7"
            ],
            [
             0.6,
             "#e6f5d0"
            ],
            [
             0.7,
             "#b8e186"
            ],
            [
             0.8,
             "#7fbc41"
            ],
            [
             0.9,
             "#4d9221"
            ],
            [
             1,
             "#276419"
            ]
           ],
           "sequential": [
            [
             0,
             "#0d0887"
            ],
            [
             0.1111111111111111,
             "#46039f"
            ],
            [
             0.2222222222222222,
             "#7201a8"
            ],
            [
             0.3333333333333333,
             "#9c179e"
            ],
            [
             0.4444444444444444,
             "#bd3786"
            ],
            [
             0.5555555555555556,
             "#d8576b"
            ],
            [
             0.6666666666666666,
             "#ed7953"
            ],
            [
             0.7777777777777778,
             "#fb9f3a"
            ],
            [
             0.8888888888888888,
             "#fdca26"
            ],
            [
             1,
             "#f0f921"
            ]
           ],
           "sequentialminus": [
            [
             0,
             "#0d0887"
            ],
            [
             0.1111111111111111,
             "#46039f"
            ],
            [
             0.2222222222222222,
             "#7201a8"
            ],
            [
             0.3333333333333333,
             "#9c179e"
            ],
            [
             0.4444444444444444,
             "#bd3786"
            ],
            [
             0.5555555555555556,
             "#d8576b"
            ],
            [
             0.6666666666666666,
             "#ed7953"
            ],
            [
             0.7777777777777778,
             "#fb9f3a"
            ],
            [
             0.8888888888888888,
             "#fdca26"
            ],
            [
             1,
             "#f0f921"
            ]
           ]
          },
          "colorway": [
           "#636efa",
           "#EF553B",
           "#00cc96",
           "#ab63fa",
           "#FFA15A",
           "#19d3f3",
           "#FF6692",
           "#B6E880",
           "#FF97FF",
           "#FECB52"
          ],
          "font": {
           "color": "#2a3f5f"
          },
          "geo": {
           "bgcolor": "white",
           "lakecolor": "white",
           "landcolor": "#E5ECF6",
           "showlakes": true,
           "showland": true,
           "subunitcolor": "white"
          },
          "hoverlabel": {
           "align": "left"
          },
          "hovermode": "closest",
          "mapbox": {
           "style": "light"
          },
          "paper_bgcolor": "white",
          "plot_bgcolor": "#E5ECF6",
          "polar": {
           "angularaxis": {
            "gridcolor": "white",
            "linecolor": "white",
            "ticks": ""
           },
           "bgcolor": "#E5ECF6",
           "radialaxis": {
            "gridcolor": "white",
            "linecolor": "white",
            "ticks": ""
           }
          },
          "scene": {
           "xaxis": {
            "backgroundcolor": "#E5ECF6",
            "gridcolor": "white",
            "gridwidth": 2,
            "linecolor": "white",
            "showbackground": true,
            "ticks": "",
            "zerolinecolor": "white"
           },
           "yaxis": {
            "backgroundcolor": "#E5ECF6",
            "gridcolor": "white",
            "gridwidth": 2,
            "linecolor": "white",
            "showbackground": true,
            "ticks": "",
            "zerolinecolor": "white"
           },
           "zaxis": {
            "backgroundcolor": "#E5ECF6",
            "gridcolor": "white",
            "gridwidth": 2,
            "linecolor": "white",
            "showbackground": true,
            "ticks": "",
            "zerolinecolor": "white"
           }
          },
          "shapedefaults": {
           "line": {
            "color": "#2a3f5f"
           }
          },
          "ternary": {
           "aaxis": {
            "gridcolor": "white",
            "linecolor": "white",
            "ticks": ""
           },
           "baxis": {
            "gridcolor": "white",
            "linecolor": "white",
            "ticks": ""
           },
           "bgcolor": "#E5ECF6",
           "caxis": {
            "gridcolor": "white",
            "linecolor": "white",
            "ticks": ""
           }
          },
          "title": {
           "x": 0.05
          },
          "xaxis": {
           "automargin": true,
           "gridcolor": "white",
           "linecolor": "white",
           "ticks": "",
           "title": {
            "standoff": 15
           },
           "zerolinecolor": "white",
           "zerolinewidth": 2
          },
          "yaxis": {
           "automargin": true,
           "gridcolor": "white",
           "linecolor": "white",
           "ticks": "",
           "title": {
            "standoff": 15
           },
           "zerolinecolor": "white",
           "zerolinewidth": 2
          }
         }
        },
        "title": {
         "text": "Category Two Defects by Altitude"
        },
        "width": 1200,
        "xaxis": {
         "anchor": "y",
         "domain": [
          0,
          1
         ],
         "title": {
          "text": "Altitude"
         }
        },
        "yaxis": {
         "anchor": "x",
         "domain": [
          0,
          1
         ],
         "title": {
          "text": "Category Two Defects"
         }
        }
       }
      }
     },
     "metadata": {},
     "output_type": "display_data"
    }
   ],
   "source": [
    "defects_by_altitude = px.scatter(coffee, x='altitude_mean', y='category_two_defects', \n",
    "                                 title=('Category Two Defects by Altitude'), \n",
    "                                 labels={'altitude_mean':'Altitude', \n",
    "                                         'category_two_defects':'Category Two Defects'},\n",
    "                                 color_discrete_sequence=[px.colors.qualitative.Antique[6]],\n",
    "                                 hover_data=['country_of_origin', 'variety'],\n",
    "                                 width=1200, height=600)\n",
    "\n",
    "defects_by_altitude.update_layout({\n",
    "    'plot_bgcolor':'rgba(0, 0, 0, 0)',\n",
    "    'paper_bgcolor':'rgba(0, 0, 0, 0)'\n",
    "    })\n",
    "\n",
    "defects_by_altitude.show()"
   ]
  },
  {
   "cell_type": "code",
   "execution_count": 704,
   "metadata": {},
   "outputs": [
    {
     "data": {
      "application/vnd.plotly.v1+json": {
       "config": {
        "plotlyServerURL": "https://plot.ly"
       },
       "data": [
        {
         "customdata": [
          [
           "Colombia",
           "Castillo"
          ],
          [
           "Taiwan",
           "Gesha"
          ],
          [
           "Laos",
           "Java"
          ],
          [
           "Costa Rica",
           "Gesha"
          ],
          [
           "Colombia",
           "Red Bourbon"
          ],
          [
           "Guatemala",
           "Gesha"
          ],
          [
           "Taiwan",
           "Gesha"
          ],
          [
           "Taiwan",
           "Sl34+Gesha"
          ],
          [
           "Taiwan",
           "SL34"
          ],
          [
           "Tanzania",
           "Bourbon"
          ],
          [
           "Ethiopia",
           "Ethiopian Heirlooms"
          ],
          [
           "Guatemala",
           "Gesha"
          ],
          [
           "Taiwan",
           "Gesha"
          ],
          [
           "Ethiopia",
           "Gesha"
          ],
          [
           "Colombia",
           "Caturra"
          ],
          [
           "Taiwan",
           "SL34"
          ],
          [
           "Ethiopia",
           "Wolishalo,Kurume,Dega"
          ],
          [
           "Taiwan",
           "Gesha"
          ],
          [
           "Taiwan",
           "Gesha"
          ],
          [
           "Tanzania",
           "Bourbon"
          ],
          [
           "Guatemala",
           "Gesha"
          ],
          [
           "Taiwan",
           "Typica"
          ],
          [
           "Thailand",
           "Catimor"
          ],
          [
           "Colombia",
           "Castillo Paraguaycito"
          ],
          [
           "Taiwan",
           "SL34"
          ],
          [
           "Brazil",
           "unknown"
          ],
          [
           "Taiwan",
           "Gesha"
          ],
          [
           "Taiwan",
           "Gesha"
          ],
          [
           "Taiwan",
           "Gesha"
          ],
          [
           "United States (Hawaii)",
           "Typica"
          ],
          [
           "Taiwan",
           "Typica"
          ],
          [
           "Taiwan",
           "Typica"
          ],
          [
           "Taiwan",
           "Gesha"
          ],
          [
           "Ethiopia",
           "Ethiopian Heirlooms"
          ],
          [
           "Ethiopia",
           "Ethiopian Heirlooms"
          ],
          [
           "Ethiopia",
           "Ethiopian Heirlooms"
          ],
          [
           "Taiwan",
           "Gesha"
          ],
          [
           "Taiwan",
           "Gesha"
          ],
          [
           "Kenya",
           "SL28"
          ],
          [
           "Taiwan",
           "Typica"
          ],
          [
           "Taiwan",
           "Typica"
          ],
          [
           "Taiwan",
           "Gesha"
          ],
          [
           "Uganda",
           "SL14"
          ],
          [
           "Taiwan",
           "Typica"
          ],
          [
           "Taiwan",
           "Gesha"
          ],
          [
           "Guatemala",
           "Caturra"
          ],
          [
           "Guatemala",
           "Caturra"
          ],
          [
           "Taiwan",
           "Typica"
          ],
          [
           "Taiwan",
           "Yellow Bourbon"
          ],
          [
           "Indonesia",
           "Catimor"
          ],
          [
           "Peru",
           "Gesha"
          ],
          [
           "Tanzania",
           "Bourbon"
          ],
          [
           "Taiwan",
           "SL34"
          ],
          [
           "Taiwan",
           "SL34"
          ],
          [
           "Brazil",
           "Yellow Bourbon"
          ],
          [
           "Panama",
           "Catuai"
          ],
          [
           "Taiwan",
           "Yellow Bourbon"
          ],
          [
           "Guatemala",
           "Caturra"
          ],
          [
           "Costa Rica",
           "Caturra"
          ],
          [
           "Taiwan",
           "Typica"
          ],
          [
           "Taiwan",
           "Gesha"
          ],
          [
           "Nicaragua",
           "Catrenic"
          ],
          [
           "Taiwan",
           "Gesha"
          ],
          [
           "Taiwan",
           "SL34"
          ],
          [
           "Vietnam",
           "Catimor"
          ],
          [
           "Costa Rica",
           "Gesha"
          ],
          [
           "Taiwan",
           "unknown"
          ],
          [
           "Honduras",
           "Catuai"
          ],
          [
           "Ethiopia",
           "Ethiopian Heirlooms"
          ],
          [
           "Taiwan",
           "Typica"
          ],
          [
           "Taiwan",
           "Gesha"
          ],
          [
           "Guatemala",
           "Bourbon"
          ],
          [
           "United States (Hawaii)",
           "Catuai"
          ],
          [
           "Ethiopia",
           "Ethiopian Heirlooms"
          ],
          [
           "El Salvador",
           "Pacamara"
          ],
          [
           "Colombia",
           "Castillo and Colombia blend"
          ],
          [
           "Indonesia",
           "Jember,TIM-TIM,Ateng"
          ],
          [
           "Guatemala",
           "Typica"
          ],
          [
           "Madagascar",
           "Bourbon"
          ],
          [
           "Honduras",
           "Catuai"
          ],
          [
           "Guatemala",
           "Caturra"
          ],
          [
           "Taiwan",
           "unknown"
          ],
          [
           "Taiwan",
           "Gesha"
          ],
          [
           "Guatemala",
           "Caturra"
          ],
          [
           "Guatemala",
           "Caturra"
          ],
          [
           "Honduras",
           "Typica"
          ],
          [
           "Tanzania",
           "Bourbon"
          ],
          [
           "Ethiopia",
           "Ethiopian Heirlooms"
          ],
          [
           "Tanzania",
           "Bourbon"
          ],
          [
           "Colombia",
           "Caturra"
          ],
          [
           "Costa Rica",
           "Caturra"
          ],
          [
           "Guatemala",
           "Gesha"
          ],
          [
           "Guatemala",
           "Bourbon"
          ],
          [
           "Thailand",
           "Catimor"
          ],
          [
           "Colombia",
           "unknown"
          ],
          [
           "Guatemala",
           "BOURBON, CATURRA Y CATIMOR"
          ],
          [
           "Ethiopia",
           "Ethiopian Heirlooms"
          ],
          [
           "Colombia",
           "Caturra"
          ],
          [
           "United States (Hawaii)",
           "Typica"
          ],
          [
           "Colombia",
           "Bourbon Sidra"
          ],
          [
           "Mexico",
           "Sarchimor"
          ],
          [
           "Taiwan",
           "SL34"
          ],
          [
           "Myanmar",
           "Catimor,Catuai,Caturra,Bourbon"
          ],
          [
           "Taiwan",
           "unknown"
          ],
          [
           "Honduras",
           "Parainema"
          ],
          [
           "Taiwan",
           "unknown"
          ],
          [
           "Taiwan",
           "Typica"
          ],
          [
           "Guatemala",
           "Caturra"
          ],
          [
           "Honduras",
           "SHG"
          ],
          [
           "Colombia",
           "Caturra"
          ],
          [
           "Thailand",
           "Bourbon"
          ],
          [
           "Ethiopia",
           "Ethiopian Heirlooms"
          ],
          [
           "Thailand",
           "Java"
          ],
          [
           "Uganda",
           "SL14"
          ],
          [
           "Taiwan",
           "Typica + SL34"
          ],
          [
           "Uganda",
           "SL14"
          ],
          [
           "Taiwan",
           "Typica"
          ],
          [
           "Guatemala",
           "MARSELLESA, CATUAI, CATURRA & MARSELLESA, ANACAFE 14, CATUAI"
          ],
          [
           "Taiwan",
           "Typica"
          ],
          [
           "Colombia",
           "Caturra"
          ],
          [
           "Taiwan",
           "SL34"
          ],
          [
           "Thailand",
           "Typica"
          ],
          [
           "Tanzania",
           "Bourbon"
          ],
          [
           "Brazil",
           "Mundo Novo"
          ],
          [
           "Taiwan",
           "unknown"
          ],
          [
           "Colombia",
           "Red Bourbon,Caturra"
          ],
          [
           "Honduras",
           "Lempira"
          ],
          [
           "Honduras",
           "Catuai"
          ],
          [
           "Taiwan",
           "Typica"
          ],
          [
           "Taiwan",
           "unknown"
          ],
          [
           "Laos",
           "Catimor"
          ],
          [
           "Honduras",
           "Catuai"
          ],
          [
           "Honduras",
           "Catuai"
          ],
          [
           "Colombia",
           "Caturra"
          ],
          [
           "Taiwan",
           "Typica"
          ],
          [
           "Mexico",
           "Bourbon"
          ],
          [
           "Colombia",
           "Typica Gesha"
          ],
          [
           "Taiwan",
           "Gesha"
          ],
          [
           "Honduras",
           "Catuai"
          ],
          [
           "Thailand",
           "Gayo"
          ],
          [
           "Vietnam",
           "Catimor"
          ],
          [
           "Nicaragua",
           "SHG"
          ],
          [
           "Costa Rica",
           "SL28"
          ],
          [
           "Colombia",
           "Caturra"
          ],
          [
           "Thailand",
           "Caturra"
          ],
          [
           "Thailand",
           "Bourbon, Catimor, Caturra, Typica"
          ],
          [
           "Honduras",
           "Catuai"
          ],
          [
           "Taiwan",
           "unknow"
          ],
          [
           "Taiwan",
           "Caturra"
          ],
          [
           "Nicaragua",
           "Parainema"
          ],
          [
           "El Salvador",
           "Bourbon"
          ],
          [
           "Panama",
           "Caturra"
          ],
          [
           "Brazil",
           "Mundo Novo"
          ],
          [
           "United States (Hawaii)",
           "Maragogype"
          ],
          [
           "Mexico",
           "Pacamara"
          ],
          [
           "Honduras",
           "Catuai"
          ],
          [
           "Taiwan",
           "unknown"
          ],
          [
           "Nicaragua",
           "Caturra-Catuai"
          ],
          [
           "Vietnam",
           "Catimor"
          ],
          [
           "El Salvador",
           "Bourbon"
          ],
          [
           "El Salvador",
           "Bourbon"
          ],
          [
           "Taiwan",
           "unknown"
          ],
          [
           "Peru",
           "Caturra"
          ],
          [
           "United States (Hawaii)",
           "Typica"
          ],
          [
           "Kenya",
           "SL28,SL34,Ruiru11"
          ],
          [
           "Honduras",
           "Catuai"
          ],
          [
           "Taiwan",
           "unknown"
          ],
          [
           "Taiwan",
           "unknown"
          ],
          [
           "Taiwan",
           "unknown"
          ],
          [
           "Thailand",
           "Catimor"
          ],
          [
           "Guatemala",
           "unknown"
          ],
          [
           "Indonesia",
           "unknown"
          ],
          [
           "Peru",
           "Caturra"
          ],
          [
           "Guatemala",
           "Caturra"
          ],
          [
           "Taiwan",
           "Typica"
          ],
          [
           "Brazil",
           "Yellow Catuai"
          ],
          [
           "Brazil",
           "Catucai"
          ],
          [
           "Colombia",
           "Santander"
          ],
          [
           "Mexico",
           "Typica"
          ],
          [
           "Costa Rica",
           "Caturra"
          ],
          [
           "Taiwan",
           "Typica"
          ],
          [
           "Taiwan",
           "unknown"
          ],
          [
           "Thailand",
           "Java"
          ],
          [
           "Thailand",
           "Typica Bourbon Caturra Catimor"
          ],
          [
           "Thailand",
           "Catimor"
          ],
          [
           "Colombia",
           "Caturra,Colombia,Castillo"
          ],
          [
           "Brazil",
           "unknown"
          ],
          [
           "El Salvador",
           "Bourbon"
          ],
          [
           "Nicaragua",
           "Caturra"
          ],
          [
           "Nicaragua",
           "Sarchimor"
          ],
          [
           "Colombia",
           "Castillo,Caturra,Bourbon"
          ],
          [
           "Peru",
           "Caturra"
          ],
          [
           "El Salvador",
           "Pacas"
          ],
          [
           "Brazil",
           "Catuai and Mundo Novo"
          ],
          [
           "Brazil",
           "Mundo Novo"
          ],
          [
           "Nicaragua",
           "SHG"
          ],
          [
           "Laos",
           "Catimor"
          ],
          [
           "El Salvador",
           "Maragogype"
          ],
          [
           "Brazil",
           "Mundo Novo"
          ]
         ],
         "hovertemplate": "Total Cup Points=%{x}<br>Category Two Defects=%{y}<br>country_of_origin=%{customdata[0]}<br>variety=%{customdata[1]}<extra></extra>",
         "legendgroup": "",
         "marker": {
          "color": "rgb(104, 133, 92)",
          "symbol": "circle"
         },
         "mode": "markers",
         "name": "",
         "orientation": "v",
         "showlegend": false,
         "type": "scatter",
         "x": [
          89.33,
          87.58,
          87.42,
          87.17,
          87.08,
          87,
          86.92,
          86.75,
          86.67,
          86.5,
          86.25,
          86.25,
          86.25,
          86.17,
          86.17,
          86.08,
          86.08,
          86.08,
          85.92,
          85.83,
          85.75,
          85.67,
          85.67,
          85.67,
          85.58,
          85.5,
          85.5,
          85.5,
          85.5,
          85.42,
          85.42,
          85.33,
          85.33,
          85.33,
          85.33,
          85.25,
          85.25,
          85.25,
          85.25,
          85.08,
          85.08,
          85.08,
          85,
          85,
          85,
          85,
          84.92,
          84.92,
          84.83,
          84.83,
          84.83,
          84.83,
          84.83,
          84.75,
          84.75,
          84.75,
          84.75,
          84.67,
          84.67,
          84.58,
          84.58,
          84.58,
          84.58,
          84.58,
          84.58,
          84.5,
          84.5,
          84.5,
          84.5,
          84.5,
          84.42,
          84.33,
          84.33,
          84.33,
          84.33,
          84.33,
          84.25,
          84.25,
          84.25,
          84.17,
          84.08,
          84.08,
          84.08,
          84.08,
          84,
          84,
          84,
          84,
          84,
          84,
          83.92,
          83.92,
          83.92,
          83.92,
          83.83,
          83.83,
          83.83,
          83.83,
          83.83,
          83.75,
          83.75,
          83.67,
          83.67,
          83.67,
          83.67,
          83.58,
          83.58,
          83.58,
          83.5,
          83.5,
          83.5,
          83.5,
          83.42,
          83.42,
          83.42,
          83.33,
          83.33,
          83.33,
          83.33,
          83.33,
          83.33,
          83.33,
          83.25,
          83.25,
          83.25,
          83.25,
          83.25,
          83.25,
          83.17,
          83.17,
          83.08,
          83.08,
          83.08,
          83,
          82.92,
          82.92,
          82.92,
          82.92,
          82.83,
          82.83,
          82.83,
          82.75,
          82.75,
          82.67,
          82.67,
          82.67,
          82.67,
          82.58,
          82.58,
          82.58,
          82.5,
          82.5,
          82.5,
          82.5,
          82.5,
          82.5,
          82.5,
          82.42,
          82.33,
          82.33,
          82.33,
          82.33,
          82.25,
          82.17,
          82.17,
          82.17,
          82.08,
          82.08,
          82,
          82,
          82,
          82,
          81.92,
          81.92,
          81.83,
          81.83,
          81.75,
          81.75,
          81.67,
          81.58,
          81.58,
          81.5,
          81.42,
          81.33,
          81.17,
          81.17,
          81,
          80.83,
          80.5,
          80.42,
          80.42,
          80.33,
          80.33,
          80.17,
          80.08,
          80,
          79.67,
          78.08,
          78
         ],
         "xaxis": "x",
         "y": [
          3,
          0,
          2,
          0,
          2,
          2,
          0,
          1,
          0,
          0,
          1,
          1,
          0,
          2,
          0,
          0,
          2,
          0,
          1,
          0,
          0,
          0,
          5,
          2,
          0,
          3,
          2,
          0,
          0,
          0,
          0,
          0,
          0,
          3,
          4,
          1,
          0,
          0,
          1,
          0,
          0,
          5,
          1,
          0,
          0,
          1,
          1,
          2,
          0,
          2,
          0,
          0,
          0,
          0,
          5,
          5,
          0,
          1,
          2,
          0,
          0,
          2,
          2,
          0,
          0,
          0,
          0,
          3,
          9,
          0,
          1,
          5,
          7,
          4,
          4,
          1,
          1,
          1,
          0,
          2,
          2,
          2,
          0,
          2,
          2,
          0,
          3,
          1,
          2,
          3,
          2,
          0,
          2,
          3,
          1,
          4,
          12,
          5,
          3,
          1,
          12,
          0,
          1,
          0,
          1,
          0,
          0,
          4,
          5,
          2,
          0,
          11,
          0,
          3,
          0,
          5,
          0,
          0,
          1,
          0,
          1,
          16,
          8,
          4,
          1,
          2,
          3,
          5,
          2,
          0,
          7,
          7,
          2,
          1,
          0,
          1,
          3,
          0,
          4,
          5,
          4,
          1,
          1,
          2,
          0,
          0,
          2,
          0,
          2,
          0,
          2,
          0,
          1,
          1,
          0,
          8,
          2,
          0,
          0,
          10,
          0,
          1,
          3,
          5,
          2,
          8,
          0,
          3,
          1,
          0,
          2,
          0,
          2,
          1,
          0,
          2,
          0,
          0,
          2,
          4,
          0,
          0,
          1,
          5,
          0,
          2,
          1,
          7,
          3,
          5,
          3,
          11,
          7,
          2,
          4,
          12,
          11,
          13,
          1
         ],
         "yaxis": "y"
        }
       ],
       "layout": {
        "height": 600,
        "legend": {
         "tracegroupgap": 0
        },
        "paper_bgcolor": "rgba(0, 0, 0, 0)",
        "plot_bgcolor": "rgba(0, 0, 0, 0)",
        "template": {
         "data": {
          "bar": [
           {
            "error_x": {
             "color": "#2a3f5f"
            },
            "error_y": {
             "color": "#2a3f5f"
            },
            "marker": {
             "line": {
              "color": "#E5ECF6",
              "width": 0.5
             },
             "pattern": {
              "fillmode": "overlay",
              "size": 10,
              "solidity": 0.2
             }
            },
            "type": "bar"
           }
          ],
          "barpolar": [
           {
            "marker": {
             "line": {
              "color": "#E5ECF6",
              "width": 0.5
             },
             "pattern": {
              "fillmode": "overlay",
              "size": 10,
              "solidity": 0.2
             }
            },
            "type": "barpolar"
           }
          ],
          "carpet": [
           {
            "aaxis": {
             "endlinecolor": "#2a3f5f",
             "gridcolor": "white",
             "linecolor": "white",
             "minorgridcolor": "white",
             "startlinecolor": "#2a3f5f"
            },
            "baxis": {
             "endlinecolor": "#2a3f5f",
             "gridcolor": "white",
             "linecolor": "white",
             "minorgridcolor": "white",
             "startlinecolor": "#2a3f5f"
            },
            "type": "carpet"
           }
          ],
          "choropleth": [
           {
            "colorbar": {
             "outlinewidth": 0,
             "ticks": ""
            },
            "type": "choropleth"
           }
          ],
          "contour": [
           {
            "colorbar": {
             "outlinewidth": 0,
             "ticks": ""
            },
            "colorscale": [
             [
              0,
              "#0d0887"
             ],
             [
              0.1111111111111111,
              "#46039f"
             ],
             [
              0.2222222222222222,
              "#7201a8"
             ],
             [
              0.3333333333333333,
              "#9c179e"
             ],
             [
              0.4444444444444444,
              "#bd3786"
             ],
             [
              0.5555555555555556,
              "#d8576b"
             ],
             [
              0.6666666666666666,
              "#ed7953"
             ],
             [
              0.7777777777777778,
              "#fb9f3a"
             ],
             [
              0.8888888888888888,
              "#fdca26"
             ],
             [
              1,
              "#f0f921"
             ]
            ],
            "type": "contour"
           }
          ],
          "contourcarpet": [
           {
            "colorbar": {
             "outlinewidth": 0,
             "ticks": ""
            },
            "type": "contourcarpet"
           }
          ],
          "heatmap": [
           {
            "colorbar": {
             "outlinewidth": 0,
             "ticks": ""
            },
            "colorscale": [
             [
              0,
              "#0d0887"
             ],
             [
              0.1111111111111111,
              "#46039f"
             ],
             [
              0.2222222222222222,
              "#7201a8"
             ],
             [
              0.3333333333333333,
              "#9c179e"
             ],
             [
              0.4444444444444444,
              "#bd3786"
             ],
             [
              0.5555555555555556,
              "#d8576b"
             ],
             [
              0.6666666666666666,
              "#ed7953"
             ],
             [
              0.7777777777777778,
              "#fb9f3a"
             ],
             [
              0.8888888888888888,
              "#fdca26"
             ],
             [
              1,
              "#f0f921"
             ]
            ],
            "type": "heatmap"
           }
          ],
          "heatmapgl": [
           {
            "colorbar": {
             "outlinewidth": 0,
             "ticks": ""
            },
            "colorscale": [
             [
              0,
              "#0d0887"
             ],
             [
              0.1111111111111111,
              "#46039f"
             ],
             [
              0.2222222222222222,
              "#7201a8"
             ],
             [
              0.3333333333333333,
              "#9c179e"
             ],
             [
              0.4444444444444444,
              "#bd3786"
             ],
             [
              0.5555555555555556,
              "#d8576b"
             ],
             [
              0.6666666666666666,
              "#ed7953"
             ],
             [
              0.7777777777777778,
              "#fb9f3a"
             ],
             [
              0.8888888888888888,
              "#fdca26"
             ],
             [
              1,
              "#f0f921"
             ]
            ],
            "type": "heatmapgl"
           }
          ],
          "histogram": [
           {
            "marker": {
             "pattern": {
              "fillmode": "overlay",
              "size": 10,
              "solidity": 0.2
             }
            },
            "type": "histogram"
           }
          ],
          "histogram2d": [
           {
            "colorbar": {
             "outlinewidth": 0,
             "ticks": ""
            },
            "colorscale": [
             [
              0,
              "#0d0887"
             ],
             [
              0.1111111111111111,
              "#46039f"
             ],
             [
              0.2222222222222222,
              "#7201a8"
             ],
             [
              0.3333333333333333,
              "#9c179e"
             ],
             [
              0.4444444444444444,
              "#bd3786"
             ],
             [
              0.5555555555555556,
              "#d8576b"
             ],
             [
              0.6666666666666666,
              "#ed7953"
             ],
             [
              0.7777777777777778,
              "#fb9f3a"
             ],
             [
              0.8888888888888888,
              "#fdca26"
             ],
             [
              1,
              "#f0f921"
             ]
            ],
            "type": "histogram2d"
           }
          ],
          "histogram2dcontour": [
           {
            "colorbar": {
             "outlinewidth": 0,
             "ticks": ""
            },
            "colorscale": [
             [
              0,
              "#0d0887"
             ],
             [
              0.1111111111111111,
              "#46039f"
             ],
             [
              0.2222222222222222,
              "#7201a8"
             ],
             [
              0.3333333333333333,
              "#9c179e"
             ],
             [
              0.4444444444444444,
              "#bd3786"
             ],
             [
              0.5555555555555556,
              "#d8576b"
             ],
             [
              0.6666666666666666,
              "#ed7953"
             ],
             [
              0.7777777777777778,
              "#fb9f3a"
             ],
             [
              0.8888888888888888,
              "#fdca26"
             ],
             [
              1,
              "#f0f921"
             ]
            ],
            "type": "histogram2dcontour"
           }
          ],
          "mesh3d": [
           {
            "colorbar": {
             "outlinewidth": 0,
             "ticks": ""
            },
            "type": "mesh3d"
           }
          ],
          "parcoords": [
           {
            "line": {
             "colorbar": {
              "outlinewidth": 0,
              "ticks": ""
             }
            },
            "type": "parcoords"
           }
          ],
          "pie": [
           {
            "automargin": true,
            "type": "pie"
           }
          ],
          "scatter": [
           {
            "fillpattern": {
             "fillmode": "overlay",
             "size": 10,
             "solidity": 0.2
            },
            "type": "scatter"
           }
          ],
          "scatter3d": [
           {
            "line": {
             "colorbar": {
              "outlinewidth": 0,
              "ticks": ""
             }
            },
            "marker": {
             "colorbar": {
              "outlinewidth": 0,
              "ticks": ""
             }
            },
            "type": "scatter3d"
           }
          ],
          "scattercarpet": [
           {
            "marker": {
             "colorbar": {
              "outlinewidth": 0,
              "ticks": ""
             }
            },
            "type": "scattercarpet"
           }
          ],
          "scattergeo": [
           {
            "marker": {
             "colorbar": {
              "outlinewidth": 0,
              "ticks": ""
             }
            },
            "type": "scattergeo"
           }
          ],
          "scattergl": [
           {
            "marker": {
             "colorbar": {
              "outlinewidth": 0,
              "ticks": ""
             }
            },
            "type": "scattergl"
           }
          ],
          "scattermapbox": [
           {
            "marker": {
             "colorbar": {
              "outlinewidth": 0,
              "ticks": ""
             }
            },
            "type": "scattermapbox"
           }
          ],
          "scatterpolar": [
           {
            "marker": {
             "colorbar": {
              "outlinewidth": 0,
              "ticks": ""
             }
            },
            "type": "scatterpolar"
           }
          ],
          "scatterpolargl": [
           {
            "marker": {
             "colorbar": {
              "outlinewidth": 0,
              "ticks": ""
             }
            },
            "type": "scatterpolargl"
           }
          ],
          "scatterternary": [
           {
            "marker": {
             "colorbar": {
              "outlinewidth": 0,
              "ticks": ""
             }
            },
            "type": "scatterternary"
           }
          ],
          "surface": [
           {
            "colorbar": {
             "outlinewidth": 0,
             "ticks": ""
            },
            "colorscale": [
             [
              0,
              "#0d0887"
             ],
             [
              0.1111111111111111,
              "#46039f"
             ],
             [
              0.2222222222222222,
              "#7201a8"
             ],
             [
              0.3333333333333333,
              "#9c179e"
             ],
             [
              0.4444444444444444,
              "#bd3786"
             ],
             [
              0.5555555555555556,
              "#d8576b"
             ],
             [
              0.6666666666666666,
              "#ed7953"
             ],
             [
              0.7777777777777778,
              "#fb9f3a"
             ],
             [
              0.8888888888888888,
              "#fdca26"
             ],
             [
              1,
              "#f0f921"
             ]
            ],
            "type": "surface"
           }
          ],
          "table": [
           {
            "cells": {
             "fill": {
              "color": "#EBF0F8"
             },
             "line": {
              "color": "white"
             }
            },
            "header": {
             "fill": {
              "color": "#C8D4E3"
             },
             "line": {
              "color": "white"
             }
            },
            "type": "table"
           }
          ]
         },
         "layout": {
          "annotationdefaults": {
           "arrowcolor": "#2a3f5f",
           "arrowhead": 0,
           "arrowwidth": 1
          },
          "autotypenumbers": "strict",
          "coloraxis": {
           "colorbar": {
            "outlinewidth": 0,
            "ticks": ""
           }
          },
          "colorscale": {
           "diverging": [
            [
             0,
             "#8e0152"
            ],
            [
             0.1,
             "#c51b7d"
            ],
            [
             0.2,
             "#de77ae"
            ],
            [
             0.3,
             "#f1b6da"
            ],
            [
             0.4,
             "#fde0ef"
            ],
            [
             0.5,
             "#f7f7f7"
            ],
            [
             0.6,
             "#e6f5d0"
            ],
            [
             0.7,
             "#b8e186"
            ],
            [
             0.8,
             "#7fbc41"
            ],
            [
             0.9,
             "#4d9221"
            ],
            [
             1,
             "#276419"
            ]
           ],
           "sequential": [
            [
             0,
             "#0d0887"
            ],
            [
             0.1111111111111111,
             "#46039f"
            ],
            [
             0.2222222222222222,
             "#7201a8"
            ],
            [
             0.3333333333333333,
             "#9c179e"
            ],
            [
             0.4444444444444444,
             "#bd3786"
            ],
            [
             0.5555555555555556,
             "#d8576b"
            ],
            [
             0.6666666666666666,
             "#ed7953"
            ],
            [
             0.7777777777777778,
             "#fb9f3a"
            ],
            [
             0.8888888888888888,
             "#fdca26"
            ],
            [
             1,
             "#f0f921"
            ]
           ],
           "sequentialminus": [
            [
             0,
             "#0d0887"
            ],
            [
             0.1111111111111111,
             "#46039f"
            ],
            [
             0.2222222222222222,
             "#7201a8"
            ],
            [
             0.3333333333333333,
             "#9c179e"
            ],
            [
             0.4444444444444444,
             "#bd3786"
            ],
            [
             0.5555555555555556,
             "#d8576b"
            ],
            [
             0.6666666666666666,
             "#ed7953"
            ],
            [
             0.7777777777777778,
             "#fb9f3a"
            ],
            [
             0.8888888888888888,
             "#fdca26"
            ],
            [
             1,
             "#f0f921"
            ]
           ]
          },
          "colorway": [
           "#636efa",
           "#EF553B",
           "#00cc96",
           "#ab63fa",
           "#FFA15A",
           "#19d3f3",
           "#FF6692",
           "#B6E880",
           "#FF97FF",
           "#FECB52"
          ],
          "font": {
           "color": "#2a3f5f"
          },
          "geo": {
           "bgcolor": "white",
           "lakecolor": "white",
           "landcolor": "#E5ECF6",
           "showlakes": true,
           "showland": true,
           "subunitcolor": "white"
          },
          "hoverlabel": {
           "align": "left"
          },
          "hovermode": "closest",
          "mapbox": {
           "style": "light"
          },
          "paper_bgcolor": "white",
          "plot_bgcolor": "#E5ECF6",
          "polar": {
           "angularaxis": {
            "gridcolor": "white",
            "linecolor": "white",
            "ticks": ""
           },
           "bgcolor": "#E5ECF6",
           "radialaxis": {
            "gridcolor": "white",
            "linecolor": "white",
            "ticks": ""
           }
          },
          "scene": {
           "xaxis": {
            "backgroundcolor": "#E5ECF6",
            "gridcolor": "white",
            "gridwidth": 2,
            "linecolor": "white",
            "showbackground": true,
            "ticks": "",
            "zerolinecolor": "white"
           },
           "yaxis": {
            "backgroundcolor": "#E5ECF6",
            "gridcolor": "white",
            "gridwidth": 2,
            "linecolor": "white",
            "showbackground": true,
            "ticks": "",
            "zerolinecolor": "white"
           },
           "zaxis": {
            "backgroundcolor": "#E5ECF6",
            "gridcolor": "white",
            "gridwidth": 2,
            "linecolor": "white",
            "showbackground": true,
            "ticks": "",
            "zerolinecolor": "white"
           }
          },
          "shapedefaults": {
           "line": {
            "color": "#2a3f5f"
           }
          },
          "ternary": {
           "aaxis": {
            "gridcolor": "white",
            "linecolor": "white",
            "ticks": ""
           },
           "baxis": {
            "gridcolor": "white",
            "linecolor": "white",
            "ticks": ""
           },
           "bgcolor": "#E5ECF6",
           "caxis": {
            "gridcolor": "white",
            "linecolor": "white",
            "ticks": ""
           }
          },
          "title": {
           "x": 0.05
          },
          "xaxis": {
           "automargin": true,
           "gridcolor": "white",
           "linecolor": "white",
           "ticks": "",
           "title": {
            "standoff": 15
           },
           "zerolinecolor": "white",
           "zerolinewidth": 2
          },
          "yaxis": {
           "automargin": true,
           "gridcolor": "white",
           "linecolor": "white",
           "ticks": "",
           "title": {
            "standoff": 15
           },
           "zerolinecolor": "white",
           "zerolinewidth": 2
          }
         }
        },
        "title": {
         "text": "Category Two Defects by Total Cup Quality"
        },
        "width": 1200,
        "xaxis": {
         "anchor": "y",
         "domain": [
          0,
          1
         ],
         "title": {
          "text": "Total Cup Points"
         }
        },
        "yaxis": {
         "anchor": "x",
         "domain": [
          0,
          1
         ],
         "title": {
          "text": "Category Two Defects"
         }
        }
       }
      }
     },
     "metadata": {},
     "output_type": "display_data"
    }
   ],
   "source": [
    "# Scatter plot of total cup quality by defects\n",
    "quality_by_altitude = px.scatter(coffee, x='total_cup_points', y='category_two_defects',\n",
    "                                 title=('Category Two Defects by Total Cup Quality'),\n",
    "                                 labels={'total_cup_points':'Total Cup Points', \n",
    "                                         'category_two_defects':'Category Two Defects'},\n",
    "                                 color_discrete_sequence=[px.colors.qualitative.Antique[6]],\n",
    "                                 hover_data=['country_of_origin', 'variety'],\n",
    "                                 width=1200, height=600)\n",
    "\n",
    "quality_by_altitude.update_layout({\n",
    "    'plot_bgcolor':'rgba(0, 0, 0, 0)',\n",
    "    'paper_bgcolor':'rgba(0, 0, 0, 0)'\n",
    "    })\n",
    "\n",
    "\n",
    "quality_by_altitude.show()"
   ]
  }
 ],
 "metadata": {
  "kernelspec": {
   "display_name": "base",
   "language": "python",
   "name": "python3"
  },
  "language_info": {
   "codemirror_mode": {
    "name": "ipython",
    "version": 3
   },
   "file_extension": ".py",
   "mimetype": "text/x-python",
   "name": "python",
   "nbconvert_exporter": "python",
   "pygments_lexer": "ipython3",
   "version": "3.10.9"
  },
  "orig_nbformat": 4
 },
 "nbformat": 4,
 "nbformat_minor": 2
}
